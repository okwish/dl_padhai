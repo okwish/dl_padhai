{
 "cells": [
  {
   "cell_type": "markdown",
   "id": "06f7273e",
   "metadata": {},
   "source": [
    "### Class - Python \n",
    "\n",
    "**\\_\\_init__()** - always executed when object is created (constructor)\n",
    "use to assign values to variables, or do operations that are needed to be done when object is created\n",
    "\n",
    "all functions - first arg -> 'self'    \n",
    "only specify while making fns in class, no need to specify while calling (even when calling within the same class definition)\n",
    "\n",
    "self - reference to the current instance of the class\n",
    "need not be the name \"self\" itself (just the first argument)\n",
    "first arg - reference to current instance passed to 'that var name'\n",
    "\n",
    "**self.parameter = something** (in **\\_\\_init__**) -> these are the 'class parameters'.    \n",
    "class attributes/ parameters => defined/made in the class OR created on the fly with self.name somewhere inside the class.   \n",
    "\n",
    "<u> **Inheritence** </u> \n",
    "\n",
    "**class child_class(parent_class):**\n",
    "\n",
    "properties with same name overrides the inheritance of the parent\n",
    "\n",
    "can call parent functions with **parent_class.fn()**\n",
    "\n",
    "eg :\n",
    "\n",
    "```\n",
    "def __init__(self,arg1,arg2,arg3): #overrides the parent __init__\n",
    "\tparent_class.__init__(self,arg1,arg2) #calls the parent init fn\n",
    "    arg3 \n",
    "(get arguments for parent __init__ call also from child init definition)\n",
    "```\n",
    "\n",
    "here, since we are defining an **\\_\\_init__** fn it overrides the parent **\\_\\_init__**. But we want all the properties of parent also. therefore we call the parent **\\_\\_init__** in it. (its because of the overriding happening because of us defining the function, that we are calling the parent function to keep its properties)\n",
    "The idea is we can also add more paremeters in the child **\\_\\_init__**. This way child has all parent properties, along with new properties\n",
    "\n",
    "\t\n",
    "**super()** - returns parent_class reference - instead of using parent_class name\n",
    "\n",
    "\n",
    "Instantiation :  \n",
    "**object = class(arg1, arg2)**  \n",
    "arguments that goes to init\n"
   ]
  },
  {
   "cell_type": "markdown",
   "id": "38fff858",
   "metadata": {},
   "source": [
    "### Iter class\n",
    "\n",
    "iterator = iter(iterable) #returns an iterator \n",
    "next(iterator) - returns current and go to next\n",
    "\n",
    "for i in iterator:\n",
    "\t#for loop actually creates an iterator object and executes the next() method for each loop\n",
    "\n",
    "To create a class as an iterator you have to implement the methods **\\_\\_iter__()** and **\\_\\_next__()** in the class.\n",
    "\t\n",
    "**\\_\\_iter__()**  \n",
    "can do any stuff(like initializing, etc.), but must return the iterator object \n",
    "\n",
    "**\\_\\_next__()**  \n",
    "can do any stuff, must return the next item\n",
    "\n",
    "raise StopIteration \n",
    "to stop iteration"
   ]
  },
  {
   "cell_type": "markdown",
   "id": "95ebed0f",
   "metadata": {},
   "source": [
    "####  pass\n",
    "placeholder for future code   \n",
    "nothing happens but avoid getting error when empty code is not allowed"
   ]
  },
  {
   "cell_type": "code",
   "execution_count": 1,
   "id": "1477b9aa",
   "metadata": {},
   "outputs": [],
   "source": [
    "class class_name:\n",
    "    pass\n",
    "\n",
    "class_obj = class_name() #create object"
   ]
  },
  {
   "cell_type": "code",
   "execution_count": 2,
   "id": "158e9af1",
   "metadata": {},
   "outputs": [
    {
     "name": "stdout",
     "output_type": "stream",
     "text": [
      "check1\n",
      "5\n"
     ]
    },
    {
     "data": {
      "text/plain": [
       "'docstring - which is a description of the class'"
      ]
     },
     "execution_count": 2,
     "metadata": {},
     "output_type": "execute_result"
    }
   ],
   "source": [
    "class class_name:\n",
    "    \n",
    "    \"\"\"docstring - which is a description of the class\"\"\"\n",
    "    \n",
    "    # all functions in class take first arg as 'self'\n",
    "    \n",
    "    def __init__(self,arg1,arg2): # initialisation function\n",
    "        self.var1 = arg1\n",
    "        self.var3 = 5\n",
    "        # class variables - those which are defined in __init__\n",
    "        # self.var = .. # initialise in __init__\n",
    "    def class_fn(self):\n",
    "        print(self.var3)\n",
    "    \n",
    "    \n",
    "# making object calls the __init__ fn - \"initialising\"\n",
    "\n",
    "class_obj = class_name('check1','check2')\n",
    "\n",
    "print(class_obj.var1)\n",
    "class_obj.class_fn() # function called with paranthesis\n",
    "\n",
    "class_name.__doc__ # to print the docstring"
   ]
  },
  {
   "cell_type": "code",
   "execution_count": 3,
   "id": "4b0f316c",
   "metadata": {},
   "outputs": [],
   "source": [
    "#inheritence\n",
    "\n",
    "class sub_class(class_name): \n",
    "    def __init__(self):\n",
    "        class_name.__init__(self,'check3','check4') \n",
    "        # OR super().__init__()\n",
    "        \n",
    "sub_class_obj = sub_class()\n",
    "\n",
    "# inherit only functions\n",
    "# not variables\n",
    "\n",
    "# can call main class in sub class definition"
   ]
  },
  {
   "cell_type": "code",
   "execution_count": 4,
   "id": "300fd781",
   "metadata": {},
   "outputs": [
    {
     "data": {
      "text/plain": [
       "'check3'"
      ]
     },
     "execution_count": 4,
     "metadata": {},
     "output_type": "execute_result"
    }
   ],
   "source": [
    "sub_class_obj.var1"
   ]
  },
  {
   "cell_type": "code",
   "execution_count": 5,
   "id": "c18ec766",
   "metadata": {},
   "outputs": [
    {
     "name": "stdout",
     "output_type": "stream",
     "text": [
      "this text is returned on using print with class\n"
     ]
    }
   ],
   "source": [
    "class print_class():\n",
    "    def __str__(self):\n",
    "        return(\"this text is returned on using print with class\")\n",
    "\n",
    "print_class_obj = print_class()\n",
    "    \n",
    "print(print_class_obj)"
   ]
  }
 ],
 "metadata": {
  "kernelspec": {
   "display_name": "Python 3 (ipykernel)",
   "language": "python",
   "name": "python3"
  },
  "language_info": {
   "codemirror_mode": {
    "name": "ipython",
    "version": 3
   },
   "file_extension": ".py",
   "mimetype": "text/x-python",
   "name": "python",
   "nbconvert_exporter": "python",
   "pygments_lexer": "ipython3",
   "version": "3.8.10"
  }
 },
 "nbformat": 4,
 "nbformat_minor": 5
}
