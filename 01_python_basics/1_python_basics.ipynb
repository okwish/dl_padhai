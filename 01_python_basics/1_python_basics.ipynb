{
 "cells": [
  {
   "cell_type": "markdown",
   "id": "7c01d34d",
   "metadata": {},
   "source": [
    "### Colab stuff"
   ]
  },
  {
   "cell_type": "markdown",
   "id": "73f42257",
   "metadata": {},
   "source": [
    "right click - clear ouput: to clear output\n",
    "\n",
    "left side menu - files - upload file\n",
    "file get deleted after specified runtime\n",
    "\n",
    "markdown headings will be displayed in table of contents\n",
    "\n",
    "!wget url -> to download that  \n",
    "(expecially needed when we work on server)"
   ]
  },
  {
   "cell_type": "code",
   "execution_count": 1,
   "id": "92c6ae91",
   "metadata": {},
   "outputs": [],
   "source": [
    "#pip install package==version\n",
    "#eg : pip install seaborn == 0.9.0\n",
    "#particular version\n",
    "\n",
    "#can install packages in server machine - in case of google colab\n",
    "#using !pip install package==version"
   ]
  },
  {
   "cell_type": "markdown",
   "id": "00f9d652",
   "metadata": {},
   "source": [
    "### Jupyter notebook stuff"
   ]
  },
  {
   "cell_type": "markdown",
   "id": "d5b11f50",
   "metadata": {},
   "source": [
    "Select cell, shift + up, down to select multiple cells  \n",
    "then can copy/cut, paste the multiple cells"
   ]
  },
  {
   "cell_type": "markdown",
   "id": "f814f7f7",
   "metadata": {},
   "source": [
    "Select cell and press 'o' to toggle ouput (view, hide ouput)\n",
    "or in cell menu - current ouputs"
   ]
  },
  {
   "cell_type": "markdown",
   "id": "a3acf87b",
   "metadata": {},
   "source": [
    "run terminal commands on undrelying system using ! prefix (also in colab)"
   ]
  },
  {
   "cell_type": "code",
   "execution_count": 2,
   "id": "2f1344c9",
   "metadata": {
    "collapsed": true
   },
   "outputs": [
    {
     "name": "stdout",
     "output_type": "stream",
     "text": [
      "1_python_basics.ipynb  3_file_pandas_plot.ipynb  mobile_cleaned.csv\r\n",
      "2_python_class.ipynb   downloads\t\t the_fall.jpg\r\n"
     ]
    }
   ],
   "source": [
    "!ls"
   ]
  },
  {
   "cell_type": "code",
   "execution_count": 3,
   "id": "472f8a97",
   "metadata": {
    "collapsed": true
   },
   "outputs": [
    {
     "name": "stdout",
     "output_type": "stream",
     "text": [
      "processor\t: 0\r\n",
      "vendor_id\t: GenuineIntel\r\n",
      "cpu family\t: 6\r\n",
      "model\t\t: 142\r\n",
      "model name\t: Intel(R) Core(TM) i3-10110U CPU @ 2.10GHz\r\n",
      "stepping\t: 12\r\n",
      "microcode\t: 0xf0\r\n",
      "cpu MHz\t\t: 1287.703\r\n",
      "cache size\t: 4096 KB\r\n",
      "physical id\t: 0\r\n",
      "siblings\t: 4\r\n",
      "core id\t\t: 0\r\n",
      "cpu cores\t: 2\r\n",
      "apicid\t\t: 0\r\n",
      "initial apicid\t: 0\r\n",
      "fpu\t\t: yes\r\n",
      "fpu_exception\t: yes\r\n",
      "cpuid level\t: 22\r\n",
      "wp\t\t: yes\r\n",
      "flags\t\t: fpu vme de pse tsc msr pae mce cx8 apic sep mtrr pge mca cmov pat pse36 clflush dts acpi mmx fxsr sse sse2 ss ht tm pbe syscall nx pdpe1gb rdtscp lm constant_tsc art arch_perfmon pebs bts rep_good nopl xtopology nonstop_tsc cpuid aperfmperf pni pclmulqdq dtes64 monitor ds_cpl vmx est tm2 ssse3 sdbg fma cx16 xtpr pdcm pcid sse4_1 sse4_2 x2apic movbe popcnt tsc_deadline_timer aes xsave avx f16c rdrand lahf_lm abm 3dnowprefetch cpuid_fault epb invpcid_single ssbd ibrs ibpb stibp ibrs_enhanced tpr_shadow vnmi flexpriority ept vpid ept_ad fsgsbase tsc_adjust bmi1 avx2 smep bmi2 erms invpcid mpx rdseed adx smap clflushopt intel_pt xsaveopt xsavec xgetbv1 xsaves dtherm ida arat pln pts hwp hwp_notify hwp_act_window hwp_epp md_clear flush_l1d arch_capabilities\r\n",
      "vmx flags\t: vnmi preemption_timer invvpid ept_x_only ept_ad ept_1gb flexpriority tsc_offset vtpr mtf vapic ept vpid unrestricted_guest ple pml ept_mode_based_exec\r\n",
      "bugs\t\t: spectre_v1 spectre_v2 spec_store_bypass swapgs itlb_multihit srbds mmio_stale_data retbleed eibrs_pbrsb\r\n",
      "bogomips\t: 5199.98\r\n",
      "clflush size\t: 64\r\n",
      "cache_alignment\t: 64\r\n",
      "address sizes\t: 39 bits physical, 48 bits virtual\r\n",
      "power management:\r\n",
      "\r\n",
      "processor\t: 1\r\n",
      "vendor_id\t: GenuineIntel\r\n",
      "cpu family\t: 6\r\n",
      "model\t\t: 142\r\n",
      "model name\t: Intel(R) Core(TM) i3-10110U CPU @ 2.10GHz\r\n",
      "stepping\t: 12\r\n",
      "microcode\t: 0xf0\r\n",
      "cpu MHz\t\t: 2600.000\r\n",
      "cache size\t: 4096 KB\r\n",
      "physical id\t: 0\r\n",
      "siblings\t: 4\r\n",
      "core id\t\t: 1\r\n",
      "cpu cores\t: 2\r\n",
      "apicid\t\t: 2\r\n",
      "initial apicid\t: 2\r\n",
      "fpu\t\t: yes\r\n",
      "fpu_exception\t: yes\r\n",
      "cpuid level\t: 22\r\n",
      "wp\t\t: yes\r\n",
      "flags\t\t: fpu vme de pse tsc msr pae mce cx8 apic sep mtrr pge mca cmov pat pse36 clflush dts acpi mmx fxsr sse sse2 ss ht tm pbe syscall nx pdpe1gb rdtscp lm constant_tsc art arch_perfmon pebs bts rep_good nopl xtopology nonstop_tsc cpuid aperfmperf pni pclmulqdq dtes64 monitor ds_cpl vmx est tm2 ssse3 sdbg fma cx16 xtpr pdcm pcid sse4_1 sse4_2 x2apic movbe popcnt tsc_deadline_timer aes xsave avx f16c rdrand lahf_lm abm 3dnowprefetch cpuid_fault epb invpcid_single ssbd ibrs ibpb stibp ibrs_enhanced tpr_shadow vnmi flexpriority ept vpid ept_ad fsgsbase tsc_adjust bmi1 avx2 smep bmi2 erms invpcid mpx rdseed adx smap clflushopt intel_pt xsaveopt xsavec xgetbv1 xsaves dtherm ida arat pln pts hwp hwp_notify hwp_act_window hwp_epp md_clear flush_l1d arch_capabilities\r\n",
      "vmx flags\t: vnmi preemption_timer invvpid ept_x_only ept_ad ept_1gb flexpriority tsc_offset vtpr mtf vapic ept vpid unrestricted_guest ple pml ept_mode_based_exec\r\n",
      "bugs\t\t: spectre_v1 spectre_v2 spec_store_bypass swapgs itlb_multihit srbds mmio_stale_data retbleed eibrs_pbrsb\r\n",
      "bogomips\t: 5199.98\r\n",
      "clflush size\t: 64\r\n",
      "cache_alignment\t: 64\r\n",
      "address sizes\t: 39 bits physical, 48 bits virtual\r\n",
      "power management:\r\n",
      "\r\n",
      "processor\t: 2\r\n",
      "vendor_id\t: GenuineIntel\r\n",
      "cpu family\t: 6\r\n",
      "model\t\t: 142\r\n",
      "model name\t: Intel(R) Core(TM) i3-10110U CPU @ 2.10GHz\r\n",
      "stepping\t: 12\r\n",
      "microcode\t: 0xf0\r\n",
      "cpu MHz\t\t: 2600.000\r\n",
      "cache size\t: 4096 KB\r\n",
      "physical id\t: 0\r\n",
      "siblings\t: 4\r\n",
      "core id\t\t: 0\r\n",
      "cpu cores\t: 2\r\n",
      "apicid\t\t: 1\r\n",
      "initial apicid\t: 1\r\n",
      "fpu\t\t: yes\r\n",
      "fpu_exception\t: yes\r\n",
      "cpuid level\t: 22\r\n",
      "wp\t\t: yes\r\n",
      "flags\t\t: fpu vme de pse tsc msr pae mce cx8 apic sep mtrr pge mca cmov pat pse36 clflush dts acpi mmx fxsr sse sse2 ss ht tm pbe syscall nx pdpe1gb rdtscp lm constant_tsc art arch_perfmon pebs bts rep_good nopl xtopology nonstop_tsc cpuid aperfmperf pni pclmulqdq dtes64 monitor ds_cpl vmx est tm2 ssse3 sdbg fma cx16 xtpr pdcm pcid sse4_1 sse4_2 x2apic movbe popcnt tsc_deadline_timer aes xsave avx f16c rdrand lahf_lm abm 3dnowprefetch cpuid_fault epb invpcid_single ssbd ibrs ibpb stibp ibrs_enhanced tpr_shadow vnmi flexpriority ept vpid ept_ad fsgsbase tsc_adjust bmi1 avx2 smep bmi2 erms invpcid mpx rdseed adx smap clflushopt intel_pt xsaveopt xsavec xgetbv1 xsaves dtherm ida arat pln pts hwp hwp_notify hwp_act_window hwp_epp md_clear flush_l1d arch_capabilities\r\n",
      "vmx flags\t: vnmi preemption_timer invvpid ept_x_only ept_ad ept_1gb flexpriority tsc_offset vtpr mtf vapic ept vpid unrestricted_guest ple pml ept_mode_based_exec\r\n",
      "bugs\t\t: spectre_v1 spectre_v2 spec_store_bypass swapgs itlb_multihit srbds mmio_stale_data retbleed eibrs_pbrsb\r\n",
      "bogomips\t: 5199.98\r\n",
      "clflush size\t: 64\r\n",
      "cache_alignment\t: 64\r\n",
      "address sizes\t: 39 bits physical, 48 bits virtual\r\n",
      "power management:\r\n",
      "\r\n",
      "processor\t: 3\r\n",
      "vendor_id\t: GenuineIntel\r\n",
      "cpu family\t: 6\r\n",
      "model\t\t: 142\r\n",
      "model name\t: Intel(R) Core(TM) i3-10110U CPU @ 2.10GHz\r\n",
      "stepping\t: 12\r\n",
      "microcode\t: 0xf0\r\n",
      "cpu MHz\t\t: 1240.836\r\n",
      "cache size\t: 4096 KB\r\n",
      "physical id\t: 0\r\n",
      "siblings\t: 4\r\n",
      "core id\t\t: 1\r\n",
      "cpu cores\t: 2\r\n",
      "apicid\t\t: 3\r\n",
      "initial apicid\t: 3\r\n",
      "fpu\t\t: yes\r\n",
      "fpu_exception\t: yes\r\n",
      "cpuid level\t: 22\r\n",
      "wp\t\t: yes\r\n",
      "flags\t\t: fpu vme de pse tsc msr pae mce cx8 apic sep mtrr pge mca cmov pat pse36 clflush dts acpi mmx fxsr sse sse2 ss ht tm pbe syscall nx pdpe1gb rdtscp lm constant_tsc art arch_perfmon pebs bts rep_good nopl xtopology nonstop_tsc cpuid aperfmperf pni pclmulqdq dtes64 monitor ds_cpl vmx est tm2 ssse3 sdbg fma cx16 xtpr pdcm pcid sse4_1 sse4_2 x2apic movbe popcnt tsc_deadline_timer aes xsave avx f16c rdrand lahf_lm abm 3dnowprefetch cpuid_fault epb invpcid_single ssbd ibrs ibpb stibp ibrs_enhanced tpr_shadow vnmi flexpriority ept vpid ept_ad fsgsbase tsc_adjust bmi1 avx2 smep bmi2 erms invpcid mpx rdseed adx smap clflushopt intel_pt xsaveopt xsavec xgetbv1 xsaves dtherm ida arat pln pts hwp hwp_notify hwp_act_window hwp_epp md_clear flush_l1d arch_capabilities\r\n",
      "vmx flags\t: vnmi preemption_timer invvpid ept_x_only ept_ad ept_1gb flexpriority tsc_offset vtpr mtf vapic ept vpid unrestricted_guest ple pml ept_mode_based_exec\r\n",
      "bugs\t\t: spectre_v1 spectre_v2 spec_store_bypass swapgs itlb_multihit srbds mmio_stale_data retbleed eibrs_pbrsb\r\n",
      "bogomips\t: 5199.98\r\n",
      "clflush size\t: 64\r\n",
      "cache_alignment\t: 64\r\n",
      "address sizes\t: 39 bits physical, 48 bits virtual\r\n",
      "power management:\r\n",
      "\r\n"
     ]
    }
   ],
   "source": [
    "!cat /proc/cpuinfo #to see which processors we are using"
   ]
  },
  {
   "cell_type": "code",
   "execution_count": 4,
   "id": "625a437e",
   "metadata": {
    "collapsed": true
   },
   "outputs": [
    {
     "name": "stdout",
     "output_type": "stream",
     "text": [
      "MemTotal:        7892460 kB\r\n",
      "MemFree:         2288624 kB\r\n",
      "MemAvailable:    4877752 kB\r\n",
      "Buffers:          138932 kB\r\n",
      "Cached:          3186804 kB\r\n",
      "SwapCached:            0 kB\r\n",
      "Active:          1353984 kB\r\n",
      "Inactive:        3299988 kB\r\n",
      "Active(anon):       5024 kB\r\n",
      "Inactive(anon):  1912880 kB\r\n",
      "Active(file):    1348960 kB\r\n",
      "Inactive(file):  1387108 kB\r\n",
      "Unevictable:      425008 kB\r\n",
      "Mlocked:              16 kB\r\n",
      "SwapTotal:       9765884 kB\r\n",
      "SwapFree:        9765884 kB\r\n",
      "Dirty:              1144 kB\r\n",
      "Writeback:             0 kB\r\n",
      "AnonPages:       1753480 kB\r\n",
      "Mapped:           858988 kB\r\n",
      "Shmem:            593008 kB\r\n",
      "KReclaimable:     153636 kB\r\n",
      "Slab:             277092 kB\r\n",
      "SReclaimable:     153636 kB\r\n",
      "SUnreclaim:       123456 kB\r\n",
      "KernelStack:       14624 kB\r\n",
      "PageTables:        34240 kB\r\n",
      "NFS_Unstable:          0 kB\r\n",
      "Bounce:                0 kB\r\n",
      "WritebackTmp:          0 kB\r\n",
      "CommitLimit:    13712112 kB\r\n",
      "Committed_AS:    8315024 kB\r\n",
      "VmallocTotal:   34359738367 kB\r\n",
      "VmallocUsed:       43488 kB\r\n",
      "VmallocChunk:          0 kB\r\n",
      "Percpu:             3392 kB\r\n",
      "HardwareCorrupted:     0 kB\r\n",
      "AnonHugePages:         0 kB\r\n",
      "ShmemHugePages:        0 kB\r\n",
      "ShmemPmdMapped:        0 kB\r\n",
      "FileHugePages:         0 kB\r\n",
      "FilePmdMapped:         0 kB\r\n",
      "HugePages_Total:       0\r\n",
      "HugePages_Free:        0\r\n",
      "HugePages_Rsvd:        0\r\n",
      "HugePages_Surp:        0\r\n",
      "Hugepagesize:       2048 kB\r\n",
      "Hugetlb:               0 kB\r\n",
      "DirectMap4k:      368788 kB\r\n",
      "DirectMap2M:     7770112 kB\r\n",
      "DirectMap1G:           0 kB\r\n"
     ]
    }
   ],
   "source": [
    "!cat /proc/meminfo #to see RAM, etc. "
   ]
  },
  {
   "cell_type": "markdown",
   "id": "baff27f9",
   "metadata": {},
   "source": [
    "### Python - basics"
   ]
  },
  {
   "cell_type": "code",
   "execution_count": 5,
   "id": "83a56bae",
   "metadata": {},
   "outputs": [
    {
     "name": "stdout",
     "output_type": "stream",
     "text": [
      "hello 5 hi <class 'int'>\n"
     ]
    },
    {
     "data": {
      "text/plain": [
       "2"
      ]
     },
     "execution_count": 5,
     "metadata": {},
     "output_type": "execute_result"
    }
   ],
   "source": [
    "var = 5\n",
    "\n",
    "type(var) #type of the variable\n",
    "\n",
    "print(\"hello\", var, 'hi', type(var))\n",
    "\n",
    "var//2 #integer division"
   ]
  },
  {
   "cell_type": "markdown",
   "id": "96d371f6",
   "metadata": {},
   "source": [
    "**python_keyword?**  -> shows a manuel of that as a popup\n",
    "\n",
    "**help(python_keyword)** -> shows details as output\n",
    "\n",
    "this works for userdefined functions also"
   ]
  },
  {
   "cell_type": "code",
   "execution_count": 6,
   "id": "9d7f6c1b",
   "metadata": {},
   "outputs": [
    {
     "name": "stdout",
     "output_type": "stream",
     "text": [
      "Help on built-in function print in module builtins:\n",
      "\n",
      "print(...)\n",
      "    print(value, ..., sep=' ', end='\\n', file=sys.stdout, flush=False)\n",
      "    \n",
      "    Prints the values to a stream, or to sys.stdout by default.\n",
      "    Optional keyword arguments:\n",
      "    file:  a file-like object (stream); defaults to the current sys.stdout.\n",
      "    sep:   string inserted between values, default a space.\n",
      "    end:   string appended after the last value, default a newline.\n",
      "    flush: whether to forcibly flush the stream.\n",
      "\n"
     ]
    }
   ],
   "source": [
    "print?\n",
    "help(print)"
   ]
  },
  {
   "cell_type": "code",
   "execution_count": 7,
   "id": "5f28e48c",
   "metadata": {},
   "outputs": [],
   "source": [
    "list1 = [1, 'a']\n",
    "\n",
    "list2 = list1 #only making another reference to the same thing\n",
    "#changing one changes both"
   ]
  },
  {
   "cell_type": "markdown",
   "id": "beeb688f",
   "metadata": {},
   "source": [
    "**copy with new reference**"
   ]
  },
  {
   "cell_type": "code",
   "execution_count": 8,
   "id": "efb764b7",
   "metadata": {},
   "outputs": [],
   "source": [
    "#to copy with a new ref\n",
    "list2 = list(list1) #list() returns a list with the argument elements\n",
    "#or\n",
    "list2 = list1[:] #slice all and return\n",
    "# slicing returns with a new reference"
   ]
  },
  {
   "cell_type": "code",
   "execution_count": 9,
   "id": "dec92e5a",
   "metadata": {},
   "outputs": [
    {
     "data": {
      "text/plain": [
       "[1, 'a', 1, 'a']"
      ]
     },
     "execution_count": 9,
     "metadata": {},
     "output_type": "execute_result"
    }
   ],
   "source": [
    "list1 + list2 #appends"
   ]
  },
  {
   "cell_type": "markdown",
   "id": "9e14cf85",
   "metadata": {},
   "source": [
    "**lambda**   \n",
    "**map, filter**"
   ]
  },
  {
   "cell_type": "code",
   "execution_count": 10,
   "id": "7f4fb00a",
   "metadata": {},
   "outputs": [
    {
     "data": {
      "text/plain": [
       "[1]"
      ]
     },
     "execution_count": 10,
     "metadata": {},
     "output_type": "execute_result"
    }
   ],
   "source": [
    "# lambda input : what to return\n",
    "\n",
    "a = [1,2]\n",
    "\n",
    "b = map(lambda x: x**2, a) #maps a function to a list\n",
    "\n",
    "list(b) #map return map object. convert to list\n",
    "\n",
    "#list(map(lambda x: x**2, a))\n",
    "\n",
    "list( filter(lambda x: x%2 == 1,a) ) \n",
    "# function returns a bool\n",
    "#keep only those which give True as function output"
   ]
  },
  {
   "cell_type": "markdown",
   "id": "fc4481e0",
   "metadata": {},
   "source": [
    "**Time**"
   ]
  },
  {
   "cell_type": "code",
   "execution_count": 11,
   "id": "dcae99ba",
   "metadata": {},
   "outputs": [
    {
     "name": "stdout",
     "output_type": "stream",
     "text": [
      "3.695487976074219e-05\n"
     ]
    }
   ],
   "source": [
    "import time\n",
    "start = time.time()\n",
    "end = time.time()\n",
    "time_taken = end-start\n",
    "print(time_taken)"
   ]
  },
  {
   "cell_type": "markdown",
   "id": "0915c1f8",
   "metadata": {},
   "source": [
    "**tuple, set, dictionary**"
   ]
  },
  {
   "cell_type": "code",
   "execution_count": 12,
   "id": "a0d8588d",
   "metadata": {},
   "outputs": [],
   "source": [
    "#tuple\n",
    "tup = (1,2,3) #immutable, ie. can't edit.\n",
    "#operations on tuple are little faster compared to lists"
   ]
  },
  {
   "cell_type": "code",
   "execution_count": 13,
   "id": "da3ed1b6",
   "metadata": {},
   "outputs": [
    {
     "name": "stdout",
     "output_type": "stream",
     "text": [
      "{1, 2, 3}\n"
     ]
    },
    {
     "data": {
      "text/plain": [
       "True"
      ]
     },
     "execution_count": 13,
     "metadata": {},
     "output_type": "execute_result"
    }
   ],
   "source": [
    "#set\n",
    "my_set = {1,2,3,3}\n",
    "print(my_set)\n",
    "#only unique elements\n",
    "#operations like checking if an element is in it or not are faster in sets\n",
    "\n",
    "1 in my_set"
   ]
  },
  {
   "cell_type": "code",
   "execution_count": 14,
   "id": "53b4482b",
   "metadata": {},
   "outputs": [
    {
     "name": "stdout",
     "output_type": "stream",
     "text": [
      "{'key1': 'value1'}\n",
      "{'key1': 5, 'key2': 'v2'}\n",
      "dict_keys(['key1'])\n",
      "dict_values(['value1'])\n"
     ]
    }
   ],
   "source": [
    "#dictionary\n",
    "# key , value can be any type\n",
    "d = {}\n",
    "d['key1'] = 'value1'\n",
    "print(d)\n",
    "d2 = {'key1':5, 'key2': 'v2'}\n",
    "print(d2)\n",
    "\n",
    "print(d.keys())\n",
    "print(d.values())"
   ]
  },
  {
   "cell_type": "markdown",
   "id": "c7010dc3",
   "metadata": {},
   "source": [
    "**Libraries**\n",
    "\n",
    "Libraries are efficiently implemented  \n",
    " \n",
    "write a .py file with functions. this can be imported to anther file\n",
    "and functions can be used\n",
    "\n",
    "**import library as alias**\n",
    "\n",
    "**from library import function/class** \n",
    "(specifically the function)  \n",
    "(library.fn not needed to call the function in that case)"
   ]
  },
  {
   "cell_type": "code",
   "execution_count": null,
   "id": "3b28d3e1",
   "metadata": {},
   "outputs": [],
   "source": []
  },
  {
   "cell_type": "markdown",
   "id": "8b9b205e",
   "metadata": {},
   "source": [
    "comma->enter - indents in the same position.  \n",
    "neat way to write long lines of code   \n",
    "**works because of 'brackets'**"
   ]
  },
  {
   "cell_type": "code",
   "execution_count": null,
   "id": "8b57e8e9",
   "metadata": {},
   "outputs": [],
   "source": []
  }
 ],
 "metadata": {
  "kernelspec": {
   "display_name": "Python 3 (ipykernel)",
   "language": "python",
   "name": "python3"
  },
  "language_info": {
   "codemirror_mode": {
    "name": "ipython",
    "version": 3
   },
   "file_extension": ".py",
   "mimetype": "text/x-python",
   "name": "python",
   "nbconvert_exporter": "python",
   "pygments_lexer": "ipython3",
   "version": "3.8.10"
  }
 },
 "nbformat": 4,
 "nbformat_minor": 5
}
