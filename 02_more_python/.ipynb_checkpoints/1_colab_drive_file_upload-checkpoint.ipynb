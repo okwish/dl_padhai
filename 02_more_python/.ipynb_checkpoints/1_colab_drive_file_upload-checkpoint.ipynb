{
 "cells": [
  {
   "cell_type": "markdown",
   "metadata": {
    "id": "14KOKnIbEACN"
   },
   "source": [
    "colab  \n",
    "\n",
    "code snippets: \"<>\" symbol on left\n",
    "codes for several tasks\n",
    "\n",
    "click \"+\" -> that snippet will come as a cell. \n",
    "\n",
    "\"saving data to google drive\"\n",
    "upload files from colab into drive."
   ]
  },
  {
   "cell_type": "code",
   "execution_count": null,
   "metadata": {
    "id": "3rkp6UDaEMVz"
   },
   "outputs": [],
   "source": [
    "# Import PyDrive and associated libraries.\n",
    "# This only needs to be done once in a notebook.\n",
    "from pydrive.auth import GoogleAuth\n",
    "from pydrive.drive import GoogleDrive\n",
    "from google.colab import auth\n",
    "from oauth2client.client import GoogleCredentials\n",
    "\n",
    "# Authenticate and create the PyDrive client.\n",
    "# This only needs to be done once in a notebook.\n",
    "auth.authenticate_user()\n",
    "gauth = GoogleAuth()\n",
    "gauth.credentials = GoogleCredentials.get_application_default()\n",
    "drive = GoogleDrive(gauth)"
   ]
  },
  {
   "cell_type": "code",
   "execution_count": null,
   "metadata": {
    "id": "4esCRdrgEILj"
   },
   "outputs": [],
   "source": [
    "# Create & upload a text file.\n",
    "uploaded = drive.CreateFile({'title': 'Sample file.txt'})\n",
    "uploaded.SetContentString('Sample upload file content')\n",
    "uploaded.Upload()\n",
    "print('Uploaded file with ID {}'.format(uploaded.get('id')))"
   ]
  },
  {
   "cell_type": "markdown",
   "metadata": {
    "id": "0_Pu8lWkFZo7"
   },
   "source": [
    "\"listing files in google drive\"\n",
    "\n",
    "notice all have the same authentication part.. that need only be done once.. \n",
    "\n",
    "rest of the code is used whenever needed.\n",
    "\n",
    "listing - list the files in drive with id.\n",
    "id needed for importing the file.\n",
    "\n",
    "can download/import file with the id.. from drive\n",
    "\n",
    "don't have to upload to colab all the time.\n",
    "\n",
    "getting id without listing - id is the id=() in the sharable link of the file from drive."
   ]
  },
  {
   "cell_type": "code",
   "execution_count": null,
   "metadata": {
    "id": "NaL_4CnwFiVg"
   },
   "outputs": [],
   "source": [
    "# List .txt files in the root.\n",
    "#\n",
    "# Search query reference:\n",
    "# https://developers.google.com/drive/v2/web/search-parameters\n",
    "listed = drive.ListFile({'q': \"title contains '.txt' and 'root' in parents\"}).GetList()\n",
    "for file in listed:\n",
    "  print('title {}, id {}'.format(file['title'], file['id']))"
   ]
  },
  {
   "cell_type": "markdown",
   "metadata": {
    "id": "pv0DDFRNHr4a"
   },
   "source": [
    "in above - \"title contains '.txt' - looking for txt files. only those will be listed. change extension there of file we need."
   ]
  },
  {
   "cell_type": "code",
   "execution_count": null,
   "metadata": {
    "id": "_UbjA7MKF3wm"
   },
   "outputs": [],
   "source": [
    "# Download a file based on its file ID.\n",
    "#\n",
    "# A file ID looks like: laggVyWshwcyP6kEI-y_W3P8D26sz\n",
    "file_id = 'REPLACE_WITH_YOUR_FILE_ID'\n",
    "downloaded = drive.CreateFile({'id': file_id})\n",
    "print('Downloaded content \"{}\"'.format(downloaded.GetContentString()))"
   ]
  },
  {
   "cell_type": "code",
   "execution_count": null,
   "metadata": {
    "id": "61jbQxXJIJTf"
   },
   "outputs": [],
   "source": [
    "downloaded.GetContentFile('name_local.xyz')\n",
    "# this will import the file to colab.\n",
    "!ls"
   ]
  }
 ],
 "metadata": {
  "colab": {
   "collapsed_sections": [],
   "name": "padhai_1.ipynb",
   "provenance": []
  },
  "kernelspec": {
   "display_name": "Python 3 (ipykernel)",
   "language": "python",
   "name": "python3"
  },
  "language_info": {
   "codemirror_mode": {
    "name": "ipython",
    "version": 3
   },
   "file_extension": ".py",
   "mimetype": "text/x-python",
   "name": "python",
   "nbconvert_exporter": "python",
   "pygments_lexer": "ipython3",
   "version": "3.8.10"
  }
 },
 "nbformat": 4,
 "nbformat_minor": 1
}
