{
 "cells": [
  {
   "cell_type": "code",
   "execution_count": 1,
   "id": "3a8c3fb3",
   "metadata": {},
   "outputs": [],
   "source": [
    "import pdb #python debugger"
   ]
  },
  {
   "cell_type": "code",
   "execution_count": null,
   "id": "736e81ad",
   "metadata": {},
   "outputs": [],
   "source": [
    "pdb.set_trace()\n",
    "\n",
    "#breakpoint\n",
    "\n",
    "#wait for our input (interactive)\n",
    "#? - list of commands\n",
    "#help command - details of the command\n",
    "#c - continue. stop on breakpoint\n",
    "#l - list. which part of the code now.\n",
    "#n - next line\n",
    "#s -step - step into a function.. \n",
    "\n",
    "#can use any standard python command also\n",
    "#eg: print(var)\n",
    "\n",
    "#quit"
   ]
  },
  {
   "cell_type": "code",
   "execution_count": null,
   "id": "1d62069a",
   "metadata": {},
   "outputs": [],
   "source": [
    "# %directive\n",
    "\n",
    "%xmode Verbose \n",
    "\n",
    "#gives more details on the error reports..."
   ]
  }
 ],
 "metadata": {
  "kernelspec": {
   "display_name": "Python 3 (ipykernel)",
   "language": "python",
   "name": "python3"
  },
  "language_info": {
   "codemirror_mode": {
    "name": "ipython",
    "version": 3
   },
   "file_extension": ".py",
   "mimetype": "text/x-python",
   "name": "python",
   "nbconvert_exporter": "python",
   "pygments_lexer": "ipython3",
   "version": "3.8.10"
  }
 },
 "nbformat": 4,
 "nbformat_minor": 5
}
