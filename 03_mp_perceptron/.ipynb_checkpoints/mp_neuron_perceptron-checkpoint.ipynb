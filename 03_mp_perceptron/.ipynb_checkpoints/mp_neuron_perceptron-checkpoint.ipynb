{
 "cells": [
  {
   "cell_type": "markdown",
   "id": "0e6337ed",
   "metadata": {},
   "source": [
    "#### NAMING CONVENTION FOR VECTORS, MEATRICES, TENSORS ETC.  \n",
    "\n",
    "x -> scaler  \n",
    "\n",
    "X -> vector  (1 is silent)  \n",
    "X2 -> matrix  \n",
    "X3 -> tensors of higher dimensions    \n",
    "\n",
    "XX -> collection of vectors (each row is a datapoint)  (1 is silent)  \n",
    "like a list of vectors  \n",
    "its a matrix only but a different perspective  \n",
    "\n",
    "X2X2 -> collection of matrices  \n",
    "like a list of matrices\n",
    "\n",
    "indexing 2x2 -> first index is rows\n",
    "\n",
    "or MAKE THE NAMES EXPLICIT"
   ]
  },
  {
   "cell_type": "code",
   "execution_count": 1,
   "id": "911df092",
   "metadata": {},
   "outputs": [],
   "source": [
    "import sklearn.datasets\n",
    "import numpy as np\n",
    "import pandas as pd\n",
    "import matplotlib.pyplot as plt"
   ]
  },
  {
   "cell_type": "markdown",
   "id": "5952410e",
   "metadata": {},
   "source": [
    "### Dataset in sklearn"
   ]
  },
  {
   "cell_type": "code",
   "execution_count": 2,
   "id": "2cbf9636",
   "metadata": {},
   "outputs": [],
   "source": [
    "#dataset availabe in sklearn package\n",
    "breast_cancer = sklearn.datasets.load_breast_cancer() #real world dataset\n",
    "# sklearn object\n",
    "\n",
    "#classification problem - malignant or benign"
   ]
  },
  {
   "cell_type": "code",
   "execution_count": 3,
   "id": "024af4ea",
   "metadata": {},
   "outputs": [
    {
     "data": {
      "text/plain": [
       "['DESCR',\n",
       " 'data',\n",
       " 'data_module',\n",
       " 'feature_names',\n",
       " 'filename',\n",
       " 'frame',\n",
       " 'target',\n",
       " 'target_names']"
      ]
     },
     "execution_count": 3,
     "metadata": {},
     "output_type": "execute_result"
    }
   ],
   "source": [
    "dir(breast_cancer)"
   ]
  },
  {
   "cell_type": "code",
   "execution_count": 4,
   "id": "677b9e16",
   "metadata": {},
   "outputs": [],
   "source": [
    "XX = breast_cancer.data #each row - features(feature vector) (like input)\n",
    "Y = breast_cancer.target # (like output)"
   ]
  },
  {
   "cell_type": "code",
   "execution_count": 5,
   "id": "ba8551d9",
   "metadata": {},
   "outputs": [
    {
     "data": {
      "text/plain": [
       "array(['mean radius', 'mean texture', 'mean perimeter', 'mean area',\n",
       "       'mean smoothness', 'mean compactness', 'mean concavity',\n",
       "       'mean concave points', 'mean symmetry', 'mean fractal dimension',\n",
       "       'radius error', 'texture error', 'perimeter error', 'area error',\n",
       "       'smoothness error', 'compactness error', 'concavity error',\n",
       "       'concave points error', 'symmetry error',\n",
       "       'fractal dimension error', 'worst radius', 'worst texture',\n",
       "       'worst perimeter', 'worst area', 'worst smoothness',\n",
       "       'worst compactness', 'worst concavity', 'worst concave points',\n",
       "       'worst symmetry', 'worst fractal dimension'], dtype='<U23')"
      ]
     },
     "execution_count": 5,
     "metadata": {},
     "output_type": "execute_result"
    }
   ],
   "source": [
    "breast_cancer.feature_names \n",
    "#all sklearn datasets have this attribute - feature names"
   ]
  },
  {
   "cell_type": "code",
   "execution_count": 6,
   "id": "f3f403dc",
   "metadata": {},
   "outputs": [],
   "source": [
    "#deal as a pandas dataframe\n",
    "data = pd.DataFrame(breast_cancer.data, columns=breast_cancer.feature_names)\n",
    "\n",
    "data['class'] = breast_cancer.target  #add a column with y. name = 'class'"
   ]
  },
  {
   "cell_type": "code",
   "execution_count": 7,
   "id": "df62268d",
   "metadata": {},
   "outputs": [
    {
     "data": {
      "text/html": [
       "<div>\n",
       "<style scoped>\n",
       "    .dataframe tbody tr th:only-of-type {\n",
       "        vertical-align: middle;\n",
       "    }\n",
       "\n",
       "    .dataframe tbody tr th {\n",
       "        vertical-align: top;\n",
       "    }\n",
       "\n",
       "    .dataframe thead th {\n",
       "        text-align: right;\n",
       "    }\n",
       "</style>\n",
       "<table border=\"1\" class=\"dataframe\">\n",
       "  <thead>\n",
       "    <tr style=\"text-align: right;\">\n",
       "      <th></th>\n",
       "      <th>mean radius</th>\n",
       "      <th>mean texture</th>\n",
       "      <th>mean perimeter</th>\n",
       "      <th>mean area</th>\n",
       "      <th>mean smoothness</th>\n",
       "      <th>mean compactness</th>\n",
       "      <th>mean concavity</th>\n",
       "      <th>mean concave points</th>\n",
       "      <th>mean symmetry</th>\n",
       "      <th>mean fractal dimension</th>\n",
       "      <th>...</th>\n",
       "      <th>worst texture</th>\n",
       "      <th>worst perimeter</th>\n",
       "      <th>worst area</th>\n",
       "      <th>worst smoothness</th>\n",
       "      <th>worst compactness</th>\n",
       "      <th>worst concavity</th>\n",
       "      <th>worst concave points</th>\n",
       "      <th>worst symmetry</th>\n",
       "      <th>worst fractal dimension</th>\n",
       "      <th>class</th>\n",
       "    </tr>\n",
       "  </thead>\n",
       "  <tbody>\n",
       "    <tr>\n",
       "      <th>0</th>\n",
       "      <td>17.99</td>\n",
       "      <td>10.38</td>\n",
       "      <td>122.80</td>\n",
       "      <td>1001.0</td>\n",
       "      <td>0.11840</td>\n",
       "      <td>0.27760</td>\n",
       "      <td>0.3001</td>\n",
       "      <td>0.14710</td>\n",
       "      <td>0.2419</td>\n",
       "      <td>0.07871</td>\n",
       "      <td>...</td>\n",
       "      <td>17.33</td>\n",
       "      <td>184.60</td>\n",
       "      <td>2019.0</td>\n",
       "      <td>0.1622</td>\n",
       "      <td>0.6656</td>\n",
       "      <td>0.7119</td>\n",
       "      <td>0.2654</td>\n",
       "      <td>0.4601</td>\n",
       "      <td>0.11890</td>\n",
       "      <td>0</td>\n",
       "    </tr>\n",
       "    <tr>\n",
       "      <th>1</th>\n",
       "      <td>20.57</td>\n",
       "      <td>17.77</td>\n",
       "      <td>132.90</td>\n",
       "      <td>1326.0</td>\n",
       "      <td>0.08474</td>\n",
       "      <td>0.07864</td>\n",
       "      <td>0.0869</td>\n",
       "      <td>0.07017</td>\n",
       "      <td>0.1812</td>\n",
       "      <td>0.05667</td>\n",
       "      <td>...</td>\n",
       "      <td>23.41</td>\n",
       "      <td>158.80</td>\n",
       "      <td>1956.0</td>\n",
       "      <td>0.1238</td>\n",
       "      <td>0.1866</td>\n",
       "      <td>0.2416</td>\n",
       "      <td>0.1860</td>\n",
       "      <td>0.2750</td>\n",
       "      <td>0.08902</td>\n",
       "      <td>0</td>\n",
       "    </tr>\n",
       "    <tr>\n",
       "      <th>2</th>\n",
       "      <td>19.69</td>\n",
       "      <td>21.25</td>\n",
       "      <td>130.00</td>\n",
       "      <td>1203.0</td>\n",
       "      <td>0.10960</td>\n",
       "      <td>0.15990</td>\n",
       "      <td>0.1974</td>\n",
       "      <td>0.12790</td>\n",
       "      <td>0.2069</td>\n",
       "      <td>0.05999</td>\n",
       "      <td>...</td>\n",
       "      <td>25.53</td>\n",
       "      <td>152.50</td>\n",
       "      <td>1709.0</td>\n",
       "      <td>0.1444</td>\n",
       "      <td>0.4245</td>\n",
       "      <td>0.4504</td>\n",
       "      <td>0.2430</td>\n",
       "      <td>0.3613</td>\n",
       "      <td>0.08758</td>\n",
       "      <td>0</td>\n",
       "    </tr>\n",
       "    <tr>\n",
       "      <th>3</th>\n",
       "      <td>11.42</td>\n",
       "      <td>20.38</td>\n",
       "      <td>77.58</td>\n",
       "      <td>386.1</td>\n",
       "      <td>0.14250</td>\n",
       "      <td>0.28390</td>\n",
       "      <td>0.2414</td>\n",
       "      <td>0.10520</td>\n",
       "      <td>0.2597</td>\n",
       "      <td>0.09744</td>\n",
       "      <td>...</td>\n",
       "      <td>26.50</td>\n",
       "      <td>98.87</td>\n",
       "      <td>567.7</td>\n",
       "      <td>0.2098</td>\n",
       "      <td>0.8663</td>\n",
       "      <td>0.6869</td>\n",
       "      <td>0.2575</td>\n",
       "      <td>0.6638</td>\n",
       "      <td>0.17300</td>\n",
       "      <td>0</td>\n",
       "    </tr>\n",
       "    <tr>\n",
       "      <th>4</th>\n",
       "      <td>20.29</td>\n",
       "      <td>14.34</td>\n",
       "      <td>135.10</td>\n",
       "      <td>1297.0</td>\n",
       "      <td>0.10030</td>\n",
       "      <td>0.13280</td>\n",
       "      <td>0.1980</td>\n",
       "      <td>0.10430</td>\n",
       "      <td>0.1809</td>\n",
       "      <td>0.05883</td>\n",
       "      <td>...</td>\n",
       "      <td>16.67</td>\n",
       "      <td>152.20</td>\n",
       "      <td>1575.0</td>\n",
       "      <td>0.1374</td>\n",
       "      <td>0.2050</td>\n",
       "      <td>0.4000</td>\n",
       "      <td>0.1625</td>\n",
       "      <td>0.2364</td>\n",
       "      <td>0.07678</td>\n",
       "      <td>0</td>\n",
       "    </tr>\n",
       "  </tbody>\n",
       "</table>\n",
       "<p>5 rows × 31 columns</p>\n",
       "</div>"
      ],
      "text/plain": [
       "   mean radius  mean texture  mean perimeter  mean area  mean smoothness  \\\n",
       "0        17.99         10.38          122.80     1001.0          0.11840   \n",
       "1        20.57         17.77          132.90     1326.0          0.08474   \n",
       "2        19.69         21.25          130.00     1203.0          0.10960   \n",
       "3        11.42         20.38           77.58      386.1          0.14250   \n",
       "4        20.29         14.34          135.10     1297.0          0.10030   \n",
       "\n",
       "   mean compactness  mean concavity  mean concave points  mean symmetry  \\\n",
       "0           0.27760          0.3001              0.14710         0.2419   \n",
       "1           0.07864          0.0869              0.07017         0.1812   \n",
       "2           0.15990          0.1974              0.12790         0.2069   \n",
       "3           0.28390          0.2414              0.10520         0.2597   \n",
       "4           0.13280          0.1980              0.10430         0.1809   \n",
       "\n",
       "   mean fractal dimension  ...  worst texture  worst perimeter  worst area  \\\n",
       "0                 0.07871  ...          17.33           184.60      2019.0   \n",
       "1                 0.05667  ...          23.41           158.80      1956.0   \n",
       "2                 0.05999  ...          25.53           152.50      1709.0   \n",
       "3                 0.09744  ...          26.50            98.87       567.7   \n",
       "4                 0.05883  ...          16.67           152.20      1575.0   \n",
       "\n",
       "   worst smoothness  worst compactness  worst concavity  worst concave points  \\\n",
       "0            0.1622             0.6656           0.7119                0.2654   \n",
       "1            0.1238             0.1866           0.2416                0.1860   \n",
       "2            0.1444             0.4245           0.4504                0.2430   \n",
       "3            0.2098             0.8663           0.6869                0.2575   \n",
       "4            0.1374             0.2050           0.4000                0.1625   \n",
       "\n",
       "   worst symmetry  worst fractal dimension  class  \n",
       "0          0.4601                  0.11890      0  \n",
       "1          0.2750                  0.08902      0  \n",
       "2          0.3613                  0.08758      0  \n",
       "3          0.6638                  0.17300      0  \n",
       "4          0.2364                  0.07678      0  \n",
       "\n",
       "[5 rows x 31 columns]"
      ]
     },
     "execution_count": 7,
     "metadata": {},
     "output_type": "execute_result"
    }
   ],
   "source": [
    "data.head()"
   ]
  },
  {
   "cell_type": "markdown",
   "id": "759683db",
   "metadata": {},
   "source": [
    "## Inspecting class balance, etc."
   ]
  },
  {
   "cell_type": "code",
   "execution_count": 8,
   "id": "6766056e",
   "metadata": {},
   "outputs": [
    {
     "data": {
      "text/plain": [
       "1    357\n",
       "0    212\n",
       "Name: class, dtype: int64"
      ]
     },
     "execution_count": 8,
     "metadata": {},
     "output_type": "execute_result"
    }
   ],
   "source": [
    "data['class'].value_counts() #count of each values\n",
    "# count in classes => count of each class\n",
    "\n",
    "#here, more samples with cancer than without."
   ]
  },
  {
   "cell_type": "code",
   "execution_count": 9,
   "id": "3ec39f05",
   "metadata": {},
   "outputs": [
    {
     "data": {
      "text/plain": [
       "array(['malignant', 'benign'], dtype='<U9')"
      ]
     },
     "execution_count": 9,
     "metadata": {},
     "output_type": "execute_result"
    }
   ],
   "source": [
    "breast_cancer.target_names #like class names"
   ]
  },
  {
   "cell_type": "code",
   "execution_count": 10,
   "id": "a878880a",
   "metadata": {},
   "outputs": [
    {
     "data": {
      "text/html": [
       "<div>\n",
       "<style scoped>\n",
       "    .dataframe tbody tr th:only-of-type {\n",
       "        vertical-align: middle;\n",
       "    }\n",
       "\n",
       "    .dataframe tbody tr th {\n",
       "        vertical-align: top;\n",
       "    }\n",
       "\n",
       "    .dataframe thead th {\n",
       "        text-align: right;\n",
       "    }\n",
       "</style>\n",
       "<table border=\"1\" class=\"dataframe\">\n",
       "  <thead>\n",
       "    <tr style=\"text-align: right;\">\n",
       "      <th></th>\n",
       "      <th>mean radius</th>\n",
       "      <th>mean texture</th>\n",
       "      <th>mean perimeter</th>\n",
       "      <th>mean area</th>\n",
       "      <th>mean smoothness</th>\n",
       "      <th>mean compactness</th>\n",
       "      <th>mean concavity</th>\n",
       "      <th>mean concave points</th>\n",
       "      <th>mean symmetry</th>\n",
       "      <th>mean fractal dimension</th>\n",
       "      <th>...</th>\n",
       "      <th>worst radius</th>\n",
       "      <th>worst texture</th>\n",
       "      <th>worst perimeter</th>\n",
       "      <th>worst area</th>\n",
       "      <th>worst smoothness</th>\n",
       "      <th>worst compactness</th>\n",
       "      <th>worst concavity</th>\n",
       "      <th>worst concave points</th>\n",
       "      <th>worst symmetry</th>\n",
       "      <th>worst fractal dimension</th>\n",
       "    </tr>\n",
       "    <tr>\n",
       "      <th>class</th>\n",
       "      <th></th>\n",
       "      <th></th>\n",
       "      <th></th>\n",
       "      <th></th>\n",
       "      <th></th>\n",
       "      <th></th>\n",
       "      <th></th>\n",
       "      <th></th>\n",
       "      <th></th>\n",
       "      <th></th>\n",
       "      <th></th>\n",
       "      <th></th>\n",
       "      <th></th>\n",
       "      <th></th>\n",
       "      <th></th>\n",
       "      <th></th>\n",
       "      <th></th>\n",
       "      <th></th>\n",
       "      <th></th>\n",
       "      <th></th>\n",
       "      <th></th>\n",
       "    </tr>\n",
       "  </thead>\n",
       "  <tbody>\n",
       "    <tr>\n",
       "      <th>0</th>\n",
       "      <td>17.462830</td>\n",
       "      <td>21.604906</td>\n",
       "      <td>115.365377</td>\n",
       "      <td>978.376415</td>\n",
       "      <td>0.102898</td>\n",
       "      <td>0.145188</td>\n",
       "      <td>0.160775</td>\n",
       "      <td>0.087990</td>\n",
       "      <td>0.192909</td>\n",
       "      <td>0.062680</td>\n",
       "      <td>...</td>\n",
       "      <td>21.134811</td>\n",
       "      <td>29.318208</td>\n",
       "      <td>141.370330</td>\n",
       "      <td>1422.286321</td>\n",
       "      <td>0.144845</td>\n",
       "      <td>0.374824</td>\n",
       "      <td>0.450606</td>\n",
       "      <td>0.182237</td>\n",
       "      <td>0.323468</td>\n",
       "      <td>0.091530</td>\n",
       "    </tr>\n",
       "    <tr>\n",
       "      <th>1</th>\n",
       "      <td>12.146524</td>\n",
       "      <td>17.914762</td>\n",
       "      <td>78.075406</td>\n",
       "      <td>462.790196</td>\n",
       "      <td>0.092478</td>\n",
       "      <td>0.080085</td>\n",
       "      <td>0.046058</td>\n",
       "      <td>0.025717</td>\n",
       "      <td>0.174186</td>\n",
       "      <td>0.062867</td>\n",
       "      <td>...</td>\n",
       "      <td>13.379801</td>\n",
       "      <td>23.515070</td>\n",
       "      <td>87.005938</td>\n",
       "      <td>558.899440</td>\n",
       "      <td>0.124959</td>\n",
       "      <td>0.182673</td>\n",
       "      <td>0.166238</td>\n",
       "      <td>0.074444</td>\n",
       "      <td>0.270246</td>\n",
       "      <td>0.079442</td>\n",
       "    </tr>\n",
       "  </tbody>\n",
       "</table>\n",
       "<p>2 rows × 30 columns</p>\n",
       "</div>"
      ],
      "text/plain": [
       "       mean radius  mean texture  mean perimeter   mean area  mean smoothness  \\\n",
       "class                                                                           \n",
       "0        17.462830     21.604906      115.365377  978.376415         0.102898   \n",
       "1        12.146524     17.914762       78.075406  462.790196         0.092478   \n",
       "\n",
       "       mean compactness  mean concavity  mean concave points  mean symmetry  \\\n",
       "class                                                                         \n",
       "0              0.145188        0.160775             0.087990       0.192909   \n",
       "1              0.080085        0.046058             0.025717       0.174186   \n",
       "\n",
       "       mean fractal dimension  ...  worst radius  worst texture  \\\n",
       "class                          ...                                \n",
       "0                    0.062680  ...     21.134811      29.318208   \n",
       "1                    0.062867  ...     13.379801      23.515070   \n",
       "\n",
       "       worst perimeter   worst area  worst smoothness  worst compactness  \\\n",
       "class                                                                      \n",
       "0           141.370330  1422.286321          0.144845           0.374824   \n",
       "1            87.005938   558.899440          0.124959           0.182673   \n",
       "\n",
       "       worst concavity  worst concave points  worst symmetry  \\\n",
       "class                                                          \n",
       "0             0.450606              0.182237        0.323468   \n",
       "1             0.166238              0.074444        0.270246   \n",
       "\n",
       "       worst fractal dimension  \n",
       "class                           \n",
       "0                     0.091530  \n",
       "1                     0.079442  \n",
       "\n",
       "[2 rows x 30 columns]"
      ]
     },
     "execution_count": 10,
     "metadata": {},
     "output_type": "execute_result"
    }
   ],
   "source": [
    "data.groupby('class').mean() #mean across all rows of values of 'class col'"
   ]
  },
  {
   "cell_type": "markdown",
   "id": "947c0e16",
   "metadata": {},
   "source": [
    "### Train Test split"
   ]
  },
  {
   "cell_type": "code",
   "execution_count": 11,
   "id": "5c1754b4",
   "metadata": {},
   "outputs": [],
   "source": [
    "#split data for training, testing.\n",
    "#sklearn - many stuff for ML\n",
    "from sklearn.model_selection import train_test_split"
   ]
  },
  {
   "cell_type": "code",
   "execution_count": 12,
   "id": "46a8c810",
   "metadata": {},
   "outputs": [],
   "source": [
    "XX = data.drop('class', axis=1) #drop and return \n",
    "#axis=1 for column\n",
    "Y = data['class']\n",
    "#now XX, Y as dataframes.. for some convenient stuff."
   ]
  },
  {
   "cell_type": "code",
   "execution_count": 13,
   "id": "520a5317",
   "metadata": {},
   "outputs": [],
   "source": [
    "#split\n",
    "XX_train, XX_test, Y_train, Y_test = train_test_split(XX,Y)\n",
    "#80% to train, rest to test"
   ]
  },
  {
   "cell_type": "code",
   "execution_count": 14,
   "id": "b5d25285",
   "metadata": {},
   "outputs": [
    {
     "data": {
      "text/plain": [
       "(426, 30)"
      ]
     },
     "execution_count": 14,
     "metadata": {},
     "output_type": "execute_result"
    }
   ],
   "source": [
    "XX_train.shape"
   ]
  },
  {
   "cell_type": "code",
   "execution_count": 15,
   "id": "f31bb86b",
   "metadata": {},
   "outputs": [],
   "source": [
    "XX_train, XX_test, Y_train, Y_test = train_test_split(XX,Y,test_size=0.1)\n",
    "#specify fraction of test."
   ]
  },
  {
   "cell_type": "code",
   "execution_count": 17,
   "id": "55336081",
   "metadata": {},
   "outputs": [],
   "source": [
    "XX_train, XX_test, Y_train, Y_test = train_test_split(XX,Y,test_size=0.1, stratify=Y)\n",
    "#keep the same ratio of different Y-values in test, train "
   ]
  },
  {
   "cell_type": "markdown",
   "id": "4b201355",
   "metadata": {},
   "source": [
    "#### step to use for train-test split:"
   ]
  },
  {
   "cell_type": "code",
   "execution_count": 18,
   "id": "1808e092",
   "metadata": {},
   "outputs": [],
   "source": [
    "XX_train, XX_test, Y_train, Y_test = train_test_split(XX,Y,test_size=0.1, stratify=Y,random_state=1)\n",
    "#specifying seed for random. (some constant speed)\n",
    "\n",
    "#makes the splitting same all the time - important to get repeatable results.\n",
    "\n",
    "#reproducable results - same model should give the same results all the time we run it.. for it same train, test.\n",
    "#else each time we run split - it will give a different split."
   ]
  },
  {
   "cell_type": "markdown",
   "id": "315b24a5",
   "metadata": {},
   "source": [
    "### Main steps:"
   ]
  },
  {
   "cell_type": "code",
   "execution_count": 23,
   "id": "41fce779",
   "metadata": {},
   "outputs": [],
   "source": [
    "# breast_cancer = sklearn.datasets.load_breast_cancer() #real world dataset\n",
    "\n",
    "# # XX = breast_cancer.data\n",
    "# # Y = breast_cancer.target\n",
    "\n",
    "# data = pd.DataFrame(breast_cancer.data, columns=breast_cancer.feature_names)\n",
    "# data['class'] = breast_cancer.target\n",
    "\n",
    "# XX = data.drop('class', axis=1)\n",
    "# Y = data['class']\n",
    "# # dataframe. more convenient\n",
    "\n",
    "# XX_train, XX_test, Y_train, Y_test = train_test_split(XX,Y,test_size=0.1, stratify=Y,random_state=1)"
   ]
  },
  {
   "cell_type": "markdown",
   "id": "6742fbde",
   "metadata": {},
   "source": [
    "### Plotting"
   ]
  },
  {
   "cell_type": "code",
   "execution_count": 20,
   "id": "cbeb80f3",
   "metadata": {},
   "outputs": [
    {
     "data": {
      "image/png": "[encoded data removed]",
      "text/plain": [
       "<Figure size 432x288 with 1 Axes>"
      ]
     },
     "metadata": {
      "needs_background": "light"
     },
     "output_type": "display_data"
    }
   ],
   "source": [
    "plt.plot(XX_train,'*') #each feature - a color\n",
    "plt.show()\n",
    "\n",
    "#plotting table.. -ish.. \n",
    "#each row - as a col .. at the corresponding index(in x axis)\n",
    "#one color for each col values."
   ]
  },
  {
   "cell_type": "code",
   "execution_count": 21,
   "id": "55e0b3bd",
   "metadata": {},
   "outputs": [
    {
     "data": {
      "image/png": "[encoded data removed]",
      "text/plain": [
       "<Figure size 432x288 with 1 Axes>"
      ]
     },
     "metadata": {
      "needs_background": "light"
     },
     "output_type": "display_data"
    }
   ],
   "source": [
    "plt.plot(XX_train.T,'*')\n",
    "plt.xticks(rotation='vertical') #for the x labels to come vertically to not overlap\n",
    "plt.show()\n",
    "#now each col is a data-point. gives idea of range of values of each."
   ]
  },
  {
   "cell_type": "code",
   "execution_count": null,
   "id": "d5b37ea2",
   "metadata": {},
   "outputs": [],
   "source": []
  },
  {
   "cell_type": "code",
   "execution_count": 24,
   "id": "7d124df5",
   "metadata": {},
   "outputs": [
    {
     "data": {
      "image/png": "[encoded data removed]",
      "text/plain": [
       "<Figure size 432x288 with 1 Axes>"
      ]
     },
     "metadata": {
      "needs_background": "light"
     },
     "output_type": "display_data"
    }
   ],
   "source": [
    "#eg\n",
    "plt.plot([[1,2,3],[5,6,7],[10,11,12]],\"*\")\n",
    "plt.show()"
   ]
  },
  {
   "cell_type": "code",
   "execution_count": null,
   "id": "779668b3",
   "metadata": {},
   "outputs": [],
   "source": []
  },
  {
   "cell_type": "code",
   "execution_count": null,
   "id": "353d50c4",
   "metadata": {},
   "outputs": [],
   "source": []
  },
  {
   "cell_type": "code",
   "execution_count": null,
   "id": "63ea177b",
   "metadata": {},
   "outputs": [],
   "source": []
  },
  {
   "cell_type": "code",
   "execution_count": null,
   "id": "ebbcfafc",
   "metadata": {},
   "outputs": [],
   "source": []
  },
  {
   "cell_type": "code",
   "execution_count": 17,
   "id": "84f9ecae",
   "metadata": {},
   "outputs": [],
   "source": [
    "#MP neuron - binary input\n",
    "#but real values in data -> binarise those"
   ]
  },
  {
   "cell_type": "code",
   "execution_count": 18,
   "id": "aa961101",
   "metadata": {},
   "outputs": [
    {
     "data": {
      "image/png": "[encoded data removed]",
      "text/plain": [
       "<Figure size 432x288 with 1 Axes>"
      ]
     },
     "metadata": {
      "needs_background": "light"
     },
     "output_type": "display_data"
    }
   ],
   "source": [
    "plt.plot(XX_train,'*') #each feature - a color\n",
    "plt.show()\n",
    "\n",
    "#plotting table.. -ish.. \n",
    "#each row - as a col .. at the corresponding index(in x axis)\n",
    "#one color for each col values."
   ]
  },
  {
   "cell_type": "code",
   "execution_count": 25,
   "id": "ec8843e0",
   "metadata": {},
   "outputs": [
    {
     "data": {
      "image/png": "[encoded data removed]",
      "text/plain": [
       "<Figure size 432x288 with 1 Axes>"
      ]
     },
     "metadata": {
      "needs_background": "light"
     },
     "output_type": "display_data"
    }
   ],
   "source": [
    "plt.plot(XX_train.T,'*')\n",
    "plt.xticks(rotation='vertical') #for the x labels to come vertically to not overlap\n",
    "plt.show()\n",
    "#now each col is a data-point. gives idea of range of values of each."
   ]
  },
  {
   "cell_type": "code",
   "execution_count": 24,
   "id": "2f20943a",
   "metadata": {},
   "outputs": [
    {
     "data": {
      "image/png": "[encoded data removed]",
      "text/plain": [
       "<Figure size 432x288 with 1 Axes>"
      ]
     },
     "metadata": {
      "needs_background": "light"
     },
     "output_type": "display_data"
    }
   ],
   "source": [
    "#eg\n",
    "plt.plot([[1,2,3],[5,6,7],[10,11,12]],\"*\")\n",
    "plt.show()"
   ]
  },
  {
   "cell_type": "code",
   "execution_count": 28,
   "id": "64652423",
   "metadata": {},
   "outputs": [
    {
     "data": {
      "image/png": "[encoded data removed]",
      "text/plain": [
       "<Figure size 432x288 with 1 Axes>"
      ]
     },
     "metadata": {
      "needs_background": "light"
     },
     "output_type": "display_data"
    }
   ],
   "source": [
    "#binarising.. do something like : 1 if value above mean/median/some value.. , 0 if below.\n",
    "x_binarised_3_train = XX_train['mean area'].map(lambda x: 0 if x<1000 else 1)\n",
    "\n",
    "plt.plot(x_binarised_3_train, '*')\n",
    "plt.show()\n",
    "\n",
    "#now 0s , 1s"
   ]
  },
  {
   "cell_type": "code",
   "execution_count": 30,
   "id": "1d040db3",
   "metadata": {},
   "outputs": [
    {
     "data": {
      "image/png": "[encoded data removed]",
      "text/plain": [
       "<Figure size 432x288 with 1 Axes>"
      ]
     },
     "metadata": {
      "needs_background": "light"
     },
     "output_type": "display_data"
    }
   ],
   "source": [
    "#do using libraries\n",
    "X_binarised_train = XX_train.apply(pd.cut, bins=2, labels=[0,1])\n",
    "#apply() - apply function to each col. (pandas)\n",
    "#find thresholds such that each bin have equal size.\n",
    "#cut - splits values into n bins.\n",
    "\n",
    "plt.plot(X_binarised_train.T,'*')\n",
    "plt.xticks(rotation='vertical') #for the x labels to come vertically to not overlap\n",
    "plt.show()"
   ]
  },
  {
   "cell_type": "code",
   "execution_count": 31,
   "id": "95cfa81d",
   "metadata": {},
   "outputs": [],
   "source": [
    "X_binarised_test = XX_test.apply(pd.cut, bins=2, labels=[0,1]) #binarising test data"
   ]
  },
  {
   "cell_type": "code",
   "execution_count": 32,
   "id": "3400d4e3",
   "metadata": {},
   "outputs": [
    {
     "data": {
      "text/plain": [
       "numpy.ndarray"
      ]
     },
     "execution_count": 32,
     "metadata": {},
     "output_type": "execute_result"
    }
   ],
   "source": [
    "#convert to numpy for doing stuff.. (after doing table stuff, etc.. as dataframes)\n",
    "#dataframe to numpy\n",
    "\n",
    "X_binarised_train = X_binarised_train.values\n",
    "X_binarised_test = X_binarised_test.values\n",
    "\n",
    "type(X_binarised_train)"
   ]
  },
  {
   "cell_type": "code",
   "execution_count": 36,
   "id": "c583de50",
   "metadata": {},
   "outputs": [],
   "source": [
    "from random import randint"
   ]
  },
  {
   "cell_type": "code",
   "execution_count": 38,
   "id": "1d8f7bd0",
   "metadata": {},
   "outputs": [
    {
     "name": "stdout",
     "output_type": "stream",
     "text": [
      "for row:  7\n",
      "MP neuron inference is malignant\n",
      "GT is benign\n"
     ]
    }
   ],
   "source": [
    "#MP neuron\n",
    "#inference and search\n",
    "\n",
    "i = randint(0, X_binarised_train.shape[0])\n",
    "print('for row: ', i)\n",
    "\n",
    "b = 3\n",
    "\n",
    "if(np.sum(X_binarised_train[i,:]) >=b ): #100th datapoint\n",
    "    print(\"MP neuron inference is malignant\")\n",
    "else:\n",
    "    print(\"MP neuron inference is benign\")\n",
    "\n",
    "    \n",
    "if(Y_train[i]==1):\n",
    "    print(\"GT is malignant\")\n",
    "else:\n",
    "    print(\"GT is benign\")\n",
    "\n",
    "    \n",
    "#goal is to find b.. so that max accuracy."
   ]
  },
  {
   "cell_type": "code",
   "execution_count": 42,
   "id": "4cbe67f9",
   "metadata": {},
   "outputs": [
    {
     "name": "stdout",
     "output_type": "stream",
     "text": [
      "0.150390625\n"
     ]
    }
   ],
   "source": [
    "#accuracy for some b - value\n",
    "\n",
    "b = 3\n",
    "y_pred_train = []\n",
    "accurate_rows = 0\n",
    "\n",
    "#zip - combine two iterables.. \n",
    "\n",
    "for x, y in zip(X_binarised_train, Y_train): #iterate two vectors\n",
    "    y_pred = (np.sum(x)>=b) #logical eqn - return a bool\n",
    "    y_pred_train.append(y_pred)\n",
    "    accurate_rows += (y == y_pred) \n",
    "\n",
    "print(accurate_rows/X_binarised_train.shape[0]) #accuracy"
   ]
  },
  {
   "cell_type": "code",
   "execution_count": 43,
   "id": "f778205c",
   "metadata": {
    "collapsed": true
   },
   "outputs": [
    {
     "name": "stdout",
     "output_type": "stream",
     "text": [
      "0 0.626953125\n",
      "1 0.240234375\n",
      "2 0.185546875\n",
      "3 0.150390625\n",
      "4 0.154296875\n",
      "5 0.181640625\n",
      "6 0.21484375\n",
      "7 0.244140625\n",
      "8 0.275390625\n",
      "9 0.298828125\n",
      "10 0.3125\n",
      "11 0.328125\n",
      "12 0.3359375\n",
      "13 0.34375\n",
      "14 0.3515625\n",
      "15 0.357421875\n",
      "16 0.3671875\n",
      "17 0.369140625\n",
      "18 0.373046875\n",
      "19 0.373046875\n",
      "20 0.373046875\n",
      "21 0.373046875\n",
      "22 0.373046875\n",
      "23 0.373046875\n",
      "24 0.373046875\n",
      "25 0.373046875\n",
      "26 0.373046875\n",
      "27 0.373046875\n",
      "28 0.373046875\n",
      "29 0.373046875\n",
      "30 0.373046875\n"
     ]
    }
   ],
   "source": [
    "#for all b\n",
    "\n",
    "for b in range(X_binarised_train.shape[1]+1):  \n",
    "    \n",
    "    y_pred_train = []\n",
    "    accurate_rows = 0\n",
    "\n",
    "    for x, y in zip(X_binarised_train, Y_train): #iterate two vectors\n",
    "        y_pred = (np.sum(x)>=b) #logical eqn - return a bool\n",
    "        y_pred_train.append(y_pred)\n",
    "        accurate_rows += (y == y_pred) \n",
    "\n",
    "    print(b, accurate_rows/X_binarised_train.shape[0]) #accuracy\n"
   ]
  },
  {
   "cell_type": "code",
   "execution_count": 45,
   "id": "eecd9005",
   "metadata": {},
   "outputs": [
    {
     "data": {
      "text/html": [
       "<div>\n",
       "<style scoped>\n",
       "    .dataframe tbody tr th:only-of-type {\n",
       "        vertical-align: middle;\n",
       "    }\n",
       "\n",
       "    .dataframe tbody tr th {\n",
       "        vertical-align: top;\n",
       "    }\n",
       "\n",
       "    .dataframe thead th {\n",
       "        text-align: right;\n",
       "    }\n",
       "</style>\n",
       "<table border=\"1\" class=\"dataframe\">\n",
       "  <thead>\n",
       "    <tr style=\"text-align: right;\">\n",
       "      <th></th>\n",
       "      <th>mean radius</th>\n",
       "      <th>mean texture</th>\n",
       "      <th>mean perimeter</th>\n",
       "      <th>mean area</th>\n",
       "      <th>mean smoothness</th>\n",
       "      <th>mean compactness</th>\n",
       "      <th>mean concavity</th>\n",
       "      <th>mean concave points</th>\n",
       "      <th>mean symmetry</th>\n",
       "      <th>mean fractal dimension</th>\n",
       "      <th>...</th>\n",
       "      <th>worst radius</th>\n",
       "      <th>worst texture</th>\n",
       "      <th>worst perimeter</th>\n",
       "      <th>worst area</th>\n",
       "      <th>worst smoothness</th>\n",
       "      <th>worst compactness</th>\n",
       "      <th>worst concavity</th>\n",
       "      <th>worst concave points</th>\n",
       "      <th>worst symmetry</th>\n",
       "      <th>worst fractal dimension</th>\n",
       "    </tr>\n",
       "    <tr>\n",
       "      <th>class</th>\n",
       "      <th></th>\n",
       "      <th></th>\n",
       "      <th></th>\n",
       "      <th></th>\n",
       "      <th></th>\n",
       "      <th></th>\n",
       "      <th></th>\n",
       "      <th></th>\n",
       "      <th></th>\n",
       "      <th></th>\n",
       "      <th></th>\n",
       "      <th></th>\n",
       "      <th></th>\n",
       "      <th></th>\n",
       "      <th></th>\n",
       "      <th></th>\n",
       "      <th></th>\n",
       "      <th></th>\n",
       "      <th></th>\n",
       "      <th></th>\n",
       "      <th></th>\n",
       "    </tr>\n",
       "  </thead>\n",
       "  <tbody>\n",
       "    <tr>\n",
       "      <th>0</th>\n",
       "      <td>17.462830</td>\n",
       "      <td>21.604906</td>\n",
       "      <td>115.365377</td>\n",
       "      <td>978.376415</td>\n",
       "      <td>0.102898</td>\n",
       "      <td>0.145188</td>\n",
       "      <td>0.160775</td>\n",
       "      <td>0.087990</td>\n",
       "      <td>0.192909</td>\n",
       "      <td>0.062680</td>\n",
       "      <td>...</td>\n",
       "      <td>21.134811</td>\n",
       "      <td>29.318208</td>\n",
       "      <td>141.370330</td>\n",
       "      <td>1422.286321</td>\n",
       "      <td>0.144845</td>\n",
       "      <td>0.374824</td>\n",
       "      <td>0.450606</td>\n",
       "      <td>0.182237</td>\n",
       "      <td>0.323468</td>\n",
       "      <td>0.091530</td>\n",
       "    </tr>\n",
       "    <tr>\n",
       "      <th>1</th>\n",
       "      <td>12.146524</td>\n",
       "      <td>17.914762</td>\n",
       "      <td>78.075406</td>\n",
       "      <td>462.790196</td>\n",
       "      <td>0.092478</td>\n",
       "      <td>0.080085</td>\n",
       "      <td>0.046058</td>\n",
       "      <td>0.025717</td>\n",
       "      <td>0.174186</td>\n",
       "      <td>0.062867</td>\n",
       "      <td>...</td>\n",
       "      <td>13.379801</td>\n",
       "      <td>23.515070</td>\n",
       "      <td>87.005938</td>\n",
       "      <td>558.899440</td>\n",
       "      <td>0.124959</td>\n",
       "      <td>0.182673</td>\n",
       "      <td>0.166238</td>\n",
       "      <td>0.074444</td>\n",
       "      <td>0.270246</td>\n",
       "      <td>0.079442</td>\n",
       "    </tr>\n",
       "  </tbody>\n",
       "</table>\n",
       "<p>2 rows × 30 columns</p>\n",
       "</div>"
      ],
      "text/plain": [
       "       mean radius  mean texture  mean perimeter   mean area  mean smoothness  \\\n",
       "class                                                                           \n",
       "0        17.462830     21.604906      115.365377  978.376415         0.102898   \n",
       "1        12.146524     17.914762       78.075406  462.790196         0.092478   \n",
       "\n",
       "       mean compactness  mean concavity  mean concave points  mean symmetry  \\\n",
       "class                                                                         \n",
       "0              0.145188        0.160775             0.087990       0.192909   \n",
       "1              0.080085        0.046058             0.025717       0.174186   \n",
       "\n",
       "       mean fractal dimension  ...  worst radius  worst texture  \\\n",
       "class                          ...                                \n",
       "0                    0.062680  ...     21.134811      29.318208   \n",
       "1                    0.062867  ...     13.379801      23.515070   \n",
       "\n",
       "       worst perimeter   worst area  worst smoothness  worst compactness  \\\n",
       "class                                                                      \n",
       "0           141.370330  1422.286321          0.144845           0.374824   \n",
       "1            87.005938   558.899440          0.124959           0.182673   \n",
       "\n",
       "       worst concavity  worst concave points  worst symmetry  \\\n",
       "class                                                          \n",
       "0             0.450606              0.182237        0.323468   \n",
       "1             0.166238              0.074444        0.270246   \n",
       "\n",
       "       worst fractal dimension  \n",
       "class                           \n",
       "0                     0.091530  \n",
       "1                     0.079442  \n",
       "\n",
       "[2 rows x 30 columns]"
      ]
     },
     "execution_count": 45,
     "metadata": {},
     "output_type": "execute_result"
    }
   ],
   "source": [
    "#max accuracy when b = 0. -> ouputing always 1. \n",
    "\n",
    "#why can't the model perform well.\n",
    "\n",
    "data.groupby('class').mean()"
   ]
  },
  {
   "cell_type": "code",
   "execution_count": 46,
   "id": "2cd78a68",
   "metadata": {},
   "outputs": [],
   "source": [
    "# all feature mean values are larger for benign case.. than malignant case.\n",
    "# more than some value - tendency to classify as malignant - but from data malignant has lower values.\n",
    "\n",
    "#problem with binarisation.\n",
    "\n",
    "X_binarised_train = XX_train.apply(pd.cut, bins=2, labels=[1,0]) #flip 1,0\n",
    "\n",
    "#let smaller value contribute more - for infering that its malignant.\n",
    "#y = 1, when sum 'more' than b. => contributing factor be 1(feature value).\n",
    "\n",
    "X_binarised_test = XX_test.apply(pd.cut, bins=2, labels=[1,0])"
   ]
  },
  {
   "cell_type": "code",
   "execution_count": 47,
   "id": "7ad59ee5",
   "metadata": {},
   "outputs": [
    {
     "name": "stdout",
     "output_type": "stream",
     "text": [
      "0 0.626953125\n",
      "1 0.626953125\n",
      "2 0.626953125\n",
      "3 0.626953125\n",
      "4 0.626953125\n",
      "5 0.626953125\n",
      "6 0.626953125\n",
      "7 0.626953125\n",
      "8 0.626953125\n",
      "9 0.626953125\n",
      "10 0.626953125\n",
      "11 0.626953125\n",
      "12 0.626953125\n",
      "13 0.626953125\n",
      "14 0.630859375\n",
      "15 0.6328125\n",
      "16 0.642578125\n",
      "17 0.6484375\n",
      "18 0.65625\n",
      "19 0.6640625\n",
      "20 0.671875\n",
      "21 0.6875\n",
      "22 0.701171875\n",
      "23 0.724609375\n",
      "24 0.755859375\n",
      "25 0.78515625\n",
      "26 0.818359375\n",
      "27 0.845703125\n",
      "28 0.849609375\n",
      "29 0.814453125\n",
      "30 0.759765625\n"
     ]
    }
   ],
   "source": [
    "X_binarised_train = X_binarised_train.values\n",
    "X_binarised_test = X_binarised_test.values\n",
    "\n",
    "#for all b\n",
    "\n",
    "for b in range(X_binarised_train.shape[1]+1):  \n",
    "    \n",
    "    y_pred_train = []\n",
    "    accurate_rows = 0\n",
    "\n",
    "    for x, y in zip(X_binarised_train, Y_train): #iterate two vectors\n",
    "        y_pred = (np.sum(x)>=b) #logical eqn - return a bool\n",
    "        y_pred_train.append(y_pred)\n",
    "        accurate_rows += (y == y_pred) \n",
    "\n",
    "    print(b, accurate_rows/X_binarised_train.shape[0]) #accuracy"
   ]
  },
  {
   "cell_type": "code",
   "execution_count": 48,
   "id": "5e6d678b",
   "metadata": {},
   "outputs": [],
   "source": [
    "#now better values.\n",
    "#b = 28 gives best."
   ]
  },
  {
   "cell_type": "code",
   "execution_count": 49,
   "id": "fa93e8a7",
   "metadata": {},
   "outputs": [],
   "source": [
    "from sklearn.metrics import accuracy_score"
   ]
  },
  {
   "cell_type": "code",
   "execution_count": 50,
   "id": "e74b572c",
   "metadata": {},
   "outputs": [
    {
     "name": "stdout",
     "output_type": "stream",
     "text": [
      "0.7894736842105263\n"
     ]
    }
   ],
   "source": [
    "#check on test data. for b = 28\n",
    "\n",
    "b = 28\n",
    "y_pred_test = []\n",
    "\n",
    "for x in X_binarised_test:\n",
    "    y_pred = (np.sum(x)>=b) #logical eqn - return a bool\n",
    "    y_pred_test.append(y_pred) \n",
    "\n",
    "accuracy = accuracy_score(y_pred_test, Y_test)\n",
    "\n",
    "print(accuracy)"
   ]
  },
  {
   "cell_type": "code",
   "execution_count": 52,
   "id": "620de223",
   "metadata": {},
   "outputs": [],
   "source": [
    "#a different b value may give better accuracy in test data - but that is not in out control. we learn using train data alone.\n"
   ]
  },
  {
   "cell_type": "code",
   "execution_count": 63,
   "id": "bb42e1ea",
   "metadata": {},
   "outputs": [],
   "source": [
    "#MP neuron implementation as a class.\n",
    "#general template for implementing all models (as class)\n",
    "\n",
    "class MPNeuron:\n",
    "    \n",
    "    def __init__(self):\n",
    "        #define parameters of model\n",
    "        self.b = None #initialise a none\n",
    "    \n",
    "    def model(self, x):\n",
    "        #fn that takes input x and predit its ouput y\n",
    "        #one input x. - model is that only\n",
    "        return(sum(x) >= self.b )\n",
    "    \n",
    "    def predict(self, X):\n",
    "        #predict ouput for entire data X\n",
    "        y = []\n",
    "        for x in X:\n",
    "            result = self.model(x)\n",
    "            y.append(result)\n",
    "        return np.array(y)\n",
    "    \n",
    "    def fit(self, X, y):\n",
    "        #learning algorithm to find the right value of parameters\n",
    "        accuracy = {} #dict for accuracy for different parameter values.\n",
    "        for b in range(X.shape[1]+1):\n",
    "            self.b = b #as model function use self.b\n",
    "            y_pred = self.predict(X) \n",
    "            accuracy[b] = accuracy_score(y_pred, y) #sklearn fn.\n",
    "            \n",
    "        best_b = max(accuracy, key=accuracy.get) #return key with the max 'value'\n",
    "        #get -> fn that return value of item with that key\n",
    "        #max(.... , key = fn)\n",
    "        \n",
    "        self.b = best_b\n",
    "        \n",
    "        print('optimal b is:', best_b)\n",
    "        print('highest acc:',accuracy[best_b])\n",
    "        \n",
    "        \n",
    "        \n",
    "        "
   ]
  },
  {
   "cell_type": "code",
   "execution_count": 64,
   "id": "56cba44f",
   "metadata": {},
   "outputs": [
    {
     "name": "stdout",
     "output_type": "stream",
     "text": [
      "optimal b is: 28\n",
      "highest acc: 0.849609375\n"
     ]
    }
   ],
   "source": [
    "mp_neuron = MPNeuron() #make class object\n",
    "\n",
    "mp_neuron.fit(X_binarised_train,Y_train)"
   ]
  },
  {
   "cell_type": "code",
   "execution_count": 66,
   "id": "9932b64d",
   "metadata": {},
   "outputs": [
    {
     "name": "stdout",
     "output_type": "stream",
     "text": [
      "0.7894736842105263\n"
     ]
    }
   ],
   "source": [
    "Y_test_pred = mp_neuron.predict(X_binarised_test)\n",
    "accuracY_test = accuracy_score(Y_test_pred,Y_test)\n",
    "\n",
    "print(accuracY_test)"
   ]
  },
  {
   "cell_type": "markdown",
   "id": "545c9616",
   "metadata": {},
   "source": [
    "## Perceptron"
   ]
  },
  {
   "cell_type": "code",
   "execution_count": 67,
   "id": "2880d8fd",
   "metadata": {},
   "outputs": [],
   "source": [
    "# y = 1 if weighted sum >= b.\n",
    "\n",
    "# input can be real"
   ]
  },
  {
   "cell_type": "code",
   "execution_count": 68,
   "id": "eabb8710",
   "metadata": {},
   "outputs": [],
   "source": [
    "#class template\n",
    "\n",
    "#init - the parameters..\n",
    "#model - give ouput for one input,x\n",
    "#predict - find output for all given inputs,X\n",
    "#fit - learn right parameters, given training data - X,y"
   ]
  },
  {
   "cell_type": "code",
   "execution_count": 134,
   "id": "6fc652ea",
   "metadata": {},
   "outputs": [],
   "source": [
    "class Perceptron:\n",
    "    \n",
    "    def __init__(self):\n",
    "        self.w = None #array\n",
    "        self.b = None #scalar\n",
    "        \n",
    "    def model(self, x):\n",
    "        return 1 if (np.dot(self.w,x)>=self.b) else 0\n",
    "        \n",
    "    def predict(self, X):\n",
    "        y=[]\n",
    "        for x in X:\n",
    "            result = self.model(x)\n",
    "            y.append(result)\n",
    "        return np.array(y)\n",
    "        \n",
    "    def fit(self, X, Y):\n",
    "        \n",
    "        #initialize parameters\n",
    "        self.w = np.ones(X.shape[1])\n",
    "        self.b = 0\n",
    "        \n",
    "        #go through each x and modify if needed\n",
    "        \n",
    "        for x,y in zip(X,Y): #use capital Y, as we are using y as iterator var\n",
    "            y_pred = self.model(x)\n",
    "            if y == 1 and y_pred == 0: #not matching. need update\n",
    "                self.w = self.w + x\n",
    "                self.b = self.b - 1\n",
    "                #comes from vector thing\n",
    "            elif y == 0 and y_pred == 1:\n",
    "                self.w = self.w - x\n",
    "                self.b = self.b + 1\n",
    "            #not making any change if they(y and y_pred) agree.\n"
   ]
  },
  {
   "cell_type": "code",
   "execution_count": 143,
   "id": "c73dee6d",
   "metadata": {},
   "outputs": [],
   "source": [
    "perceptron = Perceptron()\n",
    "\n",
    "#call with original data - not binarised data\n",
    "\n",
    "XX_train = XX_train.values\n",
    "XX_test = XX_test.values\n",
    "\n",
    "perceptron.fit(XX_train, Y_train)"
   ]
  },
  {
   "cell_type": "code",
   "execution_count": 96,
   "id": "3818211d",
   "metadata": {
    "collapsed": true
   },
   "outputs": [
    {
     "data": {
      "text/plain": [
       "array([ 3.9904900e+02,  8.3734000e+02,  2.3991700e+03,  2.2590000e+03,\n",
       "        5.2765700e+00,  1.6983100e+00, -2.0041290e+00, -6.0072800e-01,\n",
       "        9.2210000e+00,  4.1904100e+00,  4.1677000e+00,  7.0464400e+01,\n",
       "        1.2963500e+01, -7.6896100e+02,  1.3406930e+00,  1.3826630e+00,\n",
       "        1.5441560e+00,  1.1400490e+00,  2.0648280e+00,  1.1333593e+00,\n",
       "        3.8789300e+02,  1.0870400e+03,  2.2699200e+03, -4.0110000e+03,\n",
       "        6.4124800e+00,  6.0760000e-01, -4.4430460e+00, -5.7725100e-01,\n",
       "        1.2716400e+01,  4.4015900e+00])"
      ]
     },
     "execution_count": 96,
     "metadata": {},
     "output_type": "execute_result"
    }
   ],
   "source": [
    "perceptron.w"
   ]
  },
  {
   "cell_type": "code",
   "execution_count": 97,
   "id": "9a8fb794",
   "metadata": {},
   "outputs": [
    {
     "data": {
      "image/png": "[encoded data removed]",
      "text/plain": [
       "<Figure size 432x288 with 1 Axes>"
      ]
     },
     "metadata": {
      "needs_background": "light"
     },
     "output_type": "display_data"
    }
   ],
   "source": [
    "plt.plot(perceptron.w)\n",
    "plt.show()"
   ]
  },
  {
   "cell_type": "code",
   "execution_count": 98,
   "id": "d54cb2ec",
   "metadata": {},
   "outputs": [
    {
     "name": "stdout",
     "output_type": "stream",
     "text": [
      "0.37089201877934275\n"
     ]
    }
   ],
   "source": [
    "y_pred_train = perceptron.predict(XX_train)\n",
    "print(accuracy_score(y_pred_train,Y_train))"
   ]
  },
  {
   "cell_type": "code",
   "execution_count": 99,
   "id": "ab3fa123",
   "metadata": {},
   "outputs": [],
   "source": [
    "#very low accuracy\n",
    "\n",
    "#we went through all x once. - but doing that once is not sufficient. we might have to iterate over all x several times\n",
    "#eg: compared with first x value with some random initialized w - should come back a look again.\n",
    "#ie, the adjustment is only w.r.t w 'now'.. \n",
    "\n",
    "#through data once - one epoch\n",
    "#need multiple epochs.\n",
    "\n"
   ]
  },
  {
   "cell_type": "code",
   "execution_count": 144,
   "id": "134efa9a",
   "metadata": {},
   "outputs": [],
   "source": [
    "class Perceptron:\n",
    "    \n",
    "    def __init__(self):\n",
    "        self.w = None #array\n",
    "        self.b = None #scalar\n",
    "        \n",
    "    def model(self, x):\n",
    "        return 1 if (np.dot(self.w,x)>=self.b) else 0\n",
    "        \n",
    "    def predict(self, X):\n",
    "        y=[]\n",
    "        for x in X:\n",
    "            result = self.model(x)\n",
    "            y.append(result)\n",
    "        return np.array(y)\n",
    "        \n",
    "    def fit(self, X, Y, epochs = 1):\n",
    "        \n",
    "        #initialize parameters\n",
    "        self.w = np.ones(X.shape[1])\n",
    "        self.b = 0\n",
    "        \n",
    "        accuracy = {} #accuracy after each epoch\n",
    "        max_accuracy = 0\n",
    "        \n",
    "        for i in range(epochs):\n",
    "            for x,y in zip(X,Y):\n",
    "                y_pred = self.model(x)\n",
    "                if y == 1 and y_pred == 0: #not matching. need update\n",
    "                    self.w = self.w + x\n",
    "                    self.b = self.b - 1\n",
    "                    #comes from vector thing\n",
    "                elif y == 0 and y_pred == 1:\n",
    "                    self.w = self.w - x\n",
    "                    self.b = self.b + 1\n",
    "                #not making any change if they(y and y_pred) agree.\n",
    "                \n",
    "            accuracy[i] = accuracy_score(self.predict(X),Y)\n",
    "            if(accuracy[i]>max_accuracy):\n",
    "                max_accuracy = accuracy[i]\n",
    "             \n",
    "        print(max_accuracy)      \n",
    "        plt.plot(accuracy.values())\n",
    "        plt.show()\n",
    "\n",
    "        "
   ]
  },
  {
   "cell_type": "code",
   "execution_count": 145,
   "id": "026a63ff",
   "metadata": {},
   "outputs": [
    {
     "name": "stdout",
     "output_type": "stream",
     "text": [
      "0.921875\n"
     ]
    },
    {
     "data": {
      "image/png": "[encoded data removed]",
      "text/plain": [
       "<Figure size 432x288 with 1 Axes>"
      ]
     },
     "metadata": {
      "needs_background": "light"
     },
     "output_type": "display_data"
    }
   ],
   "source": [
    "perceptron = Perceptron()\n",
    "\n",
    "perceptron.fit(XX_train, Y_train, 50)"
   ]
  },
  {
   "cell_type": "code",
   "execution_count": 146,
   "id": "0d5d6818",
   "metadata": {},
   "outputs": [],
   "source": [
    "# number of epochs - hyperparameter."
   ]
  },
  {
   "cell_type": "code",
   "execution_count": 147,
   "id": "babe3d3f",
   "metadata": {},
   "outputs": [],
   "source": [
    "#checkpointing.\n",
    "#use the parameters corresponding to the best accuracy - store parameters whenever there is an inc in 'best' accuracy so far.\n",
    "\n",
    "class Perceptron:\n",
    "    \n",
    "    def __init__(self):\n",
    "        self.w = None #array\n",
    "        self.b = None #scalar\n",
    "        \n",
    "    def model(self, x):\n",
    "        return 1 if (np.dot(self.w,x)>=self.b) else 0\n",
    "        \n",
    "    def predict(self, X):\n",
    "        y=[]\n",
    "        for x in X:\n",
    "            result = self.model(x)\n",
    "            y.append(result)\n",
    "        return np.array(y)\n",
    "        \n",
    "    def fit(self, X, Y, epochs = 1):\n",
    "        \n",
    "        #initialize parameters\n",
    "        self.w = np.ones(X.shape[1])\n",
    "        self.b = 0\n",
    "        \n",
    "        accuracy = {} #accuracy after each epoch\n",
    "        max_accuracy = 0\n",
    "        \n",
    "        for i in range(epochs):\n",
    "            for x,y in zip(X,Y):\n",
    "                y_pred = self.model(x)\n",
    "                if y == 1 and y_pred == 0: #not matching. need update\n",
    "                    self.w = self.w + x\n",
    "                    self.b = self.b - 1\n",
    "                    #comes from vector thing\n",
    "                elif y == 0 and y_pred == 1:\n",
    "                    self.w = self.w - x\n",
    "                    self.b = self.b + 1\n",
    "                #not making any change if they(y and y_pred) agree.\n",
    "                \n",
    "            accuracy[i] = accuracy_score(self.predict(X),Y)\n",
    "            if(accuracy[i]>max_accuracy):\n",
    "                max_accuracy = accuracy[i]\n",
    "                #checkpointing\n",
    "                chkptw = self.w\n",
    "                chkptb = self.b\n",
    "        \n",
    "        self.w = chkptw\n",
    "        self.b = chkptb\n",
    "        #finally set w, b to best values\n",
    "        \n",
    "        print(max_accuracy)      \n",
    "        plt.plot(accuracy.values())\n",
    "        plt.show()\n",
    "\n",
    "        "
   ]
  },
  {
   "cell_type": "code",
   "execution_count": 148,
   "id": "b6196269",
   "metadata": {},
   "outputs": [
    {
     "name": "stdout",
     "output_type": "stream",
     "text": [
      "0.921875\n"
     ]
    },
    {
     "data": {
      "image/png": "[encoded data removed]",
      "text/plain": [
       "<Figure size 432x288 with 1 Axes>"
      ]
     },
     "metadata": {
      "needs_background": "light"
     },
     "output_type": "display_data"
    }
   ],
   "source": [
    "perceptron = Perceptron()\n",
    "\n",
    "perceptron.fit(XX_train, Y_train, 50)"
   ]
  },
  {
   "cell_type": "code",
   "execution_count": 149,
   "id": "a51aea15",
   "metadata": {},
   "outputs": [
    {
     "name": "stdout",
     "output_type": "stream",
     "text": [
      "0.921875\n"
     ]
    }
   ],
   "source": [
    "y_pred_train = perceptron.predict(XX_train)\n",
    "print(accuracy_score(y_pred_train,Y_train))\n",
    "\n",
    "#gets the highest accuracy one."
   ]
  },
  {
   "cell_type": "code",
   "execution_count": 158,
   "id": "f16cb3f4",
   "metadata": {},
   "outputs": [],
   "source": [
    "#learning rate\n",
    "\n",
    "#checkpointing.\n",
    "#use the parameters corresponding to the best accuracy - store parameters whenever there is an inc in 'best' accuracy so far.\n",
    "\n",
    "class Perceptron:\n",
    "    \n",
    "    def __init__(self):\n",
    "        self.w = None #array\n",
    "        self.b = None #scalar\n",
    "        \n",
    "    def model(self, x):\n",
    "        return 1 if (np.dot(self.w,x)>=self.b) else 0\n",
    "        \n",
    "    def predict(self, X):\n",
    "        y=[]\n",
    "        for x in X:\n",
    "            result = self.model(x)\n",
    "            y.append(result)\n",
    "        return np.array(y)\n",
    "        \n",
    "    def fit(self, X, Y, epochs = 1, lr =1):\n",
    "        \n",
    "        #initialize parameters\n",
    "        self.w = np.ones(X.shape[1])\n",
    "        self.b = 0\n",
    "        \n",
    "        accuracy = {} #accuracy after each epoch\n",
    "        max_accuracy = 0\n",
    "        \n",
    "        for i in range(epochs):\n",
    "            for x,y in zip(X,Y):\n",
    "                y_pred = self.model(x)\n",
    "                if y == 1 and y_pred == 0: #not matching. need update\n",
    "                    self.w = self.w + lr*x\n",
    "                    self.b = self.b - lr*1\n",
    "                    #comes from vector thing\n",
    "                elif y == 0 and y_pred == 1:\n",
    "                    self.w = self.w - lr*x\n",
    "                    self.b = self.b + lr*1\n",
    "                #not making any change if they(y and y_pred) agree.\n",
    "                \n",
    "            accuracy[i] = accuracy_score(self.predict(X),Y)\n",
    "            if(accuracy[i]>max_accuracy):\n",
    "                max_accuracy = accuracy[i]\n",
    "                #checkpointing\n",
    "                chkptw = self.w\n",
    "                chkptb = self.b\n",
    "        \n",
    "        self.w = chkptw\n",
    "        self.b = chkptb\n",
    "        #finally set w, b to best values\n",
    "        \n",
    "        print(max_accuracy)      \n",
    "        plt.plot(accuracy.values())\n",
    "        plt.ylim([0,1]) #accuracy will be b/w 0,1 - to see the variation well\n",
    "        plt.show()\n",
    "\n",
    "        "
   ]
  },
  {
   "cell_type": "code",
   "execution_count": 159,
   "id": "4863c8ee",
   "metadata": {},
   "outputs": [
    {
     "name": "stdout",
     "output_type": "stream",
     "text": [
      "0.91796875\n"
     ]
    },
    {
     "data": {
      "image/png": "[encoded data removed]",
      "text/plain": [
       "<Figure size 432x288 with 1 Axes>"
      ]
     },
     "metadata": {
      "needs_background": "light"
     },
     "output_type": "display_data"
    }
   ],
   "source": [
    "perceptron = Perceptron()\n",
    "\n",
    "perceptron.fit(XX_train, Y_train, 50, 0.0001)"
   ]
  },
  {
   "cell_type": "code",
   "execution_count": 160,
   "id": "40024a19",
   "metadata": {},
   "outputs": [],
   "source": [
    "#a very small learning rate - saying to make small changes only => avoid oscillations."
   ]
  },
  {
   "cell_type": "code",
   "execution_count": 161,
   "id": "d99bae90",
   "metadata": {},
   "outputs": [],
   "source": [
    "#more accuracy for perceptron model.. as its a more complex model."
   ]
  },
  {
   "cell_type": "code",
   "execution_count": 162,
   "id": "39e28ff4",
   "metadata": {},
   "outputs": [
    {
     "name": "stdout",
     "output_type": "stream",
     "text": [
      "0.9298245614035088\n"
     ]
    }
   ],
   "source": [
    "#test accuracy\n",
    "y_pred_test = perceptron.predict(XX_test)\n",
    "print(accuracy_score(y_pred_test, Y_test))"
   ]
  },
  {
   "cell_type": "code",
   "execution_count": 163,
   "id": "362238ba",
   "metadata": {},
   "outputs": [
    {
     "data": {
      "image/png": "[encoded data removed]",
      "text/plain": [
       "<Figure size 432x288 with 1 Axes>"
      ]
     },
     "metadata": {
      "needs_background": "light"
     },
     "output_type": "display_data"
    }
   ],
   "source": [
    "plt.plot(perceptron.w)\n",
    "plt.show()"
   ]
  },
  {
   "cell_type": "code",
   "execution_count": 164,
   "id": "32825341",
   "metadata": {},
   "outputs": [],
   "source": [
    "# weights for different features."
   ]
  },
  {
   "cell_type": "code",
   "execution_count": 165,
   "id": "7f3b0cce",
   "metadata": {},
   "outputs": [],
   "source": [
    "# see weight plots as it is getting generated in the algo."
   ]
  },
  {
   "cell_type": "markdown",
   "id": "c08cbbda",
   "metadata": {},
   "source": [
    "http://louistiao.me/posts/notebooks/embedding-matplotlib-animations-in-jupyter-notebooks/"
   ]
  },
  {
   "cell_type": "code",
   "execution_count": 169,
   "id": "12a37318",
   "metadata": {},
   "outputs": [],
   "source": [
    "class Perceptron:\n",
    "    \n",
    "    def __init__(self):\n",
    "        self.w = None #array\n",
    "        self.b = None #scalar\n",
    "        \n",
    "    def model(self, x):\n",
    "        return 1 if (np.dot(self.w,x)>=self.b) else 0\n",
    "        \n",
    "    def predict(self, X):\n",
    "        y=[]\n",
    "        for x in X:\n",
    "            result = self.model(x)\n",
    "            y.append(result)\n",
    "        return np.array(y)\n",
    "        \n",
    "    def fit(self, X, Y, epochs = 1, lr =1):\n",
    "        \n",
    "        #initialize parameters\n",
    "        self.w = np.ones(X.shape[1])\n",
    "        self.b = 0\n",
    "        \n",
    "        accuracy = {} #accuracy after each epoch\n",
    "        max_accuracy = 0\n",
    "        \n",
    "        wt_matrix = []\n",
    "        \n",
    "        \n",
    "        for i in range(epochs):\n",
    "            for x,y in zip(X,Y):\n",
    "                y_pred = self.model(x)\n",
    "                if y == 1 and y_pred == 0: #not matching. need update\n",
    "                    self.w = self.w + lr*x\n",
    "                    self.b = self.b - lr*1\n",
    "                    #comes from vector thing\n",
    "                elif y == 0 and y_pred == 1:\n",
    "                    self.w = self.w - lr*x\n",
    "                    self.b = self.b + lr*1\n",
    "                #not making any change if they(y and y_pred) agree.\n",
    "                \n",
    "            \n",
    "            wt_matrix.append(self.w) #matrix with rows as each epoch weight\n",
    "                \n",
    "            accuracy[i] = accuracy_score(self.predict(X),Y)\n",
    "            if(accuracy[i]>max_accuracy):\n",
    "                max_accuracy = accuracy[i]\n",
    "                #checkpointing\n",
    "                chkptw = self.w\n",
    "                chkptb = self.b\n",
    "        \n",
    "        self.w = chkptw\n",
    "        self.b = chkptb\n",
    "        #finally set w, b to best values\n",
    "        \n",
    "        print(max_accuracy)      \n",
    "        plt.plot(accuracy.values())\n",
    "        plt.ylim([0,1]) #accuracy will be b/w 0,1 - to see the variation well\n",
    "        plt.show()\n",
    "        \n",
    "        return np.array(wt_matrix)"
   ]
  },
  {
   "cell_type": "code",
   "execution_count": 174,
   "id": "2e66bdb4",
   "metadata": {},
   "outputs": [
    {
     "name": "stdout",
     "output_type": "stream",
     "text": [
      "0.92578125\n"
     ]
    },
    {
     "data": {
      "image/png": "[encoded data removed]",
      "text/plain": [
       "<Figure size 432x288 with 1 Axes>"
      ]
     },
     "metadata": {
      "needs_background": "light"
     },
     "output_type": "display_data"
    }
   ],
   "source": [
    "perceptron = Perceptron()\n",
    "wt_matrix = perceptron.fit(XX_train, Y_train, 100, 1)"
   ]
  },
  {
   "cell_type": "code",
   "execution_count": 176,
   "id": "5bfa6514",
   "metadata": {},
   "outputs": [],
   "source": [
    "%matplotlib inline\n",
    "from matplotlib import animation, rc\n",
    "from IPython.display import HTML"
   ]
  },
  {
   "cell_type": "code",
   "execution_count": 177,
   "id": "03f4e6c9",
   "metadata": {},
   "outputs": [
    {
     "data": {
      "image/png": "[encoded data removed]",
      "text/plain": [
       "<Figure size 432x288 with 1 Axes>"
      ]
     },
     "metadata": {
      "needs_background": "light"
     },
     "output_type": "display_data"
    }
   ],
   "source": [
    "# First set up the figure, the axis, and the plot element we want to animate\n",
    "fig, ax = plt.subplots()\n",
    "\n",
    "ax.set_xlim(( 0, wt_matrix.shape[1]))\n",
    "ax.set_ylim((-15000, 25000)) #set after seeing wt of last epoch.. wt_matrix[-1,:]\n",
    "\n",
    "line, = ax.plot([], [], lw=2)"
   ]
  },
  {
   "cell_type": "code",
   "execution_count": 178,
   "id": "ef6d2f79",
   "metadata": {},
   "outputs": [],
   "source": [
    "# animation function. This is called sequentially\n",
    "def animate(i):\n",
    "    x = list(range(wt_matrix.shape[1]))\n",
    "    y = wt_matrix[i, :]\n",
    "    line.set_data(x, y)\n",
    "    return (line,)"
   ]
  },
  {
   "cell_type": "code",
   "execution_count": 179,
   "id": "43e1c872",
   "metadata": {},
   "outputs": [],
   "source": [
    "# call the animator. blit=True means only re-draw the parts that have changed.\n",
    "anim = animation.FuncAnimation(fig, animate, frames=100, interval=200, blit=True)\n",
    "#repreatedly calling the animate function\n",
    "#here calling 100 times"
   ]
  },
  {
   "cell_type": "code",
   "execution_count": 186,
   "id": "0bc62955",
   "metadata": {},
   "outputs": [
    {
     "data": {
      "text/html": [
       "<video width=\"432\" height=\"288\" controls autoplay loop>\n",
       "  <source type=\"video/mp4\" src=\"data:video/mp4;base64,AAAAHGZ0eXBNNFYgAAACAGlzb21pc28yYXZjMQAAAAhmcmVlAACAPW1kYXQAAAKtBgX//6ncRem9\n",
       "5tlIt5Ys2CDZI+7veDI2NCAtIGNvcmUgMTU1IHIyOTE3IDBhODRkOTggLSBILjI2NC9NUEVHLTQg\n",
       "QVZDIGNvZGVjIC0gQ29weWxlZnQgMjAwMy0yMDE4IC0gaHR0cDovL3d3dy52aWRlb2xhbi5vcmcv\n",
       "eDI2NC5odG1sIC0gb3B0aW9uczogY2FiYWM9MSByZWY9MyBkZWJsb2NrPTE6MDowIGFuYWx5c2U9\n",
       "MHgzOjB4MTEzIG1lPWhleCBzdWJtZT03IHBzeT0xIHBzeV9yZD0xLjAwOjAuMDAgbWl4ZWRfcmVm\n",
       "PTEgbWVfcmFuZ2U9MTYgY2hyb21hX21lPTEgdHJlbGxpcz0xIDh4OGRjdD0xIGNxbT0wIGRlYWR6\n",
       "b25lPTIxLDExIGZhc3RfcHNraXA9MSBjaHJvbWFfcXBfb2Zmc2V0PS0yIHRocmVhZHM9NiBsb29r\n",
       "YWhlYWRfdGhyZWFkcz0xIHNsaWNlZF90aHJlYWRzPTAgbnI9MCBkZWNpbWF0ZT0xIGludGVybGFj\n",
       "ZWQ9MCBibHVyYXlfY29tcGF0PTAgY29uc3RyYWluZWRfaW50cmE9MCBiZnJhbWVzPTMgYl9weXJh\n",
       "bWlkPTIgYl9hZGFwdD0xIGJfYmlhcz0wIGRpcmVjdD0xIHdlaWdodGI9MSBvcGVuX2dvcD0wIHdl\n",
       "aWdodHA9MiBrZXlpbnQ9MjUwIGtleWludF9taW49NSBzY2VuZWN1dD00MCBpbnRyYV9yZWZyZXNo\n",
       "PTAgcmNfbG9va2FoZWFkPTQwIHJjPWNyZiBtYnRyZWU9MSBjcmY9MjMuMCBxY29tcD0wLjYwIHFw\n",
       "bWluPTAgcXBtYXg9NjkgcXBzdGVwPTQgaXBfcmF0aW89MS40MCBhcT0xOjEuMDAAgAAAEjRliIQA\n",
       "Ev/+963fgU3AQO1rulc4tMurlDQ9UfaUpni2SAAAAwADlGX9gYfagIO+P42+iIpm+a55cSFQ+MrN\n",
       "TmYJ8cSxxGDjsH2pyxzqk2ObkugUV86rQai0rEPI7zWBtCbYpPg/M9T1N19EpWISAw3lT40of1nk\n",
       "X0tZS+BpQRHqGqyyHfNkqzOadU6UhneHchEkwhQ93t/nBDehLRJSx4zUAAAKpm7lWm+tVw2aCVH8\n",
       "dNCIF+WjcfNtpMNuthUjqoMInmoVU9RopcOg7Hhwzv5lbz4AgJnmv7zo8SZqrPBI3pYCzQfMDYFz\n",
       "Bz1n17hWYOm4swZWu5BlVDQZ9T9pXDCS+Y65EjX9l/br9csHlNjuZiA3MeE0DTGvOLbZ0gkihoCb\n",
       "dn20rX97KiBo6Pbc7E8ZBIEa39n4EkV9983ahJZ3l39alxslpjbVo3McSSwo9lZp7Gr7ifSet0My\n",
       "E7SF7iQFYD+WSIOaOd5ZQjrGMlNazfh6OnRkPfaMocaj7EfYkf9vZx0G+wLjMP7eeXvf8MHiCxxv\n",
       "v2twMlu6fWAACOY/DZTUofZGOEJ/6byNtl3HVt8PxT1oBYBebzpy09trUuay2T1C2b49dd7SnbRa\n",
       "oteb5D/KdDD/IxpgSatAMDo3cmiYFT4ijfes8lP5TXS5i9s12HxVo4Q0h96fGlkhU+GAv/sIkJL6\n",
       "3xAybcUfazpUN5BGrEj85xXab/VS0cw+/CQopYjwviWMBG+AW2AnfeZ8yORkhTfnuKwpn39K+u4Z\n",
       "GcSN/nugNwlX1FUjkF9QUez3zIxe7iw5jOTHy+JwBdu82IDpIGsCXJvW/r39/Lg9Q6XauC55zd0g\n",
       "tusc53YrSfxLu4HO7EagABA1wvVUno3LDiDU1oy6wa+j6b+1/EB8GGJ2ZjBP5eSNNut2JO2ZW0vW\n",
       "TGJlsY+42KLy/7+xKyOb0/Lp2t5qJ0rAxk5dH171MVAageuaPoPxA85oUGpZMLuVfXu7nJ5QrIb/\n",
       "Mk9kgImwDpHZbi9o5tnbnO8ZIgAv18FOxx8I4KjNBtaAT9sZBFlIA17jBDPEEw2P/Wm0VqW3VhdI\n",
       "Y/20eHhV8pAnhO5aNxWExk1ualOUpOSHJAFjUgFwn06tw1n6nLx4Hvl0m6bTlfuS/JwWlz1cVEi7\n",
       "EtM8cw6IGDALaZWNvrL5LXVg77kzZ9cTcMDOfI4Cy9h2KSdqhfvQ++NubVeYF++ppIL4frDgSx7i\n",
       "0ld9o43O88YS/r/R7/5Dz//8itPT6dMbumllYV9wScBESk8dWrvvzGNnX/C9sCTLdOoWdfpRglCy\n",
       "7kXihodH5Sq6mfwrIrTn3kVuwnOYVQq05N1Ie9N8/Byao5X9djFIZQxcpK/BMMskzA+Fm3u0ej6k\n",
       "JXEbE6vbkc+1qao9AUdycCAAKc/aSKd4jztANYaP8lsudldHhXOw+6ZjScapRGcpf0XznaZ7k1Wn\n",
       "UwZK8rWTfFHhAZVNOlsOSvx60k++Xt1DT+qUrQikX/5G7khH/pEmJPaH/9/hQWr4I1lFyOflYTRa\n",
       "M+2gDWSlHcs/nJ7dQa9CYImm/V77FoxNVKZzbDmx+mw+0BXCm80hnSpM+cEr36uFyjYlQ2CvLykB\n",
       "F5ilnH/JErgVPfGpiuoGeIdlPr2ru9YKvnQ4w0sshdbLoAAABnBFRfA6FhutiSDxfZHpTNawmHAQ\n",
       "5xr9fCDP0f3sSG4JUndrl2iP/0KUIP9BnXDgubkQRYDp6sJLb0GaDz8h4z5IMMFsZfeOAt6KeIwZ\n",
       "tGXRb/t+LJB2DKJ6VOY8l/dqyAuK0RFPvSYrjvZxwJE/xy12R6i/PVGbA3d44o6gKTA5GZlheT/s\n",
       "rRdUFpIVUTAZa8yym3uBn0ceIIYsF40iimmX/uJ0EhBFh+oTqFRNFUHFZyhRC60d4lBP8uqNa2iV\n",
       "1AHoH2O8Gwu0UQpPgqAJIyFMhtFr7CYqARfD7lCiVHJq6wiaLHXrPrTAQD5RU/EjPL+xVKWyO2CP\n",
       "lGuEw9snCYe5fCZiXyWmZS5sb3JrXwx4xMPuH7ImpmWFuUQxrhugZ/W4ga5DrvRei+xaPjGbLD9I\n",
       "Yd04uvpVjHxoFMAr62hbHiD3Jw4YDgU8gr98gHQygzLTk+0ML85+EVdI2+XGC18M1gRSYcPBU6QI\n",
       "FgosBU+/fWHJgdqiEzr9xfQ1s56u8gN2Iib1Yzi8E4dLgSLxvI/2RzPb8KmTo7+a//6dj8kiY0ar\n",
       "IbeQ07uEZyJipJGsrRijku0xcnPs8KVCTThx7QKLo05O3Cnta0hq9gyWjv9rxvhHvyS8qKQj8UWS\n",
       "9/boaq8gFCbhBmwsSxwq4zYRBk20zNZOgkcDubReH35l8Iv9WexPWwB8BwQHr/FN3+clBHEQ8Qp9\n",
       "VDYau9ck0xR6QTyUPcwUBsL2IwALuwXP59rQFmF7gYRuiGK89HKrhIdDMCXzGVVO1W3JpcP1Eeuc\n",
       "UEsEfhL+Ox0RJbQLZ8lgjchPzqdmiT2adv2W0ZKp8btDTzpjg8qzXZtYEKbdKmwxl6/GU7Ic8PYe\n",
       "DA6nx0nQ6qRZFrgdVOjWbTfp3//CUZkFY/iHbTlPyW25yGKcVGGM7CEu73L+w8Fs2qLuoyIx6Oqz\n",
       "nz64Bo6BBW3n//pvznnewztVZZYm5rVu5sAjYFj6dJ3PGs2w8SItJoCKLtJ+Jj5N9cYphTtdl83w\n",
       "QTtlJMpZZMQf/9xkFzibgD0gvfmjy5W8va6MMaitpDjX5FRQvXIumg/1c4Z7IehuqfYPPBfKuVi1\n",
       "F6zqAJZ488zH+ZL276wseplC56PXMxwu5QoEpF33+dsEvdgVMnvh5hA1leTMvIN7zRFuMJq63C6/\n",
       "inZ1+pz25y2g+fQu6a5GgLuO369GkxPocijWwJ2Er/5H0S8VfUVxbUGWEjEXUoHB/wgO8PJt95Zl\n",
       "ClUjh+sjd1M9IHEaryV9YLC5v7SGD/3tpLkmDpO8e/UPxos+KsJo+tr0akInY/8kvwx4TezM4Wec\n",
       "ydqBo9IIhYn0NVFDGwcTJdrk1TYAveRB9QGRDLfGlt1Qc07snaUB9yOeqxyuMOtUS6t4r9inpi/U\n",
       "3V/xjeQHQ99+jSXQR9EHW+Mx3tFgI9ICwLOv4NusIWoww/iSOP4l2MmWflg5sXx41kk4prrG/q9S\n",
       "Om/N7ts/vFhNQCJjViEYB6cqWQQw3wdXcVYZRb1DzrPzcAVXyRvuVrykUHyLUkwNJ9nvmUUYW83c\n",
       "uuY1AESbmMN7VduI2bmovgf3gw/JmNW/UT/3fUY7Fle16PnLPQWErFyh3yQ8xnQA2ot3S7yT7ki6\n",
       "/fnfVJK8Dcmdxe01pt51pEHt8v4BTL0lGFs5d+88NpQT7dL3uwRmo1bIETC/hr/2/5F8yJytGqOi\n",
       "DVdyG49nx1bmg6U49A9EuOlICxu75gOlfekTfK/S+OZsn4MtXBOz4laP+quyipCDKNb/kzbWUj6V\n",
       "n227eik+noKR7ksh2zu6ymfigPxcAigtpnEOgASP1DGiI69D8WnKppkKaJNUfN8O8/WHWCojgBGI\n",
       "CWpjqsfsWEr6I2XYNXk7icF4vJXNLhQPGybjjqdtJhsY7bhAnwse4vHFHE6ujZkjG3FtyZqqWyvq\n",
       "LVTKktkKs/aIxbyjbj93t6bq+/LTFaxAglUK++mj+X9fyUb8CZGECxGnHk2UxkBVUGVFzzNqRooA\n",
       "Kyt4GNbCIfDVj0RxZnhSnOqGqFgAVLLnfzWPwlP/7OIZ6iPvphNxaYYdlPzhRAANGiSmajUuRt3g\n",
       "F4jKLjHz8SSAxMWEYnaYXOyn9dYjt1/Z7S15VnobNh7DLce6Lgda6VBpYrnCv3zmv24IZ9Nd0CD0\n",
       "VhyiKeOcZBAzvojjaDPnfZOSyrBx6XP1aA2mX+F1B2nwOCtchZd3hXeDjTR8TviZVIA97Bi/EXHf\n",
       "vi/kk7805h1NVJDRGPoS/Lwtn1KPHKGuNL7fiirT+PZOMuJq3EnQEBnn1wNYNqXdTqLwu+dOW+g9\n",
       "dGaPkJXwgZ3xe5kGKa4hzNcxWBqLcjHHxfxx3UDFllcp0QncNx1ADsUncFvOivCaQahIwinD2uhi\n",
       "KKBKqmM0yXttCLiFofAW0+0MW09jQO2n5Y9AjDf06LKG9DHdMQeuh94YgVzsQqblfMP1Kt0ysh99\n",
       "OAet7MaD190yksSOtmYcNLfkXRC0UgoAAgufeDWTapYCplrvOb5owwnzf5xUwnA255ZQ6N+dkWm0\n",
       "Aj+Q/CFno5kTOlKtpLbeWmhLv0tHYJZyYot15q2aJv1k0Exv+MHzDxs4S9LE26YbSBYNUktCzNMm\n",
       "DwSlHuu0tb8L7soAkCCMyPmbSqMcx1KjS1D72uiw+ORTiC/M5Dp+2k94Dtrejzo4pdAAAFpWhgwZ\n",
       "8/lG+wCLI7rZHaTbhl//s+21mIMbD59Mdbq1m+mYDLNpICEhzqKsiCz62nLQ+OXYSppSNPpJPxad\n",
       "DO/ioeqajkigW2Mf1ZdnaCbjaj7+k7F8bsnrzPdyNdm8qm30WPa0w52iBLmSQOC7aHlt/HcD00u/\n",
       "vsbRXBD5riL2Pe1ZzNhNAabTreVmcURPcHg89cq8v1qFLBFUsWeDqcaL6ryIYE5nFZ+4AzSzzPvJ\n",
       "ozS/wErFXkrdXD/K2YsA6uSrcx6dW2T9o9Qx49/6nzBAvw1YtgHecwZts31YSugx3SA4PhC/iyh3\n",
       "3BUA7lzPqBtW+qjErGY0M/kuBT9NcigEXP7uYNXYDYi+ue7d7o8LepXPXWcyfDkESudM2OSescjV\n",
       "g5x06dTFtooREUDKNtJ1irPPd/VHjiNG09dgE5LPfmGeCRLB8alWdXRDQNJ8MzhQAMdCadDimRI8\n",
       "7o9LMCEhMyCzdvyH6sXi3tx58Z7uXDMOB3/wFfoZj8m1/uuQdnBfFWfZ9XwZsSgzb4VE5e3v7fvT\n",
       "mrcqyI1F6cGNM2jCnAecueDkRi6pMwhUdmz7ZlJjIT/TSg3P4I5mQT/+5GlGs727lqnaTxKIO9UL\n",
       "MiF45G0kyOSv23Am+Cc6mM+wX5+4dlvbBzj1Kf2OeuAZg2TtKWBs5guofAx0TVsMAQ/jvo1AcqeA\n",
       "Bbg90+uZyDZKfCre2BBQs6n8i5v69XSMWUOZnr19CV3aZbBKmS7Hyt9lgfBGldWIMIwg6w46NjTO\n",
       "u4Mp5cPx05mF4y35D4YWZpmq2/5DhdCsrHxv3hKhlyxgAZJT1pLJ5fnL5Ye6+e16UoRNhVTZ0Lsf\n",
       "aIY372a0kXIUbpFaA1fi+sD9PLY0IjDrFOn9/buVTujcXdI6nQ8w9z+MzPBSNgA2A+CPpzZW7ndX\n",
       "lkb0mEJIwua6O7lj5OeZJ4YiOZ03oQ9EdLKqkSbEjGm2fv54gTlFRZJIvtOX6VMfrZVP/gYPsabF\n",
       "uJ6Q6YWITQTspHHSDq+s94orCeQ58Asdw66Yu+YEiEOiWcnQPZm5iJlRhFyWsu10/01kHKyURR48\n",
       "VUl+gkDe4/zd9cHX0BXZQdMptOomB1N5xKBz6i7hgfmWrcFbgF+n6iBzTUpDakM9oJuc8WLGxvRO\n",
       "dIBhcXl0Cb18s+wkv0ke4JzlBi6Ra2Sx2eVBwmVRI59n4MtCj2BBjf5h82xKxYKOQaKnZ2vrOhV1\n",
       "usr2ussOu6FBco0RZ9lJID1T2wRqPArAaBR6R6DpmT+RPcCoXiMHmBJGbnRWLnNQZs+kX3u0Br6i\n",
       "5TFXOGneMQ8LS0ubsbrw4Dk2EjTKDJQ6B9OkvTn+98VNHlqY6Atwhb8OO0iMaTGHCNofNentAb2e\n",
       "l/oyCUPRgiMLQ5sMoFibf/gNVGj0Im3JSPWuGOuRNO/ypkz4tInwEz7mhGp+utuQSB9KXhjAHWZt\n",
       "f+gGiqZ7a/ptlTW4bCgJM20KP/df5+wI1E692bh/fzjiAe64kFum01D/aELz34r3oBnqb1wG3VJQ\n",
       "eCBirS4ftRUvGTTRCTWvH8ROIyHapI4u+CxyOu0xSgEXm0Po+E2aIh2oCflsqmMAejYxu5mt/9IT\n",
       "MMjItm7StQg9wbjP3VbVT+LVuXehFLHmsVpIak3bJPO20cs77fg5if4+mSTIGioNVyC0itCV5296\n",
       "3mEilBmwItPnEozSIxpMYcLIlqWbdxa/UIVgK4SuPrqnqUN22VEyCmpVjF01E+e2dsNoWgL7ibKu\n",
       "UlQa07LdELY7ysVgPsSMun3Q0nRTckOBb4aAyx+QygtdlqegcOfjjpDLik4t+bfoJsSPo1/zdkra\n",
       "zkKIQ6yyXzQN2uvOLqA9x5I5LM2sdozQEsOfsv17oyAADtUAACphAAAFo0GaIWxBL/61KoAmioOo\n",
       "AG6g1yA1s/JzrcYho/aJFx3Zmv2iw2HeaCbmIPEgPK5C1ijYMZtMcODLgUr/Ant+0fMCrfQAtO0T\n",
       "EbHxwrTW8ehCkuXG/HKoxoftB59OM0LNgRL4cIAX9C7FvdrRlgF00vSxqXaMZ5CtXlXiuezP/vyH\n",
       "FOswNrJrsT3cW8cwJPq15XCSikmWKV69+Vk13NDxjjYuJ0OZc9BIuK3qhgim5tOftk+rA7lbTpSL\n",
       "1IuhMS45+peJEdfcGVKjzpOIqdUzNDruWlzQjvZcdESXzKxaQkrYk3ddyM92s/903c6nSKx+I+cQ\n",
       "t/MD/d2rH023C6k/t8MyhktFhjEDPe00Rw6HpsaF9qLUW+p8GAwAHl3r1GGgZB7r7oHTjsmPCLVQ\n",
       "w3FCNSlzb74CisAQguVD2ypu7VRQ30azx663auEq+SdwbFOZDxe59bJb/nraa0mfWJBJ60JK5dnp\n",
       "O5ek3HGwgoEVllUs0PKVQuNWOfANcyi1S6E/+Kr0cpl/gWRI345qYZhpi/y4XZW3Qf2fkMaDZrzb\n",
       "2vzzEKFD1PJWUW+MAkZvZNI+6MyHqLvpVTSyjZA9uavUBODy6fZE6/6o0BRHYRTRMEhPotwqLaqd\n",
       "jUaRCMbBwchXLRUPPC9scRHW5yV2TFH+61Z3v/6eFoPDIce91XTfT/bBG0hpjC3dFhVLxncerN70\n",
       "6W5hooeTIt99LhMPEMQADoiTnsH0ux1lAJ1pzN2dv0+60NYsgqunYyFoLBOxCCHxm3NX3udlz0Qw\n",
       "xhuStj7YcR9FEtAEB5jDgEAUDRiau7iADe5oPvTWalPfMi0eYKY/IIPGGG8ZAGLEPiTKlWKKRe5o\n",
       "e5HUVKpm1ESrKsgE2LwN1LHB7IuG7hEiQ9qgpL3+AwA5FPd3Axk/qxehdrqi+bDUvOW3YkPzzh7E\n",
       "UufHL4SmXNbJnqr4sSaQbxsz2aVeGKNBbKXvioKNQEWWLBXzJ4vIfTZkgWJvTZAOC89pU1RCBj60\n",
       "2CL+kiye68c+vJQzexXuLy/DGYXHnLKKYvTSQLCgoF6NAOGZip7ZB7v4dO3ekAri48Wxz0TI4XwH\n",
       "AuLF/gJth9IxQr6coHgFakeVaFYvAVy4DCBb52Gd+SsRK2hgaR3GHRprKz1OZK4ke5ADLSRsQoYZ\n",
       "ek3jerpVxLLVY2w3z2vYhsw7TJuXWT6QIpHD0X1nYYonyZ5NMh/TjAGscwZWl0gGoQbWE9fCVR8s\n",
       "KzUlQYex5Mhr6xGWLl3aLA6XTRiXJQnJQWtSEq3PJQvijhEm1jF/tupfE7oBQ1dEqF+nm1XNslol\n",
       "oTb7Udq6XPCQB1+2UIYBcyrpV3uPhAbUdms9zNQFNdAvIuL/bmvZn1+p8TTaXcDAjmJCGLT3KRmI\n",
       "Rke2nQptDdHNro3Grz6SimDaoU6qR4sD2g59i+6nNowQ2hH6Kt0x/xC3U+zuRA6NbHZgkasX89nR\n",
       "gS3GS+LpKQDVVWi95ZJD/Srs/QeaAViH91hYdPC/9fnP47xLAT8oceAeabKcj6m5l1GeZOQcdwBP\n",
       "8B0fO/dT2/P5qhx52HJHavKjJjoQ1b8ENququSecmtuqxBKTpvvz6fjQWkTEvYyZJYStm11jo78r\n",
       "KFcB/ItmrZ2G+NQ1PBZT0ZGzSg4Mu3GHvUNtx/D4IO2KBu58P9DgtKfILq1fyqHzEZ3x0skU72tb\n",
       "0H1Q9MEqHSGe+JmHR8iOfWfpuHNwwBIDlrowrm105mOnhbrJ1dTIdlRp/Pj0RYao/Bv/4EdN4V1B\n",
       "u8/b2VaikngoGpfsOvsWX6g9QUr8Wej9M5ECEl6pyeaAWkTH3AaZjTsbtHCnbNuVc27sQhtOXXaA\n",
       "CmL5F9xA/wW+L5r0o6jNDw2Px1G6oRgQU4wNnteyKueZ2kNEmOI4tL6VOekAAF9cEu3lVx8IhyhU\n",
       "SsoF9AAAA/VBmkI8IZMphBP//rUqgABveTWflIAWBQY/6xVe5yvXl08ZCW+HpmIiEBmcbuMGQtoy\n",
       "ykGkQoLTux+wc7y1pvb+8vGwUMAWS0hBXp1v+Ed3DHlDBrgb9JRPwRzMUv3zuRJnnGMK71T1Srm1\n",
       "L+gcvqyJ3ntKMkB65HSJcSulPh5h7FbJoPEFC+K8QFKZh4iSKrIEF4lLvX+d1FrEGqai/d1tH84u\n",
       "wKfVHeN87U2M6q2J5fnjdZWCcCRi8bCXBUBCGgSoZmNQjZJotl44COWUyvmoInnGNdXuBcR+T9aw\n",
       "H0pW10DAsFK6FL0VeYSwHAV9uQrhqttWCBEjy6vwedDkLy2tzvvBH1ZWM/WqhSq1K1G/ElwPoHNb\n",
       "kL6ftKUATHRTivCwgcqH1iXcAmQ40TXzi0U7z8pul1cZP0t08YYcd/oa4jxh7hVUQG7w4nXDzsBm\n",
       "0oZ/VAiJ7XcypL2igu0qnbpy2nEEdZRxEjLittJQwDWH+Hc9Mb/mMVq7RR6VAgihxCzb0MXy4ad5\n",
       "4GH7ofmfFgWUndKWGvWhsKga1HuQ3OrJbdXo6ksG39nlCYY/wwki/GxcmOjpqdrHDBxl284et2+/\n",
       "0OPfghSPqcPhBTsH6qKhWIbk/W6/K82rk2QHOlQnFUqEU5PF2kerA3EDxkVnwgGXDsVDPWZRVeCf\n",
       "MN57gV7kxo7aUXXi4EtGBDWg2kXzc0opsskMpgBdO9UHYYN/PDqg0VFD48E2794/u9WjqzKvfrds\n",
       "Ll9M9keyWyYbROsll00CPQHGrXzKSqem2CK5zIGim/U7J6E53Gbb5abXH5Gw712X0ejfDmb5zEnT\n",
       "0sr53tfCo2r+3COGMdFBtYLsMRpxCln+wXi9reLLZoOZXduEtWnyjWOpc+Q260LLoSAT5BKIiF1a\n",
       "ZKVhNYtRNhPgEpVD8tKoADO/S6xpFiWC2ST1/a8UKheuZkQU6ktXq1Ekj1d4Z6l8BZAbhTfn3zX7\n",
       "a/CQfTG9GfkkSwf+YfQ0kYvjVbbNkgmMF9h49xhBYOiS27yvuaYmh4gU3F/AZw6FGQRZpScapDvG\n",
       "jhmVWzk0Jn3Y4uRpiAG37+sCpII5cj4A4UPenr3xAFVGhnSoV9W/tvJWz929FM1Y3wRH6U1IhQyx\n",
       "i9SgYaQRG/oYGFK2xhQ242z0nrT+YbHWP2APW1auOu8cD6Sv13zGokwL5gAubEwZqozjxVPP7art\n",
       "QNmD8WdbzHLuHsaZ37yLreh1SOKKgRbTvudf/xoVv9BVoUH0JsqQRXCKCHd8dWkmgZBMLyPwzbPx\n",
       "hCSMdmIBa5NnZpwTVGiISPwhRGPNwgX+o8IAUK0PKeJQLLUPFhQtN/eSL/GiQ3mUKkSSsQAAAxpB\n",
       "mmNJ4Q8mUwIJ//61KoAAbybttkmWwMgCLlpo0qKlPzOOu5POxvaVO+zAAE+WaLoRNUVkFt9LfaNG\n",
       "/Ax73HD95L6a5ZYMrrwjv6TUL/0cUTNkWzbpl6P4HLBNj6bL2b2iEsldbWZsvSiQoUgVNli7RjaR\n",
       "lZ+WC+iOzatzGdMS277myIvjRraLi3kJdrtHlLjIVpV7FR+9mOqdq4waAenzLTISMcLPwRFr0UFI\n",
       "w/kGCkTP9YHnqwIq8tHgeKotgiyS6HbhuIGkjVTD0RFYIjH/Z/wCPmT6zLOJI8jhE5/5zcksX+7R\n",
       "cRZM/hw52tYElpSMdawm+n/mPYrW9RaabW6JDkWfuZK0OQz5UdePzLcBOeYHG8spwWOIKsy1zVPu\n",
       "4v/l6tgJpl/NNUOd5ftAIVVObb6o9twkG7AivTnNgTHAfdUiX3VABYjQi9NpMSZNyCGoEdmt0Twd\n",
       "xo79+42UOU18yyurTj9yNePMh325X2RlKdLYVDYe5rn7KGm8Lk3qVsEwo00XVE1jWfNZOmGA7e3X\n",
       "0x8SXotgZFyysuY+zk17Mz5pRe00F4c9gl47NzqLuAWk44u99AKY8r1NSueKHRCeRkIl/mEPxXG6\n",
       "lHVvk1Ir1vVyQD+1C4YvbAMIl13w2PzMqumZzVLzWQdU4fLQNrjuXX8aMsy/6ki5QeTCKuiRQF96\n",
       "j+jJl9UKWoZWL/8JrVbzvgPBNsgYZqfl6A1PMuwnD7UC6avK+e6wrl6ajeK+C+G+ekTBV7FlnKlY\n",
       "T5mgcyd17oJAsLAwM8Dek6WZ/AtkAKWxcrNTYvgFcLGMTz1kIA9UgXFi0INkeRf6RM4dil1ToYfd\n",
       "xB21/so6tQnb1boShfpUMvuqBMXg4EvbCpMXKNQ97pqlKwq8uTelZ3djulYIeQAb3hlQwYR59EA/\n",
       "fJIyGy/IJ+xkr9SJUmowjT39rmS+VOoVixCgDS50mkE5YhJdaKfFHsWD03BUUbZ2a/ZbmYJvGOYC\n",
       "gWOz8SpPOP2xSUkmnlHdgNgcMLaU8OGnw3KyL50Fyq8k/rjCLFnA2BqML78tHvvq+kAmIgAABZRB\n",
       "modJ4Q8mUwIJ//61KoAA3zji0B/wAGXJA5I2Zx/9/Jt3SKA0Q+IvrkDmOrGFFCyghhmHuQ0et2Hg\n",
       "9Kc9Nk6hOs5j5QZb6mVoQjteuIdEoWzYuIgjc1JiJVZc/oXNggrGQKU9jxhI26gGqrEkI6cX0v+Z\n",
       "fmDvHxApAIECKe4FJ02Veyg8mgZSd7qJDvIbvRHTSCQz8187J92ZgCbYS6EEsuDO4sCs5XEFOwwq\n",
       "rOKLz71nX89CVDhWv536svveqLdncJ7h3wNdADWH5n5vW/eARTeYJx3ic1+xoBSjbaJxGTUcLYj6\n",
       "lVDu/VWZfkIHrctqBwOBI9o1jIsif7hln5K9ofMAHVq+xnX2AB4pzIkPUuRTXPzMF1Tbxlwn8PbJ\n",
       "kxGN+tNyYmVuPwfKlwJuj48dNO8YxzTlpMYqLmu8nJzGIUd2FErtsVwrk5e2fmziweF/azJ60Agi\n",
       "UmipwDfzrjQ9+VLO5HLyO0nGRp3CVkOUiJXUgbV0WBNO48O/lQrTa5wFCApTE9sYpJstueJsR+Rq\n",
       "JHzCmy1xG6mb9dXK4/pLbyvV0MtzTl2IAXaysvkPiRxPioi5f24GQwi3jpq5TQbNZ5TaShrGbNfk\n",
       "NwP9rjbID6R9tGtw1HKqpvQYiBC9P2HqEo4MQAbz2xMcR8gA70DZl/ZJge+Rf2Xoa9Y78Q1c9X2u\n",
       "A+b3onItsAc48TRigAtFufwIZvN4Hk2WPE1dd7UBcResHjRQL7WJlObef5aUbFiVL2iC7rDZO6rO\n",
       "dphXGcvKpoyXwvudnaFylkdXGTkPQFY0Uo7CHPQUbFkF/XDXqfa03ctDj3N6RzXWwOlq4hKJ1bQw\n",
       "YW83pfiPm+9cIaro1Z33Ro6wu74G+a/mEfPeDT6+Kg6mdaufDRtV0WoKWba5RDjm89H6+h1tCoVt\n",
       "vazDeAZYQfomquyVe7EH8LqQMVkNbVuX6dR/CtqdkQzqyaDqu7/B52MIJEGui0EQ2Dz+3FerzYom\n",
       "JKLBf9wusdAuvpHDBpp+8z//0ja9UhB8A3V4NxB42/DpxdYu11X4hHbtgPS8IBQefA/gm5KQdLie\n",
       "hGiaOI4WqmRgKXWgq/M+3rLQD+zaXEF1kR6+GBvGca3okx21fBjsvYX2dWcGpTa2uR/GXPxyls9A\n",
       "HcBch7+7aUJUMucSXTxYp7LRCnoCYarckIJnkjhQl/87c8GtnayBbug6S8K7U7HFaCGw8M+5f+Kk\n",
       "WQ3XEmDYn+QSobWfpaIobMk+2/A5ccqmax503rFsvBbh+wWPKpeLZKgC2aufU2GWV6tpFrIVV68L\n",
       "Mt2yFoJ7RHOWCXeu5tEO8Lk2JYySqIyPu/LmQLyMTMKXhm9IN0XB7ijubIrmKr6AI4YBk1g357Xl\n",
       "51zdNydn3QBom6P0Gsu3mEPfUF3pMfYw0vdyuaDef9tIbaDc028pV2gH87BHAbpcStq29h92gEJS\n",
       "RoIg5NThzwLO0SzgjLNhhrm5+OtblJyiFc4AQckgLXKSszF0HYLHFF9eahYcb+IXlLYoom8WxakG\n",
       "uztpXz1SL7gcCA22wDMz83F2/WdPG4hL21Kz5biP3VjsCYEFBoccLSrUFUeySKqSXhYGFoFiuAph\n",
       "M1EKf+VdMV53G3vLJwW2FHuElJF5X1LYjW3aD95LOQX1OYff14Qk4F8ro8XyLeHWzFwn+LbDOqez\n",
       "sLiUFKBJhLPQ6WfulYSEYKdYLeRzLF3t76rWfwMVo1ZVxqzjVTLUBgAB23Fnwo8iWj3iZWDDpoaw\n",
       "ddsyJHeysj8Owi/hRcHVqIv5iXYrrW5TU17apkJoUA1CX82/898edVYDC7Xd5T+pU1/uJoZTgryp\n",
       "OWO3WDih9hW8uW7aRvGJh32/Dujd+ju/lO70JDqEURhRW9afVuVgvp6FaMe9taDhH+oYWXxuBMUj\n",
       "PoEAAADgQZ6lRRE8EP8Ae8XskoIExVZQPH9LYtNQL2vetAAg9O5lG7RHaqABjgqEvx2RGLhmv2yo\n",
       "XJaZ7CGBZfhOPcavevzg0HWvcywlq0YkJgncRvgHxCuLTTJ5lVVsv9vB0SN1taQVdyB8wGNAjz44\n",
       "WFkSHc8ZtxHMT7/VFSLVI9gMC11F+CL6nwftM9DAxCAQYn73U9KlWdCZE1KWckLYpIvrS+GLug2n\n",
       "j6M2IJ79e/r3VsIuCfh1d9Y9J/NdfhNqP4bVGUv5HK3na/fFsl6xcjEnaaiDOartQfvahR37mPtR\n",
       "d8EAAACMAZ7EdEP/AFWG++FuZqf/hsA5Q1w4+UoArboASVxZfrrALDjaG8ageyHIGbforguqJJbB\n",
       "cPXCCAHiJpPpkKHgb+M18b3ui9jtVpc0QY5MyAslsd0dJxFdQUEoZw5AAdcxd2FwK1Utmc9t4xGm\n",
       "OCDPMOHx3lzM+H7jT0Z3PjoQfJi1158EF/DA1vCCdPEAAACWAZ7GakP/AFWTDoKionQ45aPwAthI\n",
       "V4D6omHGAFNpO9PV32cNklAByJrKJgfs0blntbva75zVZAgdO6hgiv8lkKLS6+Y5Kloq3gL/XUoJ\n",
       "fih1VXforjLVEnoBPk4gawWTg4DwW+5mriNuv/cH7ZO1jCYkmazsdpzzIBLxdxyyZqm+dgA7VlsT\n",
       "VH/B3bbA/P349ex5ozphAAADmkGaykmoQWiZTAgn//61KoAA31sYXmINACJzWXpaWPv2+TcT+mRW\n",
       "G0XcIUQqex5CFeG/0cyvqv2DkX/dOpu3yE9GE34b7FpZ+z9E58nO6usapjMrfyWnBNRozkiXtKt/\n",
       "Qo4spp0CzRMeDGZ4df042A+Eztrsx/YQvoO2/ICH3P1FIimVA0BlkoCUIKOF/9WcqIcevzvaOhQo\n",
       "FzcQHLbte6P6Ko6wVEL1it7ZFCRqdLYJO1PCqTI4rXjU0Gr5VkZMv6bpYV7mzqYwKO68+r4okZvO\n",
       "+kDDQ+gezawLTgeQEn2lKcEbf5PEinXMBnoL/6DbS4e6L9nQx2Sag2rLcL5WZJK4PVIZmgffl6yp\n",
       "Ma1e9nd+7QVFICFJDhrySPCW8nTdvWMW5wnlvBXTF4r95m11w3aSX8EgY7D9MXBQSbENSCqMQ7Bj\n",
       "9Ym9ZixZtim1HBewnJ4x4gavmJMFh7X1cDPMEmt8IfgkYy1M2T8D91l3lYLZm10x0PrL+cL7roVB\n",
       "dpHhS/DF1wjNbbMOyj90ilKyuVuH5mm3l7EYlgM5vtBHBRHJjJ9+ZVCSUYTci1C3FkvYFotATicG\n",
       "TfEEtP14gNs4lWA2GKtVL8jZp1kRCb/JX2Ld+LfLdPEL1GgKZp/2j59EDLeKBjXK67rFOhSmHIIc\n",
       "2FgvmgnDza+82UvzgKXVmmy6Jtayjd1ghfNfSchHe73emShkzfrvqI3GsJoTVTVlAUEawY5o0mUJ\n",
       "IbDRWaY8yHFecVwOSBg1fecMi4GkuhvVNBPeqL/CezidttkIX/Y80d8eBOiPtCHPMTcyKKsckJwO\n",
       "z8EE4BfevmtXzzFu7rMHJ/lrwIeuqTrfDr1yTwUTORwcOTdeLj3PXYQKktraFV/d3h1u+XdQwwme\n",
       "NsC9SgEbo//vJZKh3ViYFBdvalqJChaqkGXfS64oZHM7R7fFPdvmufDhZyHKKzKeAtc2hwwg7G+6\n",
       "S/IHS5cRYRNPXV5H44aso2Eo4kIyybUQZClzhMBFZqr4z205eXZ7B8DETweVWnAAahXpLnL+PzcM\n",
       "vB7nixZaITnaRdRCxnfO0Kk36WXd+t4lHkVQHPmJa97RArC2X/Q0kP4tfaCS6yb+ibTgBgGC5nGd\n",
       "SkYnCT04WntS9wvTVAaFL1Y1IXeuzTCWQuWZDMAdbEt2pJvmyFatfQBFHU+VwmuZXng9LmMnF4Qc\n",
       "djw1Dhy7MqNJ6pOZgAg+gD19C4LuNKvlZz4ly4AAAACDQZ7oRREsEP8Ae9U0C0ezqrarnhbnaMh5\n",
       "gBahSzyYcAYpCeFm7gfp6zFDDVdv8B1WELRNdMCvkL0Qt+v0kvh+45a3XQ3+wObBw7SU8qXvk8Vc\n",
       "meA8HTtwpZttOQOywnSo1S4KmNPJ/qN2d7qbWzltElAuKO8uVqcd9dluv4aLP9iC8qAAAABSAZ8J\n",
       "akP/AFWTDoKionOdPe2hLqNvJ/TbigcnIuIC1VVEfeLnNVya0GcVjC6r++dqIJ+SDFDjGeAomc+c\n",
       "d/NEszXKDq3+jzTebjohsvLt7jsGoQAAAp5BmwxJqEFsmUwUTBT//taMsAsXi0QXfniLJXEAcmwz\n",
       "Sc0drxuE4Nhuilnu92kVICikBnp5U2OvJilBKbu67Y0sHENRtLRDcgEthObz7KClXwDl+a4nl+2+\n",
       "Cd3+zWhkfbxCgHRFd5FhV72xmQKnOMZq+djP0lkvASZ4sOvew2UY8JxPC6+PZtMbC3Fc8lydEQ+N\n",
       "egLfMQdrgYWh8EJLkCfXpurvQ1KQlOzt+i6h3kzkbgkNqflEds+dRnWwRqKscaRHLllRGkqnS2hx\n",
       "iXqElUZpgyfv1qSQwz2Fma9mt6xcudEERipmS9NwF+Q9ySa9aiYk8uc/uS1mjwRf6RrLVPAqFcYl\n",
       "ecZUM/3f3gKDEW0N6yDVDIIRXna1fPvsJ6DfaYHJnKZZYpZ7/3vClcn+/y3aGFuCudfA1RXAM0ou\n",
       "1XNjn6mKsIKYnZgKm4q9wI/1erW8ObY/dAEx89GswgUDxzduMXLYF6Ah3VfuW56hsv/locJ0sU+x\n",
       "Jsw8W2+b983eSwgwwn1yPdXsI0JtCcb6oWhqJluneURQTLcJkAhSss3pHCFA5uA4JgtZe2yIjike\n",
       "738cAgBWS7psc+NVxeevGKMGnZdvOvjALIYaa1sS4sGxf8jt+VTY3sV8OxQEvbblb87f3K8k3bg+\n",
       "m2Mm7gB5oFeJaFGtGWmlyJ8RBsTEvSR1UfTs0h1IQPkw9KTnjL/anYi5qHI5yv9/kJ4WmHiqfRqg\n",
       "Cjs4VgxHteK6Mkrpdh5dkd2MqTu9BtcQErSsyBS+7Q09SbsIivDC3lQLyDS4KJEggykxyekuYBuR\n",
       "vg67sN56QfOuTKsOssAO5fuMQyuU1z9JdoEq/pzWoGpjjh8ImEmli3j5HF8TqR8KxU/rP6f+150v\n",
       "u21XNU6NLlcAyIzyAAAAZQGfK2pD/wD2uWctN1oKRYQTxBzPWgDe1QEyEtXei+uSr16nBvnysYLy\n",
       "PbHpaDe8Al9/8rLVnB/Qzo9cMpUbHiUZTkA/rYANhhCDI6ES27MmX52vgi1yHpytgfS4N1Zuzysu\n",
       "V21MAAADt0GbMEnhClJlMCCn//7WjLAAcm1k5t1owBWzOlkjBbKI4eJE/l3cvZAcNCPQ6Bwur2fR\n",
       "XVSQKMRlfJFanwqU59CgYjqGaTgFH/pOkPOVVPuPbD4ky9N9lEWRqamwMz+jmo2wPDW5NbegMR6Y\n",
       "Gyx1oAnL+mGOcqa2GHlTcIBMpBgOlsvjQ9P5K6ZHjiyi3OqMbrZuxCgeVW51ZMbyZc1XY3ttl/Nn\n",
       "uSKLcrjp6fSUAmSC2MVmdR0EuwDFGZcUV1l16q3AZc0Ywz9TNKJuW0I16nYbFZtY85KDEsBi6sqd\n",
       "SLDHFHmULcREY2omQ6H00mFY13T49eKfgQPGVpoLKWSry3r7k2OQRCRM/Gr3P4DAQ2mdWZxr6QdH\n",
       "Wka1zxYYBJbb9EFth2L+J1Ej8NHaFXABUM8grltrzp0YS1p7BVGx3QaoOSAsBRYuz8DW1PJPI3Y6\n",
       "tpsRKUXl9dM75La0P8USUm1zCrBGaqQRSJVgoldee4yjaWdik6pWIZ1q7j2rCL+bZdSarLB75+DK\n",
       "9Q8gOydnNKNWYOYmMOKBBlYgUjElfrHSzaQmgdjC6BYUdtb9KOtu3ExiDI6ZG2q5DuqIX4zVdVcP\n",
       "r78/npz4W+cLGulcIuIpx7BfPMZp4hfsi5EWHkUHouweCcayy1cl6JLsar0fgaMmvaA0HUfMdcG+\n",
       "neERYLjTySjcpnLxk2knbph8uDBYqll7udxt2QLPXfz2wyqQp1GCrwrR9gAgW2sfEYTpSLl5JQWJ\n",
       "wW9b2hYZMpuK1Hy7EzmUv1IRmsNXdCckajBuoEavBrjklcMAQO+lZrhvOwl6v4tBnyZIKAoPJsjF\n",
       "OLV0q7PHDyusl113XnDfy32IQd/pKwkJAZ/izzLR33fhJXGHpmkKdaJ0MHJoWf9AUcTMGBlI+G+6\n",
       "AqJeU5faMGiJhoE65heOeAqu0b6rbHAAa286Oyhd7GHmh/nOYTy4eeGb19tSQv3WgRTJNq9RlJm8\n",
       "Asbgb/7RsE39V6nMxm/KT8vwjCBL6DZftny6k3Xwfb1vVCZpaipwLICwbnhQ+SOltukFMH1KA9qN\n",
       "6FxkQ0SmCIt3SEaTzgvnifAnFP1RxKl7w8AuFBmBSAQJHksKiwA0bQ0RoWZ/h2hBFrWMlf6Uyc1I\n",
       "TV9OOseK17TIRhsje78CVLUWQKfn32tFNOwGjR2kxE2V2OUjM1NX0gq2p9pHGyLAe944DbnS7gPR\n",
       "GronHE6CwwcFgxmv7+ujsmKRtYJyMx+jVZre6Fo7ZUfB1BstL1Fs/ci8weyfoQAAAIRBn05FNEwQ\n",
       "/wB7yzZkcRynXUDc0mVONJVts8ID1x9j5PI6NSZT+ovS7A8h6s5pvq2/7TXUR8EZzAb8mfxbnLkw\n",
       "ASuB9iBJIfVDj1Kib4u2vBjoWNLICIZZgSb6fV9s0PadnGvOZkX0buq27UEF7xlfsCIEang/dNs+\n",
       "ooZyRJsxHyLmcuEAAABBAZ9tdEP/ACsDffOYTLJiIpJSSQiYfDcUypFwnsPN1WGATpIstuB89ZXb\n",
       "I7fBbdVY67rKzPLYbB/XYdTVbPEXVvUAAABGAZ9vakP/ACsJh0OXVSXCmoRjHo41VLOPAZnfcihv\n",
       "KtOLe+cNAZuoTIWCtZOv4NGpVH646ueSeMQaE8xTssvFE4r5pRiV6QAAA41Bm3RJqEFomUwIKf/+\n",
       "1oywAHHQ7cHOaaLACrnCNxAAM28v9W2TtQ7E5EiyS8z74ldQUA9x51wjDzYANqWmXBhQtTxmcJOD\n",
       "ZFAqxMmhI6ZSeOPywP9m1Ms0Sl7tAqx4SDwc664/BcYAgAhhrli5pSKwoDth0wWIFXPadur1VncA\n",
       "ODj/h7demrL8PwVJLM57F5Y1vrjAxCgB6Bd5caQBryK8pOY0h3d3TWJE+Us1p669M4i6xc/xuQCz\n",
       "bSfRAXIiZXQIjA9yIR1G1uS3C8vxKr3QaIQiEPgbvawNNc6AXCW1jTkvsgLVfBsQ5w+06cqXgOMG\n",
       "K8TTvgNKaB8UW5yyR170HMfQ2KNO/IL7Z6fNRu9abFMLhe73zhzM6uN9Qtk0tDwxQN+2cVz+zS42\n",
       "3uS/AhJO4pl3mQUOQQdtXGT2Ze9UoaE+V8dlysXq/x3fn30z4LtJaF9AgEoOoQ6WZAXM69/N7/CN\n",
       "zQmps279G+IoWBDBcf6v5nmNzQe/uatd0V9NeT6WklzjI38rf5mrrZ/ZlbOBgKV3w0vkUUALnCr2\n",
       "FilrNzBV38Jzvxw4ZDoH1NN32q4TwG+I3Ntuyzv56z6M3CRZr6EThtT/T6HuvCgmGqfTYZLE9z47\n",
       "fgPCHQbGasgkaDDx/D9Z1D2SVT91F9yREkmyxTN9T+ruwunBjfvt35yPnriFTrJGpKIe/lS4A7r2\n",
       "O5TvBXQNgxJPerEgE2I2vUbtTM4SaxaGuLeLuAxUvi++0VnBQaVdl4DxWmuxPoToz9Aj6tvX95rC\n",
       "4y6XJ8aQTCApK5lwb7khKRA2gMy+LT5yAYIZOpkoPvYkRyLY4xyFB1v43/kjvu4buaAOZCQCQXU/\n",
       "rBIT5CHu08tm1uRoRqdZXOykwasVdT3DxCHFxEjDbGWHIv0kb1yp5KsBnz44YS6LqrtgUtUy7jyc\n",
       "EkMG9p9fKUbndoxEH4KG4hy+EirvB1nOTEYr7TR8wFzuyKRVeJTlfDxStEeN0UPsezrJkMVsVkmz\n",
       "4/6MzgqrFsfyP5ZhWCaxzfIKdElvHrWFjgBMnicvrK7SRuzyXPrWz3Zti4W8WebXpsauzU9BafJA\n",
       "LEvXTveUJh//1ABqD3svb6MDGjrHN6uiw4VxbxMNspb24meE9OIPpmtd6kwzfacjKK4B179PkbXV\n",
       "1R+lPmfH6eaPnXRj/qmKREjITkPAJ6Wfvzvx/xTcart+3dJ2tKBrNMAAAAB8QZ+SRREsEP8Ae9Uz\n",
       "w+z7J/2vojyBFvQorpdBj790z+Pf/YcFEnvJoo7BDbfzIH75WPtrfmVafygSQAXTSJyxPKCVaekg\n",
       "2k63lggFRhHpd8ZnXGdSZu3NNlpVdVmGtcyBpeaHqfwF7NFmqpgxp6nHUWQ86HoD2Y6LnBm5QQAA\n",
       "AFABn7F0Q/8AKwN985giokgcKjPEQKf+KxUYKYzHK7mBmzr0wLxoa8uSQooweZ7IahCE6D+meTq5\n",
       "3SkSOakSbv2HHcSHV0yhlIx3cObwBcLAYAAAAEgBn7NqQ/8AKwmHQ5ghkKsi6kJ1z5gk6pYevT5S\n",
       "jICANKDAQuXgvII5LgN5hIX5HRa/7GNVJbX5wOpmXYQUSYfoxgIsU1kOt8wAAANOQZu4SahBbJlM\n",
       "CCn//taMsADjx0JGLAFAbv57koKishke7bpcMxmqIri6wTOTfosBbptvg8I55HQ88+DEWBVDpexT\n",
       "5GJ/xtbMxzwfAUzPfcBij4cCCnYAVCD8ouUcf4YekG8y3a6R2T7BpSAJoJewHpqVfW7TmZw2URV2\n",
       "TsMeFGbl53uSpn0AbdRVgeCX6EaT7bh8VYH22Qz7v+JiUw7Tsfe1cOMquBkugks4Cl85RiZCEuFX\n",
       "BW+Zv4UCvANn4nNiVNKX+FwnTdGty32bKyJTSEFIMubMP9sfPHL4FVwAv/AEsQUNqegBv9GzOa+a\n",
       "AmS8aZa+WnhpLMTpFXaK1vVWckOWuXHKEyAdR/vshaoGH5RvZkoH8+G7xTGyEW0yGVey7AGMwbEP\n",
       "xQNgaItKHezRajqHnLeqwQVZa0W4LLyBUr3oCLkJdfrWxq/v76xOL135ahqjjVs8jlEIi2ALPYwN\n",
       "THe/wAxyeWqJT5r9sSbfluHWr4+mC75QceXZpxE0HQHBBqL7jmnKcfVziIeZbw542NpZX3schwm4\n",
       "DGyfxLsJY78Mp9tAMfSG5h/WtC6d8uToKzAkkPZXuaO/p43bPwKfNhMIYb1atQfoZMJ2LTTdI+zG\n",
       "IoVf80loYdDpjm3DG6InywVolGmW4DN91BE2cXzwazGXopqbiiQpopyk76aaqav6CDLVUDwduKvp\n",
       "1H+e0JLkUc9N6f1haAtpbwtpzeOCOxazVFqIk2xcRAExu1g/GkzYVVg1wGt7Iao7N3KpC9bdUKov\n",
       "ke3majW+hfXJnU4/VpZedVVl5JEfTHWErs4+swoQzpK4YM3s9Gv9IM58DVXuAjuFmJRL3mVNx4s9\n",
       "vrypFzHRVmg/a17FVMRX3OQkEO0PHYUlcsY6kjdlnhyOShad2QmUvRWiC25gjx60DdrDqHpEQhw+\n",
       "PCdmvjVrwimao87pBCCTcR0lARmfpmX5+a9RI64pQF4zD+3uFgeLtcAipJnuNBNcz9UxC3+xy9Nq\n",
       "vy8zWAxQ5o662brJSioLSzD9FTMXYaX1AdsiFLtgvmbUrFVKdvIpsNUQpGlO6mchA1GVnyrb0709\n",
       "gDXCzKcN2IDxOzEI/TlUw0/2k+MPYw7kENXWJTCObcuxa1XgQHi1AAAAe0Gf1kUVLBD/AHvVM8Ps\n",
       "+yjthbk20DGZ4Nttkp1WwqTGQrbTnDkS+DBMPfvxKfJ2asKZpH6JhWw6/QaOwa4jsTltctuIYS6p\n",
       "/ZPygecHMb07gT7AmmQuovbkDbUy28Bc5xLv4eR2Z30VSQM3vbwlPNH4qIhgXmW1sNp2UAAAAEYB\n",
       "n/V0Q/8AKwN99KFLt9sActkrswbSh2oYhKS/xI18cSYnGqeUJGHSFMPP/2xy7vh0mPnBrSIoP+f7\n",
       "qU/J/4rxfHXJjb5hAAAAQgGf92pD/wArCYdEoMtgURqNrVb65PXJKcHlY/5EIR4MKtubGGvyA3lW\n",
       "U4fSBYM+x3fBXbpi19pRg42GJMOoAFimkwAAAxpBm/xJqEFsmUwIJ//+tSqAA3vlBFDQA6KrrOgp\n",
       "r4SL6ocaqOIufijxztuTzyHloHJ6jwTt4QcU6uj/Rzo6RM3DPbwXl8fFtUe8yvg5EEo/Gq405HAJ\n",
       "SeyRKGv8DEfs2UMl5gLDPfa5OwrvtTKKcJfYm0lDkujcFKJ0t/00wHy+rGwABSWTPq9eSZ46NvJP\n",
       "HfLx0xw4ql+PCbEWGxwOP8e7A9t+fkzhDG5gwHRSr5F3GMLvlaDZ67PuVr+vCjG/2u8b75JdJCYY\n",
       "lg4a3fg0ySSDsnmZGwuKYBu+dZpMBW3wd8Q84UyRvLtILCD6HjVaiqJK+7L86lY5x7hs4X9/AwDr\n",
       "4WmcwPq4QSWKIXvM+blD9XTgUsGI69Y95zOWU+AOLVy8o4/PyH04266/ZwgzDjODYicOCzmdxopS\n",
       "lyXuzr9tMD1y5O+q6Ua30uKaGs7/+FTDYO83cYfrTDeWcZ4ZeJdOKtAYJ+RQE5wLvsdtjaLw57hN\n",
       "J6yaz+p7nojJoh+I6u3wlqXJei7cIohDnSB0YIyspKjQMnzeWaYpqiBWRFIdUUvFeBg2s2yjKFZs\n",
       "i2LA7KpwcmKrnQl/nIzZb6nsKO8/7IyROe8JU6Ycjh++S6hnaFwMCGx9BcS8gROo3WCSGx1FMxdm\n",
       "nVRjDWumetkJPF64jOTJJDIYyj402br4PhmeDasfgvHiekBRsGZgQ8YWotMLGZxVCRghlmfdaKgV\n",
       "d3JtdPFlgXKljr824+6i4DcGCDWAVY7WRiZv2Dn/ZjZzIb2fdeBt9wyhgLe+zvAXFYl4oZ40P0Aq\n",
       "mSUcXxfuTmmEW8QN4Wn7+yVg49xM3x+QdRY/hc/tRu73ow9e8OWd+6qVZS1UVKRnyAJcXdkSIlfY\n",
       "euu/KRVRMd0iZnpkXpMyuvcq3bMM8JQXnA8C7q0dCyGHVFSNNDREYMd3faJ1Wl8zhTwTI4gwQwNy\n",
       "cfhbBO2mSF/5+q/hXwvS9YftmT/TfGXUc1KhWXs1yUn2ymEJb/FqmUI/lz3EYvnZ9tfSsChhWzzs\n",
       "D3+TPOTXTiiN/JSc+Rrzl4NyNkWdRFiUTgAAAINBnhpFFSwQ/wB71TPD7Pso61xPSM1Lwi3XXX18\n",
       "Mgpj+trYJpolAKJ4f8ZGJizVLpiFVsM0RP6xQ/XCAC0OEwomvRI9PbupUTTKvyruNYlb0rpJJF/o\n",
       "5bNaJG4lQ9MUmwvv0XYBGdOGTbzeBH2WU/zwccReTEU3W4DfpD9Te0PkpSoP8QAAAFABnjl0Q/8A\n",
       "KwN99KDanZMQU6DWeIBAxI+rlZxomMaBg6AjSuqhyE1owaF9bgEuye/2imn7IluoVb7IUhn1ypJL\n",
       "mnP9zvxyjaqE84bLZQeZOAAAAFgBnjtqQ/8AKwmHRKBDQHhtMKK0Bgk1ZaQBMZRb2e7eVSXldoKM\n",
       "EIPoK9pZQD1BDKkMDd/4lPEgAkeDnHipphGOIawv7KCIpMsxtLP+ERg+8Xi1ISHn/xFxAAAC2kGa\n",
       "IEmoQWyZTAgn//61KoADeTdtitQwJYAjMCPG3DU162hoNyTS2thf9LRUMBlD7v4SUt1s6oxadT//\n",
       "4M5dJlHqxStUgzaHuSRZU5Zs9ltYwm+xkwcnr3jKF6fK1A4jhSWykF/FWlo+q8F35OUPmZeGZ65Q\n",
       "UsVzdGQWVgy3FT1uuRiu4x5mQaA1aeS2zQgeCRY0h+g6oY6Uyx+uAOFUVXcxBUkxIEPz6eHFcG+U\n",
       "U4jy0uff95D8rJGjxxeWsclNHxrVuSJ4kEmziMwskNnHPjpkfvmZCJ0enEbM6bnQnEp8uWYyFYH0\n",
       "wMS/GY9DaUegRf5bk1WQfWoNtBf5qYhp7MJMQ0kmkQVqIF2ZvkHFY/s1VsZayUWy9YFs4D60uVRo\n",
       "br14giKlbCXT+LfRYA2/6ku7L1SMcXVgiw2ZU/iv0vl5PUqUHDmyn2qwWF9OBvom/NQtulb0i3rt\n",
       "tII3Z/JzHsvJo1q2hukJlh7Wg6/tyiYi9mxpbh7oYpUcmkpQizEfSpFwUC4ZbHRlkhHEj3zSjYUd\n",
       "L4qIQEo4gjLB0gu55JbKnLu3TikbZdW8f/XXdyEDBGGPtsCv8MLsJzHNuYQ/JaHC+x8V4m7lzJsC\n",
       "3mTwx3015srhF/NiNLIegOUGhqpUoRkd6wInQj9LnQM3SqVtSzGY6om29l77Hgs8iZf7EQ520LZV\n",
       "8qChtjpRpH9/rkVSU41uC2AIFXMTMbRfCixFu0g5Lp7ZiiOBZ3P9KYTmFQ6A3WTeAT8Q5oZpyu38\n",
       "P/GR7oodddGr6yA65G0ihYMtXh5a4Uk/jLD7JsNxtmnSlFzIpJ4ZcBYOqiIHGbt7DY6OvdxUnhTZ\n",
       "tFYObpcs7OElCvEgbr/sIlODbCdZy+od8G7VYS6qfnFWnwS5Y4nguXpfCUzLr7PrvCAP/CevqNjZ\n",
       "GwwHHMldlJwiIh2lAtSOmh5M2yCUVm373166KFqsL2mo+SYXQrgNiFd203UAAABoQZ5eRRUsEP8A\n",
       "e9Uzw+z7KOzfljnj5cET+03S9TmcT27GaS3sSKcPmScuZ1O0xliLL442gKRk19Yt4xJ6KoADdkyu\n",
       "e9X7/gQxuvJTt4p+BfQEuhKvAOD2fdr38DP84w7CgbFNecGSOpgAAABqAZ59dEP/ACsDffSgRTuk\n",
       "r+pM80220kX+iTpqQRu8egtWgkrsJUI+O8Rgp70/wIm1AAXUEZA+I30EnK1edC+iz/0vC/pPuQZ2\n",
       "0ei5Cv+wrjuyLMVjCY4cRwT0+f06v0mf3fa9KC717p81IAAAADoBnn9qQ/8AKwmHRKDKyebT6Z0S\n",
       "82GbPq+r0NGMuJ+XiPueYo1Ka6qLhnL7+ibAdcJH5+fyH67xCUdNAAACPkGaY0moQWyZTAgp//7W\n",
       "jLABx45WY4AKTltdz1obW3Npr4AT2eJALozR+NRBhqTHyfgGecXuvnVzIV4YAB7D55l2U0ynWqOD\n",
       "Vfl97E7ZzG8m2OHnV93XDUIobXPyjHmWk04pFc7lSEWWT5tLuL7EwQniK+++BDC4vjTSTRfhJ0Tl\n",
       "ViuPhHrvMd3kX7fPgdLVd/LcA203dTNTXyiHi4qM9KyXWZfhob2rPdcfzD9GhDoFrRGyGnamwEDd\n",
       "xLgsRi0O7BhCcGwTTEkylCvDHPi5T/jQ9hI1bUWLgIAfucT3/81UDNu5bA8gEGOd3rY7Snt0fDJI\n",
       "R7/FuEAU7c1uUY2zN2Xnt7rqmLLhldpgPw0lI7PTtBSIKM/WbiyE4YdYwX6W3j004hQCqqcxkPMx\n",
       "rPh8S547PQJ5EXPPfwFugDLFAGDR5U4DDwjkvvTx9SK70LGmA/Qw7ljSqe8Tj/9Wv1HXHEHdFYP8\n",
       "X2N2NBwQlICnY3q7d3s4LoYKGADBsVd3SmW74mkH1YEt9sOm6ZBvmoWmLHfz5aiXfwL3cQCCroBC\n",
       "K/5VCxe/0jv9bMCmkbOmfjkpHKunyqns9FSNtfZwSz74/D5cw5POZWtYyCelAhMofGhJMEZb6a48\n",
       "j3S20B/JNkcvHwqSViY2NdR78sw3OBIWDPmU+IEQHvXPQNdZ96eAbKPM41fbvS3TWyWC6ldsdIa8\n",
       "6IbNNMnDK7BwYBxqxj7J+qZjAFE79hBk56556YcmQCA5B5NBTlfuAAtC9Hd9D+gAAABWQZ6BRRUs\n",
       "EP8Ae9Uzw+z7KssM/kADJ+fAz6TaYnutFPEAbxFYwRLOB7XwacBvT3AEOf79hcaLQDW5qMlHO+QL\n",
       "/tLA9X8wUIBWQS/4RIR1PhulFr04itkAAAA9AZ6iakP/ACsJh0aynaJOnrZ9Nx9MoLeXNAIYxjiJ\n",
       "ymv8jIkG9HQ6k3H2v0hFnKEb+9ir7psJZknE7+jxgAAAAwZBmqdJqEFsmUwIJ//+tSqABvfJmPFA\n",
       "GwZx4JNLmQQgkprcCByINQ6w+MNx0zdrUm6U9kYobmNeSIjE41a34CRgnPbWVhOe9kgHb7TozK0w\n",
       "22Ra5MUH51iB3m6A16+FONZFy8UuLTd9CFwZbO4PQ489qYYcDVBNxdjYneyvp0y4TQe4goiiUmjT\n",
       "DsxCHVL8JaPPMZVXONd4+55CvQrvDPULlnZUJFMdGM2j+5GGHLbVDMIngNCysncrhZ1JXCzr44A9\n",
       "JLp106bAk/pt9gI3QK3r296rAZvcBS55TXkCYoi8ftT8YcTPq6wJWGTrSTpRtJWTPLZ3gEL/R3h0\n",
       "JiRYS6CELdnBAggxiDkFMko6uAmnvf+OO6mitjln9F4NzT+pkH0QoTOVjZHq06c6nyc2THk7bXyp\n",
       "z5kJ7IRQyg9RhGdKn2EGFuGLshdTeEs4UaSGCju7Iz6a1efP/oWVAgUh/SEyYlRyVQDp/GNSrYs4\n",
       "JVNoT2PCcgJy3AMZG4u4sNuF8uAD4ePUbgaWAJ2sdVZE+I4E1FcOFrCN8rKLWSqz3s4mMO4ET+86\n",
       "Kzus+ot+YZJ3qnT+dbfk0vfF5ILw1j8hqO3gysBzmUBjyAot6MsZeKFKITk7Fc9vpVGTSMmfzRsS\n",
       "NvJCQgB0u8b2xHN8PmvZjxDVmb38SBpPJWQSZUwlsfDp/X2OYxrzGNnogAaux9/mMvckrgpeR801\n",
       "v3sBGR/KVYKJBd+DcNWaNo9lOJuhHJ7s4Bde2nKRwTl6IDrHXHMDsI+mGCfwcjqVhNWoWvB2Fg7F\n",
       "5YhU4coA3oy9t4x9yFskPRe/sU+tSDEXcYGB+8m1t8RQgB/AF0EFQ6uMvbmtwmUhsSA71JDr7ixo\n",
       "eIH9Gn8KdcIIRh+iFB4vSR0/7fzX3++pqrwFmkws+joQ/6icSkfmOQPltjgfaoKdeiSrh7crKG4f\n",
       "/fxQzZAocDWJkVJrfcW0jZBwHlQ67bmOCURuzVjAqZiU510xJf/e3eOpQl6iAAe4OwbOparAmDzA\n",
       "c4vfdnY6Y4+KkVUAAAB7QZ7FRRUsEP8Ae9Uzw+z7Kswa7W4Trs0JfQmA30aR3KZ261+1pJUb/lWx\n",
       "wi/q/rh+3PkmACOC0WxdvioL+AQ3AgbIimYbOVQArB1YllXskl8pbi/yC4CzxjXpxODJ3zTc/iKA\n",
       "kTdOGYJ4wgxqYHVTEBZ2d4b5X4fhatbRAAAAcgGe5HRD/wArA331fesZ6qo4wdjQD+oAR3zhIo66\n",
       "lOOSh/xRPH+Su2bp7yMZDcHfNuMCLKO10q3prbxbiq9t85bw2BOc7gi14orJ73GlJkV2ERqMcm93\n",
       "y3JS/sW/nYRj58BBqqgJkGWkwmJ7gFC3X+JWwQAAAEYBnuZqQ/8AKwmHRrKdok6LYTLr+Yxk622l\n",
       "Ufcw2OljmcyQOM1Q34KqXiqSIKh+KdUlWEIAm0W8xDOzeMp8H61I66dWJUnBAAADJEGa60moQWyZ\n",
       "TAgn//61KoAG+thbsKjoA9jSOxrBGb41JKMWPb/qsg0aQYLUshRz7HVTHWmUX9F+WEM+TzkjJxEv\n",
       "d05cBI6EeN7XMV/7Afpkg+h/xMvYSSIt4O5def39WmoeErahS9UKS/1ykaSap1pPqWNCItP9Dw9d\n",
       "lbtsErcWjnQrp9e/XpzV3GQ1u2o3U2S/SDLUmtQ0incNCnH/8CnQ5pt71IqWpu8PMp518pHMN/Uc\n",
       "Lv8bkFH3PVxgUl+cxs9/cU7B+cH/F/fspBmxR3Q03pMU47+pbhRalNsq4qJ7x4Av637t4AWnu+J+\n",
       "KYiYJQLniozRAb9Go/i9Pd7OlnTxbnYih3SS5LQiuKtB1h1vScIzuwZuzUTefnuDDO0Q/vbnt3xt\n",
       "UmlgzfAsQ5P4iA/A0ZC8ikRqhn7pY9F7ZKJR36UmHzRFlVBAj3fIv+rGHe++xAfXK7jL9zs7Vv4p\n",
       "3+lxLTr1YqYLl92uSPFkFHUI34QaQ2Q8cJJRjS+ltEQJsku4pV0SwNa3vEh6e/D60vRq6xuyOrTL\n",
       "nSpYN/UA4Cdm6ITSyk/2X6xHAC2B5cecSg+wmqvKR8Fg3v6iWO2mb4D6GulDjVt1BjSCVqUROpXs\n",
       "Fn2L8l2ip8QkdFhHpoKoqYYxsRU2o0D7mlwB3nlbeBYV0xPFAbmvB/h1JnWs132ozfSU+cNOwu3/\n",
       "xHj64JZ5mG4JTaxMfW2OPfg/JdSM3Hdnqf1soamivb4W+AxxwGxv51oQIEUbinGXo8aPtlAk1p1C\n",
       "qm4fQG9OMb6h8qxQQRUDl9DCJDKcmChEGCar5/OrT/vBG2OVU660IZJIl3Z7w5czjK/FxLq0ZoAQ\n",
       "+MLynUFHK0NQ4bQ7ixNtrdQVhn2Z4JHFu1H6pxC74c4dZBr7UqYwh7oT8b/4AFHAIuMEKnSOUPUs\n",
       "VeLCl6EhIb0d2hwMxVhizwKCgigav7pXoDLYVNERCdcfJSRfyRFXiuxF3btlmPlE/u9zTdvqlYRK\n",
       "EHY/RXr4JL1Iyi2cgaKcj9FnRNET3WcK0Cx1S0BBb/8Zp6iK4QlZfixXVqR2UT78E1JZe2AvgAAA\n",
       "AHRBnwlFFSwQ/wB71TPD7PsqyTyjoF4ILQ3YGOVuug44ldUVu5k/MQ8drqS5/sKZeRJVM7sE4wJG\n",
       "lQOyHFVS+VJXDUfn+FgAlmg7ai4cKy5CrbUpNPtajMh37aIe6YES/LeM/GVHqs+cU0F4Ii0GQcit\n",
       "NFG5kAAAADwBnyh0Q/8AKwN99rEzYn2jGpx+xsNNras1Y5Ir1nLSyZDSvJ+lXO68UMOzk+yde94e\n",
       "CyT8Sphm4lKmNy0AAABJAZ8qakP/ACsJh0ayGxB7bvRRlp6nvlLVb286G4ArKT8UUsgnqCZfWEsK\n",
       "iNOs6f/GF7t/6N8GHuIPUoK76vbWup/vjZEn6ZUTgAAAAlpBmy5JqEFsmUwIJ//+tSqABvObaRuA\n",
       "Dlq0z9JjcKBd1wHzwdSjuuoyR1E9Yyr5IIaR29CRaFpVURRRwIIza6GAesMoKh6u29v8wmXYkdoa\n",
       "yf986rAJbHgKvfVDml+vL9rnxVFIT98Xonzm5FVRJuZEk35hvU77k9y7qbzM5EI3xnuBxXnWqF2f\n",
       "sz0N3kC/YCGIw6DIJXzRmBKEzeFhuhobmHf4P1mf0X65QvXmv3FW2CHcPVgiSMSwo4gILmPHrZmC\n",
       "M2pUUBMNq1whr87d8G53Ii8LvuBCyHO4aQ4OaIOb2FI7FF6kAfPKwR4Godom0C6wqPk4ZsdvljSE\n",
       "zYjpse+fl6HJEprWsowXpdieS27ivausAynDR/mIU3kKBurUrd++zi2QZmm4MyzNeCbRlWBBW9xD\n",
       "sr43LPG1KpdmqJjKA2qu96ghbIzSy3cnNjI9FdI9jemGRCNXOqaLNXnk/DFWNQsZl73W/RD2P1T9\n",
       "XZpTf5LAB+qgS6VB8RACDJRa6hx9DR0JBhQ3YTHZUwM0fwF2uVruZzv/0ix8p2syFwvmYTtTSJGn\n",
       "v2scVZj5CRJdnrrIisHSD2vPsd7vfV4UwFOLn5O4OfZ5UgxsA6jU/BHU6Ha/YJKyrbvGuGRMlKFf\n",
       "0pxywNy/ct7yz5cAfUEQd1k1icjeYMMAke84XQXXlYOJqU4ilLrLElwopKKYOQKcleHwmfllQNy4\n",
       "vkgr6ESpDMYKThPD5ZU/ip5bf0SfvSNNoe82BCeLrQ5XKr1pXgiCXKLOExbcapdik2/eW/NuI35V\n",
       "a4pie+uDmQ+cKAAAAEdBn0xFFSwQ/wB71TPD7Psqyxbxeyt+Po+mUpmsj8IfgoTqiR8rg7BBmh5w\n",
       "0WxAMsVNCdX4QDsghqYbi9ZKly7zKaylfC6d0QAAACUBn21qQ/8AKwmHQsAe9c//VyVZqAiJwOvE\n",
       "QNcyaJMVIpR0p8CBAAACTkGbcEmoQWyZTBRMFP/+1oywAceO8VXQAj63OfJvuoeqySYG/yNNBJ4W\n",
       "qTPUqv6zVSkdIllDyZtaJzkGssBmvCHWRcCcK2Ksngm31AW6E93o6s6rdZPOrhnvsxPWGIRHjC/I\n",
       "QUB+2/Hppm7EjjndzFtegS1XzF1gBwFbgI1U3F2rGoSpyoNGUkryQYXLUTmvsHmFrrMZnSOTjXXO\n",
       "SGiICkSGGSIjDNXLmBsE0wszm36w6ekWJEB9tQN/Ruoor6f8IXdtKKSllvHAfpEY3RiE+iR9mwR8\n",
       "8i9tQF4d2UTsiwBD+X8WDgY43d3fSxxM6UthPlI43A37RMCtcZYEeR914qcp1Cv2JPIrIdVQ80gb\n",
       "pzjHkBzTf6JBYzNX8C/5suJvTTaAMHtIjwnQr/oNmmQvYtqLx051k/hkwnwMJRY4r5E6Xj98L/o8\n",
       "wfLLs1piUz8OA0OWZ37BHCgPVtjA0xoj1nfH0vvZSyeWhsymYGUSNzedrUQnwbe/95VlILXHw72F\n",
       "/jVGyqh1cim+oEVfX+FFKtcjTS4iCK5tp2jrDeZuPUdALVuFGl46e4suBAKuHuDyGe55EVbPzg93\n",
       "+7UNVodZKJ8v4t7q6Ehzy7hm7mrO4bTYKSnZjmD9F4qbe1DXGOOhAzPz1crNrE6nHwRCo7Rsdfp7\n",
       "Z1tRfzU4zuNpXR+yuEsZFCGGhysUR0fA1ZpCMdhnh+iEmuxPGO2xo7TUlMAIYzSnjf+b/QlQA5ry\n",
       "yJkrAg73KcqxNWJ4/dDdkX0uyafmBoeLtTfQCFlVS4ifr2mBAAAARQGfj2pD/wD2uWYhQkD02L0+\n",
       "G6SAQURdkISlZox54QrQwbkGhuws7jfhH3E9v8+j7h4aMdsCXOh5LGmJDmghN6LmdEp7MAAAAy1B\n",
       "m5RJ4QpSZTAgp//+1oywAciJcjiwAgHV3SvVPF2q/o+0FgeyAr/Uw+FApFwHgIDLeg7CSu/WeYVa\n",
       "TB4lxtkxlpTj8pUKYOj/7dBoKKkp2hACc2WuG9UVtAEwIZvU0ej6xruJFD9UiyjpZY57iVyRRWob\n",
       "Awf4+DFTS2XebjEvm1QkPcizQSUIhr+tlMXTUDAJBKFMbxjGMCEPcfmZZVXHjdxmAQ1rajJbU4LC\n",
       "LPGmsv67lFhC17lqGCIB+ZLrxUbhqJReG1fifHH7HYvtnF7kpwis5gDrOlIIrZgKubMC2RhY2V5b\n",
       "97Z3Y+KK1aDtb9Iap2p/VZ69wtiydgKLRHn0yqvhyoi3BT2GPdxhnYimTfwTZUI1XMjgSsxizTc+\n",
       "CgXQ+UcsWOlTCD3iNWK+mA+rz0TBfh7PZu5L9GQ5kFaXw72+HZkdDyIw1mHqtBHsKHDHdeUuFFcR\n",
       "n9b2entTZ5kbAe8cmJfwEWuHXFxRki4Cr0fFFBFcLCvQgvW8akp5v8+f/+s/HlyWOzmb/uDGqPfd\n",
       "h6ztfmcGaEaMkC5D0SNBlELEgQLYrdDbg/mjQMJPF3ZMv9FLOEaCFf241c5cL92JoaFSIrJdN5WE\n",
       "bS8o17ItKNr5fGgm2cUZooRz1Qxm+CmzA8hlf8W6oXOUqi+SPCbLnkeg+VjQRsl9n1WcKRpDJDJN\n",
       "M9/OrOEefp42Mt8LGuLzGrciKRdYH2ryuPK7D+cuM9K09A2W4EybHigoynsXf7cHyY42Ud+4wwiR\n",
       "prrL19n+opQFbZtYxWu9KlORNywAOx8gNP/j86K9Ks+t6OMSxy/6nWUXOmvxwMnZeXCJeotlAYIl\n",
       "4z5y2LyfBUp+T5BhC+1y6niAeLLDK1n1g1MjbuM6CQFBqMUvS1r+R6U6tx+/aMepatodqQex1F6q\n",
       "DFP87PIdqQGMGBkPd7Edl2YmGqWTQ2dyC+OORPrcMsaOpchfj5Q7Gk2QdtkPewcUHffg3S1aN1wc\n",
       "+lz5cHDyYxoeyFX+MmNCMb8HBeYAQuVCpHNtdoEoNCIm4RGTE3lmEHBstmgIh2AklmkIkkvYLl64\n",
       "8dzT5OIDgy5Pe4opFTAAAABpQZ+yRTRMEP8Ae8s2ZHEcqI0L7vMSoDk3KT/YevjLo6gKGZEMAKU7\n",
       "c5sVU3/I68t7h1X2//jQAS00M0c3dWTv0GoDXb0RIUjycwTRGSrCd9B1ZcG0Kz0Z/nr0+a5W6YM2\n",
       "AjP75gBYXwMbAAAATwGf0XRD/wArA332spf7QsiEq3mBAaUdbO/ZwLwyNoSYSiyIXrFvyv1WnnOn\n",
       "I57XF+NkW84D9r9N1J3MSUH3GDFeLdhRDaUrJ7xADIJDMfAAAABIAZ/TakP/ACsJh0ayGxB84G40\n",
       "uOkPpMoRzVrFslnPQd4YA5gdL3+lBSRdEuEYFCGIruQCgW430Lt/mPkt+XNhQINfPRX/uz5gAAAD\n",
       "IUGb2EmoQWiZTAgp//7WjLADk7y/4bnxcvm8dzRA94aEA1kLtsE3+GWHhWo6FfQ12yq0DTjxbyw5\n",
       "tOnaSvH0Sv0182gBwzepeHSqq8IFxFcNvfokuXAMJ/U57/ry1RNX5NTi60ED5KXMVG5kK06O7NUa\n",
       "N06HoUDVtOqyZ+G1p67DdyV4OQtF3gdiaK+P5xRQFNO4nH8Ci/AVrjxFC/BmzqaOujJKcCTADVfu\n",
       "V8Pnsl8jpdpbbHrkAgBbUdc8XCSigPdyn7S5ryV3CTt88CQbo9/Ft7wnjipaK+XRGjwT+JhjKEAt\n",
       "FtjMEi/Gdz9NKiSnl4IN6n//7dYlZUoqfjwzrTbFQzQqOQSaRNZjXeqizmiGQzddcRWjNpi87Dqu\n",
       "wEd5jrIrshDvJgUGOHK2m6ih68F96vPi2Mx/YALlN8Dd4buAQs1kAyGc5vBXhaMxq+uN2KCQZFMx\n",
       "kw5PLOAszLKIO4/Dy9iwe4b9FYV75ODlGSWjhkSZ7qUmpaUrQHrb2eVab5NFKQWu01YwKKb/iuub\n",
       "UA5x+2+BnjAioO0kZtomuPFtBmFWQn5aRdWfe7o1QKyIk+yFrtj6DEle20Yd6GEClhOzTeBmJzaH\n",
       "lqMP8yKdAr+5rOGyi0F+VaEutM+RTucwt7KGTh6+oEKgb0Vjp1KnST5aWy/NCBZMiokzhPrHCtXW\n",
       "SlmaJBdgcFDJqyU48gGVi+IP1A6gSoVYu9fhm3lLkLj1n3btPtuGqq/p78IWkZ8VSFNGRl8UEB0D\n",
       "ZCwKqEeRv7T2l3oGYh6MIZtNzLTmvj3llETRBUKa3G7V6kd/3WaPPOvIouP/f8+Dkcftmw9YRXmU\n",
       "eS/UH635JKhJqogKDUiWKHhQqfLTzTJBo0EqWNhVCvSE5uCLzbDyTBKWzzcR9CWZOgzRofdZ08Cp\n",
       "+2P14tpkpeHgXr3jj4vW8M9viugoGsSB24JQiHS6KBouBvqNKiYC1zlZLSYVMR+jKUfWtgUH2zfC\n",
       "6CMxIUb3qVEE9QwMvjTcBwOd8eRToiLqu5rnO9PMgetHIWFVSLzhFj/WSlCdcOsvJ3IYrMBNsnVk\n",
       "sZ3LMQAAAIRBn/ZFESwQ/wB71TPD7PtAXYi8q6B3uRHB7al4rUHFTenmxqVhKFiOZswAXBZEAHqA\n",
       "cILpZhA5+T5VTqYymQ/gvdjhzlPUdhJI2P7RG0VpqMIDSISvz5GEUFnsStQG9r1RsCuDUUHj/itq\n",
       "bNNJe/oBnjusbSWLxxvzKGdLsWeCyLZe4WUAAAA7AZ4VdEP/ACsDffaynBIIcw7CwFzUtGXXg0pX\n",
       "8gATViLYtKNEuLRAYNvZ557/6IY4szroyiKscXV590EAAABNAZ4XakP/ACsJh2MZRusaROb3Bc4I\n",
       "zx/V97dpF+qy7BB5mFt7FnRMguVskjeV23jvfZkqhT7FoAKBth4KeRF7mq1cOQm6sTzA8ciMumEA\n",
       "AALwQZocSahBbJlMCCn//taMsAOOtqru4AG1JIYbegrpifY+Bg5AV45IShcHkTWKWq3KJ9JC10oG\n",
       "+EPGaxWA5D43y4WlV0GKIoHG3+QQBWD+6dwQ8rmuzeZlM98nXwyWmolNpEdfEIhZVIQoO9M/Cz6V\n",
       "VfQfXu8F40A/F6naZLO+Mf8df+qqHit9Rc23vA2UNJQw9WaQA0YZFhd93UHoes3x9j3T+TtRUyNW\n",
       "5ejd2lcvszho1luJchDKppv1ncTBkk4JZpYuCzYoEVmVP30/mvTo0a9AZvYiUO4mqW3vy1gNnSld\n",
       "wj/E2GVh+s50Gz6frE7MHLJFFOU9KL+N2PZwrMLLtfh+M3JYo5f6GQa/9/aBFyJvTBgv+k/Jhb/l\n",
       "Qyx5OTq9dxfxQOkQD1OFFPBSyYjsiVeOZ5u1Fs/mLWJOwBxgliehtYjWP2ZzMruUplJp5mN6KM89\n",
       "gkedYGvQMBL1ZRpVJtsX+bac85bbEH1LuAlPjUDaNE6sXMuZ3ia3kmGU19TOXTeeUGinSVT1rxhm\n",
       "EaTR7rP9/Oo27btBSg7xDCA5ljmfuZSF7UH9k5Hq+WqNelFNEnWIYjCw6LZqaLncv5TaPhr8VHAC\n",
       "lS96m5/+PfMeCq+A7E8VSSJeDub3hhpnFWHjyfpZYWRq8r3/LT+WN8V7vIgJtzP0REHvFyA0avgp\n",
       "58ePLxy6PVf6LfpeIG+09LqDVAXQefS8S35+SdW08VdKRDIG4+TIFNKFwuz/sEGPMoWwxIsM1KBu\n",
       "PI2T4cGQj+tARd6h0Ek3A9GNQgDpQfbu3uS3T8qSapfSgKObkwPtA1E/LuOaJlVqo5z3vhVvWHXh\n",
       "2AvEQ01/c5ydvo+9F9dDNpPRVJzYR9Eqmj6OI/6guiggvtXFK3fDLxXTByvoFF3sm6hxEgvLBFkr\n",
       "3npjnsyNzZQtq9eLewnxTwAu6b54DS0TQ+pN8CZYc7DiRxOXqBY6BmsVaEJO1vngajlhdd1ThSzm\n",
       "QQOoxBQuTbSDkxu5rScAAABlQZ46RRUsEP8Ae9Uzw+z7P+5RS00IVBQ0yEn18l3Peqk1TiXdwDo/\n",
       "PY0ndkVf5w/+1wAt69jUGxtMxD+l2nJbaxc16L7Mw9bFFhSV34Mxf4e0fmUKQemC2Pa3cNex4TgT\n",
       "DPYiuXcAAAA5AZ5ZdEP/ACsDfhNjtAIQFUqYmJzJXAktP3lWRFqfxwG0kpWUFHX7xpP+MMN1vIAZ\n",
       "Q/SC/R+XETHgAAAARwGeW2pD/wArCYdid2SqDQBHjHiqPZK0YSfpyO7DG6yPA1YNN1djym52odEE\n",
       "OnLf/7S0y2LmfL/O3Q9D1de4Ehfz6H3ra9SBAAAClEGaQEmoQWyZTAgp//7WjLADktx41q4AOiTM\n",
       "nN0O36hwghBPyqWKWtvMXVFJl77AKYOnqKyHUhGvPvjWw0gDHD1SxOCMzbzbWY7HVjNRRpwdgSTt\n",
       "CEwiRiDgBlXD7G/vX4hWLcd+67CZ9UbMizmp/+6mMsA/CYHdU/ld+xKrqq8Hg1MAAx5uy6cDTTv4\n",
       "fVuXceg77rrXVQKWiBhmcgecbsy12tTJAiJBzi7gPuCwvaUosqJLYB5ARjUDUKJ09bnAvMzCH9Ea\n",
       "dvxfKulT8HdlHLpnaCZF1xyUxVg9JgL6i4Fe52+gEEfOV1jqr1Y3p/p16b8plQJWI+g8j1cQqD+j\n",
       "8yvMOuktt1vurU0uRjUULJK4lJxw8Dere4ojnOH73Avhs4JsRKUhovzPAGHR5xPt81elc4qxC95h\n",
       "gS5V7gPPyNZ49Y9oKQOkwrTszAPrkGcG7/hmD/sIEKZeHC+5y8ajrJuAJc3SdFn4iSQwqsIIkR1I\n",
       "Htl1fqBHKAd9AzqB695AGhwxZ4YJgHmEV+GBRcn03GH6eiYX5uo4eTQGHRU0wz0u2Q+T0A1QBrmF\n",
       "lFvKK8Fs5wxJVcaNgVMD/zISShl7L7iooI7ZnU8dN27K3UFTqjj5ogbweyIsoC9PAWzquwohr7i2\n",
       "R6IvOvBIAoP5yGxHlyheAnbDrfoW8SNSaGWPXOXadgRg99iY3irfvedA84NmhaGdLepcqruM8861\n",
       "2ZRQS7fcolLxpSFMDMBJK4c1j0Ff8WkZp0pilXf6ZOJFO1BZny79838neb8a8val+ITVzE+0GNhb\n",
       "+T3usaI5ry9/tNaB9bNqcYZ+AX+r8ml3J8HnmnORy3Txdg58Dys7OPUYWc6P/6vt0btSu2ricVyL\n",
       "O30Zvd6XoQAAAFdBnn5FFSwQ/wB71TPD7PtAF+yHijSCtZbMt0m8V3IEvYM87f2zD+OHbsyoZFU0\n",
       "d7qRUxANMcjV7HmxvU8Af/RM7F+1oEj35tvDKw9BayyfnmbpnlVBo8oAAAA5AZ6ddEP/ACsDfhMS\n",
       "tccqQpqkFC1m3ODyD4TJVZMiN9KreJDRbP2+A8nDiFBn2awvsffds9Pb5rFgAAAAUwGen2pD/wAr\n",
       "CYdjDxoYNCVA0ZdwACWk1yykTclt3WoUiDnsNU09Ynbw+tzj0K6eY3T8Bxr86N638ZXIgp/MGzX+\n",
       "tRUemVRXJkNofRICuTZuFDSBAAACyEGahEmoQWyZTAgp//7WjLADk13DGGADeVhQpsmeBV5pR1He\n",
       "Mnr41xEnWSfb1mbog1Q9qTDknNSADAdLLyjVmAIABAuLTFMGBcDpvaLOWPvb5jaA8eqGSEeT4HfD\n",
       "VbKvz8w0oKYzSa4GiIWyFlD9gZso6ritRUBnfvPZilppXvKghyMo447Kzl2LNZuMUkCtLpmDcpJY\n",
       "CxXfPXL7ibDmu3e0Ho4G39qCNovR+Y9ZYKfSwfUe01Y4SFfQvhIs8e1cPp9qJD+i6DiXixS/YiTl\n",
       "Rzz8qRcc4T6kxNF9dtWpiFQ4UC+FrMHNjVXaEP5zUC5LZ5AsHCqsW6pKwqp4L4RAEu5T12o4AgHn\n",
       "oAq7q+06yLjfg59k54+Iv6AG0yEtU9XNN6W/7SEz7Pzm8SBNsZdAx++/ln28ZpB3uMG4dpNgxfX3\n",
       "gPCzzAEaLeL3KI2Sna7SSJ2c0F2kmPKTaPJIJIa+pfa2v1cwofjZSkl0B0xuOwcB9QecHbdIYpOj\n",
       "i+DXLmA3K4HcDQINvNhMIpLQpyrjhDdrTHw1pf/oYlTCcf+RG/kXaIQL3hIXfAK+Q9onTmghLF8P\n",
       "P2YK4XSySuOlPD33gNtBxgBc4OFsWhibaDRVVzHYkhOEk0uBXxqH6mQboZxtu0X+vjp9h3V9poZN\n",
       "Y/+/qQt5JlIAChwOXDTWRbSWwaiUSI5AfANm6MvUHNwISmA5fYODprwNo6RsKXGaixwf5eQhA+AU\n",
       "wWXsiffb6qDyEmoyl0JHUEQjs5i04Sn63pbDmSFwc+OBUxmo1xx+DU7RwJZUn4CQeEiiq9DbDMVN\n",
       "s6n2TID3rccYVyhGj6M8i92p1vwb/WMcZkuqqJdOeImAA0g+K5Cpfofl8S7TL4radplZ8eYjO97x\n",
       "60H294/BwGmnNlwiO9zHYsqwwWKSjnAKX+P3c+rXExOI1JT+QovfTBphnAGcOBaV274AAABZQZ6i\n",
       "RRUsEP8Ae9Uzw+z7QGNMufr9C4N2uEE9UWZC8fnAakDkUwBAAN3rA8GtLcgvl15uGgDJCdQw7yrw\n",
       "7SfKLeDSvX+HUxlUqZvQVvqg+EiqSYRq2NgJuhEAAAA/AZ7BdEP/ACsDfhMSnO/gbU4q8vZa1SYO\n",
       "1cmUzlHhs/zJVSBfF/1v8qgpBXf5gAUu+H1CZ/XCL29QsbnBKSn4AAAASwGew2pD/wArCYdjL7RH\n",
       "QNwckptjbYEtxkEgUlFVfDtaGlPunXTU9sQQDOHpM6NC9zVl77oPSqVc2o5GxLA1b4Orkq/MixjI\n",
       "6usxXQAAAoFBmshJqEFsmUwIKf/+1oywA48c2B1AARJlGOd21vHG7uAdIcuu2+LXm4vV2r/ZOTFP\n",
       "GwFg4Dy3b//bDUFD50h7rIqd9murqqN9ELn4Uvi1mKBO+Vp9NW1722W4p2csdfJYsZlcof2BNF6A\n",
       "ouLFllL9CgZmPDExmFbirUlzvjHwjmHiPpvmw46LeZAYftiIBz0hviu8kOKd1WnSZEPq2qwduJTe\n",
       "LhxRwjgLbYD//96kt+SoobBiM0RRLP/j1kzaKir9n3/9c2Lt0+xM2EOMervWmaBr3CwgXRzYMiv4\n",
       "B6sc+I/9WZoWT4cjgD4zc8kZJvF0KJlyb0uhd4HKNOGGCH0iSxwsnVbFTUv9wLebM9wUZtKdk6dv\n",
       "PhWc+kdVr5vGm++PzS50tSY2DVTzGEruBLJ22eJDNiyRryf0928z4PY+EpWVw1pFlMsGrfhxG/CG\n",
       "remqBkoBpv//OHA8S8e2JSsLoMG/w/l6Q3cfQT6afWqGdXVdTBpIj4UW0ba5WxP9LLQf6S4pg+Ys\n",
       "bDULTTRJaxOFZ1bqnh1Z2QkIp6QZzSSARMFLM02beMJKGi9QAStQfsyVE0ppH73mOKez49CppLsJ\n",
       "XgUySl5Ve8kHJHmL2o4B+4Xld6le2mC0MvGwoV9iYTkxupW1rYO0ng2J8bD9UIbDmZi4WxOwW7Cm\n",
       "MyR8tQJGPGtGT2P577zN4uEgutRgph/tumVJpbfTef6B45ZYYA0H9XyeHm67ZXq2W01Xv6sHKsAc\n",
       "xvzpX4xrpcMbh3F8Tg623Cqrtfxuvb22Ij5NvAVpdn5tyRAPPB9uI23c+4w7PH4Pj/o6j3Tgp67B\n",
       "9/SnBKIn8Cm0elQIluFL+bQQNDImgQAAAGZBnuZFFSwQ/wB71TPD7PtAYzOKUAskpJDj0hgED+Ti\n",
       "LkL53zLGaoAojz3oE/cQRw8Dx0HxRlGwFABXfZgrlUIG4J3rxnblIQyaG5E2Q/vK/880Bl0GGWGa\n",
       "tTZRV452vDss/Nt3SDkAAABVAZ8FdEP/ACsDfhMvF/RSn5BzqpzOV2Kln4XNdiVubT95864gYrih\n",
       "IJF0fU778k/37OgUtKIlhtoWaWwTA7yKKGI0P/BPkTl/nkoQWHDY/zn6Qs+D4QAAAFUBnwdqQ/8A\n",
       "KwmHYy+cLcP4I2fK4YpJ25/BhRgQfPYLELjiAwaBjETHXAF74UTsxYzdYe02J181vajaMQs2up2v\n",
       "iDlYDfNKbghQ0qupwRMqan3CGVx4AAACDkGbDEmoQWyZTAgp//7WjLADjxyTBlgAbXzLMgcc/7vE\n",
       "VivIpxWlTv8pufLjDKArpuLuvdpiDP5DC/24tCsapMkLjzrk8TyrwEx2omnmvg9tYOvXGqTBhpy4\n",
       "4TbvkN70sjjQQG5WfqCi4pun3mUlAx5Pq7zlR4hp7MYdHQ+dfeOTIGHLb+MZ6MGKTxND1i0Ziwxg\n",
       "eYnQobfk0KA/vKell459oCsbpXI4PLdV2FReOionCnt3h6qRSHoq20t5EIDUVOxUB2tEhURhpKaf\n",
       "LdjjMekPXH+w/VmR8rRa3NuAXcDQf64Gi4tEoebItuQUBeiYoqOhSEQ8xrh5BohVpSwpxiLSgTD3\n",
       "TtAkh4AdAg4W+KwEB1SXUzZ8eEOY1NyBWDVnG6AYUGZx6vXLu6Di47Ml+1gBALALBESSTzru5EUr\n",
       "l2g6rj75as0GWYX/wZFVWbPj+U9lB8IlGS10B7gilTrBzV7XqJGIt7xTwFARENGyONbJonMlXZmL\n",
       "8HQrQPR/gC+c7WBTALgujk6zrWTZucp7mVhGMhJJ/8vUxgEDN6650t1EKgGpXObXX7YOiP74fl7H\n",
       "wZEb7WJMvsDUUVlvibDSKgE7Sinp8hdSGyZKepyUH2oDxW/+gtW66IKSFl2Q8t26Mybi9CoDDeDu\n",
       "nAh5oDqqZcwRQBfBbj0Di0p70wXTbMurrhom+iUQOydtDHjSufAAAACBQZ8qRRUsEP8Ae9Uzw+z7\n",
       "QEJqN8tDxbMfOCoMgA7UV1cV6dz7nudfZ6plzd4oqAFjuBhvzYVEhZYj8lpkAuEAyrNce05jzHf+\n",
       "+1wrHOlbWVkhP/wdMWtTjW+JQsD6gUdrJqNPlPBEFhgVSos6KP1X1yuSxbIbS4yHN6MrgK2otH5h\n",
       "AAAARAGfSXRD/wArA34TAtijjuOcqOAGQ0QbcWNSS5drnAoDF1MY8aTfDnW7yHuIYjxffg77NauT\n",
       "qbjVpiziVKSu1i7ZWeekAAAAOQGfS2pD/wArCYdjD7IGLe+T8F4TTqFl5it9bLW1NSzLtEk20d3q\n",
       "gA0aivZ33wjtLmf3KyFWqLs4uAAAApBBm1BJqEFsmUwIKf/+1oywCL3W//DYZQC1OXzeOEYe1UAk\n",
       "VxHG5jcSHaWliaa4cjTcMKeTROFCRhP6Syi0EAWSGSt2GIZR2Xqo5WmDrkzBbROOQLJ2tY/9r078\n",
       "cmOObo9ibJNHWH7PCTCRdNaUkWvnEWARujtjPBA9y0tODSFpwJXtixGg1dNz69hIhhyrRbXZkVRn\n",
       "1/b9HjITrERsREK/JgUSpEybHiSrL6aI+YKAWKpVH3kKLxJQodeDNvPF+6EwN6zflzXmY5US/PMB\n",
       "fqETGPiPUjm9uFWk/MSrzIcrYBPFCiJN+GpMrWYt08JLWvSR/gGL1WWSPx8LpCFYCAGpvReikL/7\n",
       "BmC/x/n+o9D6lXmSItSiX0q0ZR7zcb7qa9hTdaKR9VAmSApfySczUFGXXoFn7mesjTLHf2CZ0N8B\n",
       "XlWh2TWbPoZFhbmHNpSU3ErCFoTnUBzE5kRirlj+3tB7AR+dLfN9l6JbEr0x4H+dgap89rjPP+xC\n",
       "R5vUd7w4Od3lu7vcgwK/Kq5eA1j83z4XlkKzsurAGm6nxZOtidmCliP5+ei4i5vW4H11fQXnraRi\n",
       "ZT7o+NPow2c2O1QoHSQkfS3VXxuqyQosnJDKaBVSjZvjCNmgvaQmPXr6edqT0Dhw4HfPvg0Td29l\n",
       "kiZuQiI/HeVRqdS3Re4xxaSUk/4EpPr2AffmfLTP3OGs57CKblR/5rvgoeupzmihmLljIibhEJ9N\n",
       "bR9OsOin9f1OXNIvJUjRHkhwCInawZ1wI4oK7h3ag5fL+erL/Dlg+Z9/4Wm8ESSjv6QGaOijLuLn\n",
       "QNLuppGCGPnHy42GY1BDx9OPFIY8yHPsWzBZhfhAvhq+qOl8OkuITswylF5GiLPFVD//MQAAAFFB\n",
       "n25FFSwQ/wB71TPm2/PIWfxBXpo6GnhEt86jKpR85j9gqEbGVJKn7W991m1uTo0YVsFzCdGG+em5\n",
       "5zs9tztmuDxWXGehkM6JicwxbzggzMEAAABUAZ+NdEP/ACsDfhLId7+Ub8yBXFKz21gEvduMmwKp\n",
       "wgbY4+ZTz87RiuFNfavPGTHJImpOKqLee3tXPhAYxWrawNO4NocG0KgdTY7qpnjahJJL/zcXAAAA\n",
       "SQGfj2pD/wBM4NqAjZBnOmQ4Uv3+WXYEzwY0+Xhgnvhp8jtx49JMnWy5MTeZOTSCRg9fTVz2jg1w\n",
       "/46DLev+G/9hYjxm9BDnfmAAAAG3QZuUSahBbJlMCCf//rUqgCESbMkuACJENZepbHTgXaOF9OW8\n",
       "xztKZnnxp0j3hhgOtTBWei0gvWPM8+D6RUjLxPsLfSLb0Um/Y5YSwy5Smc0v4Lac+pYQ9DYoMn8c\n",
       "vJ3CmAqBrw1o7NU09Bqb5jDQFTZ3UPSkTG27OtheZy4CkC6EikzDcsmzR/AU217SZ2TQ5f45voUo\n",
       "9XAM2fqkB5d1Kzw1w+6PQZV4SgHFASV6aSYuCxSDVSAf1qWYcwROFySokid2U+/ONkk7S6EFz6yR\n",
       "uNWoj7VTjrYXX3hqXCzqaQEXs1CQZLbIE7CoDblg8VHPeVgDohabeVnjJBTp2tbBwDXkaJv5cfRP\n",
       "HpE249bgblT/QXBUOZMGBjX4ngF9r6vJGiKy+iImWCGMRIBxQNfORbhARWvt9uVG/eqw8TJhpW6D\n",
       "2qjdrXJdDsnhevwqJR6W24fz0Ck17qS8FJCLtWr1+nyCvtV4i/zA+It9eo+oPMNdjZxMEK/VcGdS\n",
       "kFK8mhH9acHcTZrwM8yXc+wzOsU5raf0mPYlIgpKdvheuXwmlcXSX3ik/mGp6kneUc4fCNdwYouh\n",
       "aLwfHAAAAFBBn7JFFSwQ/wB71TPmiJg4L3+Kplh46KVZCAIc9j/Mwpru/4uPQISupNSGeYzNMKhq\n",
       "abdOKqmqawNZawZvAoU27woJyESLPNIxtL/vpsGxgQAAAF8Bn9F0Q/8ATMGO37iaACvFcxuAKt42\n",
       "WJOXsw9V56jkHpxBBa8OfrxbrU1ww1MT5IGv0wSL0MGsPTUAJmTqA0noR0BbzzqCRmatIGnowj4M\n",
       "KECASDR621ySOYfd/wSd0AAAADkBn9NqQ/8ATLjKT6E33HA8A0MN+eP+c32iTernyZ2x7Y4VQtv+\n",
       "HQ7uGtfHxqZM/yHu5jDw2PFVC8AAAAGuQZvYSahBbJlMCCf//rUqgCESc84t3dH50+GqDgEFjcoD\n",
       "pgsZPrXD+ZSTrs3E2hEm+LYPZRm+Rrttw78gt/J1qcpW9mNhjuqHXrv+kp2POtxARVinxtvKGmkG\n",
       "0vdSthMXiSs1slQgYGlGWRxImnjB4RdLQrQIugrp0Dsxee+RuvsocazKodYkvrUPDxBb+yzPqa3O\n",
       "1WiVTR5N7jjjxIMlMfn1DU5pqLLIeFbWMj2nfMTeN4DWd8D5c2qk0RGH875e/8lfVDxekIol89Dh\n",
       "I63wY/wBTgKmYRwrde43XjPl65HNMEMVIXkYa1L6vKT4o2fRSXIQSd58IAv3IDMIxpX9dCLKn3ne\n",
       "3MUNg8O7Gnm9zSXeAzSsFJt95GkIZyXe/HDDtkfCUzWEI4KjVCeW4NRr0tguQVbH7PZZjgyU4iKS\n",
       "XsXQfBPqZTR6w8Te1+0HrQWJsBLOHXSPqlNl8UogIUcQqUqQ6IvR+dSN1mR69Mk8fQ8VFV8CXnnH\n",
       "lXWrRgjRjaJF5qvIDhp4J688APhxZK0/zkGvI7BCo/Wsqxlaf+wwiCtFf/TZSd9IuisL7YbnzQAA\n",
       "AFNBn/ZFFSwQ/wB71TPmoAAj49jCZUL4R1BM9B2OKlUvBdc9AR1mwjzs4hT4GvBQxokjBBU0Jo7C\n",
       "LyebNrokNeAx7JyHj/woq8sc4RGfx+bUd3otoAAAADoBnhV0Q/8AKwN+D/xNbFw4hvoqotNvahz3\n",
       "4vQHRPFiyf9HayfCZz11FptFSpcboNDwjRx2QyqBsK6TAAAANAGeF2pD/wArCYdgGU1ofk0s0dAv\n",
       "Fb5NsMeQSDausNLQmzBz6vAWNTv1RrQgYmcv9iWiaaEAAAFyQZocSahBbJlMCCf//rUqgCESa8Xc\n",
       "hAuU5UAGrf27db3hNd43BCdabdGqC1Nt87M/9Oq/wBLIdI3/6imAVdq1q4f64XvUnvGyUP+livLy\n",
       "qlfzWb/rXLh+A1d+l5CvidtkqZ10j6zxkmCgmi97iaD+hjDKOPlSMV/IBzQVpeKsYnQ4bqyDPyKw\n",
       "34YYnLN9JPfVck6E+nKKAusPf0cy2cPsDIGr7BNSPapEFlO7OCQSVsEW+tId3J5mkttD+vwK8pgj\n",
       "bb3upYAopps4DWc7i5G+XQfBcuT9RLpLY/nYt9W4xoj1ROvstOVEmeqtjZSYahXWWrUBGNeRWs+E\n",
       "SDlQIrMEPNCotY4XcWfQYwAO0j4GCOK1hprloo+4q2AqB4UquHvX8aYiiqzzPYUOUYxnGnX+q6ZH\n",
       "XMpqOgelj/uffhkHIgE0nMa01OWSjiQJhbjBVrmf+74W6tLlqtjNf+7nBFO6P8YHXC6bzWFtTf9j\n",
       "zNYXhOR2UAAAAFhBnjpFFSwQ/wB71TPmjFOGkgxhGTmZtKYiMw4yC22E3pz1tROkKZbn5A99Egyr\n",
       "zjj9bOVIrPrEANXPrRcqKS3SWE3YyzR0+kYSC4BbigTeXwZ5d4yrJGOBAAAATgGeWXRD/wArA34T\n",
       "AQvVD1IH0ekcnH++g9VeVqXs7RhKKlJaBoySG7Mt8lbG3MAQuXni/TkcMUpVmCCRbwEpxUHz37gP\n",
       "gi6DBcf33iEnpAAAAEUBnltqQ/8AKwmHYBlNb3FYgt6P36nvZI7HVpXe/8KvI/o6jIOWy1hQfonQ\n",
       "ufi49Fn3QW8BKb204K8vkQN1utmKUhZpqqEAAAD7QZpASahBbJlMCCX//rUqgCEKdRsFABdLjkgx\n",
       "DBv8e01PG6RDCfThcoi2MxdC7nmOMqsSnsg59Es7S9Pb6+jkTrL3nC/UPZLVyJv25P82d1pkovG1\n",
       "SkyqOhCZZfHk15DxDkt+mcRAAkeqdZTFLtRCQLFp/jSvwS5McnGG8Tvzxa2/OtKqLK8Pbf0aAHkP\n",
       "1R3fQnujF9ZcJy8UMduoqP4/h/iUFAcukRqrdt6K/6SzPoS5Eylr1QXfHjJisLzXDJ1njoQiKlLA\n",
       "TM/lTFEe2BbSH+mkBmPp1Y8WIN0c/uPn6DKjMZL/fJ5Xxmcyyj1TtkEAt8OytX+cDmOaGZ0AAABX\n",
       "QZ5+RRUsEP8Ae9Uz5UAI4hI3Acm1X7Y6nqRsCohpd7DqmBEfeDB0OvtFdoIuoRwCv9CvKioC6E16\n",
       "ZEU5lxSIJnZFzQf4xtrc0JnRvBaKPW/YXECVS1DwAAAAQgGenXRD/wArA34P/E1sPczbnsqoi7MQ\n",
       "yTcTuZ95qvrcF8OQjfk71N+ri3Cm8IJRJZUBhhedY7tVL6o1SMi1BQ62gAAAADoBnp9qQ/8AKwmH\n",
       "YBlNVp0SnPe49Y71dA+SBBGjyaDpq86yBXn29ZYZGd2C9HsgbFwVp79CvfwAF+q/AAAAhUGag0mo\n",
       "QWyZTAh///6plgD67lHgkAE62qmIXFeR84JlXGMsLntrk52SRRib9kWpDYqEZmn4TQKPjWKJqB93\n",
       "K6C8FV8oFUNhdJyLYsd2rZA32nYMV4digVLN/5dQtL/s3pAJxsZbmZTAsnIqULeDYM46z8f33RHl\n",
       "lVw//wq6fDYrv+ZCOCAAAABIQZ6hRRUsEP8Ae9Uzw+z7Pek7V3IVBDx8ZJ9jiO46orp5bu0UTFdT\n",
       "+tVzeet426oTLUAQ0cwe/aePjmrYFJZMdxiuMGB2zOthAAAANQGewmpD/wBNHIcAE1HXF9tmkOrV\n",
       "iE04stYbqLRf1tPWnv46yANCnhg7QtAt4fFSeruj1v/gAAAHpm1vb3YAAABsbXZoZAAAAAAAAAAA\n",
       "AAAAAAAAA+gAAE4gAAEAAAEAAAAAAAAAAAAAAAABAAAAAAAAAAAAAAAAAAAAAQAAAAAAAAAAAAAA\n",
       "AAAAQAAAAAAAAAAAAAAAAAAAAAAAAAAAAAAAAAAAAAAAAAIAAAbQdHJhawAAAFx0a2hkAAAAAwAA\n",
       "AAAAAAAAAAAAAQAAAAAAAE4gAAAAAAAAAAAAAAAAAAAAAAABAAAAAAAAAAAAAAAAAAAAAQAAAAAA\n",
       "AAAAAAAAAAAAQAAAAAGwAAABIAAAAAAAJGVkdHMAAAAcZWxzdAAAAAAAAAABAABOIAAAEAAAAQAA\n",
       "AAAGSG1kaWEAAAAgbWRoZAAAAAAAAAAAAAAAAAAAKAAAAyAAVcQAAAAAAC1oZGxyAAAAAAAAAAB2\n",
       "aWRlAAAAAAAAAAAAAAAAVmlkZW9IYW5kbGVyAAAABfNtaW5mAAAAFHZtaGQAAAABAAAAAAAAAAAA\n",
       "AAAkZGluZgAAABxkcmVmAAAAAAAAAAEAAAAMdXJsIAAAAAEAAAWzc3RibAAAALNzdHNkAAAAAAAA\n",
       "AAEAAACjYXZjMQAAAAAAAAABAAAAAAAAAAAAAAAAAAAAAAGwASAASAAAAEgAAAAAAAAAAQAAAAAA\n",
       "AAAAAAAAAAAAAAAAAAAAAAAAAAAAAAAAAAAAABj//wAAADFhdmNDAWQAFf/hABhnZAAVrNlBsJaE\n",
       "AAADAAQAAAMAKDxYtlgBAAZo6+PLIsAAAAAcdXVpZGtoQPJfJE/FujmlG88DI/MAAAAAAAAAGHN0\n",
       "dHMAAAAAAAAAAQAAAGQAAAgAAAAAFHN0c3MAAAAAAAAAAQAAAAEAAAL4Y3R0cwAAAAAAAABdAAAA\n",
       "BAAAEAAAAAABAAAoAAAAAAEAABAAAAAAAQAAAAAAAAABAAAIAAAAAAEAACAAAAAAAgAACAAAAAAB\n",
       "AAAYAAAAAAEAAAgAAAAAAQAAKAAAAAABAAAQAAAAAAEAAAAAAAAAAQAACAAAAAABAAAoAAAAAAEA\n",
       "ABAAAAAAAQAAAAAAAAABAAAIAAAAAAEAACgAAAAAAQAAEAAAAAABAAAAAAAAAAEAAAgAAAAAAQAA\n",
       "KAAAAAABAAAQAAAAAAEAAAAAAAAAAQAACAAAAAABAAAoAAAAAAEAABAAAAAAAQAAAAAAAAABAAAI\n",
       "AAAAAAEAACAAAAAAAgAACAAAAAABAAAoAAAAAAEAABAAAAAAAQAAAAAAAAABAAAIAAAAAAEAACgA\n",
       "AAAAAQAAEAAAAAABAAAAAAAAAAEAAAgAAAAAAQAAIAAAAAACAAAIAAAAAAEAABgAAAAAAQAACAAA\n",
       "AAABAAAoAAAAAAEAABAAAAAAAQAAAAAAAAABAAAIAAAAAAEAACgAAAAAAQAAEAAAAAABAAAAAAAA\n",
       "AAEAAAgAAAAAAQAAKAAAAAABAAAQAAAAAAEAAAAAAAAAAQAACAAAAAABAAAoAAAAAAEAABAAAAAA\n",
       "AQAAAAAAAAABAAAIAAAAAAEAACgAAAAAAQAAEAAAAAABAAAAAAAAAAEAAAgAAAAAAQAAKAAAAAAB\n",
       "AAAQAAAAAAEAAAAAAAAAAQAACAAAAAABAAAoAAAAAAEAABAAAAAAAQAAAAAAAAABAAAIAAAAAAEA\n",
       "ACgAAAAAAQAAEAAAAAABAAAAAAAAAAEAAAgAAAAAAQAAKAAAAAABAAAQAAAAAAEAAAAAAAAAAQAA\n",
       "CAAAAAABAAAoAAAAAAEAABAAAAAAAQAAAAAAAAABAAAIAAAAAAEAACgAAAAAAQAAEAAAAAABAAAA\n",
       "AAAAAAEAAAgAAAAAAQAAKAAAAAABAAAQAAAAAAEAAAAAAAAAAQAACAAAAAABAAAgAAAAAAIAAAgA\n",
       "AAAAHHN0c2MAAAAAAAAAAQAAAAEAAABkAAAAAQAAAaRzdHN6AAAAAAAAAAAAAABkAAAU6QAABacA\n",
       "AAP5AAADHgAABZgAAADkAAAAkAAAAJoAAAOeAAAAhwAAAFYAAAKiAAAAaQAAA7sAAACIAAAARQAA\n",
       "AEoAAAORAAAAgAAAAFQAAABMAAADUgAAAH8AAABKAAAARgAAAx4AAACHAAAAVAAAAFwAAALeAAAA\n",
       "bAAAAG4AAAA+AAACQgAAAFoAAABBAAADCgAAAH8AAAB2AAAASgAAAygAAAB4AAAAQAAAAE0AAAJe\n",
       "AAAASwAAACkAAAJSAAAASQAAAzEAAABtAAAAUwAAAEwAAAMlAAAAiAAAAD8AAABRAAAC9AAAAGkA\n",
       "AAA9AAAASwAAApgAAABbAAAAPQAAAFcAAALMAAAAXQAAAEMAAABPAAAChQAAAGoAAABZAAAAWQAA\n",
       "AhIAAACFAAAASAAAAD0AAAKUAAAAVQAAAFgAAABNAAABuwAAAFQAAABjAAAAPQAAAbIAAABXAAAA\n",
       "PgAAADgAAAF2AAAAXAAAAFIAAABJAAAA/wAAAFsAAABGAAAAPgAAAIkAAABMAAAAOQAAABRzdGNv\n",
       "AAAAAAAAAAEAAAAsAAAAYnVkdGEAAABabWV0YQAAAAAAAAAhaGRscgAAAAAAAAAAbWRpcmFwcGwA\n",
       "AAAAAAAAAAAAAAAtaWxzdAAAACWpdG9vAAAAHWRhdGEAAAABAAAAAExhdmY1OC4yOS4xMDA=\n",
       "\">\n",
       "  Your browser does not support the video tag.\n",
       "</video>"
      ],
      "text/plain": [
       "<IPython.core.display.HTML object>"
      ]
     },
     "execution_count": 186,
     "metadata": {},
     "output_type": "execute_result"
    }
   ],
   "source": [
    "HTML(anim.to_html5_video()) #need to convert to a html video to show in jupyter..  not needed if running in shell."
   ]
  },
  {
   "cell_type": "code",
   "execution_count": 183,
   "id": "c222d2ab",
   "metadata": {},
   "outputs": [],
   "source": [
    "#visualising data iteratively"
   ]
  },
  {
   "cell_type": "code",
   "execution_count": 185,
   "id": "770465fe",
   "metadata": {},
   "outputs": [],
   "source": [
    "#exercises:\n",
    "#try different test, train split\n",
    "#try a different binarisation (better threshold, better methods for binarising)\n",
    "#mp neuron - plot accuracy vs b. (b-parameter space)\n",
    "#test accuracy, train accuracy on same plot - see if they are correlated.\n",
    "#try different - #epochs, learning rate for perceptron.\n",
    "#initialising weights - did deterministically above.. - use a random initialiser - use a seed so that we can reproduce the results.\n",
    "#weight animation - when learning rate is small, different number of epochs."
   ]
  },
  {
   "cell_type": "code",
   "execution_count": null,
   "id": "f8d48962",
   "metadata": {},
   "outputs": [],
   "source": []
  }
 ],
 "metadata": {
  "kernelspec": {
   "display_name": "Python 3 (ipykernel)",
   "language": "python",
   "name": "python3"
  },
  "language_info": {
   "codemirror_mode": {
    "name": "ipython",
    "version": 3
   },
   "file_extension": ".py",
   "mimetype": "text/x-python",
   "name": "python",
   "nbconvert_exporter": "python",
   "pygments_lexer": "ipython3",
   "version": "3.8.10"
  }
 },
 "nbformat": 4,
 "nbformat_minor": 5
}
