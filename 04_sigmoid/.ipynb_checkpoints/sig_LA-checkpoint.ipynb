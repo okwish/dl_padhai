{
 "cells": [
  {
   "cell_type": "code",
   "execution_count": 1,
   "id": "6f18e845",
   "metadata": {},
   "outputs": [],
   "source": [
    "import numpy as np"
   ]
  },
  {
   "cell_type": "code",
   "execution_count": 9,
   "id": "0a77cd4e",
   "metadata": {},
   "outputs": [],
   "source": [
    "#data\n",
    "X = [0.5,2,5]\n",
    "Y = [0.2,0.9]\n",
    "#one input - one output\n",
    "#2 datapoints\n",
    "\n",
    "#fit sigmoid"
   ]
  },
  {
   "cell_type": "code",
   "execution_count": 7,
   "id": "f37c4264",
   "metadata": {},
   "outputs": [],
   "source": [
    "def f(w,b,x):\n",
    "    #sigmoid fn - given w, b, x\n",
    "    return 1.0/(1.0 + np.exp(-(w*x + b)) )\n",
    "\n",
    "def error(w,b):\n",
    "    #compute error over all data points for given w, b\n",
    "    err = 0.0\n",
    "    for x,y in zip(X,Y):\n",
    "        fx = f(w,b,x) #predicted output\n",
    "        err += 0.5*(fx-y)**2\n",
    "    return err\n",
    "\n",
    "def grad_b(w,b,x,y):\n",
    "    #compute dL/db (current w, b)\n",
    "    fx = f(w,b,x)\n",
    "    return (fx-y)*fx*(1-fx)\n",
    "\n",
    "def grad_w(w,b,x,y):\n",
    "    #compute dL/dw (current w, b)\n",
    "    fx = f(w,b,x)  # first forward pass. \n",
    "    return (fx-y)*fx*(1-fx)*x # then gradient('backward') with that value.\n",
    "\n",
    "def do_grad_descent():\n",
    "    w,b,alpha = -2,-2,1.0 #initialize w,b,alpha\n",
    "    max_epochs = 1000 #satified thing\n",
    "    for i in range(max_epochs):\n",
    "        #find dw, db\n",
    "        dw, db = 0,0\n",
    "        for x, y in zip(X,Y):#iterate over all data\n",
    "            #gradient of loss fn(sum over all data points)\n",
    "            dw += grad_w(w,b,x,y)\n",
    "            db += grad_b(w,b,x,y)\n",
    "        #update w, b\n",
    "        w = w - alpha*dw\n",
    "        b = b - alpha*db\n",
    "            \n",
    "   "
   ]
  },
  {
   "cell_type": "code",
   "execution_count": 8,
   "id": "9b660060",
   "metadata": {},
   "outputs": [],
   "source": [
    "do_grad_descent()"
   ]
  },
  {
   "cell_type": "code",
   "execution_count": null,
   "id": "70932337",
   "metadata": {},
   "outputs": [],
   "source": [
    "#multiple inputs - more weights\n",
    "#derivative wrt each w.\n",
    "\n",
    "def f(w,b,x):\n",
    "    return 1.0/(1.0 + np.exp( -(np.dot(w,x)+b) ))\n",
    "\n",
    "def grad_w_i(w,b,x,y,i):\n",
    "    fx = f(w,b,x)\n",
    "    return (fx-y)*fx*(1-fx)*x[i]"
   ]
  }
 ],
 "metadata": {
  "kernelspec": {
   "display_name": "Python 3 (ipykernel)",
   "language": "python",
   "name": "python3"
  },
  "language_info": {
   "codemirror_mode": {
    "name": "ipython",
    "version": 3
   },
   "file_extension": ".py",
   "mimetype": "text/x-python",
   "name": "python",
   "nbconvert_exporter": "python",
   "pygments_lexer": "ipython3",
   "version": "3.8.10"
  }
 },
 "nbformat": 4,
 "nbformat_minor": 5
}
