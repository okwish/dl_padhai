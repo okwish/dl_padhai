{
 "cells": [
  {
   "cell_type": "code",
   "execution_count": 1,
   "id": "426d2da0",
   "metadata": {},
   "outputs": [],
   "source": [
    "import numpy as np\n",
    "import matplotlib.pyplot as plt"
   ]
  },
  {
   "cell_type": "markdown",
   "id": "2409fb68",
   "metadata": {},
   "source": [
    "### Real world data"
   ]
  },
  {
   "cell_type": "code",
   "execution_count": 3,
   "id": "b5226d6d",
   "metadata": {},
   "outputs": [],
   "source": [
    "import pandas as pd"
   ]
  },
  {
   "cell_type": "code",
   "execution_count": 4,
   "id": "f6474e41",
   "metadata": {},
   "outputs": [
    {
     "data": {
      "text/html": [
       "<div>\n",
       "<style scoped>\n",
       "    .dataframe tbody tr th:only-of-type {\n",
       "        vertical-align: middle;\n",
       "    }\n",
       "\n",
       "    .dataframe tbody tr th {\n",
       "        vertical-align: top;\n",
       "    }\n",
       "\n",
       "    .dataframe thead th {\n",
       "        text-align: right;\n",
       "    }\n",
       "</style>\n",
       "<table border=\"1\" class=\"dataframe\">\n",
       "  <thead>\n",
       "    <tr style=\"text-align: right;\">\n",
       "      <th></th>\n",
       "      <th>PhoneId</th>\n",
       "      <th>Pixel Density</th>\n",
       "      <th>Screen Size</th>\n",
       "      <th>Weight</th>\n",
       "      <th>RAM</th>\n",
       "      <th>Processor_frequency</th>\n",
       "      <th>Screen to Body Ratio (calculated)</th>\n",
       "      <th>Height</th>\n",
       "      <th>Internal Memory</th>\n",
       "      <th>Capacity</th>\n",
       "      <th>...</th>\n",
       "      <th>os_name_Tizen</th>\n",
       "      <th>os_name_iOS</th>\n",
       "      <th>SIM Slot(s)_Dual SIM, GSM+CDMA</th>\n",
       "      <th>SIM Slot(s)_Dual SIM, GSM+GSM</th>\n",
       "      <th>SIM Slot(s)_Dual SIM, GSM+GSM, Dual VoLTE</th>\n",
       "      <th>SIM Slot(s)_Single SIM, GSM</th>\n",
       "      <th>Sim1_2G</th>\n",
       "      <th>Sim1_3G</th>\n",
       "      <th>Sim1_4G</th>\n",
       "      <th>Rating</th>\n",
       "    </tr>\n",
       "  </thead>\n",
       "  <tbody>\n",
       "    <tr>\n",
       "      <th>0</th>\n",
       "      <td>0</td>\n",
       "      <td>403</td>\n",
       "      <td>6.26</td>\n",
       "      <td>182</td>\n",
       "      <td>4</td>\n",
       "      <td>1.8</td>\n",
       "      <td>80.68</td>\n",
       "      <td>157.9</td>\n",
       "      <td>64</td>\n",
       "      <td>4000</td>\n",
       "      <td>...</td>\n",
       "      <td>0</td>\n",
       "      <td>0</td>\n",
       "      <td>0</td>\n",
       "      <td>0</td>\n",
       "      <td>1</td>\n",
       "      <td>0</td>\n",
       "      <td>0</td>\n",
       "      <td>0</td>\n",
       "      <td>1</td>\n",
       "      <td>4.5</td>\n",
       "    </tr>\n",
       "    <tr>\n",
       "      <th>1</th>\n",
       "      <td>1</td>\n",
       "      <td>271</td>\n",
       "      <td>6.20</td>\n",
       "      <td>168</td>\n",
       "      <td>3</td>\n",
       "      <td>1.8</td>\n",
       "      <td>80.85</td>\n",
       "      <td>156.2</td>\n",
       "      <td>32</td>\n",
       "      <td>4230</td>\n",
       "      <td>...</td>\n",
       "      <td>0</td>\n",
       "      <td>0</td>\n",
       "      <td>0</td>\n",
       "      <td>0</td>\n",
       "      <td>1</td>\n",
       "      <td>0</td>\n",
       "      <td>0</td>\n",
       "      <td>0</td>\n",
       "      <td>1</td>\n",
       "      <td>4.5</td>\n",
       "    </tr>\n",
       "    <tr>\n",
       "      <th>2</th>\n",
       "      <td>2</td>\n",
       "      <td>409</td>\n",
       "      <td>6.30</td>\n",
       "      <td>168</td>\n",
       "      <td>3</td>\n",
       "      <td>2.1</td>\n",
       "      <td>83.68</td>\n",
       "      <td>157.0</td>\n",
       "      <td>32</td>\n",
       "      <td>3500</td>\n",
       "      <td>...</td>\n",
       "      <td>0</td>\n",
       "      <td>0</td>\n",
       "      <td>0</td>\n",
       "      <td>0</td>\n",
       "      <td>1</td>\n",
       "      <td>0</td>\n",
       "      <td>0</td>\n",
       "      <td>0</td>\n",
       "      <td>1</td>\n",
       "      <td>4.4</td>\n",
       "    </tr>\n",
       "    <tr>\n",
       "      <th>3</th>\n",
       "      <td>4</td>\n",
       "      <td>411</td>\n",
       "      <td>6.00</td>\n",
       "      <td>169</td>\n",
       "      <td>4</td>\n",
       "      <td>2.2</td>\n",
       "      <td>74.78</td>\n",
       "      <td>159.8</td>\n",
       "      <td>64</td>\n",
       "      <td>3300</td>\n",
       "      <td>...</td>\n",
       "      <td>0</td>\n",
       "      <td>0</td>\n",
       "      <td>0</td>\n",
       "      <td>1</td>\n",
       "      <td>0</td>\n",
       "      <td>0</td>\n",
       "      <td>0</td>\n",
       "      <td>0</td>\n",
       "      <td>1</td>\n",
       "      <td>4.3</td>\n",
       "    </tr>\n",
       "    <tr>\n",
       "      <th>4</th>\n",
       "      <td>5</td>\n",
       "      <td>396</td>\n",
       "      <td>6.50</td>\n",
       "      <td>175</td>\n",
       "      <td>4</td>\n",
       "      <td>2.2</td>\n",
       "      <td>84.23</td>\n",
       "      <td>160.4</td>\n",
       "      <td>64</td>\n",
       "      <td>3750</td>\n",
       "      <td>...</td>\n",
       "      <td>0</td>\n",
       "      <td>0</td>\n",
       "      <td>0</td>\n",
       "      <td>0</td>\n",
       "      <td>1</td>\n",
       "      <td>0</td>\n",
       "      <td>0</td>\n",
       "      <td>0</td>\n",
       "      <td>1</td>\n",
       "      <td>4.4</td>\n",
       "    </tr>\n",
       "  </tbody>\n",
       "</table>\n",
       "<p>5 rows × 88 columns</p>\n",
       "</div>"
      ],
      "text/plain": [
       "   PhoneId  Pixel Density  Screen Size  Weight  RAM  Processor_frequency  \\\n",
       "0        0            403         6.26     182    4                  1.8   \n",
       "1        1            271         6.20     168    3                  1.8   \n",
       "2        2            409         6.30     168    3                  2.1   \n",
       "3        4            411         6.00     169    4                  2.2   \n",
       "4        5            396         6.50     175    4                  2.2   \n",
       "\n",
       "   Screen to Body Ratio (calculated)  Height  Internal Memory  Capacity  ...  \\\n",
       "0                              80.68   157.9               64      4000  ...   \n",
       "1                              80.85   156.2               32      4230  ...   \n",
       "2                              83.68   157.0               32      3500  ...   \n",
       "3                              74.78   159.8               64      3300  ...   \n",
       "4                              84.23   160.4               64      3750  ...   \n",
       "\n",
       "   os_name_Tizen  os_name_iOS  SIM Slot(s)_Dual SIM, GSM+CDMA  \\\n",
       "0              0            0                               0   \n",
       "1              0            0                               0   \n",
       "2              0            0                               0   \n",
       "3              0            0                               0   \n",
       "4              0            0                               0   \n",
       "\n",
       "   SIM Slot(s)_Dual SIM, GSM+GSM  SIM Slot(s)_Dual SIM, GSM+GSM, Dual VoLTE  \\\n",
       "0                              0                                          1   \n",
       "1                              0                                          1   \n",
       "2                              0                                          1   \n",
       "3                              1                                          0   \n",
       "4                              0                                          1   \n",
       "\n",
       "   SIM Slot(s)_Single SIM, GSM  Sim1_2G  Sim1_3G  Sim1_4G  Rating  \n",
       "0                            0        0        0        1     4.5  \n",
       "1                            0        0        0        1     4.5  \n",
       "2                            0        0        0        1     4.4  \n",
       "3                            0        0        0        1     4.3  \n",
       "4                            0        0        0        1     4.4  \n",
       "\n",
       "[5 rows x 88 columns]"
      ]
     },
     "execution_count": 4,
     "metadata": {},
     "output_type": "execute_result"
    }
   ],
   "source": [
    "data = pd.read_csv('mobile_cleaned.csv')\n",
    "data.head()"
   ]
  },
  {
   "cell_type": "markdown",
   "id": "b7ffb97c",
   "metadata": {},
   "source": [
    "Generally we will have to do some pre-processing on the data also. Here, pre-processing steps like - cleaning, categorical value to numerical(one hot encoding), etc are already done.  \n",
    "\n",
    "Task - predict rating from other variables."
   ]
  },
  {
   "cell_type": "code",
   "execution_count": 5,
   "id": "89f12c73",
   "metadata": {},
   "outputs": [],
   "source": [
    "XX = data.drop('Rating',axis=1)\n",
    "Y = data['Rating'].values #values convert to np array."
   ]
  },
  {
   "cell_type": "code",
   "execution_count": 6,
   "id": "48337367",
   "metadata": {
    "collapsed": true
   },
   "outputs": [
    {
     "data": {
      "text/plain": [
       "array([4.5, 4.5, 4.4, 4.3, 4.4, 4.5, 4.3, 4.1, 4.3, 4.5, 4.5, 4. , 4.4,\n",
       "       4.4, 4.4, 4.4, 4.5, 4.4, 4.4, 4.4, 4.4, 4.5, 4.4, 4.3, 4.2, 4.3,\n",
       "       4.3, 4.6, 4.4, 4.5, 3.9, 4.2, 4.3, 4.2, 4.3, 4.3, 4.2, 4.4, 4.1,\n",
       "       3.8, 4.4, 4.6, 4.3, 4.5, 4.5, 4.2, 3.9, 4.3, 4. , 4.3, 4.3, 3.9,\n",
       "       4.2, 4.5, 4. , 4.6, 4.2, 2.8, 4.4, 4.3, 4.2, 4.4, 4.4, 4. , 4.4,\n",
       "       4.4, 4.1, 4.5, 4.3, 3.9, 4.3, 4.1, 4.1, 4.2, 3.4, 4.2, 4.6, 3.8,\n",
       "       4.3, 4.5, 4.2, 4.5, 4.5, 4. , 4.1, 4.4, 4.5, 4.1, 4.5, 4.3, 4.5,\n",
       "       3.9, 3.9, 4.4, 4.4, 4.4, 4. , 4.1, 4.1, 4.4, 4.3, 4.3, 4.2, 4.3,\n",
       "       3.4, 4.3, 4.3, 4.2, 4.6, 4.8, 4.4, 3.4, 3.7, 4.2, 4.3, 4.4, 4.3,\n",
       "       4.2, 4.1, 4.3, 4. , 3.9, 4.4, 4.4, 3.9, 3.1, 3.7, 4.2, 4.4, 4. ,\n",
       "       4. , 4.1, 4.2, 4.3, 4.2, 4.3, 4.1, 3.6, 4.1, 4. , 3.8, 3.7, 4.3,\n",
       "       4.1, 4.1, 4.5, 4. , 4.3, 3.6, 4.1, 4.5, 3.5, 4. , 4.3, 4.6, 3.5,\n",
       "       3.9, 4.1, 3.9, 3.8, 4.4, 4.3, 4. , 3.9, 4.4, 4.7, 3.9, 4.5, 3.7,\n",
       "       4. , 4.3, 4.1, 4.8, 4.1, 4. , 4.7, 4. , 4.1, 4. , 3.4, 4.1, 3.9,\n",
       "       3.1, 4.1, 3.7, 3.4, 3.9, 4.3, 4.1, 3.7, 3.8, 4. , 3.8, 4.6, 3.4,\n",
       "       3.3, 3.2, 3.5, 4.3, 4.1, 4. , 3.8, 4.3, 4.1, 4. , 3.8, 3.8, 3.9,\n",
       "       4.1, 3.7, 4.2, 4. , 4.2, 4.4, 4.1, 3.4, 4.2, 4.4, 3.9, 3.9, 4.4,\n",
       "       4.2, 4.5, 4.5, 4.2, 4. , 4.2, 3.5, 3.7, 4.3, 5. , 3.5, 4.4, 3.7,\n",
       "       4.3, 3.9, 4.3, 3.8, 3.8, 4.3, 5. , 4.1, 3. , 4.4, 3. , 4. , 4. ,\n",
       "       3.9, 3.9, 4.2, 2.8, 4.3, 3.3, 4.3, 4. , 4.2, 4.1, 4.2, 3.6, 3.5,\n",
       "       4.1, 4.6, 3.9, 4. , 3.8, 4.1, 2.5, 4.2, 3.7, 3.9, 4.1, 3. , 3.8,\n",
       "       4.6, 4.2, 3.4, 3.9, 4.5, 4.1, 3.3, 4.1, 4. , 3.3, 4.4, 3.8, 3.9,\n",
       "       3.6, 4.4, 4.1, 4.1, 4. , 3.5, 3. , 4.2, 4. , 3.9, 3.5, 3.4, 3.4,\n",
       "       4. , 3.6, 4. , 3.5, 4. , 4. , 3.7, 4.6, 4. , 4.1, 4. , 3.5, 4.1,\n",
       "       3.7, 4.4, 4.3, 4.1, 3.9, 3.4, 3.3, 3.9, 4. , 4.4, 4.5, 4.2, 3.8,\n",
       "       3.7, 4.2, 4.1, 4. , 3.9, 3.7, 4.2, 4. , 3.6, 3.6, 4.4, 3.8, 3.9,\n",
       "       4.1, 3.6, 4.3])"
      ]
     },
     "execution_count": 6,
     "metadata": {},
     "output_type": "execute_result"
    }
   ],
   "source": [
    "Y"
   ]
  },
  {
   "cell_type": "markdown",
   "id": "ee9bd6ff",
   "metadata": {},
   "source": [
    "### classification task using real-output.  (train on real, use thresholding to predict, evaluate on binary)\n",
    "\n",
    "In this data rating is a real value. We want to do binary classification => binarise Y.  \n",
    "\n",
    "Now there is a real Y and a binarised Y. Task for the model is to do binary classification.  \n",
    "But we train the model with real Y, as sigmoid can capture real Y.  \n",
    "Then we use thresholding, etc. to give a class prediction.  \n",
    "\n",
    "While evaluating accuracy - we won't do something like sq error with real Y; instead we find the fraction of time the correct class was predicted."
   ]
  },
  {
   "cell_type": "code",
   "execution_count": 7,
   "id": "977fcb2c",
   "metadata": {},
   "outputs": [],
   "source": [
    "# binarising Y using thresholding\n",
    "\n",
    "thresh = 4\n",
    "\n",
    "#add binarised Y to the dataframe itself as a new column (\"class\")\n",
    "data['class'] = ( data['Rating'] >= thresh ).astype(int)"
   ]
  },
  {
   "cell_type": "code",
   "execution_count": 10,
   "id": "6108666c",
   "metadata": {},
   "outputs": [
    {
     "data": {
      "text/plain": [
       "1    0.697947\n",
       "0    0.302053\n",
       "Name: class, dtype: float64"
      ]
     },
     "execution_count": 10,
     "metadata": {},
     "output_type": "execute_result"
    }
   ],
   "source": [
    "data['class'].value_counts(normalize = True)\n",
    "# normalize - gives in percentage\n",
    "# otherwise total count"
   ]
  },
  {
   "cell_type": "markdown",
   "id": "5d232a7e",
   "metadata": {},
   "source": [
    "Percentage of one class is more => data is skewed.   \n",
    "if the model keeps predicting that class all the time - it gets a high accuracy(=percentage of that class)  \n",
    "we don't want the model to learn something like that  \n",
    "\n",
    "\"baseline\" - accuracy we get if the model keep predicting one class all the time.  \n",
    "if a model accuracy is better than this baseline - then can say it has learned something  \n",
    "\n",
    "one way - to correct the class imbalance here - change threshold\n"
   ]
  },
  {
   "cell_type": "code",
   "execution_count": 11,
   "id": "bcd3e0cf",
   "metadata": {},
   "outputs": [
    {
     "data": {
      "text/plain": [
       "0    0.533724\n",
       "1    0.466276\n",
       "Name: class, dtype: float64"
      ]
     },
     "execution_count": 11,
     "metadata": {},
     "output_type": "execute_result"
    }
   ],
   "source": [
    "thresh = 4.2\n",
    "data['class'] = ( data['Rating'] >= thresh ).astype(int)\n",
    "data['class'].value_counts(normalize = True)"
   ]
  },
  {
   "cell_type": "code",
   "execution_count": 12,
   "id": "b48833da",
   "metadata": {},
   "outputs": [],
   "source": [
    "Y_binarised = data['class'].values #binarised Y - nd array"
   ]
  },
  {
   "cell_type": "markdown",
   "id": "bf9d3818",
   "metadata": {},
   "source": [
    "### Stadardisation of data\n",
    "\n",
    "data can be of different range -though it can still work with model learning weights corresponding to the value scales, its but better to standardise data : make mean=0, SD=1 \n",
    "\n",
    "(x-mu)/sig"
   ]
  },
  {
   "cell_type": "code",
   "execution_count": 13,
   "id": "164a227f",
   "metadata": {},
   "outputs": [],
   "source": [
    "from sklearn.preprocessing import StandardScaler"
   ]
  },
  {
   "cell_type": "markdown",
   "id": "9d30d8b6",
   "metadata": {},
   "source": [
    "#### Standardisation demo"
   ]
  },
  {
   "cell_type": "code",
   "execution_count": 17,
   "id": "1f0f3066",
   "metadata": {},
   "outputs": [
    {
     "data": {
      "image/png": "[encoded data removed]",
      "text/plain": [
       "<Figure size 432x288 with 1 Axes>"
      ]
     },
     "metadata": {
      "needs_background": "light"
     },
     "output_type": "display_data"
    },
    {
     "name": "stdout",
     "output_type": "stream",
     "text": [
      "0.5004092229238256 0.2569603008761964\n"
     ]
    }
   ],
   "source": [
    "#stardasition demo\n",
    "R = np.random.random([100,1]) #100 points\n",
    "plt.plot(R)\n",
    "plt.show()\n",
    "\n",
    "print(np.mean(R),np.std(R))"
   ]
  },
  {
   "cell_type": "markdown",
   "id": "a8753f4a",
   "metadata": {},
   "source": [
    "StandardScaler is a class. So we make an object first and use functions with that object."
   ]
  },
  {
   "cell_type": "code",
   "execution_count": 19,
   "id": "4424b309",
   "metadata": {},
   "outputs": [
    {
     "data": {
      "text/html": [
       "<style>#sk-container-id-2 {color: black;background-color: white;}#sk-container-id-2 pre{padding: 0;}#sk-container-id-2 div.sk-toggleable {background-color: white;}#sk-container-id-2 label.sk-toggleable__label {cursor: pointer;display: block;width: 100%;margin-bottom: 0;padding: 0.3em;box-sizing: border-box;text-align: center;}#sk-container-id-2 label.sk-toggleable__label-arrow:before {content: \"▸\";float: left;margin-right: 0.25em;color: #696969;}#sk-container-id-2 label.sk-toggleable__label-arrow:hover:before {color: black;}#sk-container-id-2 div.sk-estimator:hover label.sk-toggleable__label-arrow:before {color: black;}#sk-container-id-2 div.sk-toggleable__content {max-height: 0;max-width: 0;overflow: hidden;text-align: left;background-color: #f0f8ff;}#sk-container-id-2 div.sk-toggleable__content pre {margin: 0.2em;color: black;border-radius: 0.25em;background-color: #f0f8ff;}#sk-container-id-2 input.sk-toggleable__control:checked~div.sk-toggleable__content {max-height: 200px;max-width: 100%;overflow: auto;}#sk-container-id-2 input.sk-toggleable__control:checked~label.sk-toggleable__label-arrow:before {content: \"▾\";}#sk-container-id-2 div.sk-estimator input.sk-toggleable__control:checked~label.sk-toggleable__label {background-color: #d4ebff;}#sk-container-id-2 div.sk-label input.sk-toggleable__control:checked~label.sk-toggleable__label {background-color: #d4ebff;}#sk-container-id-2 input.sk-hidden--visually {border: 0;clip: rect(1px 1px 1px 1px);clip: rect(1px, 1px, 1px, 1px);height: 1px;margin: -1px;overflow: hidden;padding: 0;position: absolute;width: 1px;}#sk-container-id-2 div.sk-estimator {font-family: monospace;background-color: #f0f8ff;border: 1px dotted black;border-radius: 0.25em;box-sizing: border-box;margin-bottom: 0.5em;}#sk-container-id-2 div.sk-estimator:hover {background-color: #d4ebff;}#sk-container-id-2 div.sk-parallel-item::after {content: \"\";width: 100%;border-bottom: 1px solid gray;flex-grow: 1;}#sk-container-id-2 div.sk-label:hover label.sk-toggleable__label {background-color: #d4ebff;}#sk-container-id-2 div.sk-serial::before {content: \"\";position: absolute;border-left: 1px solid gray;box-sizing: border-box;top: 0;bottom: 0;left: 50%;z-index: 0;}#sk-container-id-2 div.sk-serial {display: flex;flex-direction: column;align-items: center;background-color: white;padding-right: 0.2em;padding-left: 0.2em;position: relative;}#sk-container-id-2 div.sk-item {position: relative;z-index: 1;}#sk-container-id-2 div.sk-parallel {display: flex;align-items: stretch;justify-content: center;background-color: white;position: relative;}#sk-container-id-2 div.sk-item::before, #sk-container-id-2 div.sk-parallel-item::before {content: \"\";position: absolute;border-left: 1px solid gray;box-sizing: border-box;top: 0;bottom: 0;left: 50%;z-index: -1;}#sk-container-id-2 div.sk-parallel-item {display: flex;flex-direction: column;z-index: 1;position: relative;background-color: white;}#sk-container-id-2 div.sk-parallel-item:first-child::after {align-self: flex-end;width: 50%;}#sk-container-id-2 div.sk-parallel-item:last-child::after {align-self: flex-start;width: 50%;}#sk-container-id-2 div.sk-parallel-item:only-child::after {width: 0;}#sk-container-id-2 div.sk-dashed-wrapped {border: 1px dashed gray;margin: 0 0.4em 0.5em 0.4em;box-sizing: border-box;padding-bottom: 0.4em;background-color: white;}#sk-container-id-2 div.sk-label label {font-family: monospace;font-weight: bold;display: inline-block;line-height: 1.2em;}#sk-container-id-2 div.sk-label-container {text-align: center;}#sk-container-id-2 div.sk-container {/* jupyter's `normalize.less` sets `[hidden] { display: none; }` but bootstrap.min.css set `[hidden] { display: none !important; }` so we also need the `!important` here to be able to override the default hidden behavior on the sphinx rendered scikit-learn.org. See: https://github.com/scikit-learn/scikit-learn/issues/21755 */display: inline-block !important;position: relative;}#sk-container-id-2 div.sk-text-repr-fallback {display: none;}</style><div id=\"sk-container-id-2\" class=\"sk-top-container\"><div class=\"sk-text-repr-fallback\"><pre>StandardScaler()</pre><b>In a Jupyter environment, please rerun this cell to show the HTML representation or trust the notebook. <br />On GitHub, the HTML representation is unable to render, please try loading this page with nbviewer.org.</b></div><div class=\"sk-container\" hidden><div class=\"sk-item\"><div class=\"sk-estimator sk-toggleable\"><input class=\"sk-toggleable__control sk-hidden--visually\" id=\"sk-estimator-id-2\" type=\"checkbox\" checked><label for=\"sk-estimator-id-2\" class=\"sk-toggleable__label sk-toggleable__label-arrow\">StandardScaler</label><div class=\"sk-toggleable__content\"><pre>StandardScaler()</pre></div></div></div></div></div>"
      ],
      "text/plain": [
       "StandardScaler()"
      ]
     },
     "execution_count": 19,
     "metadata": {},
     "output_type": "execute_result"
    }
   ],
   "source": [
    "ss = StandardScaler()\n",
    "ss.fit(R) #compute mean and std to be used for later scaling\n",
    "\n",
    "# the class has mean, SD attibutes. That get updated to mean, SD of the passed data.\n",
    "# template is similar to what was seen before"
   ]
  },
  {
   "cell_type": "code",
   "execution_count": 20,
   "id": "dd087e72",
   "metadata": {},
   "outputs": [
    {
     "data": {
      "text/plain": [
       "array([0.50040922])"
      ]
     },
     "execution_count": 20,
     "metadata": {},
     "output_type": "execute_result"
    }
   ],
   "source": [
    "ss.mean_ #same mean as above"
   ]
  },
  {
   "cell_type": "markdown",
   "id": "e891e84b",
   "metadata": {},
   "source": [
    "Transform the data(standardise) : (x-mean)/SD  \n",
    "using transform function  \n",
    "it used the object attributes - mean and SD - which were updated with the fit() function"
   ]
  },
  {
   "cell_type": "code",
   "execution_count": 21,
   "id": "8870325d",
   "metadata": {},
   "outputs": [],
   "source": [
    "RT = ss.transform(R) #transform R using the updated mean,SD\n",
    "#now RT is of almost 0 mean, 1 std dev"
   ]
  },
  {
   "cell_type": "code",
   "execution_count": 22,
   "id": "9dd7da9b",
   "metadata": {},
   "outputs": [
    {
     "data": {
      "image/png": "[encoded data removed]",
      "text/plain": [
       "<Figure size 432x288 with 1 Axes>"
      ]
     },
     "metadata": {
      "needs_background": "light"
     },
     "output_type": "display_data"
    }
   ],
   "source": [
    "plt.plot(RT)\n",
    "plt.show()"
   ]
  },
  {
   "cell_type": "markdown",
   "id": "4af30044",
   "metadata": {},
   "source": [
    "plot looks exactly the first one.. but changed the y axis, so that mean and std dev are so.   \n",
    "only scaled and shifted - linear mapping - thus same shape."
   ]
  },
  {
   "cell_type": "markdown",
   "id": "9f3c973f",
   "metadata": {},
   "source": [
    "#### Standardising our data\n",
    "\n",
    "should we split(train-test) first and then standardise or standardise whole data first and then split?  \n",
    "\n",
    "\n",
    "\n",
    "the **idea of train, test** is : its like we only have access to the train data while training, and we want to see the performance of model on **unseen test data**.\n",
    "\n",
    "we can do whatever we want on the train data - preprocess, standardise,etc.. - then we learn model, find parameters..  \n",
    "\n",
    "only then we have access to the test data. - where we try to evaluate its accuracy.  \n",
    "\n",
    "can't standardise with mean, std dev of whole data - \"as we don't have access to it\" => only train data.  \n",
    "\n",
    "first split.  \n",
    "think : \"we only have access to train data\"    \n",
    "standardise train data - with **its** mean,SD.  \n",
    "\n",
    "then for evaluation - standardise test data - but there also use the **same mean, SD of train data**.  \n",
    "\n",
    "\"test data is supposed to be unknown data. so we don't know the mean , std dev of that.\"  \n",
    "its like test data is coming to use one by one\n",
    " \n",
    "this is the reason why the standard scalar has two seperate functions- one to find mean, std dev - and other to transform. - instead of a single function that takes the data and returns the standardised data.  \n",
    "the mean,SD updated by calling fit on train data - will be used on test data as well during evaluation.\n"
   ]
  },
  {
   "cell_type": "code",
   "execution_count": 23,
   "id": "58063b02",
   "metadata": {},
   "outputs": [],
   "source": [
    "from sklearn.model_selection import train_test_split"
   ]
  },
  {
   "cell_type": "code",
   "execution_count": 25,
   "id": "ef38105a",
   "metadata": {},
   "outputs": [],
   "source": [
    "XX_train, XX_test, Y_train, Y_test = train_test_split(XX,Y,random_state=0,stratify=Y_binarised)"
   ]
  },
  {
   "cell_type": "markdown",
   "id": "4bbe67c1",
   "metadata": {},
   "source": [
    "stratify based on the binarised ouput(categorical)"
   ]
  },
  {
   "cell_type": "markdown",
   "id": "6ad4a5c7",
   "metadata": {},
   "source": [
    "standardisation called on data => does on each column  \n",
    "\n",
    "fit_transform() is another fucntion - does fit() first, and transform(). like calling together. mean, SD updated with that fit() call within it."
   ]
  },
  {
   "cell_type": "code",
   "execution_count": 26,
   "id": "554d3c04",
   "metadata": {},
   "outputs": [],
   "source": [
    "ss = StandardScaler()\n",
    "\n",
    "XX_train_standardised = ss.fit_transform(XX_train) #standardise all columns of XX_train\n",
    "\n",
    "#now the parameter - mean , std - are that of train data\n",
    "\n",
    "#use that to transform test data.\n",
    "\n",
    "XX_test_standardised = ss.transform(XX_test) #we are standardising test data with train data's -mean, SD"
   ]
  },
  {
   "cell_type": "markdown",
   "id": "f5653813",
   "metadata": {},
   "source": [
    "### Scaling of Y to 0-1 range\n",
    "#### Linear mapping of data\n",
    "\n",
    "The point of standardising the inputs was to account for different scales of values. Its better if they are standard.   \n",
    "\n",
    "Now we need to transform Y also - because here we are using a sigmoid model  \n",
    "sigmoid - gives an ouput value in 0-1  \n",
    "so we want the 'true' y values also to be like that.  \n",
    "\n",
    "using MinMaxScaler  \n",
    "map min to 0 and max to 1 (linearly)  \n",
    "\n",
    "fit() - updates min and max attributes  \n",
    "transform() - scale input with those  \n",
    "\n",
    "test data is unknown - we don't know its min, max.  \n",
    "=> min, max of train is used to map test also."
   ]
  },
  {
   "cell_type": "code",
   "execution_count": 28,
   "id": "13c62de9",
   "metadata": {},
   "outputs": [],
   "source": [
    "# sklearn min max scalar\n",
    "\n",
    "from sklearn.preprocessing import MinMaxScaler"
   ]
  },
  {
   "cell_type": "code",
   "execution_count": 29,
   "id": "d3983b7a",
   "metadata": {},
   "outputs": [],
   "source": [
    "mm_scalar = MinMaxScaler()\n",
    "\n",
    "Y_train_scaled = mm_scalar.fit_transform(Y_train.reshape(-1,1)) #'fit_transform' for train\n",
    "#reshape because need as column.\n",
    "\n",
    "Y_test_scaled = mm_scalar.transform(Y_test.reshape(-1,1)) # 'transform' for test\n",
    "# min , max of train to map(transform) test also."
   ]
  },
  {
   "cell_type": "markdown",
   "id": "74859796",
   "metadata": {},
   "source": [
    "#### numpy reshaping\n",
    "reshape(m,n) , where mxn is the new shape  \n",
    "-1 (negative shape) => that dim is infered, so that size is matched  \n",
    "(one arg can be -1)  \n",
    "reshape(-1,1) => new shape = (any,1)  \n",
    "=> return single column."
   ]
  },
  {
   "cell_type": "markdown",
   "id": "2a45189b",
   "metadata": {},
   "source": [
    "#### binarisation on transformed Y"
   ]
  },
  {
   "cell_type": "code",
   "execution_count": 34,
   "id": "6e225509",
   "metadata": {},
   "outputs": [
    {
     "data": {
      "text/plain": [
       "0.6800000000000002"
      ]
     },
     "execution_count": 34,
     "metadata": {},
     "output_type": "execute_result"
    }
   ],
   "source": [
    "#classification problem - need binary col for accuracy.\n",
    "\n",
    "#binarising the transformed Y.\n",
    "\n",
    "#first must transform the threshold\n",
    "\n",
    "thresh_scaled = mm_scalar.transform( np.array([thresh]).reshape(-1,1) )[0][0]\n",
    "thresh_scaled"
   ]
  },
  {
   "cell_type": "code",
   "execution_count": 35,
   "id": "66e8e749",
   "metadata": {},
   "outputs": [],
   "source": [
    "# binarise with the transformed threshold\n",
    "Y_binaraised_train = (Y_train_scaled > thresh_scaled).astype(int).ravel()\n",
    "Y_binaraised_test = (Y_test_scaled > thresh_scaled).astype(int).ravel()"
   ]
  },
  {
   "cell_type": "markdown",
   "id": "310b442c",
   "metadata": {},
   "source": [
    "#### np.ravel()   \n",
    "return the flattened 1D array with all elements"
   ]
  },
  {
   "cell_type": "code",
   "execution_count": null,
   "id": "b14dd4da",
   "metadata": {},
   "outputs": [],
   "source": []
  }
 ],
 "metadata": {
  "kernelspec": {
   "display_name": "Python 3 (ipykernel)",
   "language": "python",
   "name": "python3"
  },
  "language_info": {
   "codemirror_mode": {
    "name": "ipython",
    "version": 3
   },
   "file_extension": ".py",
   "mimetype": "text/x-python",
   "name": "python",
   "nbconvert_exporter": "python",
   "pygments_lexer": "ipython3",
   "version": "3.8.10"
  }
 },
 "nbformat": 4,
 "nbformat_minor": 5
}
