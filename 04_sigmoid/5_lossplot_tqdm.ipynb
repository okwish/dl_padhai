{
 "cells": [
  {
   "cell_type": "code",
   "execution_count": 1,
   "id": "426d2da0",
   "metadata": {},
   "outputs": [],
   "source": [
    "import numpy as np\n",
    "import matplotlib.pyplot as plt"
   ]
  },
  {
   "cell_type": "markdown",
   "id": "25e8c52a",
   "metadata": {},
   "source": [
    "### Data, standardising, etc."
   ]
  },
  {
   "cell_type": "code",
   "execution_count": 2,
   "id": "b5226d6d",
   "metadata": {},
   "outputs": [],
   "source": [
    "import pandas as pd"
   ]
  },
  {
   "cell_type": "code",
   "execution_count": 3,
   "id": "f6474e41",
   "metadata": {},
   "outputs": [],
   "source": [
    "data = pd.read_csv('mobile_cleaned.csv')\n",
    "\n",
    "XX = data.drop('Rating',axis=1)\n",
    "Y = data['Rating'].values #values convert to np array."
   ]
  },
  {
   "cell_type": "code",
   "execution_count": 4,
   "id": "bcd3e0cf",
   "metadata": {},
   "outputs": [
    {
     "data": {
      "text/plain": [
       "0    0.533724\n",
       "1    0.466276\n",
       "Name: class, dtype: float64"
      ]
     },
     "execution_count": 4,
     "metadata": {},
     "output_type": "execute_result"
    }
   ],
   "source": [
    "# binarised Y for categorical ouput\n",
    "\n",
    "thresh = 4.2\n",
    "data['class'] = ( data['Rating'] >= thresh ).astype(int)\n",
    "data['class'].value_counts(normalize = True) # checking for class imbalance"
   ]
  },
  {
   "cell_type": "code",
   "execution_count": 5,
   "id": "164a227f",
   "metadata": {},
   "outputs": [],
   "source": [
    "# split into train, test\n",
    "# do standardisation on inputs(features)\n",
    "\n",
    "from sklearn.preprocessing import StandardScaler\n",
    "from sklearn.model_selection import train_test_split"
   ]
  },
  {
   "cell_type": "code",
   "execution_count": 6,
   "id": "ef38105a",
   "metadata": {},
   "outputs": [],
   "source": [
    "Y_binarised = data['class'].values #binarised Y - nd array\n",
    "XX_train, XX_test, Y_train, Y_test = train_test_split(XX,Y,random_state=0,stratify=Y_binarised)\n",
    "# stratify based on the binarised ouput(categorical)\n",
    "\n",
    "ss = StandardScaler()\n",
    "\n",
    "XX_train_standardised = ss.fit_transform(XX_train) #standardise all columns of XX_train\n",
    "#now the parameter - mean , std - are that of train data\n",
    "\n",
    "#use that to transform test data.\n",
    "XX_test_standardised = ss.transform(XX_test) #we are standardising test data with train data's -mean, SD"
   ]
  },
  {
   "cell_type": "code",
   "execution_count": 7,
   "id": "13c62de9",
   "metadata": {},
   "outputs": [],
   "source": [
    "# min max scaling on Y, as sigmoid gives ouput in 0-1\n",
    "\n",
    "from sklearn.preprocessing import MinMaxScaler"
   ]
  },
  {
   "cell_type": "code",
   "execution_count": 8,
   "id": "d3983b7a",
   "metadata": {},
   "outputs": [],
   "source": [
    "mm_scalar = MinMaxScaler()\n",
    "\n",
    "Y_train_scaled = mm_scalar.fit_transform(Y_train.reshape(-1,1)) #'fit_transform' for train\n",
    "#reshape because need as column.\n",
    "\n",
    "Y_test_scaled = mm_scalar.transform(Y_test.reshape(-1,1)) # 'transform' for test\n",
    "# min , max of train to map(transform) test also."
   ]
  },
  {
   "cell_type": "code",
   "execution_count": 9,
   "id": "6e225509",
   "metadata": {},
   "outputs": [],
   "source": [
    "#binarising the transformed Y.\n",
    "\n",
    "#first must transform the threshold\n",
    "thresh_scaled = mm_scalar.transform( np.array([thresh]).reshape(-1,1) )[0][0]\n",
    "\n",
    "# binarise with the transformed threshold\n",
    "Y_binaraised_train = (Y_train_scaled > thresh_scaled).astype(int).ravel()\n",
    "Y_binaraised_test = (Y_test_scaled > thresh_scaled).astype(int).ravel()"
   ]
  },
  {
   "cell_type": "markdown",
   "id": "841dec2b",
   "metadata": {},
   "source": [
    "so we transformed XX using a standardised scalar  \n",
    "and transformed Y using a min-max scalar (to bring outputs b/w 0,1)\n",
    "\n",
    "### Training sigmoid neuron on this data:"
   ]
  },
  {
   "cell_type": "code",
   "execution_count": 10,
   "id": "a62010e8",
   "metadata": {},
   "outputs": [],
   "source": [
    "from sigmoid_neuron import SigmoidNeuron"
   ]
  },
  {
   "cell_type": "code",
   "execution_count": 11,
   "id": "f7428e0e",
   "metadata": {},
   "outputs": [],
   "source": [
    "sn = SigmoidNeuron()\n",
    "\n",
    "sn.fit(XX_train_standardised, Y_train_scaled, epochs = 1000, alpha=0.2)"
   ]
  },
  {
   "cell_type": "markdown",
   "id": "8a41ca6c",
   "metadata": {},
   "source": [
    "first find parameters - fit (\"trining\")  \n",
    "then predict output for both train, test data using the found parameters  \n",
    "compare train accuracy, test accuracy"
   ]
  },
  {
   "cell_type": "code",
   "execution_count": 12,
   "id": "744c42fa",
   "metadata": {},
   "outputs": [],
   "source": [
    "Y_pred_train = sn.predict(XX_train_standardised)\n",
    "Y_pred_test = sn.predict(XX_test_standardised)\n",
    "\n",
    "# binarise the predicted value with the same threshold\n",
    "# we want class-output to find the classification accuracy\n",
    "\n",
    "Y_pred_binarised_train = (Y_pred_train > thresh_scaled).astype('int').ravel()\n",
    "Y_pred_binarised_test = (Y_pred_test > thresh_scaled).astype('int').ravel()"
   ]
  },
  {
   "cell_type": "markdown",
   "id": "a03d3b8f",
   "metadata": {},
   "source": [
    "#### accuracy"
   ]
  },
  {
   "cell_type": "code",
   "execution_count": 13,
   "id": "12a789f5",
   "metadata": {},
   "outputs": [
    {
     "name": "stdout",
     "output_type": "stream",
     "text": [
      "0.5254901960784314 0.5348837209302325\n"
     ]
    }
   ],
   "source": [
    "from sklearn.metrics import accuracy_score\n",
    "\n",
    "acc_train = accuracy_score(Y_pred_binarised_train, Y_binaraised_train)\n",
    "acc_test = accuracy_score(Y_pred_binarised_test, Y_binaraised_test)\n",
    "\n",
    "print(acc_train, acc_test)\n",
    "\n",
    "#change epochs and see."
   ]
  },
  {
   "cell_type": "markdown",
   "id": "1e9e9101",
   "metadata": {},
   "source": [
    "eg. if increasing epochs accuracy is going low, or not improving, it could be because of over stepping.  \n",
    "in that case try decreasing learning rate and increasing #epochs."
   ]
  },
  {
   "cell_type": "markdown",
   "id": "bdd167a4",
   "metadata": {},
   "source": [
    "### Plotting loss(MSE) Vs epochs\n",
    "\n",
    "what is happening as epochs are changing  \n",
    "we can plot and see... instead of randomly changing values. \n",
    "\n",
    "How is total-loss changing with each epoch."
   ]
  },
  {
   "cell_type": "code",
   "execution_count": 14,
   "id": "33a4cf4d",
   "metadata": {},
   "outputs": [],
   "source": [
    "# sigmoid neuron class which tracks/populates loss after each epoch\n",
    "# and display it (loss vs epochs) after training (all epochs)\n",
    "\n",
    "# MSE - using sklearn.metrics.mean_squared_error\n",
    "# mean_squared_error(predicted, true)\n",
    "\n",
    "from sigmoid_neuron_v2 import SigmoidNeuronV2"
   ]
  },
  {
   "cell_type": "code",
   "execution_count": 15,
   "id": "721dbb2a",
   "metadata": {},
   "outputs": [
    {
     "data": {
      "image/png": "[encoded data removed]",
      "text/plain": [
       "<Figure size 432x288 with 1 Axes>"
      ]
     },
     "metadata": {
      "needs_background": "light"
     },
     "output_type": "display_data"
    }
   ],
   "source": [
    "sn = SigmoidNeuronV2()\n",
    "\n",
    "sn.fit(XX_train_standardised, Y_train_scaled, epochs = 1000, alpha=0.01, display_loss=True)"
   ]
  },
  {
   "cell_type": "markdown",
   "id": "ebabd103",
   "metadata": {},
   "source": [
    "this is loss-vs-epochs plot  \n",
    "\n",
    "initially there is be a large drop  \n",
    "fine tune hyperparameters by refering to the loss plot\n",
    "\n",
    "eg - if we see loss is going down - then give it more space to decrease even further by increasing the number of epochs  \n",
    "\n",
    "eg - on seing saturation - first try increase learning rate - giving more push to learning  \n",
    "then if we see - its decreasing further - then we can give it more space by increasing the number of epochs  "
   ]
  },
  {
   "cell_type": "markdown",
   "id": "9eec8a9b",
   "metadata": {},
   "source": [
    "### tqdm progress bar\n",
    "\n",
    "for us to see how much training has progressed (how many epochs completed so far)  \n",
    "\n",
    "change the epoch for loop in fit() (training) to a tqdm loop\n",
    "\n",
    "**\"wrap around the iterator\"** - replace iterator with `tqdm(iterator)` (can pass other args also)"
   ]
  },
  {
   "cell_type": "code",
   "execution_count": 16,
   "id": "ce557639",
   "metadata": {},
   "outputs": [
    {
     "data": {
      "application/vnd.jupyter.widget-view+json": {
       "model_id": "bca297b2333b443180c420412b8785a5",
       "version_major": 2,
       "version_minor": 0
      },
      "text/plain": [
       "  0%|          | 0/5 [00:00<?, ?runs/s]"
      ]
     },
     "metadata": {},
     "output_type": "display_data"
    }
   ],
   "source": [
    "from tqdm import notebook\n",
    "import time\n",
    "\n",
    "# demo\n",
    "\n",
    "# for i in range()\n",
    "# instead:\n",
    "for i in notebook.tqdm( range(5), total = 5 , unit = \"runs\"):\n",
    "    time.sleep(1) #1 second"
   ]
  },
  {
   "cell_type": "code",
   "execution_count": 17,
   "id": "00413a70",
   "metadata": {},
   "outputs": [],
   "source": [
    "# sigmoid neuron class with tqdm\n",
    "from sigmoid_neuron_v3 import SigmoidNeuronV3"
   ]
  },
  {
   "cell_type": "code",
   "execution_count": 19,
   "id": "e114922e",
   "metadata": {},
   "outputs": [
    {
     "data": {
      "application/vnd.jupyter.widget-view+json": {
       "model_id": "397b2f4a669d4b7daf57a7b3a0118818",
       "version_major": 2,
       "version_minor": 0
      },
      "text/plain": [
       "  0%|          | 0/1000 [00:00<?, ?epochs/s]"
      ]
     },
     "metadata": {},
     "output_type": "display_data"
    },
    {
     "data": {
      "image/png": "[encoded data removed]",
      "text/plain": [
       "<Figure size 432x288 with 1 Axes>"
      ]
     },
     "metadata": {
      "needs_background": "light"
     },
     "output_type": "display_data"
    }
   ],
   "source": [
    "sn = SigmoidNeuronV3()\n",
    "\n",
    "sn.fit(XX_train_standardised, Y_train_scaled, epochs = 1000, alpha=0.01, display_loss=True)"
   ]
  },
  {
   "cell_type": "markdown",
   "id": "f51cde9b",
   "metadata": {},
   "source": [
    "tqdm bar also shows the rate of running(time per epoch). With this we can estimate how long will it take more."
   ]
  },
  {
   "cell_type": "markdown",
   "id": "dc1c86b0",
   "metadata": {},
   "source": [
    "### exercises\n",
    "\n",
    "- what happens when toy data is not linearly seperable. find out the role of learning rate there.\n",
    "- change threshold for binarising - see what happens when data is not balanced.\n",
    "- try different hyperparameters - epochs, learning rate. - compare MSE, accuracy for different "
   ]
  },
  {
   "cell_type": "markdown",
   "id": "d6b8aa72",
   "metadata": {},
   "source": [
    "- here, we updated after finding gradient for all datapoints - taking average of those.    \n",
    "  instead update after finding gradient with one datapoint - also highlight which point it is.  \n",
    "  see how different points are making the change in decision boundary.\n",
    "  \n",
    "eg: a point which is already in the right area will not significantly affect the decision boundary  \n",
    "but a point which is say, in the opposite region - will significantly affect.  \n",
    "large slope part??"
   ]
  },
  {
   "cell_type": "code",
   "execution_count": null,
   "id": "8924a92b",
   "metadata": {},
   "outputs": [],
   "source": []
  }
 ],
 "metadata": {
  "kernelspec": {
   "display_name": "Python 3 (ipykernel)",
   "language": "python",
   "name": "python3"
  },
  "language_info": {
   "codemirror_mode": {
    "name": "ipython",
    "version": 3
   },
   "file_extension": ".py",
   "mimetype": "text/x-python",
   "name": "python",
   "nbconvert_exporter": "python",
   "pygments_lexer": "ipython3",
   "version": "3.8.10"
  }
 },
 "nbformat": 4,
 "nbformat_minor": 5
}
