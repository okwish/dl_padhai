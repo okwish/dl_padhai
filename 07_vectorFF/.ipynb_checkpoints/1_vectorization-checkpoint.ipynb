{
 "cells": [
  {
   "cell_type": "markdown",
   "id": "c0c1e3b2",
   "metadata": {},
   "source": [
    "## Vectorization\n",
    "\n",
    "Better - because of how numpy works.  \n",
    "fewer lines, no looping, etc.. -> faster  \n",
    "numpy - looks what its asked to do and then go do it.  \n",
    "\n",
    "**opportunity for vectorising in loops**"
   ]
  },
  {
   "cell_type": "code",
   "execution_count": 1,
   "id": "ca1d3a94",
   "metadata": {},
   "outputs": [],
   "source": [
    "import numpy as np\n",
    "import time"
   ]
  },
  {
   "cell_type": "code",
   "execution_count": 3,
   "id": "646ba479",
   "metadata": {},
   "outputs": [],
   "source": [
    "N = 100\n",
    "M = 200\n",
    "a = np.random.randn(N, M)\n",
    "b = np.random.randn(N, M)\n",
    "c = np.zeros((N, M))"
   ]
  },
  {
   "cell_type": "markdown",
   "id": "46c55cd7",
   "metadata": {},
   "source": [
    "#### \"%%time\" magic command\n",
    "profiles the time taken for execution of that 'cell'.  \n",
    "\n",
    "should be added in the beginning of the cell"
   ]
  },
  {
   "cell_type": "markdown",
   "id": "738f6fe0",
   "metadata": {},
   "source": [
    "### comparing : looping, single statements"
   ]
  },
  {
   "cell_type": "code",
   "execution_count": 4,
   "id": "704cdcf3",
   "metadata": {},
   "outputs": [
    {
     "name": "stdout",
     "output_type": "stream",
     "text": [
      "CPU times: user 12.7 ms, sys: 0 ns, total: 12.7 ms\n",
      "Wall time: 13.5 ms\n"
     ]
    }
   ],
   "source": [
    "%%time\n",
    "\n",
    "# looping for each element and summing\n",
    "\n",
    "for i in range(N):\n",
    "    for j in range(M):\n",
    "        c[i, j] = a[i, j] + b[i, j]"
   ]
  },
  {
   "cell_type": "code",
   "execution_count": 5,
   "id": "bee3485b",
   "metadata": {},
   "outputs": [
    {
     "name": "stdout",
     "output_type": "stream",
     "text": [
      "CPU times: user 2.46 ms, sys: 0 ns, total: 2.46 ms\n",
      "Wall time: 1.77 ms\n"
     ]
    }
   ],
   "source": [
    "%%time\n",
    "\n",
    "# doing sum with single statement\n",
    "\n",
    "c = a + b"
   ]
  },
  {
   "cell_type": "code",
   "execution_count": null,
   "id": "9d613140",
   "metadata": {},
   "outputs": [],
   "source": []
  },
  {
   "cell_type": "code",
   "execution_count": 6,
   "id": "51b411e0",
   "metadata": {},
   "outputs": [
    {
     "name": "stdout",
     "output_type": "stream",
     "text": [
      "CPU times: user 37.1 ms, sys: 0 ns, total: 37.1 ms\n",
      "Wall time: 36.9 ms\n"
     ]
    }
   ],
   "source": [
    "%%time\n",
    "\n",
    "# looping\n",
    "\n",
    "for i in range(N):\n",
    "    for j in range(M):\n",
    "        c[i, j] = np.sin(a[i, j] + 1)"
   ]
  },
  {
   "cell_type": "code",
   "execution_count": 7,
   "id": "67a0eafb",
   "metadata": {},
   "outputs": [
    {
     "name": "stdout",
     "output_type": "stream",
     "text": [
      "CPU times: user 1.59 ms, sys: 3.36 ms, total: 4.95 ms\n",
      "Wall time: 2.81 ms\n"
     ]
    }
   ],
   "source": [
    "%%time\n",
    "\n",
    "# single statement\n",
    "\n",
    "c = np.sin(a + 1)\n",
    "\n",
    "# here a is vector and 1 is scalar - broadcasting"
   ]
  },
  {
   "cell_type": "markdown",
   "id": "d45f04d2",
   "metadata": {},
   "source": [
    "**the plus(+) does braodcasting** in above"
   ]
  },
  {
   "cell_type": "markdown",
   "id": "a70cc17d",
   "metadata": {},
   "source": [
    "iterating ourselves-slower   \n",
    "let numpy do the iteration for you(this is vectorisation basically)  \n",
    "**giving the compiler the opportunity to optimise it** (eg: some specific features of the hardware for vectorisation.. )  \n",
    "\n",
    "**GPU** - basically the extreme case of this.. hardware specially to do such stuff.. but there also we should let it do it.  \n",
    "SIMD(single instruction multiple data)  \n",
    "\n",
    "GPU can significantly improve the performance of 'vectorised' instructions.\n",
    "\n",
    "operator overlaoding or vectorisation that python is automatically doing. (the function is implemented that way?)  \n",
    "can call with scalar arg and vector arg.\n",
    "\n",
    "simpler to write as well. and read also.\n",
    "\n",
    "**braodcasting** - doing things on each elements of array and sending back an array of same dimension with the results. \n",
    "\n",
    "look for wherever vectorising is possible and use it.(HINT : loops)"
   ]
  },
  {
   "cell_type": "code",
   "execution_count": null,
   "id": "c473d722",
   "metadata": {},
   "outputs": [],
   "source": []
  }
 ],
 "metadata": {
  "kernelspec": {
   "display_name": "Python 3 (ipykernel)",
   "language": "python",
   "name": "python3"
  },
  "language_info": {
   "codemirror_mode": {
    "name": "ipython",
    "version": 3
   },
   "file_extension": ".py",
   "mimetype": "text/x-python",
   "name": "python",
   "nbconvert_exporter": "python",
   "pygments_lexer": "ipython3",
   "version": "3.8.10"
  }
 },
 "nbformat": 4,
 "nbformat_minor": 5
}
