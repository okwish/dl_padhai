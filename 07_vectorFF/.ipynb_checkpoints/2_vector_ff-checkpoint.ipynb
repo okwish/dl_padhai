{
 "cells": [
  {
   "cell_type": "markdown",
   "id": "15bb5b44",
   "metadata": {},
   "source": [
    "## FF net - vectorized"
   ]
  },
  {
   "cell_type": "markdown",
   "id": "545998d8",
   "metadata": {},
   "source": [
    "improve performance in terms of runtime using vectorisation\n",
    "\n",
    "**vectorise => instead of writing multiple variables for weights.. as a vector/tensor**"
   ]
  },
  {
   "cell_type": "code",
   "execution_count": 1,
   "id": "a9befdce",
   "metadata": {},
   "outputs": [],
   "source": [
    "import numpy as np\n",
    "import matplotlib.pyplot as plt"
   ]
  },
  {
   "cell_type": "markdown",
   "id": "08c44198",
   "metadata": {},
   "source": [
    "#### Data (blob)"
   ]
  },
  {
   "cell_type": "code",
   "execution_count": 2,
   "id": "152b9a95",
   "metadata": {},
   "outputs": [],
   "source": [
    "from sklearn.datasets import make_blobs\n",
    "\n",
    "# generate blob data\n",
    "data, labels = make_blobs(\n",
    "    n_samples=1000,  # number of datapoints\n",
    "    centers=4,  # number of blobs - one blob has one label -> number of classes.\n",
    "    n_features=2,  # number of inputs\n",
    "    random_state=0,  # same random_state -> generate same data - for repeatability\n",
    ")\n",
    "\n",
    "from sklearn.model_selection import train_test_split\n",
    "\n",
    "XX_train, XX_val, Y_train, Y_val = train_test_split(\n",
    "    data, labels, stratify=labels, random_state=0\n",
    ")"
   ]
  },
  {
   "cell_type": "code",
   "execution_count": 3,
   "id": "ff6ec597",
   "metadata": {},
   "outputs": [
    {
     "name": "stdout",
     "output_type": "stream",
     "text": [
      "(750, 4) (250, 4)\n"
     ]
    }
   ],
   "source": [
    "from sklearn.preprocessing import OneHotEncoder\n",
    "\n",
    "enc = OneHotEncoder()\n",
    "# 0 -> (1, 0, 0, 0), 1 -> (0, 1, 0, 0), 2 -> (0, 0, 1, 0), 3 -> (0, 0, 0, 1)\n",
    "YY_OH_train = enc.fit_transform(np.expand_dims(Y_train, 1)).toarray()\n",
    "YY_OH_val = enc.fit_transform(np.expand_dims(Y_val, 1)).toarray()\n",
    "print(YY_OH_train.shape, YY_OH_val.shape)"
   ]
  },
  {
   "cell_type": "code",
   "execution_count": null,
   "id": "f863d893",
   "metadata": {},
   "outputs": [],
   "source": []
  },
  {
   "cell_type": "markdown",
   "id": "2721fd0f",
   "metadata": {},
   "source": [
    "### copy, deepcopy\n",
    "python assigment - only attaching label to same reference  \n",
    "in python functions - the argument name attached to the passed objects - like a new label. => almost call by reference. \n",
    "=> mostly the original values also change - as same memory - only different labels.\n",
    "\n",
    "use copy() or deepcopy() inside function to make a different copy (memory) and work on that - if we want pass by value.\n",
    "\n",
    "- A shallow copy constructs a new compound object and then (to the extent possible) inserts references into it to the objects found in the original.\n",
    "\n",
    "- A deep copy constructs a new compound object and then, recursively, inserts copies into it of the objects found in the original.\n",
    "\n",
    "eg : list of lists (both outer list and inner lists are 'objects')  \n",
    ".copy() - make a new object for the outer list only - inner ones are same references  \n",
    ".deepcopy() - make new copy objects for each recursively"
   ]
  },
  {
   "cell_type": "code",
   "execution_count": null,
   "id": "b563ed6c",
   "metadata": {},
   "outputs": [],
   "source": []
  },
  {
   "cell_type": "markdown",
   "id": "77dc9b7a",
   "metadata": {},
   "source": [
    "here we are implementing a fixed structure - not general.  \n",
    "predefined number of layers, neurons, outputs."
   ]
  },
  {
   "cell_type": "code",
   "execution_count": 4,
   "id": "765d1d57",
   "metadata": {},
   "outputs": [
    {
     "name": "stdout",
     "output_type": "stream",
     "text": [
      "[[ 1.45322472  0.07820279]\n",
      " [-0.39010493 -0.91615879]]\n",
      "[[-0.10539298  1.73361245  0.56178189 -0.33288184]\n",
      " [-0.76116904 -0.46026108  0.57359426 -1.36647142]]\n"
     ]
    }
   ],
   "source": [
    "# parameters \n",
    "# weight matrices.\n",
    "# make outside and pass while class instantiation\n",
    "Wmat1 = np.random.randn(2, 2)\n",
    "Wmat2 = np.random.randn(2, 4)\n",
    "print(Wmat1)\n",
    "print(Wmat2)\n",
    "\n",
    "# for using the same initial Weights for all"
   ]
  },
  {
   "cell_type": "markdown",
   "id": "28a4f019",
   "metadata": {},
   "source": [
    "### Scalar implementation of FF net \n",
    "(multiclass)\n",
    "\n",
    "forward pass - takes vector input and give a vector ouput  \n",
    "\n",
    "forward pass : update other parameters also.. to be used by gradient. also returns ouput"
   ]
  },
  {
   "cell_type": "code",
   "execution_count": 5,
   "id": "9238c16f",
   "metadata": {},
   "outputs": [],
   "source": [
    "from ff_scalar import FFScalar"
   ]
  },
  {
   "cell_type": "code",
   "execution_count": 6,
   "id": "92bdfe76",
   "metadata": {},
   "outputs": [],
   "source": [
    "ffs = FFScalar( Wmat1,Wmat2 ) # intial weight is passed\n",
    "# ffs.fit(XX_train,YY_OH_train,epochs=2000,learning_rate=.5,display_loss=True)"
   ]
  },
  {
   "cell_type": "markdown",
   "id": "e26c300b",
   "metadata": {},
   "source": [
    "### Vectorizing weights\n",
    "\n",
    "but inputs - one at a time."
   ]
  },
  {
   "cell_type": "markdown",
   "id": "6d5eef85",
   "metadata": {},
   "source": [
    "using numpy functions - can use on vectors.. supports vectorization, broadcasting  \n",
    "\n",
    "keep track of the dimensions using comments while coding\n",
    "\n",
    "arr.reshape(-1,1) - to make it a column vector (done everywhere) - so that not problem in matrix operations.  \n",
    "in linear algebra - \"vector\" => column vector"
   ]
  },
  {
   "cell_type": "code",
   "execution_count": 7,
   "id": "609e9eca",
   "metadata": {},
   "outputs": [],
   "source": [
    "from ff_weight_vectorized import FFWeightVectorised"
   ]
  },
  {
   "cell_type": "code",
   "execution_count": 8,
   "id": "377583af",
   "metadata": {},
   "outputs": [],
   "source": [
    "fwv = FFWeightVectorised(Wmat1,Wmat2)\n",
    "# fwv.fit(XX_train,YY_OH_train,epochs=2000,learning_rate=.5,display_loss=True)"
   ]
  },
  {
   "cell_type": "markdown",
   "id": "640a904d",
   "metadata": {},
   "source": [
    "### Inputs and Weights Vectorized (vectorising inputs also)\n",
    "\n",
    "**all input/data as a matrix/tensor - in one go !!**"
   ]
  },
  {
   "cell_type": "code",
   "execution_count": 9,
   "id": "bc50ade5",
   "metadata": {},
   "outputs": [],
   "source": [
    "from ff_inputandweight_vectorized import FFInputWeightVectorised"
   ]
  },
  {
   "cell_type": "code",
   "execution_count": 10,
   "id": "18231c13",
   "metadata": {},
   "outputs": [],
   "source": [
    "fiwv = FFInputWeightVectorised(Wmat1,Wmat2)\n",
    "# fiwv.fit(XX_train,YY_OH_train,epochs=2000,learning_rate=.5,display_loss=True)"
   ]
  },
  {
   "cell_type": "code",
   "execution_count": 11,
   "id": "aed88784",
   "metadata": {},
   "outputs": [],
   "source": [
    "models = [ffs, fwv, fiwv] # model objects list"
   ]
  },
  {
   "cell_type": "markdown",
   "id": "d8adfc9d",
   "metadata": {},
   "source": [
    "### comparing time"
   ]
  },
  {
   "cell_type": "code",
   "execution_count": 12,
   "id": "a334876b",
   "metadata": {},
   "outputs": [],
   "source": [
    "import time"
   ]
  },
  {
   "cell_type": "code",
   "execution_count": 13,
   "id": "ae1172c8",
   "metadata": {},
   "outputs": [
    {
     "data": {
      "application/vnd.jupyter.widget-view+json": {
       "model_id": "83ce3a5cee87424e9f763bf642ceb8ef",
       "version_major": 2,
       "version_minor": 0
      },
      "text/plain": [
       "  0%|          | 0/2000 [00:00<?, ?epoch/s]"
      ]
     },
     "metadata": {},
     "output_type": "display_data"
    },
    {
     "data": {
      "image/png": "[encoded data removed]",
      "text/plain": [
       "<Figure size 432x288 with 1 Axes>"
      ]
     },
     "metadata": {
      "needs_background": "light"
     },
     "output_type": "display_data"
    },
    {
     "name": "stdout",
     "output_type": "stream",
     "text": [
      "Time taken by model 1: 60.015141010284424\n"
     ]
    },
    {
     "data": {
      "application/vnd.jupyter.widget-view+json": {
       "model_id": "99d39e18f5774950bf97f06c38363945",
       "version_major": 2,
       "version_minor": 0
      },
      "text/plain": [
       "  0%|          | 0/2000 [00:00<?, ?epoch/s]"
      ]
     },
     "metadata": {},
     "output_type": "display_data"
    },
    {
     "data": {
      "image/png": "[encoded data removed]",
      "text/plain": [
       "<Figure size 432x288 with 1 Axes>"
      ]
     },
     "metadata": {
      "needs_background": "light"
     },
     "output_type": "display_data"
    },
    {
     "name": "stdout",
     "output_type": "stream",
     "text": [
      "Time taken by model 2: 56.774675607681274\n"
     ]
    },
    {
     "data": {
      "application/vnd.jupyter.widget-view+json": {
       "model_id": "2d95f405c2314bbfa87efe84595943a4",
       "version_major": 2,
       "version_minor": 0
      },
      "text/plain": [
       "  0%|          | 0/2000 [00:00<?, ?epoch/s]"
      ]
     },
     "metadata": {},
     "output_type": "display_data"
    },
    {
     "data": {
      "image/png": "[encoded data removed]",
      "text/plain": [
       "<Figure size 432x288 with 1 Axes>"
      ]
     },
     "metadata": {
      "needs_background": "light"
     },
     "output_type": "display_data"
    },
    {
     "name": "stdout",
     "output_type": "stream",
     "text": [
      "Time taken by model 3: 1.8709070682525635\n"
     ]
    }
   ],
   "source": [
    "# enumerate - return element and also corresponding iteration value\n",
    "for i, model in enumerate(models, start=1):\n",
    "    tic = time.time()\n",
    "    model.fit(XX_train,YY_OH_train,epochs=2000,learning_rate=.5,display_loss=True)\n",
    "    toc = time.time()\n",
    "    print( \"Time taken by model {}: {}\".format(i, toc-tic) )"
   ]
  },
  {
   "cell_type": "markdown",
   "id": "50552668",
   "metadata": {},
   "source": [
    "**significant differnce in time.**\n",
    "\n",
    "here, not much improvement on vectorising weights - as only few weights are there here.\n",
    "\n",
    "but vectorising inputs - significant improvement - as many inputs."
   ]
  },
  {
   "cell_type": "code",
   "execution_count": null,
   "id": "dc438ba4",
   "metadata": {},
   "outputs": [],
   "source": []
  },
  {
   "cell_type": "markdown",
   "id": "90e12ba4",
   "metadata": {},
   "source": [
    "### comparing accuracy"
   ]
  },
  {
   "cell_type": "code",
   "execution_count": 14,
   "id": "ad273a63",
   "metadata": {},
   "outputs": [],
   "source": [
    "from sklearn.metrics import accuracy_score\n",
    "\n",
    "import matplotlib.colors\n",
    "\n",
    "# custom color map\n",
    "my_cmap = matplotlib.colors.LinearSegmentedColormap.from_list(\n",
    "    \"\", [\"red\", \"yellow\", \"green\"]\n",
    ")"
   ]
  },
  {
   "cell_type": "code",
   "execution_count": 15,
   "id": "a3defa01",
   "metadata": {},
   "outputs": [
    {
     "name": "stdout",
     "output_type": "stream",
     "text": [
      "Model 1\n",
      "Training accuracy 0.92\n",
      "Validation accuracy 0.93\n",
      "Model 2\n",
      "Training accuracy 0.91\n",
      "Validation accuracy 0.94\n",
      "Model 3\n",
      "Training accuracy 0.91\n",
      "Validation accuracy 0.94\n"
     ]
    },
    {
     "data": {
      "image/png": "[encoded data removed]",
      "text/plain": [
       "<Figure size 432x288 with 1 Axes>"
      ]
     },
     "metadata": {
      "needs_background": "light"
     },
     "output_type": "display_data"
    }
   ],
   "source": [
    "for i, model in enumerate(models, start=1):\n",
    "    \n",
    "    YY_pred_train = model.predict(XX_train)\n",
    "    Y_pred_train = np.argmax(YY_pred_train,1)\n",
    "    \n",
    "    YY_pred_val = model.predict(XX_val)\n",
    "    Y_pred_val = np.argmax(YY_pred_val,1)\n",
    "    \n",
    "    accuracy_train = accuracy_score(Y_pred_train, Y_train)\n",
    "    accuracy_val = accuracy_score(Y_pred_val, Y_val)\n",
    "  \n",
    "    print(\"Model {}\".format(i))\n",
    "    print(\"Training accuracy\", round(accuracy_train, 2))\n",
    "    print(\"Validation accuracy\", round(accuracy_val, 2))\n",
    "\n",
    "\n",
    "# one plot as same prediction by all\n",
    "plt.scatter(XX_train[:,0], XX_train[:,1], \n",
    "            c=Y_pred_train, cmap=my_cmap, \n",
    "            s=15*(np.abs(np.sign(Y_pred_train-Y_train))+.1))\n",
    "plt.show()"
   ]
  },
  {
   "cell_type": "markdown",
   "id": "4392672a",
   "metadata": {},
   "source": [
    "all similar performance. as mathematically same - only implementation is different."
   ]
  },
  {
   "cell_type": "markdown",
   "id": "93719360",
   "metadata": {},
   "source": [
    "#### Exercises\n",
    "\n",
    "* general FF class - with vectorisation. (that will be the final thing) - ie, for a given : number of inputs, number of outputs, number of layers, number of neurons in each layer."
   ]
  },
  {
   "cell_type": "code",
   "execution_count": null,
   "id": "d713c800",
   "metadata": {},
   "outputs": [],
   "source": []
  }
 ],
 "metadata": {
  "kernelspec": {
   "display_name": "Python 3 (ipykernel)",
   "language": "python",
   "name": "python3"
  },
  "language_info": {
   "codemirror_mode": {
    "name": "ipython",
    "version": 3
   },
   "file_extension": ".py",
   "mimetype": "text/x-python",
   "name": "python",
   "nbconvert_exporter": "python",
   "pygments_lexer": "ipython3",
   "version": "3.8.10"
  }
 },
 "nbformat": 4,
 "nbformat_minor": 5
}
