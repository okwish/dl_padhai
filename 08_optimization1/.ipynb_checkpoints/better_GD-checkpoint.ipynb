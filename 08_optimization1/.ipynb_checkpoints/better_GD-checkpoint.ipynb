{
 "cells": [
  {
   "cell_type": "code",
   "execution_count": 3,
   "id": "6f4e6aa7",
   "metadata": {},
   "outputs": [],
   "source": [
    "def do_momentum_gd():\n",
    "    w,b,alpha,max_epochs = -2,-2,1.0,1000\n",
    "    v_w, v_b = 0,0\n",
    "    gamma = 0.9\n",
    "    for i in range(max_epochs):\n",
    "        dw,db = 0,0\n",
    "        \n",
    "        for x,y in zip(X,Y):\n",
    "            dw += grad_w(w,b,x,y)\n",
    "            db += grad_b(w,b,x,y)\n",
    "            \n",
    "        v_w = gamma*v_w + alpha*dw\n",
    "        v_b = gamma*v_b + alpha*db\n",
    "        \n",
    "        w = w - v_w\n",
    "        b = b - v_b"
   ]
  },
  {
   "cell_type": "code",
   "execution_count": 4,
   "id": "413fd0ee",
   "metadata": {},
   "outputs": [],
   "source": [
    "def do_nesterov_gd():\n",
    "    w,b,alpha,max_epochs = -2,-2,1.0,1000\n",
    "    v_w, v_b,gamma = 0,0, 0.9\n",
    "    for i in range(max_epochs):\n",
    "        dw,db = 0,0\n",
    "        \n",
    "        #compute \"look-ahead value\" (w_temp)\n",
    "        w = w - gamma*v_w\n",
    "        b = b - gamma*v_b\n",
    "        \n",
    "        for x,y in zip(X,Y):\n",
    "            #compute derivative using the lookahead value\n",
    "            dw += grad_w(w,b,x,y)\n",
    "            db += grad_b(w,b,x,y)\n",
    "        \n",
    "        #now move further in the direction of gradiient\n",
    "        w = w - alpha*dw\n",
    "        b = b - alpha*db\n",
    "        \n",
    "        #now update 'history' for next iteration\n",
    "        v_w = gamma*v_w + alpha*dw\n",
    "        v_b = gamma*v_b + alpha*db"
   ]
  }
 ],
 "metadata": {
  "kernelspec": {
   "display_name": "Python 3 (ipykernel)",
   "language": "python",
   "name": "python3"
  },
  "language_info": {
   "codemirror_mode": {
    "name": "ipython",
    "version": 3
   },
   "file_extension": ".py",
   "mimetype": "text/x-python",
   "name": "python",
   "nbconvert_exporter": "python",
   "pygments_lexer": "ipython3",
   "version": "3.8.10"
  }
 },
 "nbformat": 4,
 "nbformat_minor": 5
}
