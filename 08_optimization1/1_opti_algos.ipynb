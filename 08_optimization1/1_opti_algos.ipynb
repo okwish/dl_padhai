{
 "cells": [
  {
   "cell_type": "markdown",
   "id": "c3b21754",
   "metadata": {},
   "source": [
    "Multiple optimization algorithms can be used in minimizing the objective function(loss function).\n",
    "\n",
    "- Gradient descent\n",
    "- Minibatch gradient descent\n",
    "- Momenum GD\n",
    "- NAG"
   ]
  },
  {
   "cell_type": "code",
   "execution_count": 1,
   "id": "b1b84944",
   "metadata": {},
   "outputs": [],
   "source": [
    "import numpy as np\n",
    "import matplotlib.pyplot as plt"
   ]
  },
  {
   "cell_type": "markdown",
   "id": "38003695",
   "metadata": {},
   "source": [
    "Trying everything on a single-sigmoid-neruon model ; 1D(scalar) input - 1D ouput."
   ]
  },
  {
   "cell_type": "code",
   "execution_count": 2,
   "id": "dbb9b66a",
   "metadata": {},
   "outputs": [],
   "source": [
    "from single_sigmoid_neuron import SingleSigmoidNeuron"
   ]
  },
  {
   "cell_type": "code",
   "execution_count": 3,
   "id": "a3191d7f",
   "metadata": {},
   "outputs": [],
   "source": [
    "# configuration for one experiment\n",
    "# change here and run cells below\n",
    "\n",
    "# data\n",
    "X = np.asarray([0.5, 2.5])\n",
    "Y = np.asarray([0.2, 0.9])\n",
    "\n",
    "# learning algo\n",
    "algo = \"GD\"\n",
    "\n",
    "# inintialisation\n",
    "w_init = -2\n",
    "b_init = -2\n",
    "\n",
    "# other hyperparameters\n",
    "epochs = 1000\n",
    "eta = 5\n",
    "# mini_batch_size = 6\n",
    "gamma = 0.9"
   ]
  },
  {
   "cell_type": "code",
   "execution_count": 4,
   "id": "13658c3a",
   "metadata": {},
   "outputs": [],
   "source": [
    "ssn = SingleSigmoidNeuron(w_init, b_init, algo) #instantiate with ini value, algo\n",
    "ssn.fit(X, Y, epochs=epochs, eta=eta, gamma=gamma)"
   ]
  },
  {
   "cell_type": "markdown",
   "id": "1341958c",
   "metadata": {},
   "source": [
    "### plotting weights, biases, loss vs steps"
   ]
  },
  {
   "cell_type": "code",
   "execution_count": 6,
   "id": "049139a5",
   "metadata": {
    "scrolled": true
   },
   "outputs": [
    {
     "data": {
      "image/png": "[encoded data removed]",
      "text/plain": [
       "<Figure size 432x288 with 1 Axes>"
      ]
     },
     "metadata": {
      "needs_background": "light"
     },
     "output_type": "display_data"
    }
   ],
   "source": [
    "plt.plot(ssn.E_h, 'r')\n",
    "plt.plot(ssn.W_h, 'b')\n",
    "plt.plot(ssn.B_h, 'g')\n",
    "plt.show()"
   ]
  },
  {
   "cell_type": "markdown",
   "id": "2f6980b8",
   "metadata": {},
   "source": [
    "### plotting ( p(t)-p(t-1) )  (update values of parameters)\n",
    "\n",
    "ie, \"updates\"(change) - of each parameter   \n",
    "\n",
    "for getting differences array :  \n",
    "another array - with same elements one shifted(taken from 1 off) -> arr\\[1:]   \n",
    "then difference of the two arrays(original, shifted)."
   ]
  },
  {
   "cell_type": "code",
   "execution_count": 11,
   "id": "09ed5b42",
   "metadata": {},
   "outputs": [
    {
     "data": {
      "image/png": "[encoded data removed]",
      "text/plain": [
       "<Figure size 432x288 with 1 Axes>"
      ]
     },
     "metadata": {
      "needs_background": "light"
     },
     "output_type": "display_data"
    }
   ],
   "source": [
    "W_diff = [t - s for t, s in zip(ssn.W_h, ssn.W_h[1:])]\n",
    "B_diff = [t - s for t, s in zip(ssn.W_h, ssn.W_h[1:])]\n",
    "\n",
    "plt.plot(W_diff, 'r--')\n",
    "plt.plot(B_diff, 'b--')\n",
    "\n",
    "plt.show()"
   ]
  },
  {
   "cell_type": "markdown",
   "id": "647ad016",
   "metadata": {},
   "source": [
    "there is a correlation between the difference curves. alligned.  \n",
    "(the curves are overlapping)    \n",
    "=> restricted to making similar changes for all parameters "
   ]
  },
  {
   "cell_type": "code",
   "execution_count": null,
   "id": "c63afce8",
   "metadata": {},
   "outputs": [],
   "source": []
  }
 ],
 "metadata": {
  "kernelspec": {
   "display_name": "Python 3 (ipykernel)",
   "language": "python",
   "name": "python3"
  },
  "language_info": {
   "codemirror_mode": {
    "name": "ipython",
    "version": 3
   },
   "file_extension": ".py",
   "mimetype": "text/x-python",
   "name": "python",
   "nbconvert_exporter": "python",
   "pygments_lexer": "ipython3",
   "version": "3.8.10"
  }
 },
 "nbformat": 4,
 "nbformat_minor": 5
}
