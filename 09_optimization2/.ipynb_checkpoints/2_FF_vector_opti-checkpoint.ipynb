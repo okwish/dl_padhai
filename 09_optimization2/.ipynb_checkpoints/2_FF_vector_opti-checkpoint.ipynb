{
 "cells": [
  {
   "cell_type": "markdown",
   "id": "fc3ea4e5",
   "metadata": {},
   "source": [
    "previous - in one neuron case - only two parameters - implemented in scalar way in code.\n",
    "\n",
    "now - network with multiple layers, multiple input, multiple output  \n",
    "implemented using vectorization"
   ]
  },
  {
   "cell_type": "code",
   "execution_count": 1,
   "id": "797f5b35",
   "metadata": {},
   "outputs": [],
   "source": [
    "import numpy as np\n",
    "import matplotlib.pyplot as plt"
   ]
  },
  {
   "cell_type": "markdown",
   "id": "96b373ba",
   "metadata": {},
   "source": [
    "#### Data (blob)"
   ]
  },
  {
   "cell_type": "code",
   "execution_count": 2,
   "id": "3557efff",
   "metadata": {},
   "outputs": [],
   "source": [
    "from sklearn.datasets import make_blobs\n",
    "\n",
    "# generate blob data\n",
    "data, labels = make_blobs(\n",
    "    n_samples=1000,  # number of datapoints\n",
    "    centers=4,  # number of blobs - one blob has one label -> number of classes.\n",
    "    n_features=2,  # number of inputs\n",
    "    random_state=0,  # same random_state -> generate same data - for repeatability\n",
    ")\n",
    "\n",
    "from sklearn.model_selection import train_test_split\n",
    "\n",
    "XX_train, XX_val, Y_train, Y_val = train_test_split(\n",
    "    data, labels, stratify=labels, random_state=0\n",
    ")"
   ]
  },
  {
   "cell_type": "code",
   "execution_count": 3,
   "id": "62777db6",
   "metadata": {},
   "outputs": [
    {
     "name": "stdout",
     "output_type": "stream",
     "text": [
      "(750, 4) (250, 4)\n"
     ]
    }
   ],
   "source": [
    "from sklearn.preprocessing import OneHotEncoder\n",
    "\n",
    "enc = OneHotEncoder()\n",
    "# 0 -> (1, 0, 0, 0), 1 -> (0, 1, 0, 0), 2 -> (0, 0, 1, 0), 3 -> (0, 0, 0, 1)\n",
    "YY_OH_train = enc.fit_transform(np.expand_dims(Y_train, 1)).toarray()\n",
    "YY_OH_val = enc.fit_transform(np.expand_dims(Y_val, 1)).toarray()\n",
    "print(YY_OH_train.shape, YY_OH_val.shape)"
   ]
  },
  {
   "cell_type": "code",
   "execution_count": null,
   "id": "b5d72546",
   "metadata": {},
   "outputs": [],
   "source": []
  },
  {
   "cell_type": "code",
   "execution_count": 4,
   "id": "4e155f8d",
   "metadata": {},
   "outputs": [
    {
     "name": "stdout",
     "output_type": "stream",
     "text": [
      "[[-0.32562711 -1.00761858]\n",
      " [ 0.51258505 -0.40615198]]\n",
      "[[-1.40106577  1.1388825  -0.19372539 -0.74798649]\n",
      " [-0.49443569  0.8139172   0.63570262  0.84041097]]\n"
     ]
    }
   ],
   "source": [
    "Wmat1 = np.random.randn(2, 2)\n",
    "Wmat2 = np.random.randn(2, 4)\n",
    "print(Wmat1)\n",
    "print(Wmat2)\n",
    "\n",
    "# so that all are compared with same initial parameters"
   ]
  },
  {
   "cell_type": "code",
   "execution_count": null,
   "id": "5310782e",
   "metadata": {},
   "outputs": [],
   "source": []
  },
  {
   "cell_type": "code",
   "execution_count": 5,
   "id": "ea6ebf48",
   "metadata": {},
   "outputs": [],
   "source": [
    "from sklearn.metrics import accuracy_score\n",
    "\n",
    "# function to find and print accuracy; given model\n",
    "# predict with model - accuracy(prediction, ground truth)\n",
    "def print_accuracy(model):    \n",
    "    YY_pred_train = model.predict(XX_train)\n",
    "    Y_pred_train = np.argmax(YY_pred_train,1)\n",
    "    \n",
    "    YY_pred_val = model.predict(XX_val)\n",
    "    Y_pred_val = np.argmax(YY_pred_val,1)\n",
    "    \n",
    "    accuracy_train = accuracy_score(Y_pred_train, Y_train)\n",
    "    accuracy_val = accuracy_score(Y_pred_val, Y_val)\n",
    "    \n",
    "    print(\"Training accuracy\", round(accuracy_train, 4))\n",
    "    print(\"Validation accuracy\", round(accuracy_val, 4))"
   ]
  },
  {
   "cell_type": "markdown",
   "id": "cf06eacc",
   "metadata": {},
   "source": [
    "### FF Class\n",
    "\n",
    "vectorized implementation of various optimization algorithms also."
   ]
  },
  {
   "cell_type": "code",
   "execution_count": 6,
   "id": "9667f965",
   "metadata": {},
   "outputs": [],
   "source": [
    "from ff_vectorized_opti import FFVectorOpti"
   ]
  },
  {
   "cell_type": "code",
   "execution_count": 7,
   "id": "e1ddaa27",
   "metadata": {},
   "outputs": [],
   "source": [
    "# model = FFVectorOpti(Wmat1, Wmat2) \n",
    "# need to instatiate each time\n",
    "# else will start from the current parameters"
   ]
  },
  {
   "cell_type": "markdown",
   "id": "de07f585",
   "metadata": {},
   "source": [
    "## Using various hyperparameters"
   ]
  },
  {
   "cell_type": "markdown",
   "id": "02358e2b",
   "metadata": {},
   "source": [
    "### GD"
   ]
  },
  {
   "cell_type": "code",
   "execution_count": 8,
   "id": "bb9e23e3",
   "metadata": {},
   "outputs": [
    {
     "data": {
      "application/vnd.jupyter.widget-view+json": {
       "model_id": "1800990fb2264d4793324a29e1a5ea1e",
       "version_major": 2,
       "version_minor": 0
      },
      "text/plain": [
       "  0%|          | 0/100 [00:00<?, ?epoch/s]"
      ]
     },
     "metadata": {},
     "output_type": "display_data"
    },
    {
     "data": {
      "image/png": "[encoded data removed]",
      "text/plain": [
       "<Figure size 216x144 with 1 Axes>"
      ]
     },
     "metadata": {
      "needs_background": "light"
     },
     "output_type": "display_data"
    },
    {
     "name": "stdout",
     "output_type": "stream",
     "text": [
      "Training accuracy 0.696\n",
      "Validation accuracy 0.684\n",
      "CPU times: user 333 ms, sys: 135 ms, total: 469 ms\n",
      "Wall time: 273 ms\n"
     ]
    }
   ],
   "source": [
    "%%time\n",
    "model = FFVectorOpti(Wmat1, Wmat2) \n",
    "model.fit(XX_train, YY_OH_train, epochs=100, eta=1, algo=\"GD\", display_loss=True)\n",
    "print_accuracy(model)"
   ]
  },
  {
   "cell_type": "markdown",
   "id": "0c623b53",
   "metadata": {},
   "source": [
    "### Mini Batch 128"
   ]
  },
  {
   "cell_type": "code",
   "execution_count": 9,
   "id": "70a28e05",
   "metadata": {},
   "outputs": [
    {
     "data": {
      "application/vnd.jupyter.widget-view+json": {
       "model_id": "900a36125b294465a57001bb5ed06042",
       "version_major": 2,
       "version_minor": 0
      },
      "text/plain": [
       "  0%|          | 0/100 [00:00<?, ?epoch/s]"
      ]
     },
     "metadata": {},
     "output_type": "display_data"
    },
    {
     "data": {
      "image/png": "[encoded data removed]",
      "text/plain": [
       "<Figure size 216x144 with 1 Axes>"
      ]
     },
     "metadata": {
      "needs_background": "light"
     },
     "output_type": "display_data"
    },
    {
     "name": "stdout",
     "output_type": "stream",
     "text": [
      "Training accuracy 0.896\n",
      "Validation accuracy 0.912\n",
      "CPU times: user 242 ms, sys: 118 ms, total: 360 ms\n",
      "Wall time: 234 ms\n"
     ]
    }
   ],
   "source": [
    "%%time\n",
    "model = FFVectorOpti(Wmat1, Wmat2) \n",
    "model.fit(XX_train, YY_OH_train, epochs=100, eta=1, algo=\"MiniBatch\", mini_batch_size=128, display_loss=True)\n",
    "print_accuracy(model)"
   ]
  },
  {
   "cell_type": "markdown",
   "id": "172bd5bf",
   "metadata": {},
   "source": [
    "### Smaller batch size = 8\n",
    "\n",
    "smaller batch size => oscillatory. noisy.  \n",
    "as more stochasticity"
   ]
  },
  {
   "cell_type": "code",
   "execution_count": 10,
   "id": "7571b83a",
   "metadata": {},
   "outputs": [
    {
     "data": {
      "application/vnd.jupyter.widget-view+json": {
       "model_id": "025ee72a0f6f4ed2bcc026bcc46c3249",
       "version_major": 2,
       "version_minor": 0
      },
      "text/plain": [
       "  0%|          | 0/100 [00:00<?, ?epoch/s]"
      ]
     },
     "metadata": {},
     "output_type": "display_data"
    },
    {
     "data": {
      "image/png": "[encoded data removed]",
      "text/plain": [
       "<Figure size 216x144 with 1 Axes>"
      ]
     },
     "metadata": {
      "needs_background": "light"
     },
     "output_type": "display_data"
    },
    {
     "name": "stdout",
     "output_type": "stream",
     "text": [
      "Training accuracy 0.88\n",
      "Validation accuracy 0.884\n",
      "CPU times: user 901 ms, sys: 136 ms, total: 1.04 s\n",
      "Wall time: 876 ms\n"
     ]
    }
   ],
   "source": [
    "%%time\n",
    "model = FFVectorOpti(Wmat1, Wmat2) \n",
    "model.fit(XX_train, YY_OH_train, epochs=100, eta=1, algo=\"MiniBatch\", mini_batch_size=8, display_loss=True)\n",
    "print_accuracy(model)"
   ]
  },
  {
   "cell_type": "code",
   "execution_count": null,
   "id": "f8d2de07",
   "metadata": {},
   "outputs": [],
   "source": []
  },
  {
   "cell_type": "markdown",
   "id": "aa26e16c",
   "metadata": {},
   "source": [
    "### Momentum"
   ]
  },
  {
   "cell_type": "code",
   "execution_count": 11,
   "id": "cd57ee42",
   "metadata": {},
   "outputs": [
    {
     "data": {
      "application/vnd.jupyter.widget-view+json": {
       "model_id": "7f81791613fc4a0abe04b5f83de4f396",
       "version_major": 2,
       "version_minor": 0
      },
      "text/plain": [
       "  0%|          | 0/100 [00:00<?, ?epoch/s]"
      ]
     },
     "metadata": {},
     "output_type": "display_data"
    },
    {
     "data": {
      "image/png": "[encoded data removed]",
      "text/plain": [
       "<Figure size 216x144 with 1 Axes>"
      ]
     },
     "metadata": {
      "needs_background": "light"
     },
     "output_type": "display_data"
    },
    {
     "name": "stdout",
     "output_type": "stream",
     "text": [
      "Training accuracy 0.888\n",
      "Validation accuracy 0.896\n",
      "CPU times: user 281 ms, sys: 124 ms, total: 406 ms\n",
      "Wall time: 223 ms\n"
     ]
    }
   ],
   "source": [
    "%%time\n",
    "model = FFVectorOpti(Wmat1, Wmat2) \n",
    "model.fit(XX_train, YY_OH_train, epochs=100, eta=1, algo=\"Momentum\", gamma=0.5, display_loss=True)\n",
    "print_accuracy(model)"
   ]
  },
  {
   "cell_type": "markdown",
   "id": "68db455d",
   "metadata": {},
   "source": [
    "### Increased momentum \n",
    "\n",
    "(gamma)\n",
    "\n",
    "more overshoots"
   ]
  },
  {
   "cell_type": "code",
   "execution_count": 12,
   "id": "9d78aaec",
   "metadata": {},
   "outputs": [
    {
     "data": {
      "application/vnd.jupyter.widget-view+json": {
       "model_id": "7205d9389f984a9e8aeda8f569db05a9",
       "version_major": 2,
       "version_minor": 0
      },
      "text/plain": [
       "  0%|          | 0/100 [00:00<?, ?epoch/s]"
      ]
     },
     "metadata": {},
     "output_type": "display_data"
    },
    {
     "data": {
      "image/png": "[encoded data removed]",
      "text/plain": [
       "<Figure size 216x144 with 1 Axes>"
      ]
     },
     "metadata": {
      "needs_background": "light"
     },
     "output_type": "display_data"
    },
    {
     "name": "stdout",
     "output_type": "stream",
     "text": [
      "Training accuracy 0.812\n",
      "Validation accuracy 0.828\n",
      "CPU times: user 264 ms, sys: 140 ms, total: 405 ms\n",
      "Wall time: 238 ms\n"
     ]
    }
   ],
   "source": [
    "%%time\n",
    "model = FFVectorOpti(Wmat1, Wmat2) \n",
    "model.fit(XX_train, YY_OH_train, epochs=100, eta=1, algo=\"Momentum\", gamma=0.9, display_loss=True)\n",
    "print_accuracy(model)"
   ]
  },
  {
   "cell_type": "markdown",
   "id": "45adf77e",
   "metadata": {},
   "source": [
    "### Even more momentum"
   ]
  },
  {
   "cell_type": "code",
   "execution_count": 13,
   "id": "b9ce07fe",
   "metadata": {},
   "outputs": [
    {
     "data": {
      "application/vnd.jupyter.widget-view+json": {
       "model_id": "4f207489a3154354bce6d4e73b8d0da5",
       "version_major": 2,
       "version_minor": 0
      },
      "text/plain": [
       "  0%|          | 0/100 [00:00<?, ?epoch/s]"
      ]
     },
     "metadata": {},
     "output_type": "display_data"
    },
    {
     "data": {
      "image/png": "[encoded data removed]",
      "text/plain": [
       "<Figure size 216x144 with 1 Axes>"
      ]
     },
     "metadata": {
      "needs_background": "light"
     },
     "output_type": "display_data"
    },
    {
     "name": "stdout",
     "output_type": "stream",
     "text": [
      "Training accuracy 0.416\n",
      "Validation accuracy 0.416\n",
      "CPU times: user 226 ms, sys: 130 ms, total: 355 ms\n",
      "Wall time: 217 ms\n"
     ]
    }
   ],
   "source": [
    "%%time\n",
    "model = FFVectorOpti(Wmat1, Wmat2) \n",
    "model.fit(XX_train, YY_OH_train, epochs=100, eta=1, algo=\"Momentum\", gamma=0.99, display_loss=True)\n",
    "print_accuracy(model)"
   ]
  },
  {
   "cell_type": "code",
   "execution_count": null,
   "id": "b281e220",
   "metadata": {},
   "outputs": [],
   "source": []
  },
  {
   "cell_type": "markdown",
   "id": "b8fa3ecd",
   "metadata": {},
   "source": [
    "### NAG"
   ]
  },
  {
   "cell_type": "code",
   "execution_count": 14,
   "id": "27848e21",
   "metadata": {},
   "outputs": [
    {
     "data": {
      "application/vnd.jupyter.widget-view+json": {
       "model_id": "7461b0f396224ae28b1abb8d0c528c3b",
       "version_major": 2,
       "version_minor": 0
      },
      "text/plain": [
       "  0%|          | 0/100 [00:00<?, ?epoch/s]"
      ]
     },
     "metadata": {},
     "output_type": "display_data"
    },
    {
     "data": {
      "image/png": "[encoded data removed]",
      "text/plain": [
       "<Figure size 216x144 with 1 Axes>"
      ]
     },
     "metadata": {
      "needs_background": "light"
     },
     "output_type": "display_data"
    },
    {
     "name": "stdout",
     "output_type": "stream",
     "text": [
      "Training accuracy 0.532\n",
      "Validation accuracy 0.536\n",
      "CPU times: user 259 ms, sys: 114 ms, total: 374 ms\n",
      "Wall time: 225 ms\n"
     ]
    }
   ],
   "source": [
    "%%time\n",
    "model = FFVectorOpti(Wmat1, Wmat2) \n",
    "model.fit(XX_train, YY_OH_train, epochs=100, eta=1, algo=\"NAG\", gamma=0.99, display_loss=True)\n",
    "print_accuracy(model)"
   ]
  },
  {
   "cell_type": "code",
   "execution_count": 15,
   "id": "4521634b",
   "metadata": {},
   "outputs": [
    {
     "data": {
      "application/vnd.jupyter.widget-view+json": {
       "model_id": "7f8689a0fb384d53822d2fc2c93a3310",
       "version_major": 2,
       "version_minor": 0
      },
      "text/plain": [
       "  0%|          | 0/100 [00:00<?, ?epoch/s]"
      ]
     },
     "metadata": {},
     "output_type": "display_data"
    },
    {
     "data": {
      "image/png": "[encoded data removed]",
      "text/plain": [
       "<Figure size 216x144 with 1 Axes>"
      ]
     },
     "metadata": {
      "needs_background": "light"
     },
     "output_type": "display_data"
    },
    {
     "name": "stdout",
     "output_type": "stream",
     "text": [
      "Training accuracy 0.8413\n",
      "Validation accuracy 0.872\n",
      "CPU times: user 291 ms, sys: 134 ms, total: 425 ms\n",
      "Wall time: 279 ms\n"
     ]
    }
   ],
   "source": [
    "%%time\n",
    "model = FFVectorOpti(Wmat1, Wmat2) \n",
    "model.fit(XX_train, YY_OH_train, epochs=100, eta=1, algo=\"NAG\", gamma=0.5, display_loss=True)\n",
    "print_accuracy(model)"
   ]
  },
  {
   "cell_type": "code",
   "execution_count": 16,
   "id": "d21c5bc3",
   "metadata": {},
   "outputs": [
    {
     "data": {
      "application/vnd.jupyter.widget-view+json": {
       "model_id": "a34a32d948b24da68d146c1c4081694d",
       "version_major": 2,
       "version_minor": 0
      },
      "text/plain": [
       "  0%|          | 0/100 [00:00<?, ?epoch/s]"
      ]
     },
     "metadata": {},
     "output_type": "display_data"
    },
    {
     "data": {
      "image/png": "[encoded data removed]",
      "text/plain": [
       "<Figure size 216x144 with 1 Axes>"
      ]
     },
     "metadata": {
      "needs_background": "light"
     },
     "output_type": "display_data"
    },
    {
     "name": "stdout",
     "output_type": "stream",
     "text": [
      "Training accuracy 0.7413\n",
      "Validation accuracy 0.768\n",
      "CPU times: user 265 ms, sys: 156 ms, total: 422 ms\n",
      "Wall time: 236 ms\n"
     ]
    }
   ],
   "source": [
    "%%time\n",
    "model = FFVectorOpti(Wmat1, Wmat2) \n",
    "model.fit(XX_train, YY_OH_train, epochs=100, eta=1, algo=\"NAG\", gamma=0.9, display_loss=True)\n",
    "print_accuracy(model)"
   ]
  },
  {
   "cell_type": "code",
   "execution_count": null,
   "id": "9f2adbe0",
   "metadata": {},
   "outputs": [],
   "source": []
  },
  {
   "cell_type": "markdown",
   "id": "9614024a",
   "metadata": {},
   "source": [
    "### AdaGrad"
   ]
  },
  {
   "cell_type": "code",
   "execution_count": 17,
   "id": "86cd78de",
   "metadata": {},
   "outputs": [
    {
     "data": {
      "application/vnd.jupyter.widget-view+json": {
       "model_id": "eb589073d6d04792bfe9a827c7cc51cd",
       "version_major": 2,
       "version_minor": 0
      },
      "text/plain": [
       "  0%|          | 0/100 [00:00<?, ?epoch/s]"
      ]
     },
     "metadata": {},
     "output_type": "display_data"
    },
    {
     "data": {
      "image/png": "[encoded data removed]",
      "text/plain": [
       "<Figure size 216x144 with 1 Axes>"
      ]
     },
     "metadata": {
      "needs_background": "light"
     },
     "output_type": "display_data"
    },
    {
     "name": "stdout",
     "output_type": "stream",
     "text": [
      "Training accuracy 0.8933\n",
      "Validation accuracy 0.908\n",
      "CPU times: user 251 ms, sys: 109 ms, total: 360 ms\n",
      "Wall time: 239 ms\n"
     ]
    }
   ],
   "source": [
    "%%time\n",
    "model = FFVectorOpti(Wmat1, Wmat2) \n",
    "model.fit(XX_train, YY_OH_train, epochs=100, eta=1, algo=\"AdaGrad\", display_loss=True)\n",
    "print_accuracy(model)"
   ]
  },
  {
   "cell_type": "markdown",
   "id": "c2590294",
   "metadata": {},
   "source": [
    "error after first epoch is larger in adagrad compared to other methods.   \n",
    "\n",
    "r(t)=0 first=> alpha/eps => very large learning rate => very large update => large error"
   ]
  },
  {
   "cell_type": "code",
   "execution_count": 18,
   "id": "878f1a36",
   "metadata": {},
   "outputs": [
    {
     "data": {
      "application/vnd.jupyter.widget-view+json": {
       "model_id": "eb7c1c0621044383bf0a54eb2d2d8cde",
       "version_major": 2,
       "version_minor": 0
      },
      "text/plain": [
       "  0%|          | 0/100 [00:00<?, ?epoch/s]"
      ]
     },
     "metadata": {},
     "output_type": "display_data"
    },
    {
     "data": {
      "image/png": "[encoded data removed]",
      "text/plain": [
       "<Figure size 216x144 with 1 Axes>"
      ]
     },
     "metadata": {
      "needs_background": "light"
     },
     "output_type": "display_data"
    },
    {
     "name": "stdout",
     "output_type": "stream",
     "text": [
      "Training accuracy 0.6853\n",
      "Validation accuracy 0.676\n",
      "CPU times: user 241 ms, sys: 179 ms, total: 419 ms\n",
      "Wall time: 233 ms\n"
     ]
    }
   ],
   "source": [
    "%%time\n",
    "model = FFVectorOpti(Wmat1, Wmat2) \n",
    "model.fit(XX_train, YY_OH_train, epochs=100, eta=.1, algo=\"AdaGrad\", display_loss=True)\n",
    "print_accuracy(model)"
   ]
  },
  {
   "cell_type": "code",
   "execution_count": null,
   "id": "2e62d4bb",
   "metadata": {},
   "outputs": [],
   "source": []
  },
  {
   "cell_type": "markdown",
   "id": "d5704d5c",
   "metadata": {},
   "source": [
    "### RMS prop\n",
    "\n",
    "RMS prop can deal with small alpha"
   ]
  },
  {
   "cell_type": "code",
   "execution_count": 19,
   "id": "4d121729",
   "metadata": {},
   "outputs": [
    {
     "data": {
      "application/vnd.jupyter.widget-view+json": {
       "model_id": "66feab0831a64b5d87a30867f95e825b",
       "version_major": 2,
       "version_minor": 0
      },
      "text/plain": [
       "  0%|          | 0/100 [00:00<?, ?epoch/s]"
      ]
     },
     "metadata": {},
     "output_type": "display_data"
    },
    {
     "data": {
      "image/png": "[encoded data removed]",
      "text/plain": [
       "<Figure size 216x144 with 1 Axes>"
      ]
     },
     "metadata": {
      "needs_background": "light"
     },
     "output_type": "display_data"
    },
    {
     "name": "stdout",
     "output_type": "stream",
     "text": [
      "Training accuracy 0.9027\n",
      "Validation accuracy 0.896\n",
      "CPU times: user 266 ms, sys: 121 ms, total: 387 ms\n",
      "Wall time: 235 ms\n"
     ]
    }
   ],
   "source": [
    "%%time\n",
    "model = FFVectorOpti(Wmat1, Wmat2) \n",
    "model.fit(XX_train, YY_OH_train, epochs=100, eta=.1, algo=\"RMSProp\", beta=0.9, display_loss=True)\n",
    "print_accuracy(model)"
   ]
  },
  {
   "cell_type": "code",
   "execution_count": 20,
   "id": "79137306",
   "metadata": {},
   "outputs": [
    {
     "data": {
      "application/vnd.jupyter.widget-view+json": {
       "model_id": "7678b5e017ec4305bc6885306841db84",
       "version_major": 2,
       "version_minor": 0
      },
      "text/plain": [
       "  0%|          | 0/100 [00:00<?, ?epoch/s]"
      ]
     },
     "metadata": {},
     "output_type": "display_data"
    },
    {
     "data": {
      "image/png": "[encoded data removed]",
      "text/plain": [
       "<Figure size 216x144 with 1 Axes>"
      ]
     },
     "metadata": {
      "needs_background": "light"
     },
     "output_type": "display_data"
    },
    {
     "name": "stdout",
     "output_type": "stream",
     "text": [
      "Training accuracy 0.5\n",
      "Validation accuracy 0.492\n",
      "CPU times: user 246 ms, sys: 115 ms, total: 361 ms\n",
      "Wall time: 221 ms\n"
     ]
    }
   ],
   "source": [
    "%%time\n",
    "model = FFVectorOpti(Wmat1, Wmat2) \n",
    "model.fit(XX_train, YY_OH_train, epochs=100, eta=.9, algo=\"RMSProp\", beta=0.9, display_loss=True)\n",
    "print_accuracy(model)"
   ]
  },
  {
   "cell_type": "code",
   "execution_count": null,
   "id": "e7941d93",
   "metadata": {},
   "outputs": [],
   "source": []
  },
  {
   "cell_type": "markdown",
   "id": "1b7025d6",
   "metadata": {},
   "source": [
    "### Adam"
   ]
  },
  {
   "cell_type": "code",
   "execution_count": 21,
   "id": "c6d6d569",
   "metadata": {},
   "outputs": [
    {
     "data": {
      "application/vnd.jupyter.widget-view+json": {
       "model_id": "5fd5ae8a710446539dd1f4d14e7c71dd",
       "version_major": 2,
       "version_minor": 0
      },
      "text/plain": [
       "  0%|          | 0/100 [00:00<?, ?epoch/s]"
      ]
     },
     "metadata": {},
     "output_type": "display_data"
    },
    {
     "data": {
      "image/png": "[encoded data removed]",
      "text/plain": [
       "<Figure size 216x144 with 1 Axes>"
      ]
     },
     "metadata": {
      "needs_background": "light"
     },
     "output_type": "display_data"
    },
    {
     "name": "stdout",
     "output_type": "stream",
     "text": [
      "Training accuracy 0.84\n",
      "Validation accuracy 0.816\n",
      "CPU times: user 245 ms, sys: 152 ms, total: 397 ms\n",
      "Wall time: 230 ms\n"
     ]
    }
   ],
   "source": [
    "%%time\n",
    "model = FFVectorOpti(Wmat1, Wmat2) \n",
    "model.fit(XX_train, YY_OH_train, epochs=100, eta=.9, algo=\"Adam\", beta=0.9, display_loss=True)\n",
    "print_accuracy(model)"
   ]
  },
  {
   "cell_type": "code",
   "execution_count": 22,
   "id": "33ea386c",
   "metadata": {},
   "outputs": [
    {
     "data": {
      "application/vnd.jupyter.widget-view+json": {
       "model_id": "cd6f1a86cbc74ec999cc77650251e41e",
       "version_major": 2,
       "version_minor": 0
      },
      "text/plain": [
       "  0%|          | 0/100 [00:00<?, ?epoch/s]"
      ]
     },
     "metadata": {},
     "output_type": "display_data"
    },
    {
     "data": {
      "image/png": "[encoded data removed]",
      "text/plain": [
       "<Figure size 216x144 with 1 Axes>"
      ]
     },
     "metadata": {
      "needs_background": "light"
     },
     "output_type": "display_data"
    },
    {
     "name": "stdout",
     "output_type": "stream",
     "text": [
      "Training accuracy 0.9187\n",
      "Validation accuracy 0.928\n",
      "CPU times: user 265 ms, sys: 149 ms, total: 414 ms\n",
      "Wall time: 237 ms\n"
     ]
    }
   ],
   "source": [
    "%%time\n",
    "model = FFVectorOpti(Wmat1, Wmat2) \n",
    "model.fit(XX_train, YY_OH_train, epochs=100, eta=.1, algo=\"Adam\", beta=0.9, display_loss=True)\n",
    "print_accuracy(model)"
   ]
  },
  {
   "cell_type": "markdown",
   "id": "dce0a0e2",
   "metadata": {},
   "source": [
    "Adam is computationally litte more expensive."
   ]
  },
  {
   "cell_type": "code",
   "execution_count": null,
   "id": "ae9c2299",
   "metadata": {},
   "outputs": [],
   "source": []
  },
  {
   "cell_type": "markdown",
   "id": "070e1f02",
   "metadata": {},
   "source": [
    "## Good configurations for each algo"
   ]
  },
  {
   "cell_type": "markdown",
   "id": "11d2aaee",
   "metadata": {},
   "source": [
    "### GD\n",
    "\n",
    "moderate alpha - to oscillate, and large #epochs to drive it to min"
   ]
  },
  {
   "cell_type": "code",
   "execution_count": 23,
   "id": "65423064",
   "metadata": {},
   "outputs": [
    {
     "data": {
      "application/vnd.jupyter.widget-view+json": {
       "model_id": "9c778b027967464cb9a259d130cbde1a",
       "version_major": 2,
       "version_minor": 0
      },
      "text/plain": [
       "  0%|          | 0/10000 [00:00<?, ?epoch/s]"
      ]
     },
     "metadata": {},
     "output_type": "display_data"
    },
    {
     "data": {
      "image/png": "[encoded data removed]",
      "text/plain": [
       "<Figure size 216x144 with 1 Axes>"
      ]
     },
     "metadata": {
      "needs_background": "light"
     },
     "output_type": "display_data"
    },
    {
     "name": "stdout",
     "output_type": "stream",
     "text": [
      "Training accuracy 0.9293\n",
      "Validation accuracy 0.932\n",
      "CPU times: user 9.93 s, sys: 167 ms, total: 10.1 s\n",
      "Wall time: 9.93 s\n"
     ]
    }
   ],
   "source": [
    "%%time\n",
    "model = FFVectorOpti(Wmat1, Wmat2) \n",
    "model.fit(XX_train, YY_OH_train, epochs=10000, eta=0.5, algo=\"GD\", display_loss=True)\n",
    "print_accuracy(model)"
   ]
  },
  {
   "cell_type": "markdown",
   "id": "50b7f891",
   "metadata": {},
   "source": [
    "### momentum\n",
    "\n",
    "same alpha, lesser #epochs"
   ]
  },
  {
   "cell_type": "code",
   "execution_count": 24,
   "id": "c6deab5d",
   "metadata": {},
   "outputs": [
    {
     "data": {
      "application/vnd.jupyter.widget-view+json": {
       "model_id": "2e2c142e6e614d78850f65f568e2cd0f",
       "version_major": 2,
       "version_minor": 0
      },
      "text/plain": [
       "  0%|          | 0/1000 [00:00<?, ?epoch/s]"
      ]
     },
     "metadata": {},
     "output_type": "display_data"
    },
    {
     "data": {
      "image/png": "[encoded data removed]",
      "text/plain": [
       "<Figure size 216x144 with 1 Axes>"
      ]
     },
     "metadata": {
      "needs_background": "light"
     },
     "output_type": "display_data"
    },
    {
     "name": "stdout",
     "output_type": "stream",
     "text": [
      "Training accuracy 0.928\n",
      "Validation accuracy 0.944\n",
      "CPU times: user 1.12 s, sys: 148 ms, total: 1.27 s\n",
      "Wall time: 1.09 s\n"
     ]
    }
   ],
   "source": [
    "%%time\n",
    "model = FFVectorOpti(Wmat1, Wmat2) \n",
    "model.fit(XX_train, YY_OH_train, epochs=1000, eta=0.5, algo=\"Momentum\", gamma=0.9, display_loss=True)\n",
    "print_accuracy(model)"
   ]
  },
  {
   "cell_type": "markdown",
   "id": "ffe7ec7e",
   "metadata": {},
   "source": [
    "### NAG"
   ]
  },
  {
   "cell_type": "code",
   "execution_count": 25,
   "id": "a6379ab6",
   "metadata": {},
   "outputs": [
    {
     "data": {
      "application/vnd.jupyter.widget-view+json": {
       "model_id": "37ed5aeca1fe4eddae16d68eb84ba64c",
       "version_major": 2,
       "version_minor": 0
      },
      "text/plain": [
       "  0%|          | 0/1000 [00:00<?, ?epoch/s]"
      ]
     },
     "metadata": {},
     "output_type": "display_data"
    },
    {
     "data": {
      "image/png": "[encoded data removed]",
      "text/plain": [
       "<Figure size 216x144 with 1 Axes>"
      ]
     },
     "metadata": {
      "needs_background": "light"
     },
     "output_type": "display_data"
    },
    {
     "name": "stdout",
     "output_type": "stream",
     "text": [
      "Training accuracy 0.9213\n",
      "Validation accuracy 0.94\n",
      "CPU times: user 1.15 s, sys: 143 ms, total: 1.29 s\n",
      "Wall time: 1.14 s\n"
     ]
    }
   ],
   "source": [
    "%%time\n",
    "model = FFVectorOpti(Wmat1, Wmat2) \n",
    "model.fit(XX_train, YY_OH_train, epochs=1000, eta=0.5, algo=\"NAG\", gamma=0.9, display_loss=True)\n",
    "print_accuracy(model)"
   ]
  },
  {
   "cell_type": "markdown",
   "id": "563a3748",
   "metadata": {},
   "source": [
    "### Adagrad"
   ]
  },
  {
   "cell_type": "code",
   "execution_count": 26,
   "id": "5b0b0c7f",
   "metadata": {},
   "outputs": [
    {
     "data": {
      "application/vnd.jupyter.widget-view+json": {
       "model_id": "7344ab859d9f468b9828f7fb8e5f8f1a",
       "version_major": 2,
       "version_minor": 0
      },
      "text/plain": [
       "  0%|          | 0/500 [00:00<?, ?epoch/s]"
      ]
     },
     "metadata": {},
     "output_type": "display_data"
    },
    {
     "data": {
      "image/png": "[encoded data removed]",
      "text/plain": [
       "<Figure size 216x144 with 1 Axes>"
      ]
     },
     "metadata": {
      "needs_background": "light"
     },
     "output_type": "display_data"
    },
    {
     "name": "stdout",
     "output_type": "stream",
     "text": [
      "Training accuracy 0.9267\n",
      "Validation accuracy 0.944\n",
      "CPU times: user 629 ms, sys: 152 ms, total: 781 ms\n",
      "Wall time: 613 ms\n"
     ]
    }
   ],
   "source": [
    "%%time\n",
    "model = FFVectorOpti(Wmat1, Wmat2) \n",
    "model.fit(XX_train, YY_OH_train, epochs=500, eta=1, algo=\"AdaGrad\", display_loss=True)\n",
    "print_accuracy(model)"
   ]
  },
  {
   "cell_type": "markdown",
   "id": "a3d716fd",
   "metadata": {},
   "source": [
    "### RMS prop"
   ]
  },
  {
   "cell_type": "code",
   "execution_count": 27,
   "id": "d91daacd",
   "metadata": {},
   "outputs": [
    {
     "data": {
      "application/vnd.jupyter.widget-view+json": {
       "model_id": "b373207b85cc477fa1c88e9e672e8795",
       "version_major": 2,
       "version_minor": 0
      },
      "text/plain": [
       "  0%|          | 0/2000 [00:00<?, ?epoch/s]"
      ]
     },
     "metadata": {},
     "output_type": "display_data"
    },
    {
     "data": {
      "image/png": "[encoded data removed]",
      "text/plain": [
       "<Figure size 216x144 with 1 Axes>"
      ]
     },
     "metadata": {
      "needs_background": "light"
     },
     "output_type": "display_data"
    },
    {
     "name": "stdout",
     "output_type": "stream",
     "text": [
      "Training accuracy 0.9267\n",
      "Validation accuracy 0.944\n",
      "CPU times: user 2.1 s, sys: 162 ms, total: 2.26 s\n",
      "Wall time: 2.09 s\n"
     ]
    }
   ],
   "source": [
    "%%time\n",
    "model = FFVectorOpti(Wmat1, Wmat2) \n",
    "model.fit(XX_train, YY_OH_train, epochs=2000, eta=.01, algo=\"RMSProp\", beta=0.9, display_loss=True)\n",
    "print_accuracy(model)"
   ]
  },
  {
   "cell_type": "markdown",
   "id": "6a6f0e66",
   "metadata": {},
   "source": [
    "### Adam"
   ]
  },
  {
   "cell_type": "code",
   "execution_count": 28,
   "id": "c18bf267",
   "metadata": {},
   "outputs": [
    {
     "data": {
      "application/vnd.jupyter.widget-view+json": {
       "model_id": "1dabf8f526b542e6ba276ca666879d4b",
       "version_major": 2,
       "version_minor": 0
      },
      "text/plain": [
       "  0%|          | 0/200 [00:00<?, ?epoch/s]"
      ]
     },
     "metadata": {},
     "output_type": "display_data"
    },
    {
     "data": {
      "image/png": "[encoded data removed]",
      "text/plain": [
       "<Figure size 216x144 with 1 Axes>"
      ]
     },
     "metadata": {
      "needs_background": "light"
     },
     "output_type": "display_data"
    },
    {
     "name": "stdout",
     "output_type": "stream",
     "text": [
      "Training accuracy 0.924\n",
      "Validation accuracy 0.94\n",
      "CPU times: user 426 ms, sys: 110 ms, total: 536 ms\n",
      "Wall time: 398 ms\n"
     ]
    }
   ],
   "source": [
    "%%time\n",
    "model = FFVectorOpti(Wmat1, Wmat2) \n",
    "model.fit(XX_train, YY_OH_train, epochs=200, eta=.1, algo=\"Adam\", beta=0.9, display_loss=True)\n",
    "print_accuracy(model)"
   ]
  },
  {
   "cell_type": "code",
   "execution_count": null,
   "id": "d502a5a8",
   "metadata": {},
   "outputs": [],
   "source": []
  }
 ],
 "metadata": {
  "kernelspec": {
   "display_name": "Python 3 (ipykernel)",
   "language": "python",
   "name": "python3"
  },
  "language_info": {
   "codemirror_mode": {
    "name": "ipython",
    "version": 3
   },
   "file_extension": ".py",
   "mimetype": "text/x-python",
   "name": "python",
   "nbconvert_exporter": "python",
   "pygments_lexer": "ipython3",
   "version": "3.8.10"
  }
 },
 "nbformat": 4,
 "nbformat_minor": 5
}
