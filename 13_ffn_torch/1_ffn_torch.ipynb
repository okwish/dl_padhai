{
 "cells": [
  {
   "cell_type": "markdown",
   "metadata": {},
   "source": [
    "### FF network using pytorch tensors, autograd."
   ]
  },
  {
   "cell_type": "markdown",
   "metadata": {},
   "source": [
    "**torch.nn** - has functional, linear, sequential, optimizer  \n",
    "(neural n/w abstractions)\n",
    "\n",
    "make code more compact, efficient, easier to read, maintain.\n",
    "\n",
    "efficient, clean way to write code.  \n",
    "make benifit of all the libraries.(to work with DL at scale.)"
   ]
  },
  {
   "cell_type": "code",
   "execution_count": 1,
   "metadata": {},
   "outputs": [],
   "source": [
    "import torch\n",
    "\n",
    "import numpy as np\n",
    "import matplotlib.pyplot as plt"
   ]
  },
  {
   "cell_type": "code",
   "execution_count": 2,
   "metadata": {
    "colab": {
     "base_uri": "https://localhost:8080/"
    },
    "id": "ajivlrTGqhXD",
    "outputId": "560ef51d-5085-4ed3-88d2-dd3dc83040bf"
   },
   "outputs": [
    {
     "data": {
      "text/plain": [
       "<torch._C.Generator at 0x7f0c41e12d90>"
      ]
     },
     "execution_count": 2,
     "metadata": {},
     "output_type": "execute_result"
    }
   ],
   "source": [
    "torch.manual_seed(0) #torch seed for random"
   ]
  },
  {
   "cell_type": "markdown",
   "metadata": {},
   "source": [
    "#### data(blob)"
   ]
  },
  {
   "cell_type": "code",
   "execution_count": 3,
   "metadata": {
    "colab": {
     "base_uri": "https://localhost:8080/"
    },
    "id": "qoOS7L2AqsZG",
    "outputId": "1d19d1f2-2d33-4de1-bc27-d83c0e3f10f8"
   },
   "outputs": [
    {
     "name": "stdout",
     "output_type": "stream",
     "text": [
      "(750, 2) (250, 2) (1000,)\n"
     ]
    }
   ],
   "source": [
    "# data\n",
    "\n",
    "from sklearn.datasets import make_blobs\n",
    "from sklearn.model_selection import train_test_split\n",
    "\n",
    "data, labels = make_blobs(n_samples=1000, centers=4, n_features=2, random_state=0)\n",
    "\n",
    "XX_train, XX_val, Y_train, Y_val = train_test_split(data, labels, \n",
    "                                                  stratify=labels, random_state=0)\n",
    "print(XX_train.shape, XX_val.shape, labels.shape)"
   ]
  },
  {
   "cell_type": "markdown",
   "metadata": {},
   "source": [
    "#### data as torch tensors"
   ]
  },
  {
   "cell_type": "code",
   "execution_count": 4,
   "metadata": {
    "colab": {
     "base_uri": "https://localhost:8080/"
    },
    "id": "yF1DDagnt41G",
    "outputId": "1d1af76d-acbe-4f18-aeb2-7cb81566441a"
   },
   "outputs": [
    {
     "name": "stdout",
     "output_type": "stream",
     "text": [
      "torch.Size([750, 2]) torch.Size([750])\n"
     ]
    }
   ],
   "source": [
    "XX_train, Y_train, XX_val, Y_val = map(torch.tensor, (XX_train, Y_train, XX_val, Y_val)) \n",
    "\n",
    "# map the function to all and return all. - instead of calling on each one by one.\n",
    "# making torch tensors from those ndarrays. (not same memory)\n",
    "\n",
    "print(XX_train.shape, Y_train.shape)"
   ]
  },
  {
   "cell_type": "code",
   "execution_count": 5,
   "metadata": {},
   "outputs": [],
   "source": [
    "XX_train = XX_train.float()\n",
    "Y_train = Y_train.long()  # as its an index."
   ]
  },
  {
   "cell_type": "markdown",
   "metadata": {},
   "source": [
    "**all data, parameters, .. be torch tensors**"
   ]
  },
  {
   "cell_type": "markdown",
   "metadata": {
    "id": "ai7jqn63tPgw"
   },
   "source": [
    "**Using torch tensor, autograd manaully.**"
   ]
  },
  {
   "cell_type": "markdown",
   "metadata": {},
   "source": [
    "##### Forward pass"
   ]
  },
  {
   "cell_type": "code",
   "execution_count": 6,
   "metadata": {
    "id": "tN3AEQFbuMvs"
   },
   "outputs": [],
   "source": [
    "# forward prop given input. return ouput.\n",
    "\n",
    "# XX - a single datapoint(tensor) \n",
    "# or all datapoints(tensor)-in that case returned o/p will be a set of outputs for each.(tensor)\n",
    "\n",
    "\n",
    "def model(XX):\n",
    "    AA1 = torch.matmul(XX, Wmat1) + Bvec1  # (N, 2) x (2, 2) -> (N, 2)\n",
    "    HH1 = AA1.sigmoid()  # (N, 2)\n",
    "    # sigmoid - torch fn that can be called on a tensor.\n",
    "\n",
    "    AA2 = torch.matmul(HH1, Wmat2) + Bvec2  # (N, 2) x (2, 4) -> (N, 4)\n",
    "\n",
    "    # softmax layer => softmax on preactivation values\n",
    "\n",
    "    # softmax\n",
    "    HH2 = AA2.exp() / AA2.exp().sum(-1).unsqueeze(-1)  # (N, 4)\n",
    "    # chaining way.\n",
    "    # exp() - exponential on each element.\n",
    "    # sum(which axis)  '-1' -> sum along last dimension.\n",
    "\n",
    "    # what sum returns will be one dimension lesser than the input. \n",
    "    # eg: if input is 3D tensor, sum gives 2D tensor\n",
    "    # this causes a dimension mismatch in the division opearaion.\n",
    "\n",
    "    # therefore we add back the dimension we lost while using sum \n",
    "    # - using the unsqueeze function.\n",
    "\n",
    "    # add dimension to -1 position - as that is where we took sum.\n",
    "\n",
    "    # unsqueeze -> add a dimension in the specified axis\n",
    "    # -1 => add dimension in last\n",
    "\n",
    "    return HH2"
   ]
  },
  {
   "cell_type": "markdown",
   "metadata": {},
   "source": [
    "functions on tensors (like sigmoid, exp, .. ); usual syntax:  \n",
    "**tensor.function()**"
   ]
  },
  {
   "cell_type": "markdown",
   "metadata": {},
   "source": [
    "**axis** => on which axis/ along which axis  \n",
    "-1  => first axis from last  \n",
    "\n",
    "**most functions take axis as argument - do along the specified axis**  \n",
    "eg: sum(axis)  \n",
    "\n",
    "**unsqueeze(axis)** => add a 1 in the \"dimension\" - in the specified position(axis).   \n",
    "\n",
    "eg : doing sum along an axis - the result will be one dimension less than the original. This might casue of dimension mismatch - to avoid this we - add back the dimension at that axis - using unsqueeze.  \n",
    "looks same - only some extra brackets there."
   ]
  },
  {
   "cell_type": "code",
   "execution_count": 7,
   "metadata": {
    "colab": {
     "base_uri": "https://localhost:8080/"
    },
    "id": "hAnyJgU-zL8t",
    "outputId": "5f607b82-5157-4df2-9953-9384525818bf"
   },
   "outputs": [
    {
     "name": "stdout",
     "output_type": "stream",
     "text": [
      "torch.Size([5, 2, 3])\n",
      "torch.Size([5, 1, 2, 3])\n",
      "torch.Size([5, 2, 3, 1])\n"
     ]
    }
   ],
   "source": [
    "#unsqueeze\n",
    "\n",
    "A3 = torch.ones(5,2,3)\n",
    "print(A3.shape)\n",
    "print(A3.unsqueeze(1).shape)\n",
    "print(A3.unsqueeze(-1).shape)"
   ]
  },
  {
   "cell_type": "markdown",
   "metadata": {
    "id": "VWVBnzSU1rn4"
   },
   "source": [
    "**chaining functions**  \n",
    "calling one returns a tensor, on which another one can be called, and so on..   \n",
    "this makes code easier to follow and maintain(can understand what is going on easily)"
   ]
  },
  {
   "cell_type": "markdown",
   "metadata": {},
   "source": [
    "##### Loss"
   ]
  },
  {
   "cell_type": "code",
   "execution_count": 8,
   "metadata": {
    "id": "V4RahXcN4LX2"
   },
   "outputs": [],
   "source": [
    "# loss function\n",
    "\n",
    "# cross entropy loss\n",
    "# -log(prob corresponding to the true one)\n",
    "# sum of such for all datapoints (sum or mean)\n",
    "\n",
    "# Y_hat = probability distribution\n",
    "# y = true 'label' (NOT one-hot)\n",
    "\n",
    "def loss_fn(YY_hat, yy):\n",
    "    return -( YY_hat[ range(yy.shape[0]), yy ].log() ).mean()\n",
    "\n",
    "\n",
    "# element at 'y' position from each Y_hat\n",
    "# y_hat - N x classes\n",
    "# Y_hat[range(YY_hat.shape[0]), yy]  -> y-th in each row."
   ]
  },
  {
   "cell_type": "markdown",
   "metadata": {},
   "source": [
    "tensor\\[ list_x, list_y ] - all element-wise-'pair'-coordinates from the two lists   \n",
    "\n",
    "tensor[:, list] - all possible combinations"
   ]
  },
  {
   "cell_type": "code",
   "execution_count": 9,
   "metadata": {
    "colab": {
     "base_uri": "https://localhost:8080/"
    },
    "id": "BB6PGLco70zS",
    "outputId": "9fdf0582-7d74-4a23-b872-24ba2fa63b39"
   },
   "outputs": [
    {
     "name": "stdout",
     "output_type": "stream",
     "text": [
      "tensor([0.1000, 0.0500])\n",
      "tensor([[0.1000, 0.3000],\n",
      "        [0.8000, 0.0500]])\n"
     ]
    }
   ],
   "source": [
    "check = torch.tensor([[0.1, 0.2, 0.3, 0.4], [0.8, 0.1, 0.05, 0.05]])\n",
    "\n",
    "print( check[ [0,1],[0,2] ] )  # access (0,0), (1,2) - element wise pairs\n",
    "\n",
    "print( check[ : , [0,2] ] ) # access (*,0), (*,2)"
   ]
  },
  {
   "cell_type": "markdown",
   "metadata": {},
   "source": [
    "##### Accuracy(evaluation)"
   ]
  },
  {
   "cell_type": "code",
   "execution_count": 10,
   "metadata": {
    "id": "9-MguUMQ6Ov5"
   },
   "outputs": [],
   "source": [
    "def accuracy(YY_hat, yy):\n",
    "    pp = torch.argmax(YY_hat, dim=1) #prediction = max probability\n",
    "    return (pp == yy).float().mean()\n",
    "\n",
    "\n",
    "# .float() convert to float.\n",
    "# pred==y -> bool of correct preds."
   ]
  },
  {
   "cell_type": "markdown",
   "metadata": {},
   "source": [
    "#### parameters"
   ]
  },
  {
   "cell_type": "code",
   "execution_count": 11,
   "metadata": {},
   "outputs": [],
   "source": [
    "# initialize weights(xavier)\n",
    "\n",
    "torch.manual_seed(0)\n",
    "\n",
    "Wmat1 = torch.randn(2, 2) / np.sqrt(2)\n",
    "Wmat1.requires_grad_()  # enabling gradient after making tensor.\n",
    "# in place\n",
    "Bvec1 = torch.zeros(2, requires_grad=True)\n",
    "\n",
    "Wmat2 = torch.randn(2, 4) / np.sqrt(2)\n",
    "Wmat2.requires_grad_()\n",
    "Bvec2 = torch.zeros(4, requires_grad=True)\n",
    "\n",
    "# require grad - set. as we want derviatives wrt the parameters"
   ]
  },
  {
   "cell_type": "code",
   "execution_count": 12,
   "metadata": {},
   "outputs": [],
   "source": [
    "# here these parameters are like global variables. \n",
    "# They are accessed in the forward pass function , .. "
   ]
  },
  {
   "cell_type": "markdown",
   "metadata": {},
   "source": [
    "##### Fit"
   ]
  },
  {
   "cell_type": "code",
   "execution_count": 13,
   "metadata": {
    "colab": {
     "base_uri": "https://localhost:8080/",
     "height": 302
    },
    "id": "rIq3c-MS6QjL",
    "outputId": "3438a030-6139-4854-c271-efe0123a0385"
   },
   "outputs": [
    {
     "data": {
      "image/png": "[encoded data removed]",
      "text/plain": [
       "<Figure size 640x480 with 1 Axes>"
      ]
     },
     "metadata": {},
     "output_type": "display_data"
    },
    {
     "name": "stdout",
     "output_type": "stream",
     "text": [
      "Loss before training:  1.5456440448760986\n",
      "Loss after training:  0.19288595020771027\n"
     ]
    }
   ],
   "source": [
    "learning_rate = 0.2\n",
    "epochs = 10000\n",
    "\n",
    "# book keeping\n",
    "loss_arr = []\n",
    "acc_arr = []\n",
    "\n",
    "# each epoch:\n",
    "for epoch in range(epochs):\n",
    "    \n",
    "    # forward prop - called on whole train dataset.\n",
    "    YY_hat = model(XX_train)\n",
    "    # YY_hat is series of output of each. N x o/p dim\n",
    "    \n",
    "    # loss 'variable':\n",
    "    loss = loss_fn(YY_hat, Y_train)  \n",
    "    # need this line as here is the loss-variable made\n",
    "    \n",
    "    # gradient on loss.\n",
    "    loss.backward()\n",
    "    \n",
    "    # logging loss, accuracy - per epoch\n",
    "    loss_arr.append(loss.item())  # item gives the value.\n",
    "    acc_arr.append(accuracy(YY_hat, Y_train))\n",
    "\n",
    "    # updating parameters\n",
    "    with torch.no_grad():  # so that not treated as new variables\n",
    "        Wmat1 -= Wmat1.grad * learning_rate\n",
    "        Bvec1 -= Bvec1.grad * learning_rate\n",
    "        Wmat2 -= Wmat2.grad * learning_rate\n",
    "        Bvec2 -= Bvec2.grad * learning_rate\n",
    "\n",
    "        # make gradients 0.\n",
    "        Wmat1.grad.zero_()\n",
    "        Bvec1.grad.zero_()\n",
    "        Wmat2.grad.zero_()\n",
    "        Bvec2.grad.zero_()\n",
    "\n",
    "# plot the logged error, accuracy\n",
    "# vs epoch\n",
    "plt.plot(loss_arr, \"r-\")\n",
    "plt.plot(acc_arr, \"b-\")\n",
    "plt.show()\n",
    "\n",
    "print(\"Loss before training: \", loss_arr[0])\n",
    "print(\"Loss after training: \", loss_arr[-1])"
   ]
  },
  {
   "cell_type": "markdown",
   "metadata": {},
   "source": [
    "above - manually using tensor. vectorised code, plus BP using backward."
   ]
  },
  {
   "cell_type": "code",
   "execution_count": null,
   "metadata": {},
   "outputs": [],
   "source": []
  }
 ],
 "metadata": {
  "accelerator": "GPU",
  "colab": {
   "collapsed_sections": [],
   "provenance": []
  },
  "gpuClass": "standard",
  "kernelspec": {
   "display_name": "Python 3 (ipykernel)",
   "language": "python",
   "name": "python3"
  },
  "language_info": {
   "codemirror_mode": {
    "name": "ipython",
    "version": 3
   },
   "file_extension": ".py",
   "mimetype": "text/x-python",
   "name": "python",
   "nbconvert_exporter": "python",
   "pygments_lexer": "ipython3",
   "version": "3.8.10"
  }
 },
 "nbformat": 4,
 "nbformat_minor": 1
}
