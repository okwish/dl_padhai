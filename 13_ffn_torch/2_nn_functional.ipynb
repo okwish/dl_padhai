{
 "cells": [
  {
   "cell_type": "markdown",
   "metadata": {},
   "source": [
    "### only change : use torch.nn.functional.cross_entropy(YY_hat, Y_true) - library function for loss function"
   ]
  },
  {
   "cell_type": "code",
   "execution_count": 1,
   "metadata": {},
   "outputs": [],
   "source": [
    "import torch\n",
    "\n",
    "import numpy as np\n",
    "import matplotlib.pyplot as plt"
   ]
  },
  {
   "cell_type": "code",
   "execution_count": 2,
   "metadata": {
    "colab": {
     "base_uri": "https://localhost:8080/"
    },
    "id": "ajivlrTGqhXD",
    "outputId": "560ef51d-5085-4ed3-88d2-dd3dc83040bf"
   },
   "outputs": [
    {
     "data": {
      "text/plain": [
       "<torch._C.Generator at 0x7fcad9fb0d90>"
      ]
     },
     "execution_count": 2,
     "metadata": {},
     "output_type": "execute_result"
    }
   ],
   "source": [
    "torch.manual_seed(0) #torch seed for random"
   ]
  },
  {
   "cell_type": "markdown",
   "metadata": {},
   "source": [
    "#### data(blob)"
   ]
  },
  {
   "cell_type": "code",
   "execution_count": 3,
   "metadata": {
    "colab": {
     "base_uri": "https://localhost:8080/"
    },
    "id": "qoOS7L2AqsZG",
    "outputId": "1d19d1f2-2d33-4de1-bc27-d83c0e3f10f8"
   },
   "outputs": [
    {
     "name": "stdout",
     "output_type": "stream",
     "text": [
      "(750, 2) (250, 2) (1000,)\n"
     ]
    }
   ],
   "source": [
    "# data\n",
    "\n",
    "from sklearn.datasets import make_blobs\n",
    "from sklearn.model_selection import train_test_split\n",
    "\n",
    "data, labels = make_blobs(n_samples=1000, centers=4, n_features=2, random_state=0)\n",
    "\n",
    "XX_train, XX_val, Y_train, Y_val = train_test_split(data, labels, \n",
    "                                                  stratify=labels, random_state=0)\n",
    "print(XX_train.shape, XX_val.shape, labels.shape)"
   ]
  },
  {
   "cell_type": "markdown",
   "metadata": {},
   "source": [
    "#### data as torch tensors"
   ]
  },
  {
   "cell_type": "code",
   "execution_count": 4,
   "metadata": {
    "colab": {
     "base_uri": "https://localhost:8080/"
    },
    "id": "yF1DDagnt41G",
    "outputId": "1d1af76d-acbe-4f18-aeb2-7cb81566441a"
   },
   "outputs": [
    {
     "name": "stdout",
     "output_type": "stream",
     "text": [
      "torch.Size([750, 2]) torch.Size([750])\n"
     ]
    }
   ],
   "source": [
    "XX_train, Y_train, XX_val, Y_val = map(torch.tensor, (XX_train, Y_train, XX_val, Y_val)) \n",
    "\n",
    "# map the function to all and return all. - instead of calling on each one by one.\n",
    "\n",
    "print(XX_train.shape, Y_train.shape)"
   ]
  },
  {
   "cell_type": "code",
   "execution_count": 5,
   "metadata": {},
   "outputs": [],
   "source": [
    "XX_train = XX_train.float()\n",
    "Y_train = Y_train.long()  # as its an index."
   ]
  },
  {
   "cell_type": "markdown",
   "metadata": {},
   "source": [
    "##### Forward pass"
   ]
  },
  {
   "cell_type": "code",
   "execution_count": 6,
   "metadata": {
    "id": "tN3AEQFbuMvs"
   },
   "outputs": [],
   "source": [
    "# forward prop given input. return ouput.\n",
    "\n",
    "# XX - a single datapoint(tensor) \n",
    "# or all datapoints(tensor)-that case returned o/p will be a set of outputs for each.(tensor)\n",
    "\n",
    "\n",
    "def model(XX):\n",
    "    AA1 = torch.matmul(XX, Wmat1) + Bvec1  # (N, 2) x (2, 2) -> (N, 2)\n",
    "    # sigmoid\n",
    "    HH1 = AA1.sigmoid()  # (N, 2)\n",
    "    \n",
    "    AA2 = torch.matmul(HH1, Wmat2) + Bvec2  # (N, 2) x (2, 4) -> (N, 4)\n",
    "\n",
    "    # softmax\n",
    "    HH2 = AA2.exp() / AA2.exp().sum(-1).unsqueeze(-1)  # (N, 4)\n",
    "\n",
    "    return HH2"
   ]
  },
  {
   "cell_type": "markdown",
   "metadata": {},
   "source": [
    "##### Accuracy"
   ]
  },
  {
   "cell_type": "code",
   "execution_count": 7,
   "metadata": {
    "id": "9-MguUMQ6Ov5"
   },
   "outputs": [],
   "source": [
    "def accuracy(YY_hat, yy):\n",
    "    pp = torch.argmax(YY_hat, dim=1) #prediction = max probability\n",
    "    return (pp == yy).float().mean()\n",
    "\n",
    "\n",
    "# .float() convert to float.\n",
    "# pred==y -> bool of correct preds."
   ]
  },
  {
   "cell_type": "markdown",
   "metadata": {
    "id": "3UkZaVQP6Rzk"
   },
   "source": [
    "Pytorch modules specifically for writing NNs.\n",
    "\n",
    "**nn, optim** modules"
   ]
  },
  {
   "cell_type": "markdown",
   "metadata": {
    "id": "eK3AtFSbD-2o"
   },
   "source": [
    "### nn.functional"
   ]
  },
  {
   "cell_type": "code",
   "execution_count": 9,
   "metadata": {
    "id": "iBMVLjyYA_lY"
   },
   "outputs": [],
   "source": [
    "import torch.nn.functional as F"
   ]
  },
  {
   "cell_type": "markdown",
   "metadata": {},
   "source": [
    "F.cross_entropy(YY_hat, Y_train)  \n",
    "\n",
    "torch function to compute cross entropy  \n",
    "given model output(**prob dist.**), true output(**label**)"
   ]
  },
  {
   "cell_type": "code",
   "execution_count": 11,
   "metadata": {},
   "outputs": [],
   "source": [
    "# initialize weights(xavier)\n",
    "\n",
    "torch.manual_seed(0)\n",
    "\n",
    "Wmat1 = torch.randn(2, 2) / np.sqrt(2)\n",
    "Wmat1.requires_grad_()\n",
    "Bvec1 = torch.zeros(2, requires_grad=True)\n",
    "\n",
    "Wmat2 = torch.randn(2, 4) / np.sqrt(2)\n",
    "Wmat2.requires_grad_()\n",
    "Bvec2 = torch.zeros(4, requires_grad=True)\n",
    "\n",
    "# here these parameters are like global variables. \n",
    "# They are accessed in the forward pass function , .. "
   ]
  },
  {
   "cell_type": "markdown",
   "metadata": {},
   "source": [
    "##### Fit"
   ]
  },
  {
   "cell_type": "code",
   "execution_count": 12,
   "metadata": {
    "colab": {
     "base_uri": "https://localhost:8080/",
     "height": 300
    },
    "id": "-LV0Wk_5BatK",
    "outputId": "867619bb-f753-47e4-b902-ff73d1c493e4"
   },
   "outputs": [
    {
     "data": {
      "image/png": "[encoded data removed]",
      "text/plain": [
       "<Figure size 640x480 with 1 Axes>"
      ]
     },
     "metadata": {},
     "output_type": "display_data"
    },
    {
     "name": "stdout",
     "output_type": "stream",
     "text": [
      "Loss before training 1.4111982583999634\n",
      "Loss after training 0.9561846256256104\n"
     ]
    }
   ],
   "source": [
    "learning_rate = 0.2\n",
    "epochs = 10000\n",
    "\n",
    "loss_arr = []\n",
    "acc_arr = []\n",
    "\n",
    "for epoch in range(epochs):\n",
    "    \n",
    "    # forward pass\n",
    "    YY_hat = model(XX_train)\n",
    "    \n",
    "    \n",
    "    # change is here\n",
    "    # torch function to compute cross entropy\n",
    "    # given model output(prob dist.), true output(label)\n",
    "    loss = F.cross_entropy(YY_hat, Y_train)\n",
    "    \n",
    "    # gradient on loss\n",
    "    loss.backward()\n",
    "    \n",
    "    # logging loss, accuracy per epoch\n",
    "    loss_arr.append(loss.item())\n",
    "    acc_arr.append(accuracy(YY_hat, Y_train))\n",
    "\n",
    "    with torch.no_grad():\n",
    "        Wmat1 -= Wmat1.grad * learning_rate\n",
    "        Bvec1 -= Bvec1.grad * learning_rate\n",
    "        Wmat2 -= Wmat2.grad * learning_rate\n",
    "        Bvec2 -= Bvec2.grad * learning_rate\n",
    "\n",
    "        # make gradients 0.\n",
    "        Wmat1.grad.zero_()\n",
    "        Bvec1.grad.zero_()\n",
    "        Wmat2.grad.zero_()\n",
    "        Bvec2.grad.zero_()\n",
    "\n",
    "# plot the logged error, accuracy\n",
    "# vs epoch\n",
    "plt.plot(loss_arr, \"r-\")\n",
    "plt.plot(acc_arr, \"b-\")\n",
    "plt.show()\n",
    "print(\"Loss before training\", loss_arr[0])\n",
    "print(\"Loss after training\", loss_arr[-1])"
   ]
  },
  {
   "cell_type": "code",
   "execution_count": null,
   "metadata": {},
   "outputs": [],
   "source": []
  }
 ],
 "metadata": {
  "accelerator": "GPU",
  "colab": {
   "collapsed_sections": [],
   "provenance": []
  },
  "gpuClass": "standard",
  "kernelspec": {
   "display_name": "Python 3 (ipykernel)",
   "language": "python",
   "name": "python3"
  },
  "language_info": {
   "codemirror_mode": {
    "name": "ipython",
    "version": 3
   },
   "file_extension": ".py",
   "mimetype": "text/x-python",
   "name": "python",
   "nbconvert_exporter": "python",
   "pygments_lexer": "ipython3",
   "version": "3.8.10"
  }
 },
 "nbformat": 4,
 "nbformat_minor": 1
}
