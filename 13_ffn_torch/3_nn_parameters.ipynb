{
 "cells": [
  {
   "cell_type": "markdown",
   "metadata": {},
   "source": [
    "#### Model \"class\" - inheriting from nn.Module - can \"call\" forward with model_obj - wrapping parameters in nn.Parameter() so that can iterate later to update (in fit) "
   ]
  },
  {
   "cell_type": "code",
   "execution_count": 1,
   "metadata": {},
   "outputs": [],
   "source": [
    "import torch\n",
    "\n",
    "import numpy as np\n",
    "import matplotlib.pyplot as plt"
   ]
  },
  {
   "cell_type": "code",
   "execution_count": 2,
   "metadata": {
    "colab": {
     "base_uri": "https://localhost:8080/"
    },
    "id": "ajivlrTGqhXD",
    "outputId": "560ef51d-5085-4ed3-88d2-dd3dc83040bf"
   },
   "outputs": [
    {
     "data": {
      "text/plain": [
       "<torch._C.Generator at 0x7fddf7881d90>"
      ]
     },
     "execution_count": 2,
     "metadata": {},
     "output_type": "execute_result"
    }
   ],
   "source": [
    "torch.manual_seed(0) #torch seed for random"
   ]
  },
  {
   "cell_type": "markdown",
   "metadata": {},
   "source": [
    "#### data(blob)"
   ]
  },
  {
   "cell_type": "code",
   "execution_count": 3,
   "metadata": {
    "colab": {
     "base_uri": "https://localhost:8080/"
    },
    "id": "qoOS7L2AqsZG",
    "outputId": "1d19d1f2-2d33-4de1-bc27-d83c0e3f10f8"
   },
   "outputs": [
    {
     "name": "stdout",
     "output_type": "stream",
     "text": [
      "(750, 2) (250, 2) (1000,)\n"
     ]
    }
   ],
   "source": [
    "# data\n",
    "\n",
    "from sklearn.datasets import make_blobs\n",
    "from sklearn.model_selection import train_test_split\n",
    "\n",
    "data, labels = make_blobs(n_samples=1000, centers=4, n_features=2, random_state=0)\n",
    "\n",
    "XX_train, XX_val, Y_train, Y_val = train_test_split(data, labels, \n",
    "                                                  stratify=labels, random_state=0)\n",
    "print(XX_train.shape, XX_val.shape, labels.shape)"
   ]
  },
  {
   "cell_type": "markdown",
   "metadata": {},
   "source": [
    "#### data as torch tensors"
   ]
  },
  {
   "cell_type": "code",
   "execution_count": 4,
   "metadata": {
    "colab": {
     "base_uri": "https://localhost:8080/"
    },
    "id": "yF1DDagnt41G",
    "outputId": "1d1af76d-acbe-4f18-aeb2-7cb81566441a"
   },
   "outputs": [
    {
     "name": "stdout",
     "output_type": "stream",
     "text": [
      "torch.Size([750, 2]) torch.Size([750])\n"
     ]
    }
   ],
   "source": [
    "XX_train, Y_train, XX_val, Y_val = map(torch.tensor, (XX_train, Y_train, XX_val, Y_val)) \n",
    "\n",
    "# map the function to all and return all. - instead of calling on each one by one.\n",
    "\n",
    "print(XX_train.shape, Y_train.shape)"
   ]
  },
  {
   "cell_type": "code",
   "execution_count": 5,
   "metadata": {},
   "outputs": [],
   "source": [
    "XX_train = XX_train.float()\n",
    "Y_train = Y_train.long()  # as its an index."
   ]
  },
  {
   "cell_type": "code",
   "execution_count": null,
   "metadata": {},
   "outputs": [],
   "source": []
  },
  {
   "cell_type": "markdown",
   "metadata": {},
   "source": [
    "#### Accuracy"
   ]
  },
  {
   "cell_type": "code",
   "execution_count": 6,
   "metadata": {
    "id": "9-MguUMQ6Ov5"
   },
   "outputs": [],
   "source": [
    "def accuracy(YY_hat, yy):\n",
    "    pp = torch.argmax(YY_hat, dim=1) #prediction = max probability\n",
    "    return (pp == yy).float().mean()\n",
    "\n",
    "\n",
    "# .float() convert to float.\n",
    "# pred==y -> bool of correct preds."
   ]
  },
  {
   "cell_type": "code",
   "execution_count": null,
   "metadata": {},
   "outputs": [],
   "source": []
  },
  {
   "cell_type": "markdown",
   "metadata": {
    "id": "PJ2VNZP2EF6D"
   },
   "source": [
    "### nn.parameter"
   ]
  },
  {
   "cell_type": "code",
   "execution_count": 7,
   "metadata": {
    "id": "zL8uy48aEG4S"
   },
   "outputs": [],
   "source": [
    "import torch.nn as nn"
   ]
  },
  {
   "cell_type": "markdown",
   "metadata": {
    "id": "AEvm8tzgEjYh"
   },
   "source": [
    "inheriting from a parent class. \n",
    "\n",
    "parent class in paranthesis in class definition.\n",
    "\n",
    "and in init class call super().init -> like calling constructor of parent class.  \n",
    "\n",
    "### Make a model class; inherit from nn.Module"
   ]
  },
  {
   "cell_type": "code",
   "execution_count": 8,
   "metadata": {
    "id": "TpkvODCiEG1Y"
   },
   "outputs": [],
   "source": [
    "# class for model\n",
    "\n",
    "class ModelClass(nn.Module):  # inherit from nn.Module class(parent)\n",
    "    def __init__(self):\n",
    "        \n",
    "        super().__init__()\n",
    "\n",
    "        torch.manual_seed(0)\n",
    "\n",
    "        # making weights, biases as before - but wrapping in nn.Parameter()\n",
    "        # so model knows that they are parameters.\n",
    "        # don't need explicit req_grad\n",
    "        self.Wmat1 = nn.Parameter(torch.randn(2, 2) / np.sqrt(2))\n",
    "        self.Bvec1 = nn.Parameter(torch.zeros(2))\n",
    "        self.Wmat2 = nn.Parameter(torch.randn(2, 4) / np.sqrt(2))\n",
    "        self.Bvec2 = nn.Parameter(torch.zeros(4))\n",
    "\n",
    "    def forward(self, XX):  # same as before\n",
    "        AA1 = torch.matmul(XX, self.Wmat1) + self.Bvec1\n",
    "        HH1 = AA1.sigmoid()\n",
    "        AA2 = torch.matmul(HH1, self.Wmat2) + self.Bvec2\n",
    "        HH2 = AA2.exp() / AA2.exp().sum(-1).unsqueeze(-1)\n",
    "        return HH2"
   ]
  },
  {
   "cell_type": "markdown",
   "metadata": {
    "id": "HZOtxi7uF2kY"
   },
   "source": [
    "inherited from nn.Module\n",
    "\n",
    "making a object - calling it like a function on something - calls the 'forward' function.  \n",
    "ie, **model_obj(X) -> is alias for model_obj.forward(X)**.  \n",
    "this is because of the **\\_\\_call__** magic method which is defined in the parent (nn.Module)\n",
    "\n",
    "thats how nn.Module is written. "
   ]
  },
  {
   "cell_type": "code",
   "execution_count": null,
   "metadata": {},
   "outputs": [],
   "source": []
  },
  {
   "cell_type": "markdown",
   "metadata": {},
   "source": [
    "##### seperately wrinting fit function (not in class.)"
   ]
  },
  {
   "cell_type": "code",
   "execution_count": 9,
   "metadata": {
    "id": "iBMVLjyYA_lY"
   },
   "outputs": [],
   "source": [
    "import torch.nn.functional as F"
   ]
  },
  {
   "cell_type": "code",
   "execution_count": 10,
   "metadata": {
    "id": "FOuLTdXpEUVh"
   },
   "outputs": [],
   "source": [
    "def fit(epochs=1000, learning_rate=1):\n",
    "    loss_arr = []\n",
    "    acc_arr = []\n",
    "    \n",
    "    # through each epoch\n",
    "    for epoch in range(epochs):\n",
    "        \n",
    "        # fn is object of above class(to be made.)\n",
    "        # calling fn like a fn - call forward function\n",
    "        # because it inherited from nn.Module.\n",
    "        # forward pass\n",
    "        YY_hat = model_obj(XX_train)\n",
    "        # using some 'global' model_obj\n",
    "\n",
    "        # loss\n",
    "        loss = F.cross_entropy(YY_hat, Y_train)\n",
    "        \n",
    "        # logging\n",
    "        loss_arr.append(loss.item())\n",
    "        acc_arr.append(accuracy(YY_hat, Y_train))\n",
    "\n",
    "        # gradient\n",
    "        loss.backward()\n",
    "        \n",
    "        # update parameters\n",
    "        # before - we manually wrote update lines for each parameters.\n",
    "        # now doing it in better way using nn.Parameters\n",
    "        with torch.no_grad():\n",
    "            for param in model_obj.parameters():\n",
    "                param -= learning_rate * param.grad\n",
    "            model_obj.zero_grad()  # set all gradients(of all params) to 0.\n",
    "\n",
    "        ## nn.Parameters - provide short hand for updating parameters\n",
    "        ## and reseting gradients to 0.\n",
    "\n",
    "    plt.plot(loss_arr, \"r-\")\n",
    "    plt.plot(acc_arr, \"b-\")\n",
    "    plt.show()\n",
    "    print(\"Loss before training\", loss_arr[0])\n",
    "    print(\"Loss after training\", loss_arr[-1])\n",
    "\n",
    "\n",
    "# now the fit function doesn't have to care about how many sets\n",
    "# of weights and biases are there in the model, because all of them\n",
    "# are wrapped in parameters - they can be iterated over in fit.\n",
    "# any number of sets is ok.\n"
   ]
  },
  {
   "cell_type": "markdown",
   "metadata": {},
   "source": [
    "wrapping in nn.Parameters() - all added to an iterator - which can be iterated over and updated without having to use the specific names,etc. Similarly can set all grad attributes to 0 with a single function.  \n",
    "one layer of easy abstraction."
   ]
  },
  {
   "cell_type": "markdown",
   "metadata": {
    "id": "iWBaTk3rL_91"
   },
   "source": [
    "**fit function can remain independent of the model**  \n",
    "not assuming any knowledge of the model above in fit()  \n",
    "\n",
    "same thing - for any model\n",
    "\n",
    "this is design template in the framework.  \n",
    "keep fit \"function\" as a core function - and pass on to it the model, optimizer, hyper parameters, etc. \n",
    "\n",
    "good programming style.  \n",
    "\n",
    "**model (object) has parameters and forward()**  \n",
    "\n",
    "**autograd tracks all operations - whether they are using functions, or are on class attributes, etc **  \n",
    "  \n",
    "parameter updation  - done outside computation graph (no_grad)"
   ]
  },
  {
   "cell_type": "markdown",
   "metadata": {},
   "source": [
    "**The advantage of using an independent fit function is that the same fit function can be used for all the projects - only model, loss, etc. be changed**\n",
    "\n",
    "**MODEL \"CLASS\", FIT \"FUNCTION\"**  \n",
    "loss function, etc.  \n",
    "\n",
    "**model object has parameters and forward()**"
   ]
  },
  {
   "cell_type": "code",
   "execution_count": 11,
   "metadata": {
    "colab": {
     "base_uri": "https://localhost:8080/",
     "height": 300
    },
    "id": "OJpSjYl-JU6r",
    "outputId": "8a755d75-a9ea-483a-d3ee-3d95601f22f8"
   },
   "outputs": [
    {
     "data": {
      "image/png": "[encoded data removed]",
      "text/plain": [
       "<Figure size 640x480 with 1 Axes>"
      ]
     },
     "metadata": {},
     "output_type": "display_data"
    },
    {
     "name": "stdout",
     "output_type": "stream",
     "text": [
      "Loss before training 1.4111982583999634\n",
      "Loss after training 0.9939236044883728\n"
     ]
    }
   ],
   "source": [
    "model_obj = ModelClass()\n",
    "fit()"
   ]
  },
  {
   "cell_type": "markdown",
   "metadata": {},
   "source": [
    "here fit is accesssing a 'global' model_obj. In general model is passed to the fit function."
   ]
  },
  {
   "cell_type": "code",
   "execution_count": null,
   "metadata": {},
   "outputs": [],
   "source": []
  }
 ],
 "metadata": {
  "accelerator": "GPU",
  "colab": {
   "collapsed_sections": [],
   "provenance": []
  },
  "gpuClass": "standard",
  "kernelspec": {
   "display_name": "Python 3 (ipykernel)",
   "language": "python",
   "name": "python3"
  },
  "language_info": {
   "codemirror_mode": {
    "name": "ipython",
    "version": 3
   },
   "file_extension": ".py",
   "mimetype": "text/x-python",
   "name": "python",
   "nbconvert_exporter": "python",
   "pygments_lexer": "ipython3",
   "version": "3.8.10"
  }
 },
 "nbformat": 4,
 "nbformat_minor": 1
}
