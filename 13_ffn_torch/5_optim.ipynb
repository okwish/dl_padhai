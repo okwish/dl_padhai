{
 "cells": [
  {
   "cell_type": "markdown",
   "metadata": {},
   "source": [
    "### pass model parameters to optim - opt.step() does the parameter updatation step; opt.zero_grad() resets"
   ]
  },
  {
   "cell_type": "code",
   "execution_count": 1,
   "metadata": {},
   "outputs": [],
   "source": [
    "import torch\n",
    "\n",
    "import numpy as np\n",
    "import matplotlib.pyplot as plt"
   ]
  },
  {
   "cell_type": "code",
   "execution_count": 2,
   "metadata": {
    "colab": {
     "base_uri": "https://localhost:8080/"
    },
    "id": "ajivlrTGqhXD",
    "outputId": "560ef51d-5085-4ed3-88d2-dd3dc83040bf"
   },
   "outputs": [
    {
     "data": {
      "text/plain": [
       "<torch._C.Generator at 0x7eff38237d90>"
      ]
     },
     "execution_count": 2,
     "metadata": {},
     "output_type": "execute_result"
    }
   ],
   "source": [
    "torch.manual_seed(0) #torch seed for random"
   ]
  },
  {
   "cell_type": "markdown",
   "metadata": {},
   "source": [
    "#### data(blob)"
   ]
  },
  {
   "cell_type": "code",
   "execution_count": 3,
   "metadata": {
    "colab": {
     "base_uri": "https://localhost:8080/"
    },
    "id": "qoOS7L2AqsZG",
    "outputId": "1d19d1f2-2d33-4de1-bc27-d83c0e3f10f8"
   },
   "outputs": [
    {
     "name": "stdout",
     "output_type": "stream",
     "text": [
      "(750, 2) (250, 2) (1000,)\n"
     ]
    }
   ],
   "source": [
    "# data\n",
    "\n",
    "from sklearn.datasets import make_blobs\n",
    "from sklearn.model_selection import train_test_split\n",
    "\n",
    "data, labels = make_blobs(n_samples=1000, centers=4, n_features=2, random_state=0)\n",
    "\n",
    "XX_train, XX_val, Y_train, Y_val = train_test_split(data, labels, \n",
    "                                                  stratify=labels, random_state=0)\n",
    "print(XX_train.shape, XX_val.shape, labels.shape)"
   ]
  },
  {
   "cell_type": "markdown",
   "metadata": {},
   "source": [
    "#### data as torch tensors"
   ]
  },
  {
   "cell_type": "code",
   "execution_count": 4,
   "metadata": {
    "colab": {
     "base_uri": "https://localhost:8080/"
    },
    "id": "yF1DDagnt41G",
    "outputId": "1d1af76d-acbe-4f18-aeb2-7cb81566441a"
   },
   "outputs": [
    {
     "name": "stdout",
     "output_type": "stream",
     "text": [
      "torch.Size([750, 2]) torch.Size([750])\n"
     ]
    }
   ],
   "source": [
    "XX_train, Y_train, XX_val, Y_val = map(torch.tensor, (XX_train, Y_train, XX_val, Y_val)) \n",
    "\n",
    "# map the function to all and return all. - instead of calling on each one by one.\n",
    "\n",
    "print(XX_train.shape, Y_train.shape)"
   ]
  },
  {
   "cell_type": "code",
   "execution_count": 5,
   "metadata": {},
   "outputs": [],
   "source": [
    "XX_train = XX_train.float()\n",
    "Y_train = Y_train.long()  # as its an index."
   ]
  },
  {
   "cell_type": "code",
   "execution_count": null,
   "metadata": {},
   "outputs": [],
   "source": []
  },
  {
   "cell_type": "markdown",
   "metadata": {},
   "source": [
    "##### Accuracy"
   ]
  },
  {
   "cell_type": "code",
   "execution_count": 6,
   "metadata": {
    "id": "9-MguUMQ6Ov5"
   },
   "outputs": [],
   "source": [
    "def accuracy(YY_hat, yy):\n",
    "    pp = torch.argmax(YY_hat, dim=1) #prediction = max probability\n",
    "    return (pp == yy).float().mean()\n",
    "\n",
    "\n",
    "# .float() convert to float.\n",
    "# pred==y -> bool of correct preds."
   ]
  },
  {
   "cell_type": "code",
   "execution_count": null,
   "metadata": {},
   "outputs": [],
   "source": []
  },
  {
   "cell_type": "code",
   "execution_count": 7,
   "metadata": {
    "id": "zL8uy48aEG4S"
   },
   "outputs": [],
   "source": [
    "import torch.nn as nn"
   ]
  },
  {
   "cell_type": "code",
   "execution_count": 8,
   "metadata": {},
   "outputs": [],
   "source": [
    "class ModelClass(nn.Module):\n",
    "    def __init__(self):\n",
    "        \n",
    "        super().__init__()\n",
    "        torch.manual_seed(0)\n",
    "\n",
    "        self.lin1 = nn.Linear(2, 2)\n",
    "        # automatically internally have weights,biases.\n",
    "        # above- 2x2 weights, 2x1 bias\n",
    "        # they will be wrapped in parameters.. also.\n",
    "        self.lin2 = nn.Linear(2, 4)\n",
    "\n",
    "    def forward(self, XX):\n",
    "        # instead of writing the matmul line - using linear.\n",
    "        AA1 = self.lin1(XX)\n",
    "        HH1 = AA1.sigmoid()\n",
    "        AA2 = self.lin2(HH1)\n",
    "        HH2 = AA2.exp() / AA2.exp().sum(-1).unsqueeze(-1)\n",
    "        return HH2"
   ]
  },
  {
   "cell_type": "markdown",
   "metadata": {
    "id": "EMRXv_wCOl-C"
   },
   "source": [
    "### optim   \n",
    "\n",
    "parameters passed to optimizer  \n",
    "opt.step()  \n",
    "iterate through them and do:  \n",
    "    param += param.grad*lr"
   ]
  },
  {
   "cell_type": "code",
   "execution_count": 9,
   "metadata": {
    "id": "dOjllyt2Obe7"
   },
   "outputs": [],
   "source": [
    "from torch import optim\n",
    "\n",
    "# NOT nn"
   ]
  },
  {
   "cell_type": "code",
   "execution_count": 10,
   "metadata": {
    "id": "iBMVLjyYA_lY"
   },
   "outputs": [],
   "source": [
    "import torch.nn.functional as F"
   ]
  },
  {
   "cell_type": "markdown",
   "metadata": {},
   "source": [
    "#### fit function using optim."
   ]
  },
  {
   "cell_type": "markdown",
   "metadata": {},
   "source": [
    "**model_obj.parameters() passed to optim**   \n",
    "**\"parameters\" passed**"
   ]
  },
  {
   "cell_type": "code",
   "execution_count": 11,
   "metadata": {
    "id": "IsnPf5UNO-Hx"
   },
   "outputs": [],
   "source": [
    "def fit(epochs=1000, learning_rate=1):\n",
    "    loss_arr = []\n",
    "    acc_arr = []\n",
    "\n",
    "    opt = optim.SGD(model_obj.parameters(), lr=learning_rate)\n",
    "    # parameters passed to optimizer\n",
    "    # can implement multiple optimizers with this \n",
    "    # specified as additional args - like momentum, nestrov, adam, ...\n",
    "\n",
    "    for epoch in range(epochs):\n",
    "        \n",
    "        # forward\n",
    "        YY_hat = model_obj(XX_train)\n",
    "        \n",
    "        # loss\n",
    "        loss = F.cross_entropy(YY_hat, Y_train)\n",
    "        \n",
    "        # logging loss, accuracy\n",
    "        loss_arr.append(loss.item())\n",
    "        acc_arr.append(accuracy(YY_hat, Y_train))\n",
    "        \n",
    "        # compute gradient\n",
    "        loss.backward()\n",
    "\n",
    "        # instead of iterating through parameters and updating manually\n",
    "        opt.step()  # BP step. updating all parameters.\n",
    "        opt.zero_grad()  # reseting gradients of all parameters\n",
    "    \n",
    "    # plotting logged loss, accuracy\n",
    "    plt.plot(loss_arr, \"r-\")\n",
    "    plt.plot(acc_arr, \"b-\")\n",
    "    plt.show()\n",
    "    print(\"Loss before training: \", loss_arr[0])\n",
    "    print(\"Loss after training: \", loss_arr[-1])"
   ]
  },
  {
   "cell_type": "markdown",
   "metadata": {},
   "source": [
    "parameters are there in model object.   \n",
    "model_obj.parameters() are passed to optim - along with other arguments relevent for optimization.  \n",
    "so it has the parameters   \n",
    "opt.step => **do the corresponding parameter updation step to the parameters** (corresponding to the optimization method) (with no_grad)"
   ]
  },
  {
   "cell_type": "code",
   "execution_count": 12,
   "metadata": {
    "colab": {
     "base_uri": "https://localhost:8080/",
     "height": 300
    },
    "id": "xHHXqXNVRp-n",
    "outputId": "625c4411-9d8d-4aea-bc1e-a05875d2430f"
   },
   "outputs": [
    {
     "data": {
      "image/png": "[encoded data removed]",
      "text/plain": [
       "<Figure size 640x480 with 1 Axes>"
      ]
     },
     "metadata": {},
     "output_type": "display_data"
    },
    {
     "name": "stdout",
     "output_type": "stream",
     "text": [
      "Loss before training:  1.3951597213745117\n",
      "Loss after training:  0.8738412857055664\n"
     ]
    }
   ],
   "source": [
    "model_obj = ModelClass()\n",
    "fit()"
   ]
  },
  {
   "cell_type": "code",
   "execution_count": null,
   "metadata": {},
   "outputs": [],
   "source": []
  }
 ],
 "metadata": {
  "accelerator": "GPU",
  "colab": {
   "collapsed_sections": [],
   "provenance": []
  },
  "gpuClass": "standard",
  "kernelspec": {
   "display_name": "Python 3 (ipykernel)",
   "language": "python",
   "name": "python3"
  },
  "language_info": {
   "codemirror_mode": {
    "name": "ipython",
    "version": 3
   },
   "file_extension": ".py",
   "mimetype": "text/x-python",
   "name": "python",
   "nbconvert_exporter": "python",
   "pygments_lexer": "ipython3",
   "version": "3.8.10"
  }
 },
 "nbformat": 4,
 "nbformat_minor": 1
}
