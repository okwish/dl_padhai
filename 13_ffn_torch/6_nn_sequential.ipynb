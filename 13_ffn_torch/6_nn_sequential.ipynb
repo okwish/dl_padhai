{
 "cells": [
  {
   "cell_type": "markdown",
   "metadata": {},
   "source": [
    "### sequential that takes a list of model-object-blocks"
   ]
  },
  {
   "cell_type": "code",
   "execution_count": 1,
   "metadata": {},
   "outputs": [],
   "source": [
    "import torch\n",
    "\n",
    "import numpy as np\n",
    "import matplotlib.pyplot as plt"
   ]
  },
  {
   "cell_type": "code",
   "execution_count": 2,
   "metadata": {
    "colab": {
     "base_uri": "https://localhost:8080/"
    },
    "id": "ajivlrTGqhXD",
    "outputId": "560ef51d-5085-4ed3-88d2-dd3dc83040bf"
   },
   "outputs": [
    {
     "data": {
      "text/plain": [
       "<torch._C.Generator at 0x7fd00df8fd90>"
      ]
     },
     "execution_count": 2,
     "metadata": {},
     "output_type": "execute_result"
    }
   ],
   "source": [
    "torch.manual_seed(0) #torch seed for random"
   ]
  },
  {
   "cell_type": "markdown",
   "metadata": {},
   "source": [
    "#### data(blob)"
   ]
  },
  {
   "cell_type": "code",
   "execution_count": 3,
   "metadata": {
    "colab": {
     "base_uri": "https://localhost:8080/"
    },
    "id": "qoOS7L2AqsZG",
    "outputId": "1d19d1f2-2d33-4de1-bc27-d83c0e3f10f8"
   },
   "outputs": [
    {
     "name": "stdout",
     "output_type": "stream",
     "text": [
      "(750, 2) (250, 2) (1000,)\n"
     ]
    }
   ],
   "source": [
    "# data\n",
    "\n",
    "from sklearn.datasets import make_blobs\n",
    "from sklearn.model_selection import train_test_split\n",
    "\n",
    "data, labels = make_blobs(n_samples=1000, centers=4, n_features=2, random_state=0)\n",
    "\n",
    "XX_train, XX_val, Y_train, Y_val = train_test_split(data, labels, \n",
    "                                                  stratify=labels, random_state=0)\n",
    "print(XX_train.shape, XX_val.shape, labels.shape)"
   ]
  },
  {
   "cell_type": "markdown",
   "metadata": {},
   "source": [
    "#### data as torch tensors"
   ]
  },
  {
   "cell_type": "code",
   "execution_count": 4,
   "metadata": {
    "colab": {
     "base_uri": "https://localhost:8080/"
    },
    "id": "yF1DDagnt41G",
    "outputId": "1d1af76d-acbe-4f18-aeb2-7cb81566441a"
   },
   "outputs": [
    {
     "name": "stdout",
     "output_type": "stream",
     "text": [
      "torch.Size([750, 2]) torch.Size([750])\n"
     ]
    }
   ],
   "source": [
    "XX_train, Y_train, XX_val, Y_val = map(torch.tensor, (XX_train, Y_train, XX_val, Y_val)) \n",
    "\n",
    "# map the function to all and return all. - instead of calling on each one by one.\n",
    "\n",
    "print(XX_train.shape, Y_train.shape)"
   ]
  },
  {
   "cell_type": "code",
   "execution_count": 5,
   "metadata": {},
   "outputs": [],
   "source": [
    "XX_train = XX_train.float()\n",
    "Y_train = Y_train.long()  # as its an index."
   ]
  },
  {
   "cell_type": "code",
   "execution_count": null,
   "metadata": {},
   "outputs": [],
   "source": []
  },
  {
   "cell_type": "markdown",
   "metadata": {},
   "source": [
    "##### Accuracy"
   ]
  },
  {
   "cell_type": "code",
   "execution_count": 6,
   "metadata": {
    "id": "9-MguUMQ6Ov5"
   },
   "outputs": [],
   "source": [
    "def accuracy(YY_hat, yy):\n",
    "    pp = torch.argmax(YY_hat, dim=1) #prediction = max probability\n",
    "    return (pp == yy).float().mean()\n",
    "\n",
    "\n",
    "# .float() convert to float.\n",
    "# pred==y -> bool of correct preds."
   ]
  },
  {
   "cell_type": "code",
   "execution_count": null,
   "metadata": {},
   "outputs": [],
   "source": []
  },
  {
   "cell_type": "code",
   "execution_count": 7,
   "metadata": {
    "id": "zL8uy48aEG4S"
   },
   "outputs": [],
   "source": [
    "import torch.nn as nn"
   ]
  },
  {
   "cell_type": "markdown",
   "metadata": {
    "id": "8q3mivb9S7zE"
   },
   "source": [
    "### nn.sequential  \n",
    "\n",
    "Another class abstraction - takes a list of blocks and call them sequentially - for forward pass. Also parameter of all blocks."
   ]
  },
  {
   "cell_type": "code",
   "execution_count": 8,
   "metadata": {
    "id": "3zdWXbwVTBYd"
   },
   "outputs": [],
   "source": [
    "class ModelClass(nn.Module):\n",
    "    def __init__(self):\n",
    "        \n",
    "        super().__init__()\n",
    "        torch.manual_seed(0)\n",
    "\n",
    "        # giving the series of operations that the data go through\n",
    "        # linear => linear combination\n",
    "        # call net (network)\n",
    "        # this in turn do the linear, .. which in turn do parameters, ..\n",
    "        self.net = nn.Sequential(\n",
    "            nn.Linear(2, 2), \n",
    "            nn.Sigmoid(), \n",
    "            nn.Linear(2, 4), \n",
    "            nn.Softmax(1) # apply softmax to an n-dim input tensor\n",
    "        )\n",
    "\n",
    "    # explicit forward though its only calling net..\n",
    "    # so when we call object(..) - it will be called.\n",
    "    def forward(self, XX):\n",
    "        return self.net(XX)\n",
    "\n",
    "\n",
    "# defining the network using sequential\n",
    "# calling it on input."
   ]
  },
  {
   "cell_type": "markdown",
   "metadata": {},
   "source": [
    "**while writing model - think about one data point. batch, etc is internally taken care by broadcasting**"
   ]
  },
  {
   "cell_type": "markdown",
   "metadata": {},
   "source": [
    "**all class models need forward() as that is called by \\_\\_call__**"
   ]
  },
  {
   "cell_type": "markdown",
   "metadata": {},
   "source": [
    "##### Fit"
   ]
  },
  {
   "cell_type": "code",
   "execution_count": 9,
   "metadata": {
    "id": "iBMVLjyYA_lY"
   },
   "outputs": [],
   "source": [
    "from torch import optim\n",
    "\n",
    "import torch.nn.functional as F"
   ]
  },
  {
   "cell_type": "code",
   "execution_count": 10,
   "metadata": {
    "id": "IsnPf5UNO-Hx"
   },
   "outputs": [],
   "source": [
    "def fit(epochs=1000, learning_rate=1):\n",
    "    loss_arr = []\n",
    "    acc_arr = []\n",
    "\n",
    "    opt = optim.SGD(model_obj.parameters(), lr=learning_rate)\n",
    "    # parameters passed to optimizer\n",
    "    # can implement multiple optimizers with this \n",
    "    # specified as additional args - like momentum, nestrov, adam, ...\n",
    "\n",
    "    for epoch in range(epochs):\n",
    "        \n",
    "        # forward\n",
    "        YY_hat = model_obj(XX_train)\n",
    "        \n",
    "        # loss\n",
    "        loss = F.cross_entropy(YY_hat, Y_train)\n",
    "        \n",
    "        # logging loss, accuracy\n",
    "        loss_arr.append(loss.item())\n",
    "        acc_arr.append(accuracy(YY_hat, Y_train))\n",
    "        \n",
    "        # compute gradient\n",
    "        loss.backward()\n",
    "\n",
    "        # instead of iterating through parameters and updating manually\n",
    "        opt.step()  # BP step. updating all parameters.\n",
    "        opt.zero_grad()  # reseting gradients of all parameters\n",
    "    \n",
    "    # plotting logged loss, accuracy\n",
    "    plt.plot(loss_arr, \"r-\")\n",
    "    plt.plot(acc_arr, \"b-\")\n",
    "    plt.show()\n",
    "    print(\"Loss before training: \", loss_arr[0])\n",
    "    print(\"Loss after training: \", loss_arr[-1])"
   ]
  },
  {
   "cell_type": "code",
   "execution_count": 11,
   "metadata": {
    "colab": {
     "base_uri": "https://localhost:8080/",
     "height": 300
    },
    "id": "oPtrU6ZATEqW",
    "outputId": "1e29b72b-4361-414b-f8a3-2f8cc5218af1"
   },
   "outputs": [
    {
     "data": {
      "image/png": "[encoded data removed]",
      "text/plain": [
       "<Figure size 640x480 with 1 Axes>"
      ]
     },
     "metadata": {},
     "output_type": "display_data"
    },
    {
     "name": "stdout",
     "output_type": "stream",
     "text": [
      "Loss before training:  1.3951597213745117\n",
      "Loss after training:  0.873841404914856\n"
     ]
    }
   ],
   "source": [
    "model_obj = ModelClass()\n",
    "fit()"
   ]
  },
  {
   "cell_type": "code",
   "execution_count": null,
   "metadata": {
    "id": "f-Te6q4s4AYa"
   },
   "outputs": [],
   "source": []
  }
 ],
 "metadata": {
  "accelerator": "GPU",
  "colab": {
   "collapsed_sections": [],
   "provenance": []
  },
  "gpuClass": "standard",
  "kernelspec": {
   "display_name": "Python 3 (ipykernel)",
   "language": "python",
   "name": "python3"
  },
  "language_info": {
   "codemirror_mode": {
    "name": "ipython",
    "version": 3
   },
   "file_extension": ".py",
   "mimetype": "text/x-python",
   "name": "python",
   "nbconvert_exporter": "python",
   "pygments_lexer": "ipython3",
   "version": "3.8.10"
  }
 },
 "nbformat": 4,
 "nbformat_minor": 1
}
