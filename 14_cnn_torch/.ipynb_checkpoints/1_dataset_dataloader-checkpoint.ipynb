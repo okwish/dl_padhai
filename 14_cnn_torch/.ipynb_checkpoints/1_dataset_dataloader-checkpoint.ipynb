{
 "cells": [
  {
   "cell_type": "code",
   "execution_count": 1,
   "metadata": {
    "id": "qF-JNl6H7iRH"
   },
   "outputs": [],
   "source": [
    "import torch\n",
    "import matplotlib.pyplot as plt\n",
    "import numpy as np"
   ]
  },
  {
   "cell_type": "markdown",
   "metadata": {
    "id": "foH0SFzk7xUp"
   },
   "source": [
    "## Dataset\n",
    "\n",
    "\n",
    "Here : CIFAR 10 dataset  \n",
    "https://www.cs.toronto.edu/~kriz/cifar.html\n",
    "\n",
    "we can download the dataset manually and use also.  \n",
    "\n",
    "The point of datasets is to **store data more efficiently(in \"sets\")** so that they can be retreived, handled with ease.  \n",
    "for eg: a single tensor with all the images. - call one such group-of-data - a \"set\"  \n",
    "\n",
    "so we can work with them in an aggregated manner instead of working with thousands of images individually. this is what datasets allows us to do.\n",
    "\n",
    "here, 5 training set and 1 test set.  \n",
    "single files with all the images..  "
   ]
  },
  {
   "cell_type": "markdown",
   "metadata": {},
   "source": [
    "**tochvision** - mainly for doing CV stuff with pytorch."
   ]
  },
  {
   "cell_type": "code",
   "execution_count": 2,
   "metadata": {},
   "outputs": [],
   "source": [
    "import torchvision \n",
    "# mainly for doing CV tasks with pytorch.\n",
    "\n",
    "import torchvision.transforms as transforms # transforms\n",
    "# here, used to apply transforms on images as they are downloaded"
   ]
  },
  {
   "cell_type": "code",
   "execution_count": 3,
   "metadata": {
    "colab": {
     "base_uri": "https://localhost:8080/",
     "height": 84,
     "referenced_widgets": [
      "e531924f1b2245c3b3df58fded0ba7e7",
      "c9ff2d95dde74387b0eaaa7a5a042ce8",
      "47bfaa727f1642f786586b9644b25398",
      "73dae33c4c02436f8328541003939dd4",
      "a0b7f9fd74e84e6da344324e5ce00f16",
      "b55a985c4b0249728902e7f5e809adbb",
      "2971f89ab28343d89f60c49e91246d85",
      "ed72e1b1fc95400a87ae985f5f243e17",
      "5b3ae190359f489396ef599f4b3c90be",
      "1c215ed9810f4007a0335ef3696edf57",
      "61656e5e429048c7905494904f747d1f"
     ]
    },
    "id": "R0qHSVKb772v",
    "outputId": "a9b2cff4-8c31-43b7-b488-ad17e05b33dc"
   },
   "outputs": [],
   "source": [
    "# CIFAR is accessible using the library itself.\n",
    "\n",
    "trainset = torchvision.datasets.CIFAR10(root='../data_place/cifar', \n",
    "                                        train=True, \n",
    "                                        download=False, \n",
    "                                        transform=transforms.ToTensor())\n",
    "\n",
    "# root : where dataset is or will be downloaded to (if download=True)\n",
    "# make download=False once its downloaded\n",
    "# train = True : creates dataset from training set, otherwise test test\n",
    "# transform - apply some functions on it as we are downloading the data itself.\n",
    "# here transforming them to tensor. (can also do things like scaling, normalisation, etc.)"
   ]
  },
  {
   "cell_type": "markdown",
   "metadata": {},
   "source": [
    "It downloads the zip and extracts it; so location has both. Contains 5 data_batch files.  \n",
    "Won't download again if the files are already existing in the location - only verifies that - even when download=True. "
   ]
  },
  {
   "cell_type": "code",
   "execution_count": 5,
   "metadata": {
    "id": "ll2_k-5c-3zO"
   },
   "outputs": [],
   "source": [
    "class_names = ('plane', 'car', 'bird', 'cat', 'deer', 'dog', 'frog', 'horse', 'ship', 'truck')\n",
    "\n",
    "# in the dataset this will be in numbers.. class 0,1,2,.. "
   ]
  },
  {
   "cell_type": "markdown",
   "metadata": {},
   "source": [
    "## Dataloader  \n",
    "\n",
    "torch.utils.data.DataLoader  \n",
    "for loading data from a 'dataset' in batches, (shuffled, etc. )\n",
    "\n",
    "**dataloader object takes in the dataset - and has implementations of \\_\\_iter__, \\_\\_next__, etc. (ie, its an iterable)**  \n",
    "so it takes the dataset - divides it into batch parts - do shuffling, etc.. in the above implementations.\n",
    "\n"
   ]
  },
  {
   "cell_type": "code",
   "execution_count": 6,
   "metadata": {
    "id": "SGPdCCPK-6pa"
   },
   "outputs": [],
   "source": [
    "trainloader = torch.utils.data.DataLoader(trainset, #dataset\n",
    "                                          batch_size=4, \n",
    "                                          shuffle=True)\n",
    "\n",
    "# shuffle = True => they are given randomly.\n",
    "# if we don't shuffle then sometimes the whole training course become repetitive."
   ]
  },
  {
   "cell_type": "markdown",
   "metadata": {},
   "source": [
    "shuffle => shuffle the entire dataset - and access the batches sequentially from that. "
   ]
  },
  {
   "cell_type": "code",
   "execution_count": null,
   "metadata": {},
   "outputs": [],
   "source": []
  },
  {
   "cell_type": "code",
   "execution_count": null,
   "metadata": {},
   "outputs": [],
   "source": []
  },
  {
   "cell_type": "markdown",
   "metadata": {},
   "source": [
    "## Accessing loader - with an iterator"
   ]
  },
  {
   "cell_type": "markdown",
   "metadata": {},
   "source": [
    "### Iterable class, Iterator object\n",
    "\n",
    "\n",
    "\n",
    "To create a class as an iterator you have to implement the methods **\\_\\_iter__()** and **\\_\\_next__()** in the class.  \n",
    "\n",
    "\"iterable\" -> a class with those implemented.  \n",
    "\t\n",
    "#### \\_\\_iter__()\n",
    "For the \"initialization\" of an iterator. Return an iterator object(usually 'self').   \n",
    "can do any stuff(like initializing, etc.), but must return the iterator object   \n",
    "\n",
    "**iter(object of iterable) -> calls object.\\_\\_iter__()**   \n",
    "(^iter \"function\")\n",
    "\n",
    "this is mainly useful in case we want to make some extra initializations, etc. when we are about to use it as an iterator.\n",
    "\n",
    "#### \\_\\_next__()\n",
    "implement so that it returns the next value.    \n",
    "do stuff(like updating the index, etc.. ), must return the next item   \n",
    "\n",
    "\\--------------------------------------------------\n",
    "\n",
    "a class with \\_\\_iter__(), \\_\\_next__() -> an \"iterable\" class.  \n",
    "calling iter function -> iter(object of iterable_class)  \n",
    "-> returns its object (as iter() returns 'self')  \n",
    "\n",
    "we call this returned object : \"iterator\" - as it now has some extra initializations done to be used as an iterator. And we are going to use it as an iterator.  \n",
    "\n",
    "iterator = iter(object of iterable)   \n",
    "returns an iterator object -  basically object of that class itself(but with iter initialization done)      \n",
    "\n",
    "init also returns class object - but iter is for extra stuff. Abstraction for iteration. \n",
    "\n",
    "next function :  \n",
    "**next(iterator_obj) -> iterator_obj.\\_\\_next__()**   \n",
    "returns current and go to next(the implementation in next())    \n",
    "\n",
    "-----------------------------------------------------\n",
    "\n",
    "### iter, next -> \"functions\" -> only shorthands  \n",
    "\n",
    "**iter(iterator_obj) -> iterator_obj.\\_\\_iter__()**  \n",
    "\n",
    "**next(iterator_obj) -> iterator_obj.\\_\\_next__()**  \n",
    "\n",
    "like an abstraction for the iteration stuff. Essence is in the magic methods.  \n",
    "\n",
    "-------------------------------------------------------------------------\n",
    "\n",
    "\" for i in iterator: \"   \n",
    "\tfor loop actually creates an iterator object(using iter function)   \n",
    "    and executes the next() method for each loop - internally  "
   ]
  },
  {
   "cell_type": "markdown",
   "metadata": {},
   "source": [
    "## Demo"
   ]
  },
  {
   "cell_type": "code",
   "execution_count": 8,
   "metadata": {},
   "outputs": [],
   "source": [
    "# iterable class with implementations for __iter__ and __next__\n",
    "\n",
    "class LoaderClass():\n",
    "    \n",
    "    \n",
    "    def __init__(self, dataset, batch_size):\n",
    "        self.dd = dataset\n",
    "        self.bs = batch_size\n",
    "        self.data_size = len(dataset)\n",
    "        self.current_index = -1 * self.bs\n",
    "        \n",
    "        \n",
    "    def __iter__(self):\n",
    "        return self\n",
    "    \n",
    "    \n",
    "    \n",
    "    def __next__(self):\n",
    "        \n",
    "        if(self.current_index < ( self.data_size-(2*self.bs) ) ):\n",
    "            self.current_index += self.bs\n",
    "        else:\n",
    "            self.current_index = -1 * self.bs\n",
    "            \n",
    "        return self.dd[self.current_index : self.current_index+self.bs]\n",
    "        \n",
    "        "
   ]
  },
  {
   "cell_type": "code",
   "execution_count": 9,
   "metadata": {},
   "outputs": [],
   "source": [
    "toy_dataset = np.arange(1,100)\n",
    "\n",
    "loader_obj = LoaderClass(toy_dataset, 2)"
   ]
  },
  {
   "cell_type": "code",
   "execution_count": 10,
   "metadata": {},
   "outputs": [],
   "source": [
    "iterator_obj = iter(loader_obj)"
   ]
  },
  {
   "cell_type": "code",
   "execution_count": 14,
   "metadata": {},
   "outputs": [
    {
     "name": "stdout",
     "output_type": "stream",
     "text": [
      "next: [55 56]\n",
      "[57 58]\n",
      "[59 60]\n",
      "[61 62]\n",
      "[63 64]\n",
      "[65 66]\n"
     ]
    }
   ],
   "source": [
    "print( \"next:\",  next(iterator_obj) )\n",
    "\n",
    "\n",
    "for i,b in enumerate(iterator_obj,0):\n",
    "    if i<5:\n",
    "        print(b)\n",
    "    else:\n",
    "        break\n",
    "# for loop internalley makes iterator using iter() function\n",
    "# and calls next() in each step"
   ]
  },
  {
   "cell_type": "code",
   "execution_count": null,
   "metadata": {},
   "outputs": [],
   "source": []
  },
  {
   "cell_type": "code",
   "execution_count": null,
   "metadata": {},
   "outputs": [],
   "source": []
  },
  {
   "cell_type": "markdown",
   "metadata": {},
   "source": [
    "### \"Dataset\" \n",
    "\n",
    "for us to be able to implement a dataloader - ie, mainly the next magic method - we want something which can be \"accessed\" with indices. This is what a dataset is.(we pass dataset to the dataloader)    \n",
    "\n",
    "So for dataset to be accessible-with-indices -> essentially it has the **getitem**, **len** - those magic methods   "
   ]
  },
  {
   "cell_type": "markdown",
   "metadata": {},
   "source": [
    "#### pytorch \"dataloader is an iterable\"   \n",
    "\n",
    "Also we can implement more dataloading abstractions. Key is **magic methods**.  \n",
    "eg: using **\\_\\_getitem__()** - we can implement stuff to access items using square brackets,etc.  \n",
    "\n",
    "in pytorch dataloder - the batch returned by \\_\\_next__() - **can acctess items from 'a' batch (returned by next()) using square brackets**."
   ]
  },
  {
   "cell_type": "code",
   "execution_count": null,
   "metadata": {},
   "outputs": [],
   "source": []
  },
  {
   "cell_type": "markdown",
   "metadata": {},
   "source": [
    "### Iterator for torch dataloader"
   ]
  },
  {
   "cell_type": "code",
   "execution_count": 16,
   "metadata": {},
   "outputs": [],
   "source": [
    "data_iter = iter(trainloader) # iter on iterable"
   ]
  },
  {
   "cell_type": "code",
   "execution_count": 18,
   "metadata": {},
   "outputs": [
    {
     "data": {
      "text/plain": [
       "list"
      ]
     },
     "execution_count": 18,
     "metadata": {},
     "output_type": "execute_result"
    }
   ],
   "source": [
    "type( next(data_iter) )"
   ]
  },
  {
   "cell_type": "code",
   "execution_count": 21,
   "metadata": {},
   "outputs": [],
   "source": [
    "# list of 2 elements - images, labels\n",
    "# images = single tensor of 4 images (4 x 3 x r x c)\n",
    "# labels = tensor of corresponding labels"
   ]
  },
  {
   "cell_type": "code",
   "execution_count": 23,
   "metadata": {
    "colab": {
     "base_uri": "https://localhost:8080/"
    },
    "id": "8BnIRfxMDOeQ",
    "outputId": "01c086b2-6675-45ea-aade-f81c49ef17a6"
   },
   "outputs": [
    {
     "name": "stdout",
     "output_type": "stream",
     "text": [
      "images batch:  torch.Size([4, 3, 32, 32])\n",
      "one image:  torch.Size([3, 32, 32])\n",
      "one label:  2\n"
     ]
    }
   ],
   "source": [
    "images, labels = next(data_iter) #gets one instance of 4 images and corresponding label\n",
    "# one batch - list of images-tensor, labels-tensor\n",
    "\n",
    "# can do \"for d in trainloader:\"  \n",
    "# iternally does iter() and next()-each-time\n",
    "\n",
    "\n",
    "print(\"images batch: \", images.shape)\n",
    "# 'images' - 4 images as a single tensor.\n",
    "# 3 - r,g,b; 4 batches.\n",
    "# 4 images x 3 channels x rows x columns\n",
    "\n",
    "\n",
    "print(\"one image: \", images[1].shape) # one image\n",
    "print(\"one label: \", labels[1].item()) "
   ]
  },
  {
   "cell_type": "markdown",
   "metadata": {},
   "source": [
    "**Dataset** - a set/tensor of all the data together. \n",
    "\n",
    "**Dataloader** - takes dataset along with batch_size, shuffle, .. arguments  \n",
    "it has internal \\_\\_iter__ and \\_\\_next__ implementations (which basically does the batching, shuffling, .. and returns one \"item\")  \n",
    "\n",
    "**Iterator for dataloader**"
   ]
  },
  {
   "cell_type": "code",
   "execution_count": null,
   "metadata": {},
   "outputs": [],
   "source": []
  },
  {
   "cell_type": "markdown",
   "metadata": {
    "id": "qA105QZYDuvA"
   },
   "source": [
    "## Visualise data\n",
    "\n",
    "here: plot images"
   ]
  },
  {
   "cell_type": "code",
   "execution_count": 24,
   "metadata": {
    "colab": {
     "base_uri": "https://localhost:8080/"
    },
    "id": "qGe3BPATJaeC",
    "outputId": "ce097467-3614-40f4-ce9c-70df80ee053e"
   },
   "outputs": [
    {
     "name": "stdout",
     "output_type": "stream",
     "text": [
      "<class 'torch.Tensor'>\n"
     ]
    }
   ],
   "source": [
    "img = images[1]\n",
    "print(type(img)) #tensor"
   ]
  },
  {
   "cell_type": "markdown",
   "metadata": {},
   "source": [
    "**in data - all tensors**"
   ]
  },
  {
   "cell_type": "markdown",
   "metadata": {},
   "source": [
    "### image in tensor form - to numpy (to be used by plt)"
   ]
  },
  {
   "cell_type": "code",
   "execution_count": 25,
   "metadata": {
    "colab": {
     "base_uri": "https://localhost:8080/"
    },
    "id": "J5PvM5_tJc-f",
    "outputId": "d0b78307-9193-45e9-a6db-512246463a9a"
   },
   "outputs": [
    {
     "name": "stdout",
     "output_type": "stream",
     "text": [
      "(3, 32, 32)\n",
      "(32, 32, 3)\n"
     ]
    }
   ],
   "source": [
    "np_img = img.numpy() # convert to numpy.\n",
    "print(np_img.shape)\n",
    "\n",
    "# to show image we need to transpose it.. \n",
    "# transpose => any permutation of the axes\n",
    "# have : channel,x,y - need : x,y,channel => 0,1,2 to 1,2,0\n",
    "# because matplotlib is expecting that.\n",
    "# permute the dimensions \n",
    "np_img = np.transpose(np_img, (1, 2, 0))\n",
    "print(np_img.shape)"
   ]
  },
  {
   "cell_type": "code",
   "execution_count": 26,
   "metadata": {
    "colab": {
     "base_uri": "https://localhost:8080/",
     "height": 105
    },
    "id": "Xp-z4EwEKcmt",
    "outputId": "1a1fb82c-668c-40e0-a315-45980921bd4e"
   },
   "outputs": [
    {
     "data": {
      "image/png": "[encoded data removed]",
      "text/plain": [
       "<Figure size 100x100 with 1 Axes>"
      ]
     },
     "metadata": {},
     "output_type": "display_data"
    }
   ],
   "source": [
    "plt.figure(figsize = (1,1))\n",
    "plt.imshow(np_img)\n",
    "plt.show()"
   ]
  },
  {
   "cell_type": "code",
   "execution_count": 27,
   "metadata": {
    "id": "CNUaO4CJKe_8"
   },
   "outputs": [],
   "source": [
    "# function to plot any image in tensor form\n",
    "# convert to numpy, transpose, plot.\n",
    "\n",
    "def show_tensor(img):\n",
    "    np_img = img.numpy() #tensor to numpy\n",
    "    plt.imshow( np.transpose(np_img, (1, 2, 0)) ) # transpose and show\n",
    "    plt.show()"
   ]
  },
  {
   "cell_type": "markdown",
   "metadata": {},
   "source": [
    "### Displaying grid of images  \n",
    "\n",
    "torchvision.utils.make_grid(images)  \n",
    "\n",
    "will stack up the images in the **tensor-of-images(input)** and make a 'long image'(new tensor) with some padding also.  "
   ]
  },
  {
   "cell_type": "code",
   "execution_count": 28,
   "metadata": {
    "colab": {
     "base_uri": "https://localhost:8080/",
     "height": 155
    },
    "id": "UIfQoe6SK3UT",
    "outputId": "033b9785-93ba-41ff-83ec-58a286531a1e"
   },
   "outputs": [
    {
     "data": {
      "image/png": "[encoded data removed]",
      "text/plain": [
       "<Figure size 640x480 with 1 Axes>"
      ]
     },
     "metadata": {},
     "output_type": "display_data"
    },
    {
     "name": "stdout",
     "output_type": "stream",
     "text": [
      "dog bird car plane\n"
     ]
    }
   ],
   "source": [
    "show_tensor( torchvision.utils.make_grid(images) )\n",
    "\n",
    "print(' '.join( class_names[labels[j]] for j in range(4)) )\n",
    "#show corresponding class_names - joined using join."
   ]
  },
  {
   "cell_type": "code",
   "execution_count": null,
   "metadata": {},
   "outputs": [],
   "source": []
  }
 ],
 "metadata": {
  "accelerator": "GPU",
  "colab": {
   "collapsed_sections": [],
   "provenance": []
  },
  "gpuClass": "standard",
  "kernelspec": {
   "display_name": "Python 3 (ipykernel)",
   "language": "python",
   "name": "python3"
  },
  "language_info": {
   "codemirror_mode": {
    "name": "ipython",
    "version": 3
   },
   "file_extension": ".py",
   "mimetype": "text/x-python",
   "name": "python",
   "nbconvert_exporter": "python",
   "pygments_lexer": "ipython3",
   "version": "3.8.10"
  },
  "widgets": {
   "application/vnd.jupyter.widget-state+json": {
    "1c215ed9810f4007a0335ef3696edf57": {
     "model_module": "@jupyter-widgets/base",
     "model_module_version": "1.2.0",
     "model_name": "LayoutModel",
     "state": {
      "_model_module": "@jupyter-widgets/base",
      "_model_module_version": "1.2.0",
      "_model_name": "LayoutModel",
      "_view_count": null,
      "_view_module": "@jupyter-widgets/base",
      "_view_module_version": "1.2.0",
      "_view_name": "LayoutView",
      "align_content": null,
      "align_items": null,
      "align_self": null,
      "border": null,
      "bottom": null,
      "display": null,
      "flex": null,
      "flex_flow": null,
      "grid_area": null,
      "grid_auto_columns": null,
      "grid_auto_flow": null,
      "grid_auto_rows": null,
      "grid_column": null,
      "grid_gap": null,
      "grid_row": null,
      "grid_template_areas": null,
      "grid_template_columns": null,
      "grid_template_rows": null,
      "height": null,
      "justify_content": null,
      "justify_items": null,
      "left": null,
      "margin": null,
      "max_height": null,
      "max_width": null,
      "min_height": null,
      "min_width": null,
      "object_fit": null,
      "object_position": null,
      "order": null,
      "overflow": null,
      "overflow_x": null,
      "overflow_y": null,
      "padding": null,
      "right": null,
      "top": null,
      "visibility": null,
      "width": null
     }
    },
    "2971f89ab28343d89f60c49e91246d85": {
     "model_module": "@jupyter-widgets/controls",
     "model_module_version": "1.5.0",
     "model_name": "DescriptionStyleModel",
     "state": {
      "_model_module": "@jupyter-widgets/controls",
      "_model_module_version": "1.5.0",
      "_model_name": "DescriptionStyleModel",
      "_view_count": null,
      "_view_module": "@jupyter-widgets/base",
      "_view_module_version": "1.2.0",
      "_view_name": "StyleView",
      "description_width": ""
     }
    },
    "47bfaa727f1642f786586b9644b25398": {
     "model_module": "@jupyter-widgets/controls",
     "model_module_version": "1.5.0",
     "model_name": "FloatProgressModel",
     "state": {
      "_dom_classes": [],
      "_model_module": "@jupyter-widgets/controls",
      "_model_module_version": "1.5.0",
      "_model_name": "FloatProgressModel",
      "_view_count": null,
      "_view_module": "@jupyter-widgets/controls",
      "_view_module_version": "1.5.0",
      "_view_name": "ProgressView",
      "bar_style": "success",
      "description": "",
      "description_tooltip": null,
      "layout": "IPY_MODEL_ed72e1b1fc95400a87ae985f5f243e17",
      "max": 170498071,
      "min": 0,
      "orientation": "horizontal",
      "style": "IPY_MODEL_5b3ae190359f489396ef599f4b3c90be",
      "value": 170498071
     }
    },
    "5b3ae190359f489396ef599f4b3c90be": {
     "model_module": "@jupyter-widgets/controls",
     "model_module_version": "1.5.0",
     "model_name": "ProgressStyleModel",
     "state": {
      "_model_module": "@jupyter-widgets/controls",
      "_model_module_version": "1.5.0",
      "_model_name": "ProgressStyleModel",
      "_view_count": null,
      "_view_module": "@jupyter-widgets/base",
      "_view_module_version": "1.2.0",
      "_view_name": "StyleView",
      "bar_color": null,
      "description_width": ""
     }
    },
    "61656e5e429048c7905494904f747d1f": {
     "model_module": "@jupyter-widgets/controls",
     "model_module_version": "1.5.0",
     "model_name": "DescriptionStyleModel",
     "state": {
      "_model_module": "@jupyter-widgets/controls",
      "_model_module_version": "1.5.0",
      "_model_name": "DescriptionStyleModel",
      "_view_count": null,
      "_view_module": "@jupyter-widgets/base",
      "_view_module_version": "1.2.0",
      "_view_name": "StyleView",
      "description_width": ""
     }
    },
    "73dae33c4c02436f8328541003939dd4": {
     "model_module": "@jupyter-widgets/controls",
     "model_module_version": "1.5.0",
     "model_name": "HTMLModel",
     "state": {
      "_dom_classes": [],
      "_model_module": "@jupyter-widgets/controls",
      "_model_module_version": "1.5.0",
      "_model_name": "HTMLModel",
      "_view_count": null,
      "_view_module": "@jupyter-widgets/controls",
      "_view_module_version": "1.5.0",
      "_view_name": "HTMLView",
      "description": "",
      "description_tooltip": null,
      "layout": "IPY_MODEL_1c215ed9810f4007a0335ef3696edf57",
      "placeholder": "​",
      "style": "IPY_MODEL_61656e5e429048c7905494904f747d1f",
      "value": " 170498071/170498071 [00:01&lt;00:00, 110934476.60it/s]"
     }
    },
    "a0b7f9fd74e84e6da344324e5ce00f16": {
     "model_module": "@jupyter-widgets/base",
     "model_module_version": "1.2.0",
     "model_name": "LayoutModel",
     "state": {
      "_model_module": "@jupyter-widgets/base",
      "_model_module_version": "1.2.0",
      "_model_name": "LayoutModel",
      "_view_count": null,
      "_view_module": "@jupyter-widgets/base",
      "_view_module_version": "1.2.0",
      "_view_name": "LayoutView",
      "align_content": null,
      "align_items": null,
      "align_self": null,
      "border": null,
      "bottom": null,
      "display": null,
      "flex": null,
      "flex_flow": null,
      "grid_area": null,
      "grid_auto_columns": null,
      "grid_auto_flow": null,
      "grid_auto_rows": null,
      "grid_column": null,
      "grid_gap": null,
      "grid_row": null,
      "grid_template_areas": null,
      "grid_template_columns": null,
      "grid_template_rows": null,
      "height": null,
      "justify_content": null,
      "justify_items": null,
      "left": null,
      "margin": null,
      "max_height": null,
      "max_width": null,
      "min_height": null,
      "min_width": null,
      "object_fit": null,
      "object_position": null,
      "order": null,
      "overflow": null,
      "overflow_x": null,
      "overflow_y": null,
      "padding": null,
      "right": null,
      "top": null,
      "visibility": null,
      "width": null
     }
    },
    "b55a985c4b0249728902e7f5e809adbb": {
     "model_module": "@jupyter-widgets/base",
     "model_module_version": "1.2.0",
     "model_name": "LayoutModel",
     "state": {
      "_model_module": "@jupyter-widgets/base",
      "_model_module_version": "1.2.0",
      "_model_name": "LayoutModel",
      "_view_count": null,
      "_view_module": "@jupyter-widgets/base",
      "_view_module_version": "1.2.0",
      "_view_name": "LayoutView",
      "align_content": null,
      "align_items": null,
      "align_self": null,
      "border": null,
      "bottom": null,
      "display": null,
      "flex": null,
      "flex_flow": null,
      "grid_area": null,
      "grid_auto_columns": null,
      "grid_auto_flow": null,
      "grid_auto_rows": null,
      "grid_column": null,
      "grid_gap": null,
      "grid_row": null,
      "grid_template_areas": null,
      "grid_template_columns": null,
      "grid_template_rows": null,
      "height": null,
      "justify_content": null,
      "justify_items": null,
      "left": null,
      "margin": null,
      "max_height": null,
      "max_width": null,
      "min_height": null,
      "min_width": null,
      "object_fit": null,
      "object_position": null,
      "order": null,
      "overflow": null,
      "overflow_x": null,
      "overflow_y": null,
      "padding": null,
      "right": null,
      "top": null,
      "visibility": null,
      "width": null
     }
    },
    "c9ff2d95dde74387b0eaaa7a5a042ce8": {
     "model_module": "@jupyter-widgets/controls",
     "model_module_version": "1.5.0",
     "model_name": "HTMLModel",
     "state": {
      "_dom_classes": [],
      "_model_module": "@jupyter-widgets/controls",
      "_model_module_version": "1.5.0",
      "_model_name": "HTMLModel",
      "_view_count": null,
      "_view_module": "@jupyter-widgets/controls",
      "_view_module_version": "1.5.0",
      "_view_name": "HTMLView",
      "description": "",
      "description_tooltip": null,
      "layout": "IPY_MODEL_b55a985c4b0249728902e7f5e809adbb",
      "placeholder": "​",
      "style": "IPY_MODEL_2971f89ab28343d89f60c49e91246d85",
      "value": "100%"
     }
    },
    "e531924f1b2245c3b3df58fded0ba7e7": {
     "model_module": "@jupyter-widgets/controls",
     "model_module_version": "1.5.0",
     "model_name": "HBoxModel",
     "state": {
      "_dom_classes": [],
      "_model_module": "@jupyter-widgets/controls",
      "_model_module_version": "1.5.0",
      "_model_name": "HBoxModel",
      "_view_count": null,
      "_view_module": "@jupyter-widgets/controls",
      "_view_module_version": "1.5.0",
      "_view_name": "HBoxView",
      "box_style": "",
      "children": [
       "IPY_MODEL_c9ff2d95dde74387b0eaaa7a5a042ce8",
       "IPY_MODEL_47bfaa727f1642f786586b9644b25398",
       "IPY_MODEL_73dae33c4c02436f8328541003939dd4"
      ],
      "layout": "IPY_MODEL_a0b7f9fd74e84e6da344324e5ce00f16"
     }
    },
    "ed72e1b1fc95400a87ae985f5f243e17": {
     "model_module": "@jupyter-widgets/base",
     "model_module_version": "1.2.0",
     "model_name": "LayoutModel",
     "state": {
      "_model_module": "@jupyter-widgets/base",
      "_model_module_version": "1.2.0",
      "_model_name": "LayoutModel",
      "_view_count": null,
      "_view_module": "@jupyter-widgets/base",
      "_view_module_version": "1.2.0",
      "_view_name": "LayoutView",
      "align_content": null,
      "align_items": null,
      "align_self": null,
      "border": null,
      "bottom": null,
      "display": null,
      "flex": null,
      "flex_flow": null,
      "grid_area": null,
      "grid_auto_columns": null,
      "grid_auto_flow": null,
      "grid_auto_rows": null,
      "grid_column": null,
      "grid_gap": null,
      "grid_row": null,
      "grid_template_areas": null,
      "grid_template_columns": null,
      "grid_template_rows": null,
      "height": null,
      "justify_content": null,
      "justify_items": null,
      "left": null,
      "margin": null,
      "max_height": null,
      "max_width": null,
      "min_height": null,
      "min_width": null,
      "object_fit": null,
      "object_position": null,
      "order": null,
      "overflow": null,
      "overflow_x": null,
      "overflow_y": null,
      "padding": null,
      "right": null,
      "top": null,
      "visibility": null,
      "width": null
     }
    }
   }
  }
 },
 "nbformat": 4,
 "nbformat_minor": 1
}
