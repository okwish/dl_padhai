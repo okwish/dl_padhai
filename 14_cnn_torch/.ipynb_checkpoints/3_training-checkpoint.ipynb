{
 "cells": [
  {
   "cell_type": "code",
   "execution_count": 1,
   "metadata": {
    "id": "qF-JNl6H7iRH"
   },
   "outputs": [],
   "source": [
    "import torch\n",
    "import matplotlib.pyplot as plt\n",
    "import numpy as np"
   ]
  },
  {
   "cell_type": "markdown",
   "metadata": {},
   "source": [
    "#### dataset"
   ]
  },
  {
   "cell_type": "code",
   "execution_count": 2,
   "metadata": {},
   "outputs": [],
   "source": [
    "import torchvision \n",
    "\n",
    "import torchvision.transforms as transforms "
   ]
  },
  {
   "cell_type": "code",
   "execution_count": 3,
   "metadata": {
    "colab": {
     "base_uri": "https://localhost:8080/",
     "height": 84,
     "referenced_widgets": [
      "e531924f1b2245c3b3df58fded0ba7e7",
      "c9ff2d95dde74387b0eaaa7a5a042ce8",
      "47bfaa727f1642f786586b9644b25398",
      "73dae33c4c02436f8328541003939dd4",
      "a0b7f9fd74e84e6da344324e5ce00f16",
      "b55a985c4b0249728902e7f5e809adbb",
      "2971f89ab28343d89f60c49e91246d85",
      "ed72e1b1fc95400a87ae985f5f243e17",
      "5b3ae190359f489396ef599f4b3c90be",
      "1c215ed9810f4007a0335ef3696edf57",
      "61656e5e429048c7905494904f747d1f"
     ]
    },
    "id": "R0qHSVKb772v",
    "outputId": "a9b2cff4-8c31-43b7-b488-ad17e05b33dc"
   },
   "outputs": [],
   "source": [
    "trainset = torchvision.datasets.CIFAR10(root='../data_place/cifar', \n",
    "                                        train=True, \n",
    "                                        download=False, \n",
    "                                        transform=transforms.ToTensor())\n"
   ]
  },
  {
   "cell_type": "code",
   "execution_count": 4,
   "metadata": {
    "id": "ll2_k-5c-3zO"
   },
   "outputs": [],
   "source": [
    "class_names = ('plane', 'car', 'bird', 'cat', 'deer', 'dog', 'frog', 'horse', 'ship', 'truck')\n",
    "\n",
    "# in the dataset this will be in numbers.. class 0,1,2,.. "
   ]
  },
  {
   "cell_type": "markdown",
   "metadata": {},
   "source": [
    "#### dataloader"
   ]
  },
  {
   "cell_type": "code",
   "execution_count": 5,
   "metadata": {
    "id": "SGPdCCPK-6pa"
   },
   "outputs": [],
   "source": [
    "trainloader = torch.utils.data.DataLoader(trainset, #dataset\n",
    "                                          batch_size=4, \n",
    "                                          shuffle=True)\n",
    "\n",
    "# shuffle = True => they are given randomly.\n",
    "# if we don't shuffle then sometimes the whole training course become repetitive."
   ]
  },
  {
   "cell_type": "code",
   "execution_count": null,
   "metadata": {},
   "outputs": [],
   "source": []
  },
  {
   "cell_type": "code",
   "execution_count": 6,
   "metadata": {},
   "outputs": [],
   "source": [
    "# iterator for dataloader\n",
    "data_iter = iter(trainloader)"
   ]
  },
  {
   "cell_type": "code",
   "execution_count": 7,
   "metadata": {},
   "outputs": [],
   "source": [
    "# one batch\n",
    "images, labels = next(data_iter)"
   ]
  },
  {
   "cell_type": "code",
   "execution_count": null,
   "metadata": {},
   "outputs": [],
   "source": []
  },
  {
   "cell_type": "code",
   "execution_count": 8,
   "metadata": {
    "id": "WcJtpt56L66y"
   },
   "outputs": [],
   "source": [
    "import torch.nn as nn"
   ]
  },
  {
   "cell_type": "code",
   "execution_count": null,
   "metadata": {},
   "outputs": [],
   "source": []
  },
  {
   "cell_type": "markdown",
   "metadata": {},
   "source": [
    "#### super.__init__()    \n",
    "\n",
    "inheriting - child class will have all that of parent. If something of same name is made in the child class - it overrides the one in the parent class. In such a case - if we still want parent stuff - then called super.that() inside the definition in child.  \n",
    "\n",
    "why super(class_name, self) -> this is python2 way. works in python3 also.\n",
    "\n",
    "\n"
   ]
  },
  {
   "cell_type": "code",
   "execution_count": null,
   "metadata": {},
   "outputs": [],
   "source": []
  },
  {
   "cell_type": "markdown",
   "metadata": {
    "id": "-SEBWQB-V_Ye"
   },
   "source": [
    "### LeNet - model"
   ]
  },
  {
   "cell_type": "code",
   "execution_count": 9,
   "metadata": {
    "id": "WeEd6zH4WIYo"
   },
   "outputs": [],
   "source": [
    "class LeNet(nn.Module):\n",
    "    \n",
    "    def __init__(self): \n",
    "        super().__init__()\n",
    "\n",
    "        # make as two parts - a convoln part and a fully connected part\n",
    "        # as we need a flattening operation in between\n",
    "\n",
    "        self.cnn_block = nn.Sequential(\n",
    "            nn.Conv2d(3, 6, 5),         # (N, 3, 32, 32) -> (N,  6, 28, 28)\n",
    "            nn.Tanh(),\n",
    "            nn.AvgPool2d(2, stride=2),  # (N, 6, 28, 28) -> (N,  6, 14, 14)\n",
    "            nn.Conv2d(6, 16, 5),        # (N, 6, 14, 14) -> (N, 16, 10, 10)  \n",
    "            nn.Tanh(),\n",
    "            nn.AvgPool2d(2, stride=2)   # (N,16, 10, 10) -> (N, 16, 5, 5)\n",
    "        )\n",
    "\n",
    "        # FC part on flattened version of ouput of Convoln part.\n",
    "        self.fc_block = nn.Sequential(\n",
    "            nn.Linear(400,120),         # (N, 400) -> (N, 120)\n",
    "            nn.Tanh(),\n",
    "            nn.Linear(120,84),          # (N, 120) -> (N, 84)\n",
    "            nn.Tanh(),\n",
    "            nn.Linear(84,10)            # (N, 84)  -> (N, 10)\n",
    "        )\n",
    "        \n",
    "    def forward(self, XX):\n",
    "        # print(XX.shape)\n",
    "        XX = self.cnn_block(XX)\n",
    "        # print(XX.shape)\n",
    "\n",
    "        XX = XX.view( XX.size(0), -1 ) # (N, everything_else) \n",
    "        # flatten using reshaping\n",
    "        # keep same dimension for first index(here, N)  \n",
    "        # everything else collapsed into one second index(with -1).\n",
    "        # print(XX.shape)\n",
    "\n",
    "        XX = self.fc_block(XX)\n",
    "        # print(XX.shape)\n",
    "        return XX"
   ]
  },
  {
   "cell_type": "markdown",
   "metadata": {
    "id": "z652LUVhYKnv"
   },
   "source": [
    "using some clever application of lambda function,.. we can move the flattening operation also into a sequential description - thereby write the whole n/w in a single sequential.\n",
    "\n",
    "but this is **not** recommended. - stack only trivial things in sequential."
   ]
  },
  {
   "cell_type": "markdown",
   "metadata": {
    "id": "3dHQ_tBUYsiU"
   },
   "source": [
    "not using softmax in the last layer. - directly sending output of linear model. \n",
    "\n",
    "for inference - ie , given an image get class - softmax is not essential.  \n",
    "having the final values of all neurons (linear) - max of those - corrsponding class.\n",
    "\n",
    "softmax is a monotonic function - max value in i/p remain the max value after softmax also. \n",
    "\n",
    "softmax - need is to get a prob dist - so that we can use it to get cross entropy loss. the loss fn here is cross entropy itself.\n",
    "\n",
    "thus softmax is there in the loss - and hence in the gradient computation (backward pass)\n",
    "\n",
    "but not really needed for inference. - can do it with the direct(linear) outputs of neurons itself.\n",
    "\n",
    "'linear' -> the neuron output is the linear combination itself - not activation on top of it. (or in other words the activation fn is y=x)\n",
    "\n",
    "\n",
    "**softmax in BP**  \n",
    "\n",
    "included in the cross entropy loss function definition(nn.CrossEntropyLoss())  \n",
    "  \n",
    "\n",
    "- Thus not included in inference. but comes in training through the cross entropy loss definition (thus, not included in the n/w definition part.)"
   ]
  },
  {
   "cell_type": "markdown",
   "metadata": {},
   "source": [
    "#### inference"
   ]
  },
  {
   "cell_type": "code",
   "execution_count": 10,
   "metadata": {
    "colab": {
     "base_uri": "https://localhost:8080/"
    },
    "id": "7EnsiK3_WUWP",
    "outputId": "effe45be-fa25-4695-ff7a-134d62e5c3d3"
   },
   "outputs": [],
   "source": [
    "lenet_model = LeNet()\n",
    "out = lenet_model(images)"
   ]
  },
  {
   "cell_type": "code",
   "execution_count": 11,
   "metadata": {
    "colab": {
     "base_uri": "https://localhost:8080/"
    },
    "id": "eu9VEQ_wWWDq",
    "outputId": "993f44b4-f7c5-4c65-f0b2-d28b561e40f2"
   },
   "outputs": [
    {
     "name": "stdout",
     "output_type": "stream",
     "text": [
      "tensor([[-0.0619,  0.0635,  0.0217,  0.0890,  0.0754, -0.0188,  0.0037, -0.0875,\n",
      "         -0.0802,  0.0213],\n",
      "        [-0.0591,  0.0777,  0.0317,  0.0925,  0.0928, -0.0116, -0.0075, -0.0704,\n",
      "         -0.0902,  0.0196],\n",
      "        [-0.0589,  0.0703,  0.0235,  0.0897,  0.0741, -0.0393, -0.0123, -0.0940,\n",
      "         -0.0719,  0.0212],\n",
      "        [-0.0640,  0.0663,  0.0257,  0.0966,  0.0867, -0.0256,  0.0015, -0.0763,\n",
      "         -0.0897,  0.0236]], grad_fn=<AddmmBackward0>)\n"
     ]
    }
   ],
   "source": [
    "print(out)"
   ]
  },
  {
   "cell_type": "markdown",
   "metadata": {
    "id": "mETSxnnobZhY"
   },
   "source": [
    "10 values for each image(4) - both pos and neg values.. as softmax.. is not done.   \n",
    "largest value - infered class."
   ]
  },
  {
   "cell_type": "code",
   "execution_count": 12,
   "metadata": {
    "colab": {
     "base_uri": "https://localhost:8080/"
    },
    "id": "CVXPElD1bwbT",
    "outputId": "6e665587-5607-4bd3-fc80-5258c48e6275"
   },
   "outputs": [
    {
     "name": "stdout",
     "output_type": "stream",
     "text": [
      "tensor([3, 4, 3, 3])\n"
     ]
    }
   ],
   "source": [
    "# prediction = argmax of prob distribution\n",
    "\n",
    "max_values, pred_class = torch.max(out.data, 1)\n",
    "# 1 => axis on which max value is to be found.\n",
    "# return max values, and also their indexes.\n",
    "print(pred_class)"
   ]
  },
  {
   "cell_type": "markdown",
   "metadata": {
    "id": "1apRSEP2b7F-"
   },
   "source": [
    "# Training LeNet"
   ]
  },
  {
   "cell_type": "markdown",
   "metadata": {},
   "source": [
    "#### Data"
   ]
  },
  {
   "cell_type": "markdown",
   "metadata": {},
   "source": [
    "**instantiate a new dataloader for a different batchsize, etc.**"
   ]
  },
  {
   "cell_type": "code",
   "execution_count": 13,
   "metadata": {
    "colab": {
     "base_uri": "https://localhost:8080/"
    },
    "id": "Nn3rVEn4HirD",
    "outputId": "395f2fe4-a641-4107-d1f7-de4f7510ad35"
   },
   "outputs": [],
   "source": [
    "batch_size = 128 # power of 2\n",
    "\n",
    "# training data\n",
    "# dataset: \n",
    "trainset = torchvision.datasets.CIFAR10(root='../data_place/cifar', \n",
    "                                        train=True, \n",
    "                                        download=False, \n",
    "                                        transform=transforms.ToTensor())\n",
    "# dataloader:\n",
    "trainloader = torch.utils.data.DataLoader(trainset, \n",
    "                                          batch_size=batch_size, \n",
    "                                          shuffle=True)\n",
    "\n",
    "# test data \n",
    "# dataset (train = false)\n",
    "testset = torchvision.datasets.CIFAR10(root='../data_place/cifar', \n",
    "                                       train=False, \n",
    "                                       download=False, \n",
    "                                       transform=transforms.ToTensor())\n",
    "# dataloader:\n",
    "testloader = torch.utils.data.DataLoader(testset, \n",
    "                                         batch_size=batch_size, \n",
    "                                         shuffle=False)\n",
    "# shuffle = false - as no point in shuffling test data. only evaluating."
   ]
  },
  {
   "cell_type": "markdown",
   "metadata": {},
   "source": [
    "#### utils"
   ]
  },
  {
   "cell_type": "code",
   "execution_count": 14,
   "metadata": {
    "id": "WtwBcfaKHjRT"
   },
   "outputs": [],
   "source": [
    "# compute accuracy\n",
    "def evaluation(dataloader): # input - dataloader\n",
    "    total, correct = 0, 0\n",
    "    \n",
    "    for batch in dataloader: # iterating trough batches.\n",
    "        input_batch, label_batch = batch\n",
    "        output = lenet_model(input_batch) # invoking model - model ouput\n",
    "        _, pred = torch.max(output.data, 1) # max along dimension 1\n",
    "        \n",
    "        total += label_batch.size(0)\n",
    "        correct += (pred == label_batch).sum().item() #sum gives number of 1s. count.\n",
    "    return 100 * correct / total\n",
    "\n",
    "# a general implementation - would pass the model (object) as a second parameter. \n",
    "# here - using a global model"
   ]
  },
  {
   "cell_type": "markdown",
   "metadata": {},
   "source": [
    "isn't \"with torch.no_grad\" needed in evaluation ??"
   ]
  },
  {
   "cell_type": "markdown",
   "metadata": {},
   "source": [
    "#### loss, optimizer"
   ]
  },
  {
   "cell_type": "code",
   "execution_count": 15,
   "metadata": {
    "id": "XkO7iKVOHs8X"
   },
   "outputs": [],
   "source": [
    "import torch.optim as optim\n",
    "\n",
    "\n",
    "# defining loss function\n",
    "loss_fn = nn.CrossEntropyLoss() \n",
    "# softmax - part of this\n",
    "\n",
    "# defining optimizer\n",
    "opt = optim.Adam(lenet_model.parameters())\n",
    "# need to pass all paramaeters to any optimiser..\n",
    "# can do that with parameters()\n",
    "# didn't specify any hyperparameters (alpha, beta..) - default values."
   ]
  },
  {
   "cell_type": "markdown",
   "metadata": {},
   "source": [
    "### Train"
   ]
  },
  {
   "cell_type": "code",
   "execution_count": null,
   "metadata": {
    "colab": {
     "base_uri": "https://localhost:8080/",
     "height": 578
    },
    "id": "QetCVB5mHvUf",
    "outputId": "1473fee0-e795-46b8-ba87-31ecf6a63277"
   },
   "outputs": [],
   "source": [
    "%%time\n",
    "\n",
    "#training \n",
    "\n",
    "\n",
    "loss_step_arr = [] # loss after each step(parameter update)\n",
    "loss_epoch_arr = [] # loss after each epoch\n",
    "epochs = 16\n",
    "\n",
    "for epoch in range(epochs):\n",
    "\n",
    "    for i, batch in enumerate(trainloader, 0): #batches\n",
    "        \n",
    "        # batch\n",
    "        input_batch, label_batch = batch\n",
    "\n",
    "        opt.zero_grad() # reset gradient\n",
    "        # do reset step in the start\n",
    "        \n",
    "        # forward pass\n",
    "        output = lenet_model(input_batch)\n",
    "        \n",
    "        # loss\n",
    "        loss = loss_fn(output, label_batch)\n",
    "        \n",
    "        # compute gradient\n",
    "        loss.backward()\n",
    "        \n",
    "        # update parameters\n",
    "        opt.step()\n",
    "        \n",
    "        # log loss\n",
    "        loss_step_arr.append(loss.item())\n",
    "        \n",
    "    loss_epoch_arr.append(loss.item())\n",
    "    \n",
    "        \n",
    "    print('Epoch: %d/%d, Test acc: %0.2f, Train acc: %0.2f' % (epoch, \n",
    "                                                               epochs, \n",
    "                                                               evaluation(testloader), \n",
    "                                                               evaluation(trainloader)))\n",
    "    # do evaluation - after each epoch (on both train, test)\n",
    "    \n",
    "\n",
    "# plot loss vs epoch - after training\n",
    "plt.plot(loss_epoch_arr)\n",
    "plt.show()"
   ]
  },
  {
   "cell_type": "code",
   "execution_count": null,
   "metadata": {},
   "outputs": [],
   "source": []
  }
 ],
 "metadata": {
  "accelerator": "GPU",
  "colab": {
   "collapsed_sections": [],
   "provenance": []
  },
  "gpuClass": "standard",
  "kernelspec": {
   "display_name": "Python 3 (ipykernel)",
   "language": "python",
   "name": "python3"
  },
  "language_info": {
   "codemirror_mode": {
    "name": "ipython",
    "version": 3
   },
   "file_extension": ".py",
   "mimetype": "text/x-python",
   "name": "python",
   "nbconvert_exporter": "python",
   "pygments_lexer": "ipython3",
   "version": "3.9.13"
  },
  "widgets": {
   "application/vnd.jupyter.widget-state+json": {
    "1c215ed9810f4007a0335ef3696edf57": {
     "model_module": "@jupyter-widgets/base",
     "model_module_version": "1.2.0",
     "model_name": "LayoutModel",
     "state": {
      "_model_module": "@jupyter-widgets/base",
      "_model_module_version": "1.2.0",
      "_model_name": "LayoutModel",
      "_view_count": null,
      "_view_module": "@jupyter-widgets/base",
      "_view_module_version": "1.2.0",
      "_view_name": "LayoutView",
      "align_content": null,
      "align_items": null,
      "align_self": null,
      "border": null,
      "bottom": null,
      "display": null,
      "flex": null,
      "flex_flow": null,
      "grid_area": null,
      "grid_auto_columns": null,
      "grid_auto_flow": null,
      "grid_auto_rows": null,
      "grid_column": null,
      "grid_gap": null,
      "grid_row": null,
      "grid_template_areas": null,
      "grid_template_columns": null,
      "grid_template_rows": null,
      "height": null,
      "justify_content": null,
      "justify_items": null,
      "left": null,
      "margin": null,
      "max_height": null,
      "max_width": null,
      "min_height": null,
      "min_width": null,
      "object_fit": null,
      "object_position": null,
      "order": null,
      "overflow": null,
      "overflow_x": null,
      "overflow_y": null,
      "padding": null,
      "right": null,
      "top": null,
      "visibility": null,
      "width": null
     }
    },
    "2971f89ab28343d89f60c49e91246d85": {
     "model_module": "@jupyter-widgets/controls",
     "model_module_version": "1.5.0",
     "model_name": "DescriptionStyleModel",
     "state": {
      "_model_module": "@jupyter-widgets/controls",
      "_model_module_version": "1.5.0",
      "_model_name": "DescriptionStyleModel",
      "_view_count": null,
      "_view_module": "@jupyter-widgets/base",
      "_view_module_version": "1.2.0",
      "_view_name": "StyleView",
      "description_width": ""
     }
    },
    "47bfaa727f1642f786586b9644b25398": {
     "model_module": "@jupyter-widgets/controls",
     "model_module_version": "1.5.0",
     "model_name": "FloatProgressModel",
     "state": {
      "_dom_classes": [],
      "_model_module": "@jupyter-widgets/controls",
      "_model_module_version": "1.5.0",
      "_model_name": "FloatProgressModel",
      "_view_count": null,
      "_view_module": "@jupyter-widgets/controls",
      "_view_module_version": "1.5.0",
      "_view_name": "ProgressView",
      "bar_style": "success",
      "description": "",
      "description_tooltip": null,
      "layout": "IPY_MODEL_ed72e1b1fc95400a87ae985f5f243e17",
      "max": 170498071,
      "min": 0,
      "orientation": "horizontal",
      "style": "IPY_MODEL_5b3ae190359f489396ef599f4b3c90be",
      "value": 170498071
     }
    },
    "5b3ae190359f489396ef599f4b3c90be": {
     "model_module": "@jupyter-widgets/controls",
     "model_module_version": "1.5.0",
     "model_name": "ProgressStyleModel",
     "state": {
      "_model_module": "@jupyter-widgets/controls",
      "_model_module_version": "1.5.0",
      "_model_name": "ProgressStyleModel",
      "_view_count": null,
      "_view_module": "@jupyter-widgets/base",
      "_view_module_version": "1.2.0",
      "_view_name": "StyleView",
      "bar_color": null,
      "description_width": ""
     }
    },
    "61656e5e429048c7905494904f747d1f": {
     "model_module": "@jupyter-widgets/controls",
     "model_module_version": "1.5.0",
     "model_name": "DescriptionStyleModel",
     "state": {
      "_model_module": "@jupyter-widgets/controls",
      "_model_module_version": "1.5.0",
      "_model_name": "DescriptionStyleModel",
      "_view_count": null,
      "_view_module": "@jupyter-widgets/base",
      "_view_module_version": "1.2.0",
      "_view_name": "StyleView",
      "description_width": ""
     }
    },
    "73dae33c4c02436f8328541003939dd4": {
     "model_module": "@jupyter-widgets/controls",
     "model_module_version": "1.5.0",
     "model_name": "HTMLModel",
     "state": {
      "_dom_classes": [],
      "_model_module": "@jupyter-widgets/controls",
      "_model_module_version": "1.5.0",
      "_model_name": "HTMLModel",
      "_view_count": null,
      "_view_module": "@jupyter-widgets/controls",
      "_view_module_version": "1.5.0",
      "_view_name": "HTMLView",
      "description": "",
      "description_tooltip": null,
      "layout": "IPY_MODEL_1c215ed9810f4007a0335ef3696edf57",
      "placeholder": "​",
      "style": "IPY_MODEL_61656e5e429048c7905494904f747d1f",
      "value": " 170498071/170498071 [00:01&lt;00:00, 110934476.60it/s]"
     }
    },
    "a0b7f9fd74e84e6da344324e5ce00f16": {
     "model_module": "@jupyter-widgets/base",
     "model_module_version": "1.2.0",
     "model_name": "LayoutModel",
     "state": {
      "_model_module": "@jupyter-widgets/base",
      "_model_module_version": "1.2.0",
      "_model_name": "LayoutModel",
      "_view_count": null,
      "_view_module": "@jupyter-widgets/base",
      "_view_module_version": "1.2.0",
      "_view_name": "LayoutView",
      "align_content": null,
      "align_items": null,
      "align_self": null,
      "border": null,
      "bottom": null,
      "display": null,
      "flex": null,
      "flex_flow": null,
      "grid_area": null,
      "grid_auto_columns": null,
      "grid_auto_flow": null,
      "grid_auto_rows": null,
      "grid_column": null,
      "grid_gap": null,
      "grid_row": null,
      "grid_template_areas": null,
      "grid_template_columns": null,
      "grid_template_rows": null,
      "height": null,
      "justify_content": null,
      "justify_items": null,
      "left": null,
      "margin": null,
      "max_height": null,
      "max_width": null,
      "min_height": null,
      "min_width": null,
      "object_fit": null,
      "object_position": null,
      "order": null,
      "overflow": null,
      "overflow_x": null,
      "overflow_y": null,
      "padding": null,
      "right": null,
      "top": null,
      "visibility": null,
      "width": null
     }
    },
    "b55a985c4b0249728902e7f5e809adbb": {
     "model_module": "@jupyter-widgets/base",
     "model_module_version": "1.2.0",
     "model_name": "LayoutModel",
     "state": {
      "_model_module": "@jupyter-widgets/base",
      "_model_module_version": "1.2.0",
      "_model_name": "LayoutModel",
      "_view_count": null,
      "_view_module": "@jupyter-widgets/base",
      "_view_module_version": "1.2.0",
      "_view_name": "LayoutView",
      "align_content": null,
      "align_items": null,
      "align_self": null,
      "border": null,
      "bottom": null,
      "display": null,
      "flex": null,
      "flex_flow": null,
      "grid_area": null,
      "grid_auto_columns": null,
      "grid_auto_flow": null,
      "grid_auto_rows": null,
      "grid_column": null,
      "grid_gap": null,
      "grid_row": null,
      "grid_template_areas": null,
      "grid_template_columns": null,
      "grid_template_rows": null,
      "height": null,
      "justify_content": null,
      "justify_items": null,
      "left": null,
      "margin": null,
      "max_height": null,
      "max_width": null,
      "min_height": null,
      "min_width": null,
      "object_fit": null,
      "object_position": null,
      "order": null,
      "overflow": null,
      "overflow_x": null,
      "overflow_y": null,
      "padding": null,
      "right": null,
      "top": null,
      "visibility": null,
      "width": null
     }
    },
    "c9ff2d95dde74387b0eaaa7a5a042ce8": {
     "model_module": "@jupyter-widgets/controls",
     "model_module_version": "1.5.0",
     "model_name": "HTMLModel",
     "state": {
      "_dom_classes": [],
      "_model_module": "@jupyter-widgets/controls",
      "_model_module_version": "1.5.0",
      "_model_name": "HTMLModel",
      "_view_count": null,
      "_view_module": "@jupyter-widgets/controls",
      "_view_module_version": "1.5.0",
      "_view_name": "HTMLView",
      "description": "",
      "description_tooltip": null,
      "layout": "IPY_MODEL_b55a985c4b0249728902e7f5e809adbb",
      "placeholder": "​",
      "style": "IPY_MODEL_2971f89ab28343d89f60c49e91246d85",
      "value": "100%"
     }
    },
    "e531924f1b2245c3b3df58fded0ba7e7": {
     "model_module": "@jupyter-widgets/controls",
     "model_module_version": "1.5.0",
     "model_name": "HBoxModel",
     "state": {
      "_dom_classes": [],
      "_model_module": "@jupyter-widgets/controls",
      "_model_module_version": "1.5.0",
      "_model_name": "HBoxModel",
      "_view_count": null,
      "_view_module": "@jupyter-widgets/controls",
      "_view_module_version": "1.5.0",
      "_view_name": "HBoxView",
      "box_style": "",
      "children": [
       "IPY_MODEL_c9ff2d95dde74387b0eaaa7a5a042ce8",
       "IPY_MODEL_47bfaa727f1642f786586b9644b25398",
       "IPY_MODEL_73dae33c4c02436f8328541003939dd4"
      ],
      "layout": "IPY_MODEL_a0b7f9fd74e84e6da344324e5ce00f16"
     }
    },
    "ed72e1b1fc95400a87ae985f5f243e17": {
     "model_module": "@jupyter-widgets/base",
     "model_module_version": "1.2.0",
     "model_name": "LayoutModel",
     "state": {
      "_model_module": "@jupyter-widgets/base",
      "_model_module_version": "1.2.0",
      "_model_name": "LayoutModel",
      "_view_count": null,
      "_view_module": "@jupyter-widgets/base",
      "_view_module_version": "1.2.0",
      "_view_name": "LayoutView",
      "align_content": null,
      "align_items": null,
      "align_self": null,
      "border": null,
      "bottom": null,
      "display": null,
      "flex": null,
      "flex_flow": null,
      "grid_area": null,
      "grid_auto_columns": null,
      "grid_auto_flow": null,
      "grid_auto_rows": null,
      "grid_column": null,
      "grid_gap": null,
      "grid_row": null,
      "grid_template_areas": null,
      "grid_template_columns": null,
      "grid_template_rows": null,
      "height": null,
      "justify_content": null,
      "justify_items": null,
      "left": null,
      "margin": null,
      "max_height": null,
      "max_width": null,
      "min_height": null,
      "min_width": null,
      "object_fit": null,
      "object_position": null,
      "order": null,
      "overflow": null,
      "overflow_x": null,
      "overflow_y": null,
      "padding": null,
      "right": null,
      "top": null,
      "visibility": null,
      "width": null
     }
    }
   }
  }
 },
 "nbformat": 4,
 "nbformat_minor": 1
}
