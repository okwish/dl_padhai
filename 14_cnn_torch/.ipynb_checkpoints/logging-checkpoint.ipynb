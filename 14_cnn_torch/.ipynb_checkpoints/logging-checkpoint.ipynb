{
 "cells": [
  {
   "cell_type": "markdown",
   "id": "c400878f",
   "metadata": {},
   "source": [
    "For tracking events that happen when some software runs(mainly used for debugging, etc.).  \n",
    "\n",
    "\"levels\" of log messages - debug, info, warning, error, critical  \n",
    "\n",
    "Logger.info(msg)  \n",
    "Logger.warning(msg)    \n",
    "Logger.error(msg)  \n",
    "Logger.critical(msg)  \n",
    "Logger.log(lvl, msg)  \n",
    "etc..   \n",
    "\n"
   ]
  },
  {
   "cell_type": "code",
   "execution_count": 1,
   "id": "25e53379",
   "metadata": {},
   "outputs": [],
   "source": [
    "import logging"
   ]
  },
  {
   "cell_type": "code",
   "execution_count": 2,
   "id": "6bd51361",
   "metadata": {},
   "outputs": [],
   "source": [
    "# logging.basicConfig(filename=\"file_to_log\", level=logging.INFO)\n",
    "# file to log to, default level\n",
    "\n",
    "logging.basicConfig(level=logging.INFO) #default level\n",
    "# logger = logging.getLogger()\n",
    "\n",
    "logger = logging.getLogger(__name__)\n",
    "# for logger name heirarchy\n",
    "# __name__ has current module(file) name"
   ]
  },
  {
   "cell_type": "code",
   "execution_count": 4,
   "id": "d2784ca6",
   "metadata": {},
   "outputs": [
    {
     "name": "stderr",
     "output_type": "stream",
     "text": [
      "INFO:root:check\n"
     ]
    }
   ],
   "source": [
    "logging.info(\"check\")"
   ]
  },
  {
   "cell_type": "code",
   "execution_count": null,
   "id": "4692701e",
   "metadata": {},
   "outputs": [],
   "source": [
    "logging.info(\n",
    "                f'Epoch = [{epoch:3d}/{args.num_epochs:3d}] '\n",
    "                f'Iter = [{iter:4d}/{len(data_loader):4d}] '\n",
    "                f'Loss = {loss.item():.4g} Avg Loss = {avg_loss:.4g} '\n",
    "                f'Time = {time.perf_counter() - start_iter:.4f}s',\n",
    "            )"
   ]
  }
 ],
 "metadata": {
  "kernelspec": {
   "display_name": "Python 3 (ipykernel)",
   "language": "python",
   "name": "python3"
  },
  "language_info": {
   "codemirror_mode": {
    "name": "ipython",
    "version": 3
   },
   "file_extension": ".py",
   "mimetype": "text/x-python",
   "name": "python",
   "nbconvert_exporter": "python",
   "pygments_lexer": "ipython3",
   "version": "3.8.10"
  }
 },
 "nbformat": 4,
 "nbformat_minor": 5
}
