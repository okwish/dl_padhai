{
 "cells": [
  {
   "cell_type": "markdown",
   "id": "7cab23a0",
   "metadata": {},
   "source": [
    "https://pytorch.org/docs/stable/tensorboard.html  \n",
    "\n",
    "tensorboardX was a third party library for pytorch - but becuase of its popularity got added to pytorch.  \n",
    "\n",
    "https://tensorboardx.readthedocs.io/en/latest/tutorial.html  \n"
   ]
  },
  {
   "cell_type": "code",
   "execution_count": 1,
   "id": "3f4ba4ed",
   "metadata": {},
   "outputs": [],
   "source": [
    "from torch.utils.tensorboard import SummaryWriter\n",
    "\n",
    "# from tensorboardX import SummaryWriter"
   ]
  },
  {
   "cell_type": "code",
   "execution_count": 3,
   "id": "59ca1f8a",
   "metadata": {},
   "outputs": [],
   "source": [
    "# writer = SummaryWriter()\n",
    "# Writer will output to ./runs/ directory by default\n",
    "writer = SummaryWriter(\"./logs/\")\n",
    "\n",
    "# writer = SummaryWriter(path)\n",
    "# writer = SummaryWriter(log_dir=path)"
   ]
  },
  {
   "cell_type": "code",
   "execution_count": null,
   "id": "dd26ced5",
   "metadata": {},
   "outputs": [],
   "source": [
    "writer.add_scalar('tag', value, step )\n",
    "# step is like the x-axis (its optional)"
   ]
  },
  {
   "cell_type": "code",
   "execution_count": null,
   "id": "39f06ee5",
   "metadata": {},
   "outputs": [],
   "source": [
    "writer.close() # This call flushes the unfinished write operation.  \n",
    "# preferable to use 'close' after every time you write something"
   ]
  },
  {
   "cell_type": "code",
   "execution_count": null,
   "id": "bccf1b45",
   "metadata": {},
   "outputs": [],
   "source": [
    "## log multiple scalars  \n",
    "writer.add_scalars('parent_tag', {'tag1': value1,\n",
    "                                  'tag2': value2,\n",
    "                                  'tag3': value3 \n",
    "                                 }, step)\n",
    "\n",
    "# all in same plot"
   ]
  },
  {
   "cell_type": "code",
   "execution_count": null,
   "id": "412ffe15",
   "metadata": {},
   "outputs": [],
   "source": [
    "writer.add_histogram('tag', data, step)  \n",
    "# data to build histogram (torch tensor, ndarray)"
   ]
  },
  {
   "cell_type": "code",
   "execution_count": null,
   "id": "15dd17e3",
   "metadata": {},
   "outputs": [],
   "source": [
    "writer.add_image('tag', image, step )\n",
    "writer.add_images('tag', image_data, step)"
   ]
  },
  {
   "cell_type": "code",
   "execution_count": null,
   "id": "515fd7fe",
   "metadata": {},
   "outputs": [],
   "source": [
    "writer.add_figure('tag', fig, step)\n",
    "# matplotlib figure object"
   ]
  },
  {
   "cell_type": "code",
   "execution_count": null,
   "id": "ba183ee0",
   "metadata": {},
   "outputs": [],
   "source": [
    "writer.add_graph(model, input_to_model=one_input) #torch model \n",
    "# draw model!!"
   ]
  },
  {
   "cell_type": "code",
   "execution_count": null,
   "id": "a8b43d85",
   "metadata": {},
   "outputs": [],
   "source": []
  },
  {
   "cell_type": "markdown",
   "id": "2c26ea74",
   "metadata": {},
   "source": [
    "### resuming : \n",
    "\n",
    "use the same log directory.  \n",
    "start the 'step' from where it was left of, not 0."
   ]
  },
  {
   "cell_type": "code",
   "execution_count": null,
   "id": "f5b55787",
   "metadata": {},
   "outputs": [],
   "source": []
  },
  {
   "cell_type": "markdown",
   "id": "6c9a1978",
   "metadata": {},
   "source": [
    "tensorboard --logdir=directory_path   \n",
    "(run tensorboard)"
   ]
  },
  {
   "cell_type": "code",
   "execution_count": null,
   "id": "61fc62ef",
   "metadata": {},
   "outputs": [],
   "source": []
  }
 ],
 "metadata": {
  "kernelspec": {
   "display_name": "Python 3 (ipykernel)",
   "language": "python",
   "name": "python3"
  },
  "language_info": {
   "codemirror_mode": {
    "name": "ipython",
    "version": 3
   },
   "file_extension": ".py",
   "mimetype": "text/x-python",
   "name": "python",
   "nbconvert_exporter": "python",
   "pygments_lexer": "ipython3",
   "version": "3.8.10"
  }
 },
 "nbformat": 4,
 "nbformat_minor": 5
}
