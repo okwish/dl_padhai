{
 "cells": [
  {
   "cell_type": "markdown",
   "id": "b3b34b00",
   "metadata": {},
   "source": [
    "https://docs.wandb.ai/quickstart\n",
    "\n",
    "https://docs.wandb.ai/"
   ]
  },
  {
   "cell_type": "markdown",
   "id": "93f946de",
   "metadata": {},
   "source": [
    "wandb can be used as an **all in one analysis place.**  \n",
    "many features \n",
    "\n",
    "!pip install wandb -qU"
   ]
  },
  {
   "cell_type": "markdown",
   "id": "fbe01745",
   "metadata": {},
   "source": [
    "wandb login (terminal)    \n",
    "\n",
    "paste API key   \n",
    "find key here:  \n",
    "https://wandb.ai/authorize  \n",
    "\n",
    "(knows which account.. - from the key)\n",
    "\n",
    "This will keep you logged in.  \n",
    "\n",
    "wandb login --relogin   \n",
    "to force relogin"
   ]
  },
  {
   "cell_type": "code",
   "execution_count": 1,
   "id": "a4170a07",
   "metadata": {},
   "outputs": [
    {
     "name": "stderr",
     "output_type": "stream",
     "text": [
      "/usr/lib/python3/dist-packages/requests/__init__.py:89: RequestsDependencyWarning: urllib3 (1.26.15) or chardet (3.0.4) doesn't match a supported version!\n",
      "  warnings.warn(\"urllib3 ({}) or chardet ({}) doesn't match a supported \"\n"
     ]
    }
   ],
   "source": [
    "import wandb"
   ]
  },
  {
   "cell_type": "code",
   "execution_count": 2,
   "id": "f6f87c03",
   "metadata": {},
   "outputs": [
    {
     "name": "stderr",
     "output_type": "stream",
     "text": [
      "\u001b[34m\u001b[1mwandb\u001b[0m: Currently logged in as: \u001b[33mwishnuss\u001b[0m. Use \u001b[1m`wandb login --relogin`\u001b[0m to force relogin\n"
     ]
    },
    {
     "data": {
      "text/plain": [
       "True"
      ]
     },
     "execution_count": 2,
     "metadata": {},
     "output_type": "execute_result"
    }
   ],
   "source": [
    "wandb.login() # in jupyter notebook  \n",
    "\n",
    "# also will need this for colab."
   ]
  },
  {
   "cell_type": "code",
   "execution_count": 3,
   "id": "7866c92a",
   "metadata": {},
   "outputs": [
    {
     "data": {
      "text/html": [
       "Tracking run with wandb version 0.14.0"
      ],
      "text/plain": [
       "<IPython.core.display.HTML object>"
      ]
     },
     "metadata": {},
     "output_type": "display_data"
    },
    {
     "data": {
      "text/html": [
       "Run data is saved locally in <code>/home/wishnu/padhai_dl_code_notes/14_cnn_torch/wandb/run-20230318_001738-89kanwqy</code>"
      ],
      "text/plain": [
       "<IPython.core.display.HTML object>"
      ]
     },
     "metadata": {},
     "output_type": "display_data"
    },
    {
     "data": {
      "text/html": [
       "Syncing run <strong><a href='https://wandb.ai/wishnuss/Trial/runs/89kanwqy' target=\"_blank\">run 1</a></strong> to <a href='https://wandb.ai/wishnuss/Trial' target=\"_blank\">Weights & Biases</a> (<a href='https://wandb.me/run' target=\"_blank\">docs</a>)<br/>"
      ],
      "text/plain": [
       "<IPython.core.display.HTML object>"
      ]
     },
     "metadata": {},
     "output_type": "display_data"
    },
    {
     "data": {
      "text/html": [
       " View project at <a href='https://wandb.ai/wishnuss/Trial' target=\"_blank\">https://wandb.ai/wishnuss/Trial</a>"
      ],
      "text/plain": [
       "<IPython.core.display.HTML object>"
      ]
     },
     "metadata": {},
     "output_type": "display_data"
    },
    {
     "data": {
      "text/html": [
       " View run at <a href='https://wandb.ai/wishnuss/Trial/runs/89kanwqy' target=\"_blank\">https://wandb.ai/wishnuss/Trial/runs/89kanwqy</a>"
      ],
      "text/plain": [
       "<IPython.core.display.HTML object>"
      ]
     },
     "metadata": {},
     "output_type": "display_data"
    }
   ],
   "source": [
    "run = wandb.init(\n",
    "    # project name where the \"run\" will be logged\n",
    "    project=\"Trial\", \n",
    "    \n",
    "    # run name\n",
    "    name=\"run 1\", \n",
    "    \n",
    "    # metadata (hyperparameters, etc.)\n",
    "    config={ # dictionary\n",
    "    \"day\": \"Friday\",\n",
    "    \"time\": 9,\n",
    "    \"data\": \"toy data\"},    \n",
    "    \n",
    "    # tags\n",
    "    tags=[\"learning wandb\", \"DL\"]\n",
    ")\n",
    "# calling wandb.init function. Sets up the run; \n",
    "# and return a run object. "
   ]
  },
  {
   "cell_type": "code",
   "execution_count": 4,
   "id": "7ad6e2d8",
   "metadata": {},
   "outputs": [],
   "source": [
    "# config is a dictionary\n",
    "\n",
    "wandb.config[\"new_config\"] = \"new_value\"\n",
    "\n",
    "# can add more parameters throughtout the script\n",
    "# when the run is active"
   ]
  },
  {
   "cell_type": "code",
   "execution_count": 5,
   "id": "cbf5dde6",
   "metadata": {},
   "outputs": [
    {
     "name": "stdout",
     "output_type": "stream",
     "text": [
      "wishnuss\n",
      "89kanwqy\n",
      "Trial\n",
      "run 1\n",
      "{'day': 'Friday', 'time': 9, 'data': 'toy data', 'new_config': 'new_value'}\n",
      "('learning wandb', 'DL')\n"
     ]
    }
   ],
   "source": [
    "# run object\n",
    "\n",
    "print(run.entity) #wandb username\n",
    "print(run.id) #unique global run id\n",
    "print(run.project)\n",
    "print(run.name)\n",
    "print(run.config)\n",
    "print(run.tags)"
   ]
  },
  {
   "cell_type": "code",
   "execution_count": 3,
   "id": "284c0bc3",
   "metadata": {},
   "outputs": [],
   "source": [
    "import numpy as np\n",
    "import time\n",
    "\n",
    "\n",
    "# dummy stuff to log\n",
    "xx = np.linspace(0,100)"
   ]
  },
  {
   "cell_type": "markdown",
   "id": "ff31c9fd",
   "metadata": {},
   "source": [
    "log into the \"run\" which is active now:    \n",
    "\n",
    "wandb.log({ \"name\":value, \"name\":value, ... })  \n",
    "each get logged as a seperate plot"
   ]
  },
  {
   "cell_type": "code",
   "execution_count": 7,
   "id": "643d7c16",
   "metadata": {},
   "outputs": [],
   "source": [
    "for x in xx:\n",
    "    wandb.log({ \"data1\":x, \"data2\":2*x })\n",
    "    time.sleep(0.1)"
   ]
  },
  {
   "cell_type": "markdown",
   "id": "1a79fc8c",
   "metadata": {},
   "source": [
    "each log() (\"step\") is the default x-axis => use for a causal logging only.  \n",
    "A custom x-axis can also be used.  "
   ]
  },
  {
   "cell_type": "code",
   "execution_count": 8,
   "id": "f814c073",
   "metadata": {
    "collapsed": true
   },
   "outputs": [
    {
     "data": {
      "text/html": [
       "Waiting for W&B process to finish... <strong style=\"color:green\">(success).</strong>"
      ],
      "text/plain": [
       "<IPython.core.display.HTML object>"
      ]
     },
     "metadata": {},
     "output_type": "display_data"
    },
    {
     "data": {
      "application/vnd.jupyter.widget-view+json": {
       "model_id": "f4959210fb1a4fb78e75eb19ef54b69f",
       "version_major": 2,
       "version_minor": 0
      },
      "text/plain": [
       "VBox(children=(Label(value='0.001 MB of 0.001 MB uploaded (0.000 MB deduped)\\r'), FloatProgress(value=1.0, max…"
      ]
     },
     "metadata": {},
     "output_type": "display_data"
    },
    {
     "data": {
      "text/html": [
       "<style>\n",
       "    table.wandb td:nth-child(1) { padding: 0 10px; text-align: left ; width: auto;} td:nth-child(2) {text-align: left ; width: 100%}\n",
       "    .wandb-row { display: flex; flex-direction: row; flex-wrap: wrap; justify-content: flex-start; width: 100% }\n",
       "    .wandb-col { display: flex; flex-direction: column; flex-basis: 100%; flex: 1; padding: 10px; }\n",
       "    </style>\n",
       "<div class=\"wandb-row\"><div class=\"wandb-col\"><h3>Run history:</h3><br/><table class=\"wandb\"><tr><td>data1</td><td>▁▁▁▁▂▂▂▂▂▃▃▃▃▃▃▄▄▄▄▄▅▅▅▅▅▅▆▆▆▆▆▆▇▇▇▇▇███</td></tr><tr><td>data2</td><td>▁▁▁▁▂▂▂▂▂▃▃▃▃▃▃▄▄▄▄▄▅▅▅▅▅▅▆▆▆▆▆▆▇▇▇▇▇███</td></tr></table><br/></div><div class=\"wandb-col\"><h3>Run summary:</h3><br/><table class=\"wandb\"><tr><td>data1</td><td>100.0</td></tr><tr><td>data2</td><td>200.0</td></tr></table><br/></div></div>"
      ],
      "text/plain": [
       "<IPython.core.display.HTML object>"
      ]
     },
     "metadata": {},
     "output_type": "display_data"
    },
    {
     "data": {
      "text/html": [
       " View run <strong style=\"color:#cdcd00\">run 1</strong> at: <a href='https://wandb.ai/wishnuss/Trial/runs/89kanwqy' target=\"_blank\">https://wandb.ai/wishnuss/Trial/runs/89kanwqy</a><br/>Synced 5 W&B file(s), 0 media file(s), 0 artifact file(s) and 0 other file(s)"
      ],
      "text/plain": [
       "<IPython.core.display.HTML object>"
      ]
     },
     "metadata": {},
     "output_type": "display_data"
    },
    {
     "data": {
      "text/html": [
       "Find logs at: <code>./wandb/run-20230318_001738-89kanwqy/logs</code>"
      ],
      "text/plain": [
       "<IPython.core.display.HTML object>"
      ]
     },
     "metadata": {},
     "output_type": "display_data"
    }
   ],
   "source": [
    "wandb.finish()  \n",
    "# finish run\n",
    "# gives a run summnary"
   ]
  },
  {
   "cell_type": "markdown",
   "id": "81abb837",
   "metadata": {},
   "source": [
    "### Resuming finished run"
   ]
  },
  {
   "cell_type": "code",
   "execution_count": 4,
   "id": "850d1f81",
   "metadata": {},
   "outputs": [
    {
     "data": {
      "text/html": [
       "Tracking run with wandb version 0.14.0"
      ],
      "text/plain": [
       "<IPython.core.display.HTML object>"
      ]
     },
     "metadata": {},
     "output_type": "display_data"
    },
    {
     "data": {
      "text/html": [
       "Run data is saved locally in <code>/home/wishnu/padhai_dl_code_notes/14_cnn_torch/wandb/run-20230320_093210-89kanwqy</code>"
      ],
      "text/plain": [
       "<IPython.core.display.HTML object>"
      ]
     },
     "metadata": {},
     "output_type": "display_data"
    },
    {
     "data": {
      "text/html": [
       "Resuming run <strong><a href='https://wandb.ai/wishnuss/Trial/runs/89kanwqy' target=\"_blank\">run 1</a></strong> to <a href='https://wandb.ai/wishnuss/Trial' target=\"_blank\">Weights & Biases</a> (<a href='https://wandb.me/run' target=\"_blank\">docs</a>)<br/>"
      ],
      "text/plain": [
       "<IPython.core.display.HTML object>"
      ]
     },
     "metadata": {},
     "output_type": "display_data"
    },
    {
     "data": {
      "text/html": [
       " View project at <a href='https://wandb.ai/wishnuss/Trial' target=\"_blank\">https://wandb.ai/wishnuss/Trial</a>"
      ],
      "text/plain": [
       "<IPython.core.display.HTML object>"
      ]
     },
     "metadata": {},
     "output_type": "display_data"
    },
    {
     "data": {
      "text/html": [
       " View run at <a href='https://wandb.ai/wishnuss/Trial/runs/89kanwqy' target=\"_blank\">https://wandb.ai/wishnuss/Trial/runs/89kanwqy</a>"
      ],
      "text/plain": [
       "<IPython.core.display.HTML object>"
      ]
     },
     "metadata": {},
     "output_type": "display_data"
    },
    {
     "data": {
      "text/html": [
       "<button onClick=\"this.nextSibling.style.display='block';this.style.display='none';\">Display W&B run</button><iframe src='https://wandb.ai/wishnuss/Trial/runs/89kanwqy?jupyter=true' style='border:none;width:100%;height:420px;display:none;'></iframe>"
      ],
      "text/plain": [
       "<wandb.sdk.wandb_run.Run at 0x7ff3fd5b60d0>"
      ]
     },
     "execution_count": 4,
     "metadata": {},
     "output_type": "execute_result"
    }
   ],
   "source": [
    "wandb.init(project=\"Trial\", \n",
    "           id=\"89kanwqy\",  #unique run id\n",
    "           resume=\"must\" # to make sure that its resuming\n",
    "          )"
   ]
  },
  {
   "cell_type": "code",
   "execution_count": 5,
   "id": "0370ca1a",
   "metadata": {},
   "outputs": [],
   "source": [
    "for x in xx:\n",
    "    wandb.log({ \"data1\":x, \"data2\":2*x })\n",
    "    time.sleep(0.1)"
   ]
  },
  {
   "cell_type": "code",
   "execution_count": 44,
   "id": "55bc14a3",
   "metadata": {},
   "outputs": [],
   "source": [
    "wandb.finish()  "
   ]
  },
  {
   "cell_type": "markdown",
   "id": "b341b217",
   "metadata": {},
   "source": [
    "### api - to update config of 'finished' run\n"
   ]
  },
  {
   "cell_type": "code",
   "execution_count": 12,
   "id": "23953521",
   "metadata": {},
   "outputs": [],
   "source": [
    "api = wandb.Api()"
   ]
  },
  {
   "cell_type": "code",
   "execution_count": 14,
   "id": "7c1e7fe8",
   "metadata": {},
   "outputs": [],
   "source": [
    "# run = api.run(\"wishnuss/Trial/8ptbk48a\")\n",
    "username = run.entity\n",
    "project = run.project\n",
    "run_id = run.id\n",
    "run = api.run(f\"{username}/{project}/{run_id}\")"
   ]
  },
  {
   "cell_type": "code",
   "execution_count": 15,
   "id": "92550b66",
   "metadata": {},
   "outputs": [],
   "source": [
    "run.config[\"more_config\"] = \"more_value\"\n",
    "run.update()"
   ]
  },
  {
   "cell_type": "markdown",
   "id": "12e519fc",
   "metadata": {},
   "source": [
    "can only update config using api??"
   ]
  },
  {
   "cell_type": "markdown",
   "id": "e786ef9f",
   "metadata": {},
   "source": [
    "### Alert  \n",
    "sends a mail to the account - email."
   ]
  },
  {
   "cell_type": "code",
   "execution_count": 7,
   "id": "e65df872",
   "metadata": {},
   "outputs": [],
   "source": [
    "# wandb alert\n",
    "# get alert on mail/slack\n",
    "    \n",
    "# example:\n",
    "num = 10\n",
    "wandb.alert(\n",
    "    # alert title\n",
    "    title=\"Wandb alert message\", \n",
    "    # alert text\n",
    "    text=f\"The number is {num}\"\n",
    ")"
   ]
  },
  {
   "cell_type": "code",
   "execution_count": null,
   "id": "2bc281f7",
   "metadata": {},
   "outputs": [],
   "source": []
  },
  {
   "cell_type": "code",
   "execution_count": 5,
   "id": "bb4b0e95",
   "metadata": {},
   "outputs": [
    {
     "name": "stderr",
     "output_type": "stream",
     "text": [
      "/usr/lib/python3/dist-packages/requests/__init__.py:89: RequestsDependencyWarning: urllib3 (1.26.15) or chardet (3.0.4) doesn't match a supported version!\n",
      "  warnings.warn(\"urllib3 ({}) or chardet ({}) doesn't match a supported \"\n",
      "wandb: Network error (ConnectionError), entering retry loop.\n",
      "\u001b[34m\u001b[1mwandb\u001b[0m: Network error resolved after 0:00:07.750279, resuming normal operation.\n"
     ]
    }
   ],
   "source": [
    "import matplotlib.pyplot as plt"
   ]
  },
  {
   "cell_type": "markdown",
   "id": "798ade82",
   "metadata": {},
   "source": [
    "# Logging\n",
    "\n",
    "https://docs.wandb.ai/guides/track/log"
   ]
  },
  {
   "cell_type": "markdown",
   "id": "fa267a39",
   "metadata": {},
   "source": [
    "**Data logged from your script is saved locally to your machine in a directory called wandb, then synced to the W&B cloud or your private server**"
   ]
  },
  {
   "cell_type": "markdown",
   "id": "931678d3",
   "metadata": {},
   "source": [
    "### Logging plots  \n",
    "\n",
    "comes in \"custom chart\", \"media\" ,.. in wandb account."
   ]
  },
  {
   "cell_type": "markdown",
   "id": "40d5da08",
   "metadata": {},
   "source": [
    "#### Using matplotlib"
   ]
  },
  {
   "cell_type": "code",
   "execution_count": 13,
   "id": "1c2d8dc1",
   "metadata": {},
   "outputs": [
    {
     "data": {
      "image/png": "[encoded data removed]",
      "text/plain": [
       "<Figure size 432x288 with 1 Axes>"
      ]
     },
     "metadata": {
      "needs_background": "light"
     },
     "output_type": "display_data"
    }
   ],
   "source": [
    "fig, ax = plt.subplots()\n",
    "ax.plot(xx)\n",
    "plt.show()"
   ]
  },
  {
   "cell_type": "code",
   "execution_count": null,
   "id": "a808a4a4",
   "metadata": {},
   "outputs": [],
   "source": [
    "wandb.log( {\"plot\": fig} )  # pass plt or figure object\n",
    "# passing figure object like any other value.\n",
    "\n",
    "# didn't work with subplots  "
   ]
  },
  {
   "cell_type": "code",
   "execution_count": 19,
   "id": "aa7c947e",
   "metadata": {},
   "outputs": [],
   "source": [
    "# Other built in plotting methods:  \n",
    "\n",
    "# wandb.log({\"line_plot\" : wandb.plot.line(table, \"x\", \"y\",\n",
    "#            title=\"Line Plot\")})\n",
    "\n",
    "# PRECISION RECALL CURVE\n",
    "# wandb.log({\"pr\": wandb.plot.pr_curve(ground_truth, predictions)})\n",
    "\n",
    "# normal plots using log are better. "
   ]
  },
  {
   "cell_type": "markdown",
   "id": "674de01e",
   "metadata": {},
   "source": [
    "### Tables\n",
    "\n",
    "each column has a fixed type(text, number, **image**,. ) - don't have to specify - but only pass data of that type into that column."
   ]
  },
  {
   "cell_type": "code",
   "execution_count": 6,
   "id": "85e1d346",
   "metadata": {},
   "outputs": [],
   "source": [
    "# create table:\n",
    "\n",
    "table_obj = wandb.Table(columns=[\"col1\", \"col2\", \"col3\"],\n",
    "            data=[ [\"a\", 1, \"data1\"],\n",
    "                  [\"b\", 2, \"data2\"] ] \n",
    "            )\n",
    "# using pandas dataframe\n",
    "# wandb.Table(dataframe=my_df)\n",
    "\n",
    "# add row\n",
    "table_obj.add_data(\"c\",3,\"data3\")\n",
    "\n",
    "# add column\n",
    "table_obj.add_column(name=\"col4\", data=[1,1,1])\n",
    "\n",
    "# log table\n",
    "wandb.log( {\"table_log\":table_obj})"
   ]
  },
  {
   "cell_type": "markdown",
   "id": "c495e720",
   "metadata": {},
   "source": [
    "can do interactive analysis on table - like sorting, filter, grouping, etc.  also comparing, etc.   \n",
    "https://docs.wandb.ai/guides/data-vis/tables  \n",
    "\n"
   ]
  },
  {
   "cell_type": "markdown",
   "id": "c5db2fc8",
   "metadata": {},
   "source": [
    "### Media, objects  \n",
    "\n",
    "https://docs.wandb.ai/guides/track/log/media  \n",
    "\n",
    "\n",
    "images, videos, audios, ...   \n",
    "logs in \"media\" in wandb page.  \n",
    "\n",
    "#### images\n",
    "for input-output; filter weights; ..  \n",
    "can edit the views, etc.   \n",
    "logged wrt \"step\"  "
   ]
  },
  {
   "cell_type": "code",
   "execution_count": 9,
   "id": "8fd95746",
   "metadata": {},
   "outputs": [],
   "source": [
    "import cv2"
   ]
  },
  {
   "cell_type": "code",
   "execution_count": 36,
   "id": "12af2e47",
   "metadata": {},
   "outputs": [],
   "source": [
    "img_obj = wandb.Image(\"the_fall.jpg\")\n",
    "# image object. \n",
    "\n",
    "wandb.log( {\"img_log\" : img_obj} )"
   ]
  },
  {
   "cell_type": "code",
   "execution_count": 8,
   "id": "2548b29b",
   "metadata": {},
   "outputs": [],
   "source": [
    "images = wandb.Image(image_array, caption=\"Top: Output, Bottom: Input\")\n",
    "# eg: grid\n",
    "          \n",
    "wandb.log({\"examples\": images}"
   ]
  },
  {
   "cell_type": "markdown",
   "id": "1c1713c3",
   "metadata": {},
   "source": [
    " #### Overlaying masks on images\n",
    " \n",
    "dictionary with mask_data, class_labels keys to wandb.Image"
   ]
  },
  {
   "cell_type": "code",
   "execution_count": 26,
   "id": "34607090",
   "metadata": {},
   "outputs": [],
   "source": [
    "img = cv2.imread(\"the_fall.jpg\")\n",
    "img_mask = np.zeros_like(img[:,:,0]) #one channel shape\n",
    "# a circle mask\n",
    "img_mask1 = cv2.circle(img_mask, (800,400), 50, 1, -1)\n",
    "img_mask2 = cv2.circle(img_mask, (600,500), 100, 1, -1)"
   ]
  },
  {
   "cell_type": "code",
   "execution_count": 27,
   "id": "c68ce723",
   "metadata": {},
   "outputs": [],
   "source": [
    "img_with_mask = wandb.Image(img, \n",
    "                            \n",
    "                            masks = {\n",
    "                                \n",
    "                                \"mask1\" : {                                     \n",
    "                                    \"mask_data\" : img_mask1, \n",
    "                                    \"class_labesl\" : {0:\"BG\", 1:\"RoI\"}\n",
    "                               },\n",
    "                                \n",
    "                                \"mask2\" : {\n",
    "                                    \"mask_data\" : img_mask2,\n",
    "                                    \"class_labesl\" : {0:\"BG\", 1:\"RoI\"}\n",
    "\n",
    "                                }\n",
    "                                \n",
    "                            }\n",
    "                           )"
   ]
  },
  {
   "cell_type": "code",
   "execution_count": 28,
   "id": "4bc70e87",
   "metadata": {},
   "outputs": [],
   "source": [
    "wandb.log( {\"overlayed masks\" : img_with_mask} )"
   ]
  },
  {
   "cell_type": "markdown",
   "id": "31e547c4",
   "metadata": {},
   "source": [
    "#### Overlaying bounding boxes on images  \n",
    "\n",
    "\n",
    "\"box-sets\" - as could be multiple objects being detected. "
   ]
  },
  {
   "cell_type": "code",
   "execution_count": 39,
   "id": "0939822b",
   "metadata": {},
   "outputs": [],
   "source": [
    "class_id_to_label = {\n",
    "    0: \"RoI1\",\n",
    "    1: \"RoI2\"\n",
    "}\n",
    "\n",
    "img_with_box = wandb.Image(img, \n",
    "                           boxes={\n",
    "                               \"box_set_1\": \n",
    "                               {\n",
    "                                   # list of boxes\n",
    "                                   \"box_data\": [\n",
    "                                       \n",
    "                                       # box-1 in first set\n",
    "                                       {\n",
    "                                           \"position\":{\n",
    "                                               \"minX\": 100,\n",
    "                                               \"maxX\": 400,\n",
    "                                               \"minY\": 100,\n",
    "                                               \"maxY\": 500\n",
    "                                           },\n",
    "                                           \"class_id\" : 0,\n",
    "                                           \"box_caption\": class_id_to_label[0],\n",
    "                                           \"scores\":{\"acc\":0.5}\n",
    "                                       },\n",
    "                                       \n",
    "                                       # box-2 in first set\n",
    "                                       {\n",
    "                                           \"position\":{\n",
    "                                               \"minX\": 200,\n",
    "                                               \"maxX\": 500,\n",
    "                                               \"minY\": 200,\n",
    "                                               \"maxY\": 600\n",
    "                                           },\n",
    "                                           \"class_id\" : 1,\n",
    "                                           \"box_caption\": class_id_to_label[1],\n",
    "                                           \"scores\":{\"acc\":0.6}\n",
    "                                       }\n",
    "                                       \n",
    "                                   ],\n",
    "                                   # labels mapping for first box set\n",
    "                                   \"class_labels\" : class_id_to_label                          \n",
    "                                   \n",
    "                               }\n",
    "                               # similarly, next set-of-boxes\n",
    "                               # (meaningful sets. like prediction, ground truth etc.)\n",
    "                           }\n",
    "                          )\n",
    "                                   "
   ]
  },
  {
   "cell_type": "code",
   "execution_count": 40,
   "id": "08caaf51",
   "metadata": {},
   "outputs": [],
   "source": [
    "wandb.log( {\"overlayed boxes\": img_with_box} ) "
   ]
  },
  {
   "cell_type": "markdown",
   "id": "313f7855",
   "metadata": {},
   "source": [
    "The image object (with mask, box,.. ) can be a table element also."
   ]
  },
  {
   "cell_type": "markdown",
   "id": "901cb625",
   "metadata": {},
   "source": [
    "Similarly more objects. Histrogram, 3D visulization, audio, etc.. "
   ]
  },
  {
   "cell_type": "markdown",
   "id": "97b5781c",
   "metadata": {},
   "source": [
    "**the same wandb.log( { \"tag_i\" : object_i, .. } ) function, with different kinds of objects**"
   ]
  },
  {
   "cell_type": "markdown",
   "id": "fb7d9b35",
   "metadata": {},
   "source": [
    "OR run_obj.log()"
   ]
  },
  {
   "cell_type": "code",
   "execution_count": null,
   "id": "05c131a1",
   "metadata": {},
   "outputs": [],
   "source": []
  },
  {
   "cell_type": "markdown",
   "id": "89584ac0",
   "metadata": {},
   "source": [
    "https://docs.wandb.ai/guides/integrations/pytorch  \n",
    "\n",
    "**wandb.watch(pytorch_model, log_freq=100)**  \n",
    "automatically logs gradients of weights."
   ]
  },
  {
   "cell_type": "code",
   "execution_count": null,
   "id": "2023d555",
   "metadata": {},
   "outputs": [],
   "source": []
  },
  {
   "cell_type": "markdown",
   "id": "df409bfb",
   "metadata": {},
   "source": [
    "### Save and restore"
   ]
  },
  {
   "cell_type": "code",
   "execution_count": null,
   "id": "3d72964a",
   "metadata": {},
   "outputs": [],
   "source": [
    "wandb.save('path to file') # any file.\n",
    "\n",
    "best_model = wandb.restore(\n",
    "  'name of uploaded file', run_path=\"username/project_name/run_id\")"
   ]
  },
  {
   "cell_type": "code",
   "execution_count": null,
   "id": "0faa3536",
   "metadata": {},
   "outputs": [],
   "source": []
  },
  {
   "cell_type": "markdown",
   "id": "1470ca1c",
   "metadata": {},
   "source": [
    "### Artifact  \n",
    "https://docs.wandb.ai/guides/artifacts  \n",
    "\n",
    "An artifact is like a directory of data(like a regular filesystem).  \n",
    "Every time you change the contents of this directory, W&B will create a new version of your artifact instead of overwriting the previous contents.-> artifact_name:v_i (the alias name 'latest' is automatically give to the last version)  \n",
    "we can access a previous version - using artifact_name:v_i.  \n",
    "OR latest version using artifact_name:latest  \n",
    "\n",
    "artifact_name -> root of the directory.  \n",
    "\n"
   ]
  },
  {
   "cell_type": "code",
   "execution_count": null,
   "id": "1d0aefd0",
   "metadata": {},
   "outputs": [],
   "source": [
    "artifact_obj = wandb.Artifact(name='unique_name', type='type')  \n",
    "# type - eg: model, dataset, etc."
   ]
  },
  {
   "cell_type": "code",
   "execution_count": null,
   "id": "076eb448",
   "metadata": {},
   "outputs": [],
   "source": [
    "artifact_obj.add_file(local_path='local path', name='path in the artifact')  \n",
    "# if \"name\" is not mentioned - saved with the same local file_name in \"root\"\n",
    "\n",
    "# add a whole directory  \n",
    "artifact.add_dir('my_dir/', name='destination_path')  "
   ]
  },
  {
   "cell_type": "code",
   "execution_count": null,
   "id": "231d95c3",
   "metadata": {},
   "outputs": [],
   "source": [
    "# save to W&B  \n",
    "wandb.log_artifact(artifact_obj)  "
   ]
  },
  {
   "cell_type": "code",
   "execution_count": null,
   "id": "3dd10fc5",
   "metadata": {},
   "outputs": [],
   "source": [
    "# using / downlaoding artifact  \n",
    "artifact_obj = run.use_artifact('artifact_name:version_alias')  \n",
    "# artifact = run.use_artifact('entity/project_name/artifact_name:alias')  \n",
    "datadir = artifact_obj.download()  "
   ]
  },
  {
   "cell_type": "code",
   "execution_count": 41,
   "id": "19905d5f",
   "metadata": {},
   "outputs": [
    {
     "data": {
      "text/plain": [
       "<wandb.sdk.wandb_artifacts.Artifact at 0x7ff3d6dc0e80>"
      ]
     },
     "execution_count": 41,
     "metadata": {},
     "output_type": "execute_result"
    }
   ],
   "source": [
    "# trial\n",
    "\n",
    "artifact_obj = wandb.Artifact(name='trial_artifact', type='model_dir')  \n",
    "artifact_obj.add_file(local_path='the_fall.jpg', name='images/image1.jpg')  \n",
    "wandb.log_artifact(artifact_obj)"
   ]
  },
  {
   "cell_type": "code",
   "execution_count": null,
   "id": "05abee95",
   "metadata": {},
   "outputs": [],
   "source": []
  },
  {
   "cell_type": "markdown",
   "id": "8cffd7b1",
   "metadata": {},
   "source": [
    "### Sweep  \n",
    "\n",
    "https://docs.wandb.ai/guides/sweeps  \n",
    "\n",
    "automate hyperparameter search   \n",
    "earch methods : Bayesian, grid search, random -s to search the hyperparameter space  \n",
    "\n",
    "sweep - controller and agent/s  \n",
    "controller picks a new hyperparameter combination  \n",
    "agents querry controller for hyperparameter and run the training with those  \n",
    "\n",
    "one \"sweep\" => one combination of hyperparameters  "
   ]
  },
  {
   "cell_type": "code",
   "execution_count": null,
   "id": "6640b1c9",
   "metadata": {},
   "outputs": [],
   "source": [
    "# Define the search space with a sweep configuration\n",
    "sweep_configuration = {\n",
    "    'method': 'random',\n",
    "    'metric': {'goal': 'minimize', 'name': 'score'},\n",
    "    # hyper parameters\n",
    "    'parameters': \n",
    "    {\n",
    "        'hp1': {'max': 0.1, 'min': 0.01},\n",
    "        'hp2': {'values': [1, 3, 7]},\n",
    "     }\n",
    "}\n",
    "\n",
    "# Start the sweep\n",
    "sweep_id = wandb.sweep(sweep=sweep_configuration, project='project_name')\n",
    "wandb.agent(sweep_id, function=the_train_function, count=10)\n",
    "# count : number of runs to try"
   ]
  },
  {
   "cell_type": "markdown",
   "id": "d86a43a6",
   "metadata": {},
   "source": [
    "- agent will querry for a hyperparameter combination \n",
    "- assign that combination to wandb.config\n",
    "- and call the function(in function we have access to HPs through wandb.config)\n",
    "- log metrics with wandb.log in the function\n",
    "\n",
    "=> Define a training function that takes in hyperparameter values from wandb.config and uses them to train a model and return metrics."
   ]
  },
  {
   "cell_type": "markdown",
   "id": "8caf0091",
   "metadata": {},
   "source": [
    "Several visualizations to compare the sweeps. eg: parallel coordinates plot, etc. "
   ]
  },
  {
   "cell_type": "markdown",
   "id": "175d8783",
   "metadata": {},
   "source": [
    "### Reports  \n",
    "\n",
    "\"panels\"  \n",
    "\n",
    "/ - and then choose  \n",
    "\n",
    "handle to left of panel  \n",
    "\n",
    "add any panel in the project to report.  \n",
    "move panels around.  \n",
    "add more stuff - like markdown, etc..   "
   ]
  },
  {
   "cell_type": "code",
   "execution_count": null,
   "id": "a4561657",
   "metadata": {},
   "outputs": [],
   "source": []
  },
  {
   "cell_type": "markdown",
   "id": "37da9fcb",
   "metadata": {},
   "source": [
    "Data visualization :  \n",
    "https://docs.wandb.ai/guides/data-vis"
   ]
  },
  {
   "cell_type": "code",
   "execution_count": null,
   "id": "8554cd09",
   "metadata": {},
   "outputs": [],
   "source": []
  },
  {
   "cell_type": "markdown",
   "id": "fd45f061",
   "metadata": {},
   "source": [
    "### Using wandb locally\n",
    "\n",
    "If you don't want your script to sync to the cloud: \n",
    "\n",
    "os.environ['WANDB_MODE'] = 'offline'  \n",
    "\n",
    "OR wandb offline (terminal command)  \n",
    "\n",
    "(setting that environment variable)  \n",
    "\n",
    "save logs, .. locally. This is done even otherwise in the wandb folder.  \n",
    "\n",
    "#### Syncing afterwards    \n",
    "- When you're ready, run wandb init in your directory to set the project name.\n",
    "- Run wandb sync YOUR_RUN_DIRECTORY to push the metrics to our cloud service and see your results in our hosted web app."
   ]
  },
  {
   "cell_type": "code",
   "execution_count": null,
   "id": "fae324c1",
   "metadata": {},
   "outputs": [],
   "source": []
  },
  {
   "cell_type": "markdown",
   "id": "8cc26261",
   "metadata": {},
   "source": [
    "### local server\n",
    "wandb server start  \n",
    "wandb local(old version)  \n",
    "\n",
    "(behind the scenes it run a docker container)  \n",
    "docker is a dependency  \n",
    "\n",
    "wandb server start --upgrade (update docker container)"
   ]
  },
  {
   "cell_type": "markdown",
   "id": "8a5d89a4",
   "metadata": {},
   "source": [
    "docker - main advantage is transferability - runs over a docker kernel in between.   "
   ]
  },
  {
   "cell_type": "code",
   "execution_count": null,
   "id": "5c680a30",
   "metadata": {},
   "outputs": [],
   "source": []
  },
  {
   "cell_type": "markdown",
   "id": "28f7805d",
   "metadata": {},
   "source": [
    "environment variables :  \n",
    "\n",
    "WANDB_API_KEY  \n",
    "WANDB_MODE"
   ]
  },
  {
   "cell_type": "code",
   "execution_count": null,
   "id": "413d0fd4",
   "metadata": {},
   "outputs": [],
   "source": []
  },
  {
   "cell_type": "markdown",
   "id": "1f5ab615",
   "metadata": {},
   "source": [
    "wandb crashing won't affect running. "
   ]
  },
  {
   "cell_type": "code",
   "execution_count": null,
   "id": "a8d6b366",
   "metadata": {},
   "outputs": [],
   "source": []
  }
 ],
 "metadata": {
  "kernelspec": {
   "display_name": "Python 3 (ipykernel)",
   "language": "python",
   "name": "python3"
  },
  "language_info": {
   "codemirror_mode": {
    "name": "ipython",
    "version": 3
   },
   "file_extension": ".py",
   "mimetype": "text/x-python",
   "name": "python",
   "nbconvert_exporter": "python",
   "pygments_lexer": "ipython3",
   "version": "3.8.10"
  }
 },
 "nbformat": 4,
 "nbformat_minor": 5
}
