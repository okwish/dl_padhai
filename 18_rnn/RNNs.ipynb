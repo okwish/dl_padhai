{
 "cells": [
  {
   "cell_type": "code",
   "execution_count": 1,
   "id": "e2a2a9c4",
   "metadata": {},
   "outputs": [],
   "source": [
    "import numpy as np\n",
    "import matplotlib.pyplot as plt\n",
    "import seaborn as sns"
   ]
  },
  {
   "cell_type": "code",
   "execution_count": 2,
   "id": "4a63648f",
   "metadata": {},
   "outputs": [],
   "source": [
    "import torch\n",
    "import torch.nn as nn\n",
    "import torch.optim as optim"
   ]
  },
  {
   "cell_type": "markdown",
   "id": "868d48ce",
   "metadata": {},
   "source": [
    "# Dataset\n",
    "\n",
    "given a string(seq of characters) - classify into a class\n",
    "\n",
    "data : name, nationality(language) (seperated by comma)  \n",
    "given a name predict nationality.  \n",
    "\n",
    "need seqence model..as variable number of inputs(characters),.. \n",
    "\n",
    "sequence classification problem"
   ]
  },
  {
   "cell_type": "code",
   "execution_count": 3,
   "id": "d6789657",
   "metadata": {},
   "outputs": [],
   "source": [
    "# read file and store into arrays.\n",
    "\n",
    "languages = [] # classes\n",
    "data = []\n",
    "X = []\n",
    "Y = []\n",
    "\n",
    "with open('name2lang.txt', 'r') as f: \n",
    "    for line in f:\n",
    "        line = line.split(',')\n",
    "        \n",
    "        #remove padded white space on sides.\n",
    "        name = line[0].strip()\n",
    "        lang = line[1].strip()\n",
    "        \n",
    "        # classes\n",
    "        if not lang in languages:\n",
    "            languages.append(lang)\n",
    "            \n",
    "        X.append(name) # input\n",
    "        Y.append(lang) # output\n",
    "        # also storing in a tuple form\n",
    "        data.append((name, lang))\n",
    "\n",
    "n_languages = len(languages) # number of classes\n"
   ]
  },
  {
   "cell_type": "code",
   "execution_count": 4,
   "id": "e7581c50",
   "metadata": {},
   "outputs": [
    {
     "name": "stdout",
     "output_type": "stream",
     "text": [
      "['Portuguese', 'Irish', 'Spanish', 'Vietnamese', 'Chinese', 'Greek', 'Czech', 'Dutch', 'Japanese', 'French', 'German', 'Scottish', 'English', 'Russian', 'Polish', 'Arabic', 'Korean', 'Italian']\n"
     ]
    }
   ],
   "source": [
    "print(languages)"
   ]
  },
  {
   "cell_type": "code",
   "execution_count": 5,
   "id": "04255bfd",
   "metadata": {},
   "outputs": [
    {
     "name": "stdout",
     "output_type": "stream",
     "text": [
      "[('Abreu', 'Portuguese'), ('Albuquerque', 'Portuguese'), ('Almeida', 'Portuguese'), ('Alves', 'Portuguese'), ('Araujo', 'Portuguese'), ('Araullo', 'Portuguese'), ('Barros', 'Portuguese'), ('Basurto', 'Portuguese'), ('Belo', 'Portuguese'), ('Cabral', 'Portuguese')]\n"
     ]
    }
   ],
   "source": [
    "print(data[0:10]) # first 10 datapoints"
   ]
  },
  {
   "cell_type": "markdown",
   "id": "fc1f231c",
   "metadata": {},
   "source": [
    "### Train test split \n",
    "\n",
    "train test split can be done on any list - not just numpy arrays "
   ]
  },
  {
   "cell_type": "code",
   "execution_count": 6,
   "id": "2d40b04e",
   "metadata": {},
   "outputs": [],
   "source": [
    "from sklearn.model_selection import train_test_split"
   ]
  },
  {
   "cell_type": "code",
   "execution_count": 7,
   "id": "63753dc3",
   "metadata": {},
   "outputs": [
    {
     "name": "stdout",
     "output_type": "stream",
     "text": [
      "16040 4010\n"
     ]
    }
   ],
   "source": [
    "X_train, X_test, Y_train, Y_test = train_test_split(X, Y, test_size=0.2, random_state=0, stratify=Y)\n",
    "\n",
    "# print(X_train)\n",
    "\n",
    "print(len(X_train), len(X_test))"
   ]
  },
  {
   "cell_type": "code",
   "execution_count": null,
   "id": "7517580c",
   "metadata": {},
   "outputs": [],
   "source": []
  },
  {
   "cell_type": "markdown",
   "id": "96cf88b8",
   "metadata": {},
   "source": [
    "## Encoding names and language\n",
    "\n",
    "characters - into numbers (meaningful)  \n",
    "similarly classes (prob dist.) (one hot)\n",
    "\n",
    "we want to encode characters for the inputs - as the sequence model takes input character by character here.\n",
    "\n",
    "total input - concatenation of individual-character-encoding  (matrix)"
   ]
  },
  {
   "cell_type": "code",
   "execution_count": 8,
   "id": "4fee40c6",
   "metadata": {},
   "outputs": [],
   "source": [
    "import string"
   ]
  },
  {
   "cell_type": "code",
   "execution_count": 9,
   "id": "1baff00b",
   "metadata": {},
   "outputs": [
    {
     "data": {
      "text/plain": [
       "\"abcdefghijklmnopqrstuvwxyzABCDEFGHIJKLMNOPQRSTUVWXYZ .,;'\""
      ]
     },
     "execution_count": 9,
     "metadata": {},
     "output_type": "execute_result"
    }
   ],
   "source": [
    "all_letters = string.ascii_letters + \" .,;'\" # string of all characters \n",
    "# both capital and small ?? \n",
    "# albhabets and some special characters - as they may also come in some names.\n",
    "\n",
    "n_letters = len(all_letters) #dim of vector encoding of one character.\n",
    "\n",
    "all_letters"
   ]
  },
  {
   "cell_type": "markdown",
   "id": "671e64a6",
   "metadata": {},
   "source": [
    "### Representation(numbers) for characters, classes\n",
    "\n",
    "representation for a name  \n",
    "tensor of one hots of each character  \n",
    "number of characters x 1 x one-letter-representation  \n",
    "**THIS IS BECAUSE MODEL IS GENERALISED FOR BATCHES.**  \n",
    "The one-hot of character is t-th input to the model.  \n",
    "HERE : BATCH OF ONE INPUT.\n",
    "\n",
    "representation for a language  \n",
    "index of the language in the list-of-languages  \n",
    "tensor of single value  \n"
   ]
  },
  {
   "cell_type": "markdown",
   "id": "01cc085b",
   "metadata": {},
   "source": [
    "#### Indexes (dimensions) : \n",
    "a x b x c x d => A [a,b] will be of dimension c x d, and so on.. "
   ]
  },
  {
   "cell_type": "code",
   "execution_count": 10,
   "id": "5412c59b",
   "metadata": {},
   "outputs": [],
   "source": [
    "# one hot encoding.\n",
    "# position of the character in our all-character-list\n",
    "# turn on(set 1) that index in the vector\n",
    "\n",
    "def name_rep(name):\n",
    "    rep = torch.zeros(len(name), 1, n_letters)\n",
    "    # the '1' in between is becasue - rep[i] will of dimension 1xn_letters\n",
    "    # we want to give tensor of that dimenesion 1xsomething.\n",
    "    # tensor of one tensor (row)\n",
    "    \n",
    "    for i, letter in enumerate(name):\n",
    "        pos = all_letters.find(letter) # find pos in the all-character-string\n",
    "        rep[i][0][pos] = 1 #i-th letter\n",
    "        # note the 0 in the middle dimension \n",
    "    return rep"
   ]
  },
  {
   "cell_type": "code",
   "execution_count": 11,
   "id": "e05b0a99",
   "metadata": {},
   "outputs": [],
   "source": [
    "def lang_rep(lang):\n",
    "    return torch.tensor( [languages.index(lang)] , dtype=torch.long)\n",
    "    # index of the language in the list-of-languages\n",
    "\n",
    "# just index (tensor of single value)\n",
    "# not one hot "
   ]
  },
  {
   "cell_type": "code",
   "execution_count": 12,
   "id": "3980aaf8",
   "metadata": {
    "collapsed": true
   },
   "outputs": [
    {
     "data": {
      "text/plain": [
       "tensor([[[0., 0., 0., 0., 0., 0., 0., 0., 0., 0., 0., 0., 0., 0., 0., 0., 0.,\n",
       "          0., 0., 0., 0., 0., 0., 0., 0., 0., 1., 0., 0., 0., 0., 0., 0., 0.,\n",
       "          0., 0., 0., 0., 0., 0., 0., 0., 0., 0., 0., 0., 0., 0., 0., 0., 0.,\n",
       "          0., 0., 0., 0., 0., 0.]],\n",
       "\n",
       "        [[0., 1., 0., 0., 0., 0., 0., 0., 0., 0., 0., 0., 0., 0., 0., 0., 0.,\n",
       "          0., 0., 0., 0., 0., 0., 0., 0., 0., 0., 0., 0., 0., 0., 0., 0., 0.,\n",
       "          0., 0., 0., 0., 0., 0., 0., 0., 0., 0., 0., 0., 0., 0., 0., 0., 0.,\n",
       "          0., 0., 0., 0., 0., 0.]],\n",
       "\n",
       "        [[0., 0., 0., 0., 0., 0., 0., 0., 0., 0., 0., 0., 0., 0., 0., 0., 0.,\n",
       "          1., 0., 0., 0., 0., 0., 0., 0., 0., 0., 0., 0., 0., 0., 0., 0., 0.,\n",
       "          0., 0., 0., 0., 0., 0., 0., 0., 0., 0., 0., 0., 0., 0., 0., 0., 0.,\n",
       "          0., 0., 0., 0., 0., 0.]],\n",
       "\n",
       "        [[0., 0., 0., 0., 1., 0., 0., 0., 0., 0., 0., 0., 0., 0., 0., 0., 0.,\n",
       "          0., 0., 0., 0., 0., 0., 0., 0., 0., 0., 0., 0., 0., 0., 0., 0., 0.,\n",
       "          0., 0., 0., 0., 0., 0., 0., 0., 0., 0., 0., 0., 0., 0., 0., 0., 0.,\n",
       "          0., 0., 0., 0., 0., 0.]],\n",
       "\n",
       "        [[0., 0., 0., 0., 0., 0., 0., 0., 0., 0., 0., 0., 0., 0., 0., 0., 0.,\n",
       "          0., 0., 0., 1., 0., 0., 0., 0., 0., 0., 0., 0., 0., 0., 0., 0., 0.,\n",
       "          0., 0., 0., 0., 0., 0., 0., 0., 0., 0., 0., 0., 0., 0., 0., 0., 0.,\n",
       "          0., 0., 0., 0., 0., 0.]]])"
      ]
     },
     "execution_count": 12,
     "metadata": {},
     "output_type": "execute_result"
    }
   ],
   "source": [
    "name_rep('Abreu')"
   ]
  },
  {
   "cell_type": "code",
   "execution_count": 13,
   "id": "0f555d10",
   "metadata": {},
   "outputs": [
    {
     "data": {
      "text/plain": [
       "tensor([0])"
      ]
     },
     "execution_count": 13,
     "metadata": {},
     "output_type": "execute_result"
    }
   ],
   "source": [
    "lang_rep('Portuguese')"
   ]
  },
  {
   "cell_type": "code",
   "execution_count": null,
   "id": "4e50754e",
   "metadata": {},
   "outputs": [],
   "source": []
  },
  {
   "cell_type": "markdown",
   "id": "c01aa3b7",
   "metadata": {},
   "source": [
    "### Visualisation"
   ]
  },
  {
   "cell_type": "code",
   "execution_count": 14,
   "id": "5d4b96ec",
   "metadata": {},
   "outputs": [],
   "source": [
    "# dictionary of language:count\n",
    "# initialise with count=0\n",
    "count = {}\n",
    "for l in languages: \n",
    "    count[l] = 0\n",
    "\n",
    "# iterate over data and update count\n",
    "for d in data:\n",
    "    count[d[1]] += 1\n",
    "    # d[1] -> language"
   ]
  },
  {
   "cell_type": "code",
   "execution_count": 15,
   "id": "cd0d7a89",
   "metadata": {},
   "outputs": [
    {
     "name": "stdout",
     "output_type": "stream",
     "text": [
      "{'Portuguese': 74, 'Irish': 232, 'Spanish': 298, 'Vietnamese': 73, 'Chinese': 268, 'Greek': 203, 'Czech': 519, 'Dutch': 297, 'Japanese': 991, 'French': 277, 'German': 724, 'Scottish': 100, 'English': 3668, 'Russian': 9384, 'Polish': 139, 'Arabic': 2000, 'Korean': 94, 'Italian': 709}\n"
     ]
    }
   ],
   "source": [
    "print(count)"
   ]
  },
  {
   "cell_type": "code",
   "execution_count": 16,
   "id": "74cd8b0e",
   "metadata": {},
   "outputs": [
    {
     "data": {
      "image/png": "[encoded data removed]",
      "text/plain": [
       "<Figure size 432x288 with 1 Axes>"
      ]
     },
     "metadata": {
      "needs_background": "light"
     },
     "output_type": "display_data"
    }
   ],
   "source": [
    "# plot distribution of the languages\n",
    "\n",
    "plt_ = sns.barplot( x=list(count.keys()), y=list(count.values()) )\n",
    "plt_.set_xticklabels(plt_.get_xticklabels(), rotation=90)\n",
    "plt.show()"
   ]
  },
  {
   "cell_type": "markdown",
   "id": "9a4e60ac",
   "metadata": {},
   "source": [
    "not all classes in same quantities. - therefore its important to see how the model performs on individual classes(eg: confusion matrix) - not just the aggregate accuracy.\n",
    "\n",
    "baseline - if all were eq - 1/n . \n",
    "\n",
    "a random classifier - but not uniform prob - but with prob proportional to their frequencies..   \n",
    "expected accuracy of that - can be taken as the baseline. \n",
    "\n",
    "another option - always predict russian - that itself will be give a large baseline accuracy. \n",
    "\n"
   ]
  },
  {
   "cell_type": "code",
   "execution_count": null,
   "id": "5a48f494",
   "metadata": {},
   "outputs": [],
   "source": []
  },
  {
   "cell_type": "markdown",
   "id": "c39c216a",
   "metadata": {},
   "source": [
    "# Model (RNN)"
   ]
  },
  {
   "cell_type": "markdown",
   "id": "87743b86",
   "metadata": {},
   "source": [
    "The model only has **one recurring unit of RNN**.   \n",
    "That is what it is. The picture is that unwrapped over time.  \n",
    "\n",
    "MODEL -> one recurring unit of RNN.  \n",
    "Forward pass -> one step. current input(in sequence) to output.  \n",
    "forward also returns state - to be used for next step.  \n",
    "\n",
    "init state function.  "
   ]
  },
  {
   "cell_type": "code",
   "execution_count": 17,
   "id": "2cb88b7b",
   "metadata": {},
   "outputs": [],
   "source": [
    "class RNNNet(nn.Module):\n",
    "    \n",
    "    def __init__(self, input_size, hidden_size, output_size):\n",
    "        # size of \"layers\"\n",
    "        # input_size - size of representation of 'one input' - here one letter\n",
    "        # hidden_size - state \n",
    "        # output_size - output - prob dist of classes - number of classes      \n",
    "        \n",
    "        super().__init__()\n",
    "        \n",
    "        self.hidden_size = hidden_size\n",
    "        # this is to be used by the init function\n",
    "        \n",
    "        # BLOCKS:\n",
    "        \n",
    "        # given input, prev state - find next state\n",
    "        # concatenate input, prev state as whole input\n",
    "        self.i2h = nn.Linear(input_size + hidden_size, hidden_size)\n",
    "        # input to hidden state.\n",
    "        \n",
    "        # given input, prev state - find output\n",
    "        # concatenate input and prev state (for input)  \n",
    "        self.i2o = nn.Linear(input_size + hidden_size, output_size)\n",
    "        # input to output.\n",
    "        \n",
    "        self.softmax = nn.LogSoftmax(dim=1)\n",
    "        \n",
    "    # FORWARD PASS USING THE BLOCKS :\n",
    "    \n",
    "    def forward(self, input_t, hidden_t_1): # t-th input, t-1 th hidden\n",
    "        \n",
    "        # use the defined layers(in init) to do the computation\n",
    "        \n",
    "        # input - current input\n",
    "        # hidden - prev hidden(prev state)\n",
    "        \n",
    "        # concatenated\n",
    "        combined = torch.cat( (input_t, hidden_t_1), 1 ) # concatenating along the axis 1. # along row\n",
    "        \n",
    "        hidden_t = self.i2h(combined) # find state (from input, prev state) - this will be used in next step\n",
    "        output_t = self.i2o(combined) # find output (from input, prev state)\n",
    "        output_t = self.softmax(output_t)\n",
    "        return output_t, hidden_t # return hidden also -> this will be passed for next step.\n",
    "\n",
    "    def init_hidden(self): # additional init fn for sequence models - to initialise the hidden layer.\n",
    "        return torch.zeros(1, self.hidden_size)\n",
    "    # we know hidden size - so better do inside the class\n",
    "    # this is for initialising 0th state"
   ]
  },
  {
   "cell_type": "markdown",
   "id": "0bbdf612",
   "metadata": {},
   "source": [
    "why not 'hidden_t to output'?"
   ]
  },
  {
   "cell_type": "code",
   "execution_count": null,
   "id": "3a9ccf45",
   "metadata": {},
   "outputs": [],
   "source": []
  },
  {
   "cell_type": "markdown",
   "id": "1c25d511",
   "metadata": {},
   "source": [
    "## Forward pass in RNN (Inference in RNN)"
   ]
  },
  {
   "cell_type": "code",
   "execution_count": 18,
   "id": "45c392fe",
   "metadata": {},
   "outputs": [],
   "source": [
    "n_hidden = 128 # size of state layer - hyperparameter.\n",
    "# larger this value greater is the capacity of the n/w (keep track of more things in the state.. )\n",
    "# but danger of overfitting or not enough data"
   ]
  },
  {
   "cell_type": "code",
   "execution_count": 19,
   "id": "6fffb125",
   "metadata": {},
   "outputs": [],
   "source": [
    "# model object\n",
    "rnn = RNNNet(n_letters, n_hidden, n_languages)"
   ]
  },
  {
   "cell_type": "markdown",
   "id": "5a48bc5d",
   "metadata": {},
   "source": [
    "in case of FFNN or CNN model- inferece was direct. ouput = model(input) - as simple as that.  \n",
    "but that is not the case for sequence models.  \n",
    "### iterate over the input-sequence"
   ]
  },
  {
   "cell_type": "code",
   "execution_count": 20,
   "id": "bf7e469a",
   "metadata": {},
   "outputs": [],
   "source": [
    "# inference routine \n",
    "\n",
    "# model,name as input\n",
    "\n",
    "def infer(model, name): \n",
    "    model.eval() # model in eval mode.\n",
    "    name_ohe = name_rep(name) #one hot encoding for name\n",
    "    hidden = model.init_hidden() #0-th state. initialise using the class fn.\n",
    "    \n",
    "    # ITERATE OVER THE SEQUENCE\n",
    "    for i in range(name_ohe.size()[0]): # iterate over each character\n",
    "        output, hidden = model(name_ohe[i], hidden) # forward()\n",
    "        # name_ohe[i] - tensor of dim 1xn_letters\n",
    "        # 1xsomething.\n",
    "        # THIS IS BECAUSE MODEL IS GENERALISED FOR BATCHES.\n",
    "        # HERE : BATCH OF ONE THING.\n",
    "        \n",
    "        # output keeps getting overwritten - what returned is the last ouput.\n",
    "        # we only want that.\n",
    "        \n",
    "        # 'hidden' passed to the next step. (state)\n",
    "    \n",
    "    return output"
   ]
  },
  {
   "cell_type": "markdown",
   "id": "dd91fee6",
   "metadata": {},
   "source": [
    "one option is - don't do softmax for inference. as for forward (inference) - we just need the argmax - softmax is monotionic - so gets same argmax.  \n",
    "\n",
    "softmax for loss.(probability interpretation to use cross-entropy loss) "
   ]
  },
  {
   "cell_type": "code",
   "execution_count": 21,
   "id": "a109d415",
   "metadata": {},
   "outputs": [
    {
     "name": "stdout",
     "output_type": "stream",
     "text": [
      "tensor([[-2.9205, -2.8790, -2.8630, -2.9376, -2.9897, -2.8152, -2.7929, -2.9634,\n",
      "         -2.9317, -2.9798, -2.9047, -2.8030, -2.9530, -2.9034, -2.8858, -2.8091,\n",
      "         -2.8623, -2.8646]], grad_fn=<LogSoftmaxBackward0>) \n",
      " index:  tensor(6)\n"
     ]
    }
   ],
   "source": [
    "output = infer(rnn, 'Adam')\n",
    "index = torch.argmax(output)\n",
    "print(output,\"\\n index: \",  index)"
   ]
  },
  {
   "cell_type": "markdown",
   "id": "4dc849c5",
   "metadata": {},
   "source": [
    "the model is not trained.. these are just some values."
   ]
  },
  {
   "cell_type": "code",
   "execution_count": null,
   "id": "e1c47e53",
   "metadata": {},
   "outputs": [],
   "source": []
  },
  {
   "cell_type": "code",
   "execution_count": null,
   "id": "7587cfee",
   "metadata": {},
   "outputs": [],
   "source": []
  },
  {
   "cell_type": "markdown",
   "id": "53610e1a",
   "metadata": {},
   "source": [
    "### Evaluate\n",
    "\n",
    "top k accuracy"
   ]
  },
  {
   "cell_type": "code",
   "execution_count": 22,
   "id": "6d59f9f0",
   "metadata": {},
   "outputs": [],
   "source": [
    "# dataloader that gives a random sample of data.\n",
    "\n",
    "def data_subsample(npoints, X, Y):\n",
    "    # npoints - number of samples we are asking for.\n",
    "    to_ret = []\n",
    "    for i in range(npoints):\n",
    "        rand_index = np.random.randint(len(X)) #random index\n",
    "        name, lang = X[rand_index], Y[rand_index]\n",
    "        to_ret.append((name, lang, name_rep(name), lang_rep(lang)))\n",
    "        # tuple with name-laguage-name_rep-lang_rep\n",
    "    return to_ret"
   ]
  },
  {
   "cell_type": "code",
   "execution_count": 23,
   "id": "3ec59f99",
   "metadata": {
    "collapsed": true
   },
   "outputs": [
    {
     "data": {
      "text/plain": [
       "[('Holoshevsky',\n",
       "  'Russian',\n",
       "  tensor([[[0., 0., 0., 0., 0., 0., 0., 0., 0., 0., 0., 0., 0., 0., 0., 0., 0.,\n",
       "            0., 0., 0., 0., 0., 0., 0., 0., 0., 0., 0., 0., 0., 0., 0., 0., 1.,\n",
       "            0., 0., 0., 0., 0., 0., 0., 0., 0., 0., 0., 0., 0., 0., 0., 0., 0.,\n",
       "            0., 0., 0., 0., 0., 0.]],\n",
       "  \n",
       "          [[0., 0., 0., 0., 0., 0., 0., 0., 0., 0., 0., 0., 0., 0., 1., 0., 0.,\n",
       "            0., 0., 0., 0., 0., 0., 0., 0., 0., 0., 0., 0., 0., 0., 0., 0., 0.,\n",
       "            0., 0., 0., 0., 0., 0., 0., 0., 0., 0., 0., 0., 0., 0., 0., 0., 0.,\n",
       "            0., 0., 0., 0., 0., 0.]],\n",
       "  \n",
       "          [[0., 0., 0., 0., 0., 0., 0., 0., 0., 0., 0., 1., 0., 0., 0., 0., 0.,\n",
       "            0., 0., 0., 0., 0., 0., 0., 0., 0., 0., 0., 0., 0., 0., 0., 0., 0.,\n",
       "            0., 0., 0., 0., 0., 0., 0., 0., 0., 0., 0., 0., 0., 0., 0., 0., 0.,\n",
       "            0., 0., 0., 0., 0., 0.]],\n",
       "  \n",
       "          [[0., 0., 0., 0., 0., 0., 0., 0., 0., 0., 0., 0., 0., 0., 1., 0., 0.,\n",
       "            0., 0., 0., 0., 0., 0., 0., 0., 0., 0., 0., 0., 0., 0., 0., 0., 0.,\n",
       "            0., 0., 0., 0., 0., 0., 0., 0., 0., 0., 0., 0., 0., 0., 0., 0., 0.,\n",
       "            0., 0., 0., 0., 0., 0.]],\n",
       "  \n",
       "          [[0., 0., 0., 0., 0., 0., 0., 0., 0., 0., 0., 0., 0., 0., 0., 0., 0.,\n",
       "            0., 1., 0., 0., 0., 0., 0., 0., 0., 0., 0., 0., 0., 0., 0., 0., 0.,\n",
       "            0., 0., 0., 0., 0., 0., 0., 0., 0., 0., 0., 0., 0., 0., 0., 0., 0.,\n",
       "            0., 0., 0., 0., 0., 0.]],\n",
       "  \n",
       "          [[0., 0., 0., 0., 0., 0., 0., 1., 0., 0., 0., 0., 0., 0., 0., 0., 0.,\n",
       "            0., 0., 0., 0., 0., 0., 0., 0., 0., 0., 0., 0., 0., 0., 0., 0., 0.,\n",
       "            0., 0., 0., 0., 0., 0., 0., 0., 0., 0., 0., 0., 0., 0., 0., 0., 0.,\n",
       "            0., 0., 0., 0., 0., 0.]],\n",
       "  \n",
       "          [[0., 0., 0., 0., 1., 0., 0., 0., 0., 0., 0., 0., 0., 0., 0., 0., 0.,\n",
       "            0., 0., 0., 0., 0., 0., 0., 0., 0., 0., 0., 0., 0., 0., 0., 0., 0.,\n",
       "            0., 0., 0., 0., 0., 0., 0., 0., 0., 0., 0., 0., 0., 0., 0., 0., 0.,\n",
       "            0., 0., 0., 0., 0., 0.]],\n",
       "  \n",
       "          [[0., 0., 0., 0., 0., 0., 0., 0., 0., 0., 0., 0., 0., 0., 0., 0., 0.,\n",
       "            0., 0., 0., 0., 1., 0., 0., 0., 0., 0., 0., 0., 0., 0., 0., 0., 0.,\n",
       "            0., 0., 0., 0., 0., 0., 0., 0., 0., 0., 0., 0., 0., 0., 0., 0., 0.,\n",
       "            0., 0., 0., 0., 0., 0.]],\n",
       "  \n",
       "          [[0., 0., 0., 0., 0., 0., 0., 0., 0., 0., 0., 0., 0., 0., 0., 0., 0.,\n",
       "            0., 1., 0., 0., 0., 0., 0., 0., 0., 0., 0., 0., 0., 0., 0., 0., 0.,\n",
       "            0., 0., 0., 0., 0., 0., 0., 0., 0., 0., 0., 0., 0., 0., 0., 0., 0.,\n",
       "            0., 0., 0., 0., 0., 0.]],\n",
       "  \n",
       "          [[0., 0., 0., 0., 0., 0., 0., 0., 0., 0., 1., 0., 0., 0., 0., 0., 0.,\n",
       "            0., 0., 0., 0., 0., 0., 0., 0., 0., 0., 0., 0., 0., 0., 0., 0., 0.,\n",
       "            0., 0., 0., 0., 0., 0., 0., 0., 0., 0., 0., 0., 0., 0., 0., 0., 0.,\n",
       "            0., 0., 0., 0., 0., 0.]],\n",
       "  \n",
       "          [[0., 0., 0., 0., 0., 0., 0., 0., 0., 0., 0., 0., 0., 0., 0., 0., 0.,\n",
       "            0., 0., 0., 0., 0., 0., 0., 1., 0., 0., 0., 0., 0., 0., 0., 0., 0.,\n",
       "            0., 0., 0., 0., 0., 0., 0., 0., 0., 0., 0., 0., 0., 0., 0., 0., 0.,\n",
       "            0., 0., 0., 0., 0., 0.]]]),\n",
       "  tensor([13])),\n",
       " ('Tovuu',\n",
       "  'Russian',\n",
       "  tensor([[[0., 0., 0., 0., 0., 0., 0., 0., 0., 0., 0., 0., 0., 0., 0., 0., 0.,\n",
       "            0., 0., 0., 0., 0., 0., 0., 0., 0., 0., 0., 0., 0., 0., 0., 0., 0.,\n",
       "            0., 0., 0., 0., 0., 0., 0., 0., 0., 0., 0., 1., 0., 0., 0., 0., 0.,\n",
       "            0., 0., 0., 0., 0., 0.]],\n",
       "  \n",
       "          [[0., 0., 0., 0., 0., 0., 0., 0., 0., 0., 0., 0., 0., 0., 1., 0., 0.,\n",
       "            0., 0., 0., 0., 0., 0., 0., 0., 0., 0., 0., 0., 0., 0., 0., 0., 0.,\n",
       "            0., 0., 0., 0., 0., 0., 0., 0., 0., 0., 0., 0., 0., 0., 0., 0., 0.,\n",
       "            0., 0., 0., 0., 0., 0.]],\n",
       "  \n",
       "          [[0., 0., 0., 0., 0., 0., 0., 0., 0., 0., 0., 0., 0., 0., 0., 0., 0.,\n",
       "            0., 0., 0., 0., 1., 0., 0., 0., 0., 0., 0., 0., 0., 0., 0., 0., 0.,\n",
       "            0., 0., 0., 0., 0., 0., 0., 0., 0., 0., 0., 0., 0., 0., 0., 0., 0.,\n",
       "            0., 0., 0., 0., 0., 0.]],\n",
       "  \n",
       "          [[0., 0., 0., 0., 0., 0., 0., 0., 0., 0., 0., 0., 0., 0., 0., 0., 0.,\n",
       "            0., 0., 0., 1., 0., 0., 0., 0., 0., 0., 0., 0., 0., 0., 0., 0., 0.,\n",
       "            0., 0., 0., 0., 0., 0., 0., 0., 0., 0., 0., 0., 0., 0., 0., 0., 0.,\n",
       "            0., 0., 0., 0., 0., 0.]],\n",
       "  \n",
       "          [[0., 0., 0., 0., 0., 0., 0., 0., 0., 0., 0., 0., 0., 0., 0., 0., 0.,\n",
       "            0., 0., 0., 1., 0., 0., 0., 0., 0., 0., 0., 0., 0., 0., 0., 0., 0.,\n",
       "            0., 0., 0., 0., 0., 0., 0., 0., 0., 0., 0., 0., 0., 0., 0., 0., 0.,\n",
       "            0., 0., 0., 0., 0., 0.]]]),\n",
       "  tensor([13]))]"
      ]
     },
     "execution_count": 23,
     "metadata": {},
     "output_type": "execute_result"
    }
   ],
   "source": [
    "data_subsample(2, X_train, Y_train)"
   ]
  },
  {
   "cell_type": "markdown",
   "id": "2e4cc42b",
   "metadata": {},
   "source": [
    "**topk** can be called on any tensor(torch fn.). Returns max k values and indices."
   ]
  },
  {
   "cell_type": "code",
   "execution_count": 24,
   "id": "3b37de03",
   "metadata": {},
   "outputs": [],
   "source": [
    "# evaluating network on 'n_points' datapoints.\n",
    "# top k accuracy.\n",
    "\n",
    "def top_k_accuracy(model, n_points, k, X, Y):\n",
    "    # X,Y - whole data\n",
    "    # sub sample with n_points\n",
    "    \n",
    "    data = data_subsample(n_points, X, Y)\n",
    "    \n",
    "    correct = 0\n",
    "    \n",
    "    for name, language, name_ohe, lang_rep in data:\n",
    "        \n",
    "        output = infer(model, name)\n",
    "        \n",
    "        val, indices = output.topk(k)        \n",
    "        # max k values and indices\n",
    "        \n",
    "        # check if the infered output is in the top k indices.\n",
    "        if lang_rep in indices:\n",
    "            correct += 1\n",
    "            \n",
    "    accuracy = correct/n_points\n",
    "    return accuracy"
   ]
  },
  {
   "cell_type": "code",
   "execution_count": 25,
   "id": "dd9e2bf3",
   "metadata": {},
   "outputs": [
    {
     "data": {
      "text/plain": [
       "0.224"
      ]
     },
     "execution_count": 25,
     "metadata": {},
     "output_type": "execute_result"
    }
   ],
   "source": [
    "top_k_accuracy(rnn, 1000, 3, X_test, Y_test)"
   ]
  },
  {
   "cell_type": "markdown",
   "id": "8048be8e",
   "metadata": {},
   "source": [
    "# Training\n",
    "\n",
    "### Basic training setup\n",
    "\n",
    "a loss function (criterion) - and use back propagation to modify the parameters.\n",
    "\n",
    "in inference we calling the forward several times(iterating over the sequence of input) - we are essentially going through the same network again and again. BP through this (through time) (**BPTT**)  \n",
    "\n",
    "pytorch does everything for us - it does the book keeping as we go through the same network again and again - and for BP is just calling backward - after doing the forward pass, computing loss variable.   \n",
    "**essentially its only a composition of many functions - come backward from loss to all the parameters**\n",
    "\n",
    "all the functional relationships  \n",
    "**same weights** are part of each iteration - and to be back propagated..   \n",
    "\n",
    "\n",
    "- loss.backward(retain_graph=True)"
   ]
  },
  {
   "cell_type": "markdown",
   "id": "ee69a401",
   "metadata": {},
   "source": [
    "## xxxxxx\n",
    "\n",
    "We are not doing opt.zero_grad within an epoch - So the gradient values computed are added to the existing ones. So finally what we have is sum of gradients over the datapoints in the batch - which is what we need.  \n",
    "\n",
    "This functionaly in backward() - where gradient is added to what is there - is there for stuff like this. This is why we have to reset them in previous cases - where we don't want to accumulate them."
   ]
  },
  {
   "cell_type": "markdown",
   "id": "2b909067",
   "metadata": {},
   "source": [
    "### Train with one subsample\n",
    "\n",
    "**This is not \"batching\". Batching is vectorising over multiple inputs at the same time.**    \n",
    "The parameter update update is for loss-surface with all those datapoints.   \n",
    "\n",
    "Here we are passing datapoints in a sample one by one - updating parameter with sum-of-gradients-of-those.  \n",
    "\n",
    "**No vectorization. But gradient for the sub-sample.**  \n",
    "No vectorization - that is the difference here - compared to normal batching.  "
   ]
  },
  {
   "cell_type": "code",
   "execution_count": 26,
   "id": "9345e5b9",
   "metadata": {},
   "outputs": [],
   "source": [
    "# function to train on one subsample\n",
    "\n",
    "def train_subsample(model, subsample_size, loss_fn, opt):\n",
    "    # model, data, loss_fn, optimizer\n",
    "    # n_batch - number of data points to be trained on. - like one batch\n",
    "    \n",
    "    # data\n",
    "    data_batch = data_subsample(subsample_size, X_train, Y_train)\n",
    "    # X_train, Y_train are global   \n",
    "    \n",
    "    opt.zero_grad() # reset gradient\n",
    "    # don't want to retain gradients from previous epoch\n",
    "    \n",
    "    total_loss = 0 # over all datapoints in the batch \n",
    "    # only for logging\n",
    "    \n",
    "    for name, language, name_ohe, lang_rep in data_batch:\n",
    "\n",
    "        # forward pass (inference)\n",
    "        # iterate over the input-sequence\n",
    "        # going thr' same model many times\n",
    "        hidden = model.init_hidden()       \n",
    "        for i in range(name_ohe.size()[0]):\n",
    "            output, hidden = model(name_ohe[i], hidden)\n",
    "        # the computational graph get generated in the above \n",
    "        # end of the day, it all a composition of functions.  \n",
    "        # then BP happens through that graph.\n",
    "        \n",
    "        # loss\n",
    "        loss = loss_fn(output, lang_rep)\n",
    "        \n",
    "        #compute gradients\n",
    "        loss.backward(retain_graph=True)\n",
    "        \n",
    "        total_loss += loss\n",
    "    \n",
    "    # update parameters\n",
    "    opt.step() # update parameters after going through whole batch\n",
    "    # gradient values are accumulated over the datapoints in the batch\n",
    "            \n",
    "    # average loss over datapoints in the batch\n",
    "    return total_loss/subsample_size"
   ]
  },
  {
   "cell_type": "code",
   "execution_count": 27,
   "id": "e2c9b608",
   "metadata": {},
   "outputs": [],
   "source": [
    "# loss function\n",
    "loss_fn = nn.NLLLoss() # negative log likelihood.\n",
    "\n",
    "# optimizer\n",
    "opt = optim.SGD(rnn.parameters(), lr=0.01, momentum=0.9)"
   ]
  },
  {
   "cell_type": "code",
   "execution_count": 28,
   "id": "075f964f",
   "metadata": {},
   "outputs": [
    {
     "name": "stdout",
     "output_type": "stream",
     "text": [
      "CPU times: user 299 ms, sys: 11.7 ms, total: 311 ms\n",
      "Wall time: 166 ms\n"
     ]
    },
    {
     "data": {
      "text/plain": [
       "tensor(2.8638, grad_fn=<DivBackward0>)"
      ]
     },
     "execution_count": 28,
     "metadata": {},
     "output_type": "execute_result"
    }
   ],
   "source": [
    "%%time \n",
    "train_subsample(rnn, 200, loss_fn, opt)"
   ]
  },
  {
   "cell_type": "code",
   "execution_count": 29,
   "id": "ae80b7c6",
   "metadata": {},
   "outputs": [
    {
     "data": {
      "text/plain": [
       "0.473"
      ]
     },
     "execution_count": 29,
     "metadata": {},
     "output_type": "execute_result"
    }
   ],
   "source": [
    "top_k_accuracy(rnn, 1000, 1, X_test, Y_test)"
   ]
  },
  {
   "cell_type": "code",
   "execution_count": null,
   "id": "b629741f",
   "metadata": {},
   "outputs": [],
   "source": []
  },
  {
   "cell_type": "markdown",
   "id": "98f53a8e",
   "metadata": {},
   "source": [
    "# Train setup\n",
    "\n",
    "train multiple batches  \n",
    "takes hyper parameters also as input.  \n",
    "\n",
    "see how loss is changing  \n",
    "logging..     \n",
    "checkpointing  \n",
    "\n",
    "**umbrella fn - that does everything**"
   ]
  },
  {
   "cell_type": "markdown",
   "id": "7abce7d7",
   "metadata": {},
   "source": [
    "### a good visualization trick - clear cell and plot the updated graph."
   ]
  },
  {
   "cell_type": "code",
   "execution_count": 30,
   "id": "4e4ee27d",
   "metadata": {},
   "outputs": [],
   "source": [
    "from IPython.display import clear_output\n",
    "\n",
    "# clearing output of a cell.\n",
    "# for eg: clear and show latest stage of a plot"
   ]
  },
  {
   "cell_type": "code",
   "execution_count": 31,
   "id": "9509f549",
   "metadata": {},
   "outputs": [],
   "source": [
    "def train(model, \n",
    "          subsample_size = 10, n_subsamples = 100, \n",
    "          lr = 0.01, momentum = 0.9, \n",
    "          display_freq=5):\n",
    "    \n",
    "    # loss function\n",
    "    loss_fn = nn.NLLLoss()\n",
    "    # NLL loss - doesn't have an internal softmax\n",
    "    # if softmax in network - use NLL loss as the loss function.\n",
    "    # cross entropy loss has an internal softmax. \n",
    "    # if that is the loss fn., then don't need softmax in network.\n",
    "    \n",
    "    # optimizer\n",
    "    opt = optim.SGD(model.parameters(), lr=lr, momentum=momentum)\n",
    "    \n",
    "    # for logging\n",
    "    loss_arr = np.zeros(n_subsamples + 1)\n",
    "    \n",
    "    \n",
    "    for i in range(n_subsamples):\n",
    "        loss_arr[i+1] = ( loss_arr[i]*i + train_subsample(model, subsample_size, loss_fn,  opt) )/(i + 1) \n",
    "        # average loss so far.\n",
    "        \n",
    "        if i%display_freq == display_freq-1:\n",
    "            \n",
    "            clear_output(wait=True) # clear cell output\n",
    "            \n",
    "            print('Iteration', i, \n",
    "                  'Top-1:', top_k_accuracy(model, len(X_test), 1, X_test, Y_test), \n",
    "                  'Top-2:', top_k_accuracy(model, len(X_test), 2, X_test, Y_test), 'Loss', loss_arr[i] )\n",
    "            plt.figure()\n",
    "            plt.plot(loss_arr[1:i], '-*')\n",
    "            plt.xlabel('Iteration')\n",
    "            plt.ylabel('Loss')\n",
    "            plt.show()\n",
    "            print('\\n\\n')\n",
    "                      "
   ]
  },
  {
   "cell_type": "markdown",
   "id": "0202bac7",
   "metadata": {},
   "source": [
    "keep appending to a loss array. clear ouput and plot array so far at intervals."
   ]
  },
  {
   "cell_type": "code",
   "execution_count": 32,
   "id": "ea12a70d",
   "metadata": {
    "scrolled": true
   },
   "outputs": [
    {
     "name": "stdout",
     "output_type": "stream",
     "text": [
      "Iteration 99 Top-1: 0.6531172069825436 Top-2: 0.7942643391521197 Loss 1.4660170078277588\n"
     ]
    },
    {
     "data": {
      "image/png": "[encoded data removed]",
      "text/plain": [
       "<Figure size 432x288 with 1 Axes>"
      ]
     },
     "metadata": {
      "needs_background": "light"
     },
     "output_type": "display_data"
    },
    {
     "name": "stdout",
     "output_type": "stream",
     "text": [
      "\n",
      "\n",
      "\n"
     ]
    }
   ],
   "source": [
    "n_hidden = 128\n",
    "rnn = RNNNet(n_letters, n_hidden, n_languages)\n",
    "train(rnn, lr=0.0005, n_subsamples=100, subsample_size = 256)"
   ]
  },
  {
   "cell_type": "code",
   "execution_count": null,
   "id": "0ad06469",
   "metadata": {},
   "outputs": [],
   "source": []
  },
  {
   "cell_type": "markdown",
   "id": "9368e804",
   "metadata": {},
   "source": [
    "coding style - splitting different things into pieces..  \n",
    "\n",
    "train one batch/epoch\n",
    "train setup\n",
    "evaluation\n",
    "\n",
    "inference"
   ]
  },
  {
   "cell_type": "code",
   "execution_count": null,
   "id": "8cf974f0",
   "metadata": {},
   "outputs": [],
   "source": []
  },
  {
   "cell_type": "code",
   "execution_count": null,
   "id": "c038fcd5",
   "metadata": {},
   "outputs": [],
   "source": []
  },
  {
   "cell_type": "markdown",
   "id": "4cd5b1d3",
   "metadata": {},
   "source": [
    "# LSTM\n",
    "\n",
    "https://pytorch.org/docs/stable/generated/torch.nn.LSTM.html\n",
    "\n",
    "\n",
    "in RNN - 'h' state (hidden) - one state only\n",
    "\n",
    "now - additional cell state\n",
    "\n",
    "**two states** to be saved for the next step.\n",
    "\n",
    "in fn \"utility point of view\", it be same RNN....  \n",
    "same args for init, forward, etc."
   ]
  },
  {
   "cell_type": "code",
   "execution_count": 33,
   "id": "1a1df57d",
   "metadata": {},
   "outputs": [],
   "source": [
    "class LSTMNet(nn.Module):\n",
    "    \n",
    "    def __init__(self, input_size, hidden_size, output_size):\n",
    "        super().__init__()\n",
    "        \n",
    "        self.hidden_size = hidden_size\n",
    "        # this is to be used by the init function\n",
    "        \n",
    "        \n",
    "        # BLOCKS:\n",
    "        \n",
    "        self.lstm_cell = nn.LSTM(input_size, hidden_size) #lstm object\n",
    "        # https://pytorch.org/docs/stable/generated/torch.nn.LSTM.html\n",
    "        # shows what its internally doing.\n",
    "        # computation of hidden state, cell state.. here.. \n",
    "        \n",
    "        # hidden state to output (not input to output like in rnn n/w before)\n",
    "        self.h2o = nn.Linear(hidden_size, output_size)\n",
    "        \n",
    "        self.softmax = nn.LogSoftmax(dim=2)\n",
    "    \n",
    "    def forward(self, input_t, hidden_t_1):\n",
    "        # arg: hidden - tuple of hidden-state(index-0) and cell-state(index-1)\n",
    "        \n",
    "        # can write it differently, eg: addition arg in forward for cell state\n",
    "        # doing this way to keep the \"fn signature\" same as RNN.\n",
    "        # so that we can use the same train, eval, etc.\n",
    "        \n",
    "        out, hidden_t = self.lstm_cell(input_t.view(1, 1, -1), hidden_t_1)\n",
    "        # lstm returns output, tuple of hidden, cell states\n",
    "        \n",
    "        # input reshaped into 1x1xsomething\n",
    "        # here 1x1xn_all_letters\n",
    "        # in general 1 x batch_size x vector-size-of-one-input-repr\n",
    "        # first index - we can give mutiple inputs together. (vectorising)\n",
    "        \n",
    "        # only on 'hidden-state'\n",
    "        output = self.h2o(hidden_t[0]) # ouput from 'current' hidden state\n",
    "        \n",
    "        output = self.softmax(output) # dim = 2\n",
    "        # flatten\n",
    "        return output.view(1, -1), hidden_t\n",
    "    \n",
    "    def init_hidden(self):\n",
    "        return (torch.zeros(1, 1, self.hidden_size), torch.zeros(1, 1, self.hidden_size))\n",
    "    \n",
    "    # 1x1xlayer_size \n",
    "    # lstm allow number_of_layersx1xlayer_size - ie a multilayer n/w as the unit thing.\n",
    "    # here we are using a simple - single layer unit thing.\n",
    "    \n",
    "    # second index - batches. - passing batch together as input\n",
    "    # vectorization - improves performance.\n",
    "    # we are not doing that now. - later"
   ]
  },
  {
   "cell_type": "markdown",
   "id": "ebcadb03",
   "metadata": {},
   "source": [
    "here output from current hidden state - like in theory .. unlike before."
   ]
  },
  {
   "cell_type": "markdown",
   "id": "b8f1fd36",
   "metadata": {},
   "source": [
    "batching:  \n",
    "vectorisation - better performance  (parallel operation.. )\n",
    "finding gradient every batch - faster  \n",
    "\n",
    "here we are doing the second one .. but not first."
   ]
  },
  {
   "cell_type": "code",
   "execution_count": 34,
   "id": "f279cb0a",
   "metadata": {},
   "outputs": [
    {
     "name": "stdout",
     "output_type": "stream",
     "text": [
      "Iteration 99 Top-1: 0.5518703241895262 Top-2: 0.6790523690773067 Loss 1.8086339235305786\n"
     ]
    },
    {
     "data": {
      "image/png": "[encoded data removed]",
      "text/plain": [
       "<Figure size 432x288 with 1 Axes>"
      ]
     },
     "metadata": {
      "needs_background": "light"
     },
     "output_type": "display_data"
    },
    {
     "name": "stdout",
     "output_type": "stream",
     "text": [
      "\n",
      "\n",
      "\n"
     ]
    }
   ],
   "source": [
    "n_hidden = 128\n",
    "lstm = LSTMNet(n_letters, n_hidden, n_languages)\n",
    "train(lstm, subsample_size = 256, n_subsamples=100, lr=0.0005)\n",
    "\n",
    "# using the same functions for training, etc.. "
   ]
  },
  {
   "cell_type": "code",
   "execution_count": null,
   "id": "699ed07a",
   "metadata": {},
   "outputs": [],
   "source": []
  },
  {
   "cell_type": "markdown",
   "id": "827defdf",
   "metadata": {},
   "source": [
    "# GRU\n",
    "\n",
    "https://pytorch.org/docs/stable/generated/torch.nn.GRU.html\n",
    "\n",
    "only 'hidden state' saved. (one state)\n",
    "\n",
    "not a tuple of two states.\n",
    "\n",
    "but as GRU also allows, multiple batches, multiple inputs, .. dimensions are like so."
   ]
  },
  {
   "cell_type": "code",
   "execution_count": 35,
   "id": "642d35a1",
   "metadata": {},
   "outputs": [],
   "source": [
    "class GRUNet(nn.Module):\n",
    "    \n",
    "    def __init__(self, input_size, hidden_size, output_size):\n",
    "        super().__init__()\n",
    "        \n",
    "        self.hidden_size = hidden_size\n",
    "        \n",
    "        # BLOCKS:\n",
    "        \n",
    "        # gru\n",
    "        self.gru_cell = nn.GRU(input_size, hidden_size)\n",
    "        \n",
    "        self.h2o = nn.Linear(hidden_size, output_size)\n",
    "        self.softmax = nn.LogSoftmax(dim=2)\n",
    "    \n",
    "    def forward(self, input_t, hidden_t_1):\n",
    "        \n",
    "        out, hidden_t = self.gru_cell(input_t.view(1, 1, -1), hidden_t_1)\n",
    "        \n",
    "        output = self.h2o(hidden_t)\n",
    "        output = self.softmax(output) # dim = 2\n",
    "        return output.view(1, -1), hidden_t\n",
    "    \n",
    "    def init_hidden(self):\n",
    "        return torch.zeros(1, 1, self.hidden_size)"
   ]
  },
  {
   "cell_type": "code",
   "execution_count": 36,
   "id": "1c9ffade",
   "metadata": {
    "scrolled": true
   },
   "outputs": [
    {
     "name": "stdout",
     "output_type": "stream",
     "text": [
      "Iteration 99 Top-1: 0.5760598503740648 Top-2: 0.7354114713216957 Loss 1.6652683019638062\n"
     ]
    },
    {
     "data": {
      "image/png": "[encoded data removed]",
      "text/plain": [
       "<Figure size 432x288 with 1 Axes>"
      ]
     },
     "metadata": {
      "needs_background": "light"
     },
     "output_type": "display_data"
    },
    {
     "name": "stdout",
     "output_type": "stream",
     "text": [
      "\n",
      "\n",
      "\n"
     ]
    }
   ],
   "source": [
    "n_hidden = 128\n",
    "gru = GRUNet(n_letters, n_hidden, n_languages)\n",
    "train(gru, subsample_size=256, n_subsamples=100, lr=0.0005)"
   ]
  },
  {
   "cell_type": "markdown",
   "id": "df415708",
   "metadata": {},
   "source": [
    "batches - vectorization, parallel operation.  \n",
    "\n",
    "They should be of same size."
   ]
  },
  {
   "cell_type": "code",
   "execution_count": null,
   "id": "c8f30895",
   "metadata": {},
   "outputs": [],
   "source": []
  }
 ],
 "metadata": {
  "kernelspec": {
   "display_name": "Python 3 (ipykernel)",
   "language": "python",
   "name": "python3"
  },
  "language_info": {
   "codemirror_mode": {
    "name": "ipython",
    "version": 3
   },
   "file_extension": ".py",
   "mimetype": "text/x-python",
   "name": "python",
   "nbconvert_exporter": "python",
   "pygments_lexer": "ipython3",
   "version": "3.8.10"
  }
 },
 "nbformat": 4,
 "nbformat_minor": 5
}
