{
 "cells": [
  {
   "cell_type": "markdown",
   "metadata": {
    "id": "RlvoxlViOvAc"
   },
   "source": [
    "Batching - **simultaneusly** several instances(datapoits) passed forward or backward in the network.  \n",
    "(like in fnn, cnn.. )"
   ]
  },
  {
   "cell_type": "code",
   "execution_count": 1,
   "metadata": {},
   "outputs": [],
   "source": [
    "import numpy as np\n",
    "import matplotlib.pyplot as plt\n",
    "import seaborn as sns\n",
    "\n",
    "from IPython.display import clear_output"
   ]
  },
  {
   "cell_type": "code",
   "execution_count": 2,
   "metadata": {},
   "outputs": [],
   "source": [
    "import torch\n",
    "import torch.nn as nn\n",
    "import torch.optim as optim"
   ]
  },
  {
   "cell_type": "code",
   "execution_count": 3,
   "metadata": {
    "id": "Idg_OtiyKSXf"
   },
   "outputs": [],
   "source": [
    "from sklearn.model_selection import train_test_split"
   ]
  },
  {
   "cell_type": "code",
   "execution_count": 4,
   "metadata": {
    "id": "b4GU3MziGYar"
   },
   "outputs": [],
   "source": [
    "device = torch.device(\"cuda:0\" if torch.cuda.is_available() else \"cpu\")"
   ]
  },
  {
   "cell_type": "markdown",
   "metadata": {
    "id": "7h5jQjsF7-B7"
   },
   "source": [
    "# Dataset"
   ]
  },
  {
   "cell_type": "markdown",
   "metadata": {
    "id": "R2kUDY_4zmy-"
   },
   "source": [
    "## representing data, etc. -> \"pre-processing\""
   ]
  },
  {
   "cell_type": "code",
   "execution_count": 5,
   "metadata": {
    "id": "rKjuUO8Q7-tf"
   },
   "outputs": [],
   "source": [
    "# read file and store into arrays.\n",
    "\n",
    "languages = [] # classes\n",
    "data = []\n",
    "X = []\n",
    "Y = []\n",
    "\n",
    "with open('name2lang.txt', 'r') as f: \n",
    "    for line in f:\n",
    "        line = line.split(',')\n",
    "        \n",
    "        #remove padded white space on sides.\n",
    "        name = line[0].strip()\n",
    "        lang = line[1].strip()\n",
    "        \n",
    "        # classes\n",
    "        if not lang in languages:\n",
    "            languages.append(lang)\n",
    "            \n",
    "        X.append(name) # input\n",
    "        Y.append(lang) # output\n",
    "        # also storing in a tuple form\n",
    "        data.append((name, lang))\n",
    "\n",
    "n_languages = len(languages) # number of classes\n"
   ]
  },
  {
   "cell_type": "code",
   "execution_count": 6,
   "metadata": {
    "id": "7rCPOxMNKYVv"
   },
   "outputs": [],
   "source": [
    "# Test-train split\n",
    "X_train, X_test, Y_train, Y_test = train_test_split(X, Y, test_size=0.2, random_state=0, stratify=Y)"
   ]
  },
  {
   "cell_type": "markdown",
   "metadata": {
    "id": "daXjlTRLB_lp"
   },
   "source": [
    "#### Encoding names and language"
   ]
  },
  {
   "cell_type": "code",
   "execution_count": 7,
   "metadata": {},
   "outputs": [],
   "source": [
    "import string"
   ]
  },
  {
   "cell_type": "code",
   "execution_count": 8,
   "metadata": {},
   "outputs": [
    {
     "data": {
      "text/plain": [
       "\"abcdefghijklmnopqrstuvwxyzABCDEFGHIJKLMNOPQRSTUVWXYZ .,;'\""
      ]
     },
     "execution_count": 8,
     "metadata": {},
     "output_type": "execute_result"
    }
   ],
   "source": [
    "all_letters = string.ascii_letters + \" .,;'\" # string of all characters \n",
    "n_letters = len(all_letters) #dim of vector encoding of one character.\n",
    "all_letters"
   ]
  },
  {
   "cell_type": "code",
   "execution_count": 9,
   "metadata": {},
   "outputs": [],
   "source": [
    "def name_rep(name):\n",
    "    rep = torch.zeros(len(name), 1, n_letters)    \n",
    "    for i, letter in enumerate(name):\n",
    "        pos = all_letters.find(letter) # find pos in the all-character-string\n",
    "        rep[i][0][pos] = 1 #i-th letter\n",
    "        # note the 0 in the middle dimension \n",
    "    return rep"
   ]
  },
  {
   "cell_type": "markdown",
   "metadata": {
    "id": "3CC_QgBTKidp"
   },
   "source": [
    "name is a sequence - one whole input.\n",
    "\n",
    "3d tensor.\n",
    "\n",
    "last index - one hot.\n",
    "\n",
    "**second index - batch**\n",
    "\n",
    "first index - number of elements in sequence."
   ]
  },
  {
   "cell_type": "code",
   "execution_count": 10,
   "metadata": {
    "id": "kH5o5z0O_LoV"
   },
   "outputs": [],
   "source": [
    "def lang_rep(lang):\n",
    "    return torch.tensor([languages.index(lang)], dtype=torch.long)"
   ]
  },
  {
   "cell_type": "code",
   "execution_count": null,
   "metadata": {},
   "outputs": [],
   "source": []
  },
  {
   "cell_type": "markdown",
   "metadata": {
    "id": "ne8qqdt0F59E"
   },
   "source": [
    "# RNN using nn.RNN"
   ]
  },
  {
   "cell_type": "markdown",
   "metadata": {
    "id": "NIE2kCrwHCCg"
   },
   "source": [
    "below is not same as the RNN n/w in the previous one. \n",
    "\n",
    "pytorch rnn cell - before we used linear."
   ]
  },
  {
   "cell_type": "code",
   "execution_count": 11,
   "metadata": {
    "id": "cAs526MUFc_C"
   },
   "outputs": [],
   "source": [
    "class RNNNet(nn.Module):\n",
    "    def __init__(self, input_size, hidden_size, output_size):\n",
    "        \n",
    "        super().__init__()\n",
    "        self.hidden_size = hidden_size\n",
    "        \n",
    "        # BLOCKS: \n",
    "        self.rnn_cell = nn.RNN(input_size, hidden_size)\n",
    "        self.h2o = nn.Linear(hidden_size, output_size)\n",
    "        self.softmax = nn.LogSoftmax(dim=1)\n",
    "    \n",
    "    # FORWARD USING BLOCKS:\n",
    "    def forward(self, input_t, hidden_t_1 = None, batch_size = 1):\n",
    "\n",
    "        # hidden state from input, prev hidden state\n",
    "        out, hidden_t = self.rnn_cell(input_t, hidden_t_1)\n",
    "\n",
    "        # ouput from cuurent hidden state(found above)\n",
    "        output = self.h2o(hidden_t.view(-1, self.hidden_size))\n",
    "        output = self.softmax(output)\n",
    "\n",
    "        return output, hidden_t \n",
    "        # hidden state also returned\n",
    "        # to be passed on to the next step\n",
    "    \n",
    "    # STATE INIT:\n",
    "    def init_hidden(self, batch_size = 1):\n",
    "        return torch.zeros(1, batch_size, self.hidden_size)\n",
    "        # to initialize the first hidden state.\n",
    "        # internally."
   ]
  },
  {
   "cell_type": "markdown",
   "metadata": {
    "id": "paWqsKnAMx_o"
   },
   "source": [
    "in lstm, there are two state vectors. there we pass them together as tuple, .. so that the function signature looks the same for all sequence models.\n",
    "\n",
    "## Function signature\n",
    "\n",
    "**model-layer, ouput-layer**\n",
    "\n",
    "**output, state/s - from input, prev state/s**  \n",
    "**output - from current state/s**\n",
    "\n",
    "**state/s - single state or tuple of states**\n",
    "\n",
    "**^same function signature**"
   ]
  },
  {
   "cell_type": "code",
   "execution_count": 12,
   "metadata": {
    "id": "pU0iZYnHGUhM"
   },
   "outputs": [],
   "source": [
    "n_hidden = 128\n",
    "rnn = RNNNet(n_letters, n_hidden, n_languages)"
   ]
  },
  {
   "cell_type": "markdown",
   "metadata": {
    "id": "OzC5mFEaOH5u"
   },
   "source": [
    "before for inference we used loop to iterate over each in the sequence.  \n",
    "(there model had linear block)  \n",
    "\n",
    "now passing all the inputs(whole sequence) - together - not looping..   \n",
    "like cnn, fnn - model(input) only.\n",
    "\n",
    "looping... internally taken care..  \n",
    "\n",
    "\n",
    "**nn.RNN -> The forward function of that has the looping**  \n",
    "loops over the sequence.   "
   ]
  },
  {
   "cell_type": "code",
   "execution_count": 13,
   "metadata": {
    "id": "BoO6JFooHCJ4"
   },
   "outputs": [],
   "source": [
    "def infer(model, name, device = 'cpu'):\n",
    "    model.eval()\n",
    "    name_ohe = name_rep(name).to(device)\n",
    "    \n",
    "    output, hidden = model(name_ohe)\n",
    "    # NO LOOPING !!\n",
    "        \n",
    "    if type(hidden) is tuple: # For LSTM\n",
    "        hidden = hidden[0]\n",
    "        \n",
    "    # index = torch.argmax(hidden)\n",
    "    \n",
    "    return output"
   ]
  },
  {
   "cell_type": "code",
   "execution_count": 14,
   "metadata": {
    "colab": {
     "base_uri": "https://localhost:8080/"
    },
    "id": "W3ZjoIJcImaN",
    "outputId": "a49617b3-9d43-4780-c9ab-ac3f0fa18c20"
   },
   "outputs": [
    {
     "data": {
      "text/plain": [
       "tensor([[-2.9382, -2.8892, -2.8776, -2.9846, -2.8132, -2.9253, -2.9058, -2.8059,\n",
       "         -2.7098, -2.8936, -2.8674, -2.9629, -2.8976, -2.9582, -2.8427, -2.9182,\n",
       "         -2.9984, -2.8805]], grad_fn=<LogSoftmaxBackward0>)"
      ]
     },
     "execution_count": 14,
     "metadata": {},
     "output_type": "execute_result"
    }
   ],
   "source": [
    "infer(rnn, 'Adam')"
   ]
  },
  {
   "cell_type": "markdown",
   "metadata": {
    "id": "6WscCKVAIEMQ"
   },
   "source": [
    "## Evaluation"
   ]
  },
  {
   "cell_type": "code",
   "execution_count": 15,
   "metadata": {
    "id": "uJnxXFA0V701"
   },
   "outputs": [],
   "source": [
    "# give n datapoints.\n",
    "# one datapoint:\n",
    "# (name, lang, name_rep(name), lang_rep(lang))\n",
    "\n",
    "def data_subsample(npoints, X, Y):\n",
    "    # npoints - number of samples we are asking for.\n",
    "    to_ret = []\n",
    "    for i in range(npoints):\n",
    "        rand_index = np.random.randint(len(X)) #random index\n",
    "        name, lang = X[rand_index], Y[rand_index]\n",
    "        to_ret.append((name, lang, name_rep(name), lang_rep(lang)))\n",
    "        # tuple with name-laguage-name_rep-lang_rep\n",
    "    return to_ret"
   ]
  },
  {
   "cell_type": "code",
   "execution_count": 16,
   "metadata": {},
   "outputs": [],
   "source": [
    "def top_k_accuracy(model, n_points, k, X, Y, device):\n",
    "    # X,Y - whole data\n",
    "    # sub sample with n_points\n",
    "    \n",
    "    # data\n",
    "    data = data_subsample(n_points, X, Y)\n",
    "    \n",
    "    # model\n",
    "    model = model.eval().to(device)    \n",
    "      \n",
    "    correct = 0\n",
    "    \n",
    "    for name, language, name_ohe, lang_rep in data:\n",
    "        \n",
    "        output = infer(model, name, device)\n",
    "        \n",
    "        val, indices = output.topk(k)        \n",
    "        # max k values and indices\n",
    "        indices = indices.to('cpu')\n",
    "        \n",
    "        # check if the infered output is in the top k indices.\n",
    "        if lang_rep in indices:\n",
    "            correct += 1\n",
    "            \n",
    "    accuracy = correct/n_points\n",
    "    return accuracy"
   ]
  },
  {
   "cell_type": "code",
   "execution_count": 17,
   "metadata": {
    "colab": {
     "base_uri": "https://localhost:8080/"
    },
    "id": "E8FAv356Ifqk",
    "outputId": "10f7aafd-245e-43ee-a500-cda58aabfd7f"
   },
   "outputs": [
    {
     "data": {
      "text/plain": [
       "0.046"
      ]
     },
     "execution_count": 17,
     "metadata": {},
     "output_type": "execute_result"
    }
   ],
   "source": [
    "top_k_accuracy(rnn, 1000, 1, X_test, Y_test, device)"
   ]
  },
  {
   "cell_type": "code",
   "execution_count": null,
   "metadata": {},
   "outputs": [],
   "source": []
  },
  {
   "cell_type": "markdown",
   "metadata": {
    "id": "H2DryJZtg6EB"
   },
   "source": [
    "# Batching\n",
    "\n",
    "- **First make padded sequence tensor. Then make \"packed sequence\" from it**"
   ]
  },
  {
   "cell_type": "markdown",
   "metadata": {
    "id": "vUhIZrIGcTgL"
   },
   "source": [
    "## seqences to tensor (with padding)\n",
    "\n",
    "one tensor - from a set of sequences - padding to fill for shorter sequences.  \n",
    "\n",
    "**dim - max_seq_size x batch_size x one_hot**  \n",
    "**so that TENSOR[i] is batch of i-th element in all sequence**"
   ]
  },
  {
   "cell_type": "code",
   "execution_count": 18,
   "metadata": {
    "id": "wPhkg4KlWCWj"
   },
   "outputs": [],
   "source": [
    "# names is a list of (names)sequences\n",
    "# max_seq_size of those sequences\n",
    "# return a tensor - representation of sequences + padded\n",
    "def batched_name_rep(names, max_word_size):\n",
    "    # names in the batch\n",
    "    # max word size -> max sequence size\n",
    "    \n",
    "    rep = torch.zeros(max_word_size, len(names), n_letters)\n",
    "    # dim - max_seq_size x batch_size x one_hot\n",
    "    for name_index, name in enumerate(names):\n",
    "        for letter_index, letter in enumerate(name):\n",
    "            pos = all_letters.find(letter)\n",
    "            rep[letter_index][name_index][pos] = 1\n",
    "            # previously it was 0 for all.\n",
    "    return rep\n",
    "\n",
    "# pad => all 0s.\n",
    "# only putting the ones in existing elements in existing sequences.. .\n",
    "# rest remain all 0s - pads."
   ]
  },
  {
   "cell_type": "code",
   "execution_count": 19,
   "metadata": {
    "id": "mIIIpkbuaNhI"
   },
   "outputs": [],
   "source": [
    "# printing characters of a tensor rep\n",
    "\n",
    "def print_chars(tensor_rep):\n",
    "    name_reps = tensor_rep.view((-1, tensor_rep.size()[-1]))\n",
    "    # reshape into (something x one_hot_size) => 2D tensor - each row - one_hots... \n",
    "    for t in name_reps:  # iterating over one-hots - print corresponding leter\n",
    "        if torch.sum(t) == 0: # if sum is 0 - then all 0s - then its a pad.\n",
    "            print('<pad>')\n",
    "        else:\n",
    "            index = t.argmax() # gives index of 1. as 1 is the max - rest 0s.\n",
    "            print(all_letters[index]) # letter at that index in all-letters- corresponding letter."
   ]
  },
  {
   "cell_type": "code",
   "execution_count": 20,
   "metadata": {
    "colab": {
     "base_uri": "https://localhost:8080/"
    },
    "id": "g3VSyh5BWERT",
    "outputId": "90fc1dc2-0a67-45f3-fac5-b5042ec70758"
   },
   "outputs": [
    {
     "name": "stdout",
     "output_type": "stream",
     "text": [
      "torch.Size([5, 2, 57])\n",
      "S\n",
      "R\n",
      "h\n",
      "a\n",
      "y\n",
      "m\n",
      "a\n",
      "<pad>\n",
      "m\n",
      "<pad>\n"
     ]
    }
   ],
   "source": [
    "rep = batched_name_rep(['Shyam', 'Ram'], 5)\n",
    "# print(rep)\n",
    "print(rep.shape)\n",
    "print_chars(rep)"
   ]
  },
  {
   "cell_type": "markdown",
   "metadata": {},
   "source": [
    "Language - class(output).   \n",
    "Representation of a batch of languages :   \n",
    "**This is similar to tensor of labels in previous networks**  "
   ]
  },
  {
   "cell_type": "code",
   "execution_count": 21,
   "metadata": {
    "id": "ylDe6hKuWkE-"
   },
   "outputs": [],
   "source": [
    "# given a sequence of languages(outputs) \n",
    "# - generate a single tensor containing \"index\" of all.\n",
    "\n",
    "def batched_lang_rep(langs):\n",
    "    rep = torch.zeros([len(langs)], dtype=torch.long)\n",
    "    for index, lang in enumerate(langs):\n",
    "        rep[index] = languages.index(lang)\n",
    "    return rep"
   ]
  },
  {
   "cell_type": "markdown",
   "metadata": {},
   "source": [
    "#  \"Packed sequence\"\n",
    "\n",
    "Holds the data and list of batch_sizes of a packed sequence.  \n",
    "All RNN modules accept packed sequences as inputs.   \n",
    "\n",
    "'data' attribute has the tensor value. "
   ]
  },
  {
   "cell_type": "markdown",
   "metadata": {
    "id": "zgEJ2we9iAQq"
   },
   "source": [
    "### packing\n",
    "\n",
    "get the packed tensor - from a set of sequences.\n",
    "\n",
    "**dataloader** - that gives the packed tensors   "
   ]
  },
  {
   "cell_type": "code",
   "execution_count": 22,
   "metadata": {
    "id": "zAhUoz8AiprT"
   },
   "outputs": [],
   "source": [
    "## verbose flag - to print stuff only when flag is on.. .. (eg: when debugging)\n",
    "## one idea to code.\n",
    "\n",
    "## also passing device as an argument - easily swich b/w runing in cpu, gpu.. "
   ]
  },
  {
   "cell_type": "code",
   "execution_count": 23,
   "metadata": {
    "id": "HjgEOjpvNbwz"
   },
   "outputs": [],
   "source": [
    "def batched_dataloader(batch_size, X, Y, verbose=False, device = 'cpu'):\n",
    "    names = []\n",
    "    langs = []\n",
    "    # list of lengths of each sequence\n",
    "    X_lengths = [] \n",
    "    \n",
    "    # n datapoints  (n sequences)\n",
    "\n",
    "    for i in range(batch_size):\n",
    "\n",
    "        rand_index = np.random.randint(len(X))\n",
    "        name, lang = X[rand_index], Y[rand_index]\n",
    "        X_lengths.append(len(name)) \n",
    "        names.append(name)\n",
    "        langs.append(lang)\n",
    "        \n",
    "    max_length = max(X_lengths)\n",
    "    \n",
    "    # first make padded tensor representation.\n",
    "    names_rep = batched_name_rep(names, max_length).to(device)\n",
    "    langs_rep = batched_lang_rep(langs).to(device)\n",
    "    \n",
    "    # then using the following function to get the packed-tensor.\n",
    "    packed_names_rep = torch.nn.utils.rnn.pack_padded_sequence(names_rep, X_lengths, enforce_sorted = False)\n",
    "    # need X_lengths - list of lengths of each sequence\n",
    "    # this is needed by the fn to get batch size of each 'pack?'\n",
    "\n",
    "    \n",
    "    # visualise what the fn does - using the prints.\n",
    "    if verbose:\n",
    "        print(names_rep.shape, packed_names_rep.data.shape)\n",
    "        print('--')\n",
    "        \n",
    "        print(names)\n",
    "        print_chars(names_rep)\n",
    "        print('--')\n",
    "        \n",
    "        print_chars(packed_names_rep.data)\n",
    "        print('Lang Rep', langs_rep.data)\n",
    "        print('Batch sizes', packed_names_rep.batch_sizes)\n",
    " \n",
    "    \n",
    "    return packed_names_rep.to(device), langs_rep\n",
    "\n",
    "# packed representation - passed to the model."
   ]
  },
  {
   "cell_type": "code",
   "execution_count": 24,
   "metadata": {
    "colab": {
     "base_uri": "https://localhost:8080/",
     "height": 1000
    },
    "id": "vkWwJr4GXjSY",
    "outputId": "5cff042e-6f0c-4524-d0ef-2ea3b480ee34"
   },
   "outputs": [
    {
     "name": "stdout",
     "output_type": "stream",
     "text": [
      "torch.Size([9, 3, 57]) torch.Size([19, 57])\n",
      "--\n",
      "['Muller', 'Amod', 'Leibovsky']\n",
      "M\n",
      "A\n",
      "L\n",
      "u\n",
      "m\n",
      "e\n",
      "l\n",
      "o\n",
      "i\n",
      "l\n",
      "d\n",
      "b\n",
      "e\n",
      "<pad>\n",
      "o\n",
      "r\n",
      "<pad>\n",
      "v\n",
      "<pad>\n",
      "<pad>\n",
      "s\n",
      "<pad>\n",
      "<pad>\n",
      "k\n",
      "<pad>\n",
      "<pad>\n",
      "y\n",
      "--\n",
      "L\n",
      "M\n",
      "A\n",
      "e\n",
      "u\n",
      "m\n",
      "i\n",
      "l\n",
      "o\n",
      "b\n",
      "l\n",
      "d\n",
      "o\n",
      "e\n",
      "v\n",
      "r\n",
      "s\n",
      "k\n",
      "y\n",
      "Lang Rep tensor([10, 12, 13])\n",
      "Batch sizes tensor([3, 3, 3, 3, 2, 2, 1, 1, 1])\n"
     ]
    }
   ],
   "source": [
    "packed_rep, classes_rep = batched_dataloader(3, X_train, Y_train, True)"
   ]
  },
  {
   "cell_type": "markdown",
   "metadata": {
    "id": "5TshlzlPmgDB"
   },
   "source": [
    "**no pads in the packed tensor - instead batch size to keep track**\n",
    "\n",
    "observe above.\n"
   ]
  },
  {
   "cell_type": "code",
   "execution_count": null,
   "metadata": {},
   "outputs": [],
   "source": []
  },
  {
   "cell_type": "markdown",
   "metadata": {
    "id": "KyvukubrKZf5"
   },
   "source": [
    "# Training"
   ]
  },
  {
   "cell_type": "markdown",
   "metadata": {
    "id": "nO4UWonqaxQm"
   },
   "source": [
    "## Train one batch"
   ]
  },
  {
   "cell_type": "code",
   "execution_count": 25,
   "metadata": {
    "id": "FMW_J-m_IpKX"
   },
   "outputs": [],
   "source": [
    "# old training fn for non-batched data loader.\n",
    "\n",
    "def train_no_batching(model, sample_size, loss_fn, opt):\n",
    "    # update parameters with one sub sample\n",
    "    \n",
    "    # data\n",
    "    data = data_subsample(sample_size, X_train, Y_train)\n",
    "    # X_train and Y_train are global\n",
    "    \n",
    "    opt.zero_grad() # reset grad\n",
    "    total_loss = 0 # for logging     \n",
    "    \n",
    "    for name, language, name_ohe, lang_rep in data:\n",
    "\n",
    "        hidden = model.init_hidden()\n",
    "        \n",
    "        # forward pass\n",
    "        # looping over each step.\n",
    "        for i in range(name_ohe.size()[0]):\n",
    "            output, hidden = model(name_ohe[i:i+1], hidden)\n",
    "        \n",
    "        # loss\n",
    "        loss = loss_fn(output, lang_rep)\n",
    "        \n",
    "        # compute gradient\n",
    "        loss.backward(retain_graph=True)\n",
    "        \n",
    "        total_loss += loss\n",
    "    \n",
    "    # update parameters\n",
    "    opt.step()       \n",
    "    return total_loss/sample_size"
   ]
  },
  {
   "cell_type": "code",
   "execution_count": 26,
   "metadata": {
    "id": "hZyvRBSCg_od"
   },
   "outputs": [],
   "source": [
    "# train fn for batched data loader.\n",
    "\n",
    "def train_batch(model, batch_size, loss_fn, opt, device = 'cpu'):\n",
    "    \n",
    "    model.train().to(device)\n",
    "    opt.zero_grad() # reset\n",
    "    \n",
    "    # data\n",
    "    batch_input, batch_groundtruth = batched_dataloader(batch_size, X_train, Y_train, False, device)\n",
    "    \n",
    "    # forward pass\n",
    "    output, hidden = model(batch_input)\n",
    "    ## no looping. \n",
    "    # internally taken care.\n",
    "    \n",
    "    # loss\n",
    "    loss = loss_fn(output, batch_groundtruth)\n",
    "    \n",
    "    # compute gradients\n",
    "    loss.backward()\n",
    "    \n",
    "    # update parameters\n",
    "    opt.step() # one update for one batch.\n",
    "    \n",
    "    return loss"
   ]
  },
  {
   "cell_type": "markdown",
   "metadata": {},
   "source": [
    "**no looping - what if we want all the hidden state values(?)**"
   ]
  },
  {
   "cell_type": "markdown",
   "metadata": {
    "id": "5156nZ7Xomzf"
   },
   "source": [
    "same indexing in RNN model made also.. (important)\n",
    "\n",
    "elements in seq x batch size x one_hot\n",
    "\n",
    "RNN iterates over the first index(number of elements in seq) :   \n",
    " > in each iteration - batches parallely    \n",
    " > one batch => k-th elem of all seq    \n",
    " > (one_hot of each elem.)  \n",
    "\n",
    "\n",
    "\n",
    "Because same indexing - works with packed representation also.\n",
    "\n",
    "\n",
    "not all parallel RNNs in each step - as some have shorter sequences.. all these bookkeeping done internally.\n"
   ]
  },
  {
   "cell_type": "code",
   "execution_count": 27,
   "metadata": {
    "id": "TOiTJXgTNmc8"
   },
   "outputs": [],
   "source": [
    "# model\n",
    "rnn = RNNNet(n_letters, n_hidden, n_languages)\n",
    "\n",
    "# loss function\n",
    "loss_fn = nn.NLLLoss()\n",
    "\n",
    "# optimizer\n",
    "opt = optim.SGD(rnn.parameters(), lr=0.01, momentum=0.9)"
   ]
  },
  {
   "cell_type": "code",
   "execution_count": 28,
   "metadata": {
    "colab": {
     "base_uri": "https://localhost:8080/"
    },
    "id": "k3OzbxjJNpny",
    "outputId": "46deb0f9-caf4-4620-ac7a-87640faf487e"
   },
   "outputs": [
    {
     "name": "stdout",
     "output_type": "stream",
     "text": [
      "CPU times: user 2.18 s, sys: 30.3 ms, total: 2.21 s\n",
      "Wall time: 443 ms\n"
     ]
    },
    {
     "data": {
      "text/plain": [
       "tensor(2.9015, grad_fn=<DivBackward0>)"
      ]
     },
     "execution_count": 28,
     "metadata": {},
     "output_type": "execute_result"
    }
   ],
   "source": [
    "%%time \n",
    "train_no_batching(rnn, 256, loss_fn, opt)\n",
    "\n",
    "# normal train"
   ]
  },
  {
   "cell_type": "code",
   "execution_count": 29,
   "metadata": {
    "colab": {
     "base_uri": "https://localhost:8080/"
    },
    "id": "gVw0yRLujD9V",
    "outputId": "a78db086-2bdd-4968-a47c-ac291ac4c2f1"
   },
   "outputs": [
    {
     "name": "stdout",
     "output_type": "stream",
     "text": [
      "CPU times: user 85.2 ms, sys: 2.16 ms, total: 87.4 ms\n",
      "Wall time: 17.6 ms\n"
     ]
    },
    {
     "data": {
      "text/plain": [
       "tensor(1.9147, grad_fn=<NllLossBackward0>)"
      ]
     },
     "execution_count": 29,
     "metadata": {},
     "output_type": "execute_result"
    }
   ],
   "source": [
    "%%time \n",
    "train_batch(rnn, 256, loss_fn, opt)\n",
    "\n",
    "# smaller time."
   ]
  },
  {
   "cell_type": "code",
   "execution_count": null,
   "metadata": {},
   "outputs": [],
   "source": []
  },
  {
   "cell_type": "markdown",
   "metadata": {
    "id": "0vVkxII7P1nS"
   },
   "source": [
    "# Train"
   ]
  },
  {
   "cell_type": "code",
   "execution_count": 30,
   "metadata": {
    "id": "6ga8bJctPJgG"
   },
   "outputs": [],
   "source": [
    "def train(model, batch_size = 10, n_batches = 100,\n",
    "          lr = 0.01, momentum = 0.9, \n",
    "          display_freq=5, device = 'cpu'):\n",
    "    # model\n",
    "    model = model.to(device)\n",
    "    \n",
    "    # loss function\n",
    "    loss_fn = nn.NLLLoss()\n",
    "    \n",
    "    # optimizer\n",
    "    opt = optim.SGD(model.parameters(), lr=lr, momentum=momentum)\n",
    "    \n",
    "    # for logging\n",
    "    loss_arr = np.zeros(n_batches + 1)\n",
    "    \n",
    "    for i in range(n_batches):\n",
    "        loss_arr[i+1] = (loss_arr[i]*i + train_batch(model, batch_size, loss_fn, opt, device))/(i + 1)\n",
    "        \n",
    "        # clear and plot updated loss array\n",
    "        if i%display_freq == display_freq-1:\n",
    "            \n",
    "            clear_output(wait=True)\n",
    "            \n",
    "            print('Iteration', i, 'Loss', loss_arr[i])\n",
    "            plt.figure()\n",
    "            plt.plot(loss_arr[1:i], '-*')\n",
    "            plt.xlabel('Iteration')\n",
    "            plt.ylabel('Loss')\n",
    "            plt.show()\n",
    "            print('\\n\\n')\n",
    "            \n",
    "    print('Top-1:', top_k_accuracy(model, len(X_test), 1, X_test, Y_test, device),\n",
    "          'Top-2:', top_k_accuracy(model, len(X_test), 2, X_test, Y_test, device))\n",
    "                      "
   ]
  },
  {
   "cell_type": "markdown",
   "metadata": {
    "id": "7T_28hAea6AB"
   },
   "source": [
    "## RNN Cell"
   ]
  },
  {
   "cell_type": "code",
   "execution_count": 31,
   "metadata": {
    "colab": {
     "base_uri": "https://localhost:8080/",
     "height": 401
    },
    "id": "xmyRZ5jcG3HO",
    "outputId": "c94913b3-ed04-4a06-ae24-c0e1cbe764d7"
   },
   "outputs": [
    {
     "name": "stdout",
     "output_type": "stream",
     "text": [
      "Iteration 4999 Loss 0.472669392824173\n"
     ]
    },
    {
     "data": {
      "image/png": "[encoded data removed]",
      "text/plain": [
       "<Figure size 640x480 with 1 Axes>"
      ]
     },
     "metadata": {},
     "output_type": "display_data"
    },
    {
     "name": "stdout",
     "output_type": "stream",
     "text": [
      "\n",
      "\n",
      "\n",
      "Top-1: 0.7546134663341646 Top-2: 0.8496259351620947\n",
      "CPU times: user 10min 29s, sys: 1.98 s, total: 10min 31s\n",
      "Wall time: 2min 36s\n"
     ]
    }
   ],
   "source": [
    "%%time\n",
    "rnn = RNNNet(n_letters, 128, n_languages)\n",
    "train(rnn, batch_size = 512, n_batches=5000, lr=0.15, display_freq=500) \n",
    "# Training in CPU"
   ]
  },
  {
   "cell_type": "markdown",
   "metadata": {
    "id": "_4DdRTRksdef"
   },
   "source": [
    "high sensitivity to learning rate - becaue of exploding gradients.\n",
    "\n",
    "Small change in learning rate - itself gives large change \n",
    "\n",
    "\n",
    "here - batch size = 512. => can simlultaneously process 512 datapoints together. "
   ]
  },
  {
   "cell_type": "code",
   "execution_count": 31,
   "metadata": {
    "colab": {
     "base_uri": "https://localhost:8080/",
     "height": 401
    },
    "id": "0c5EczLQG9jG",
    "outputId": "32d94ffa-6dc9-420a-c4dd-35aca6289294"
   },
   "outputs": [
    {
     "name": "stdout",
     "output_type": "stream",
     "text": [
      "Iteration 4999 Loss 0.4656426012516022\n"
     ]
    },
    {
     "data": {
      "image/png": "[encoded data removed]",
      "text/plain": [
       "<Figure size 640x480 with 1 Axes>"
      ]
     },
     "metadata": {},
     "output_type": "display_data"
    },
    {
     "name": "stdout",
     "output_type": "stream",
     "text": [
      "\n",
      "\n",
      "\n",
      "Top-1: 0.7508728179551122 Top-2: 0.8658354114713217\n",
      "CPU times: user 7min 2s, sys: 4.43 s, total: 7min 6s\n",
      "Wall time: 2min 25s\n"
     ]
    }
   ],
   "source": [
    "%%time\n",
    "rnn = RNNNet(n_letters, 128, n_languages)\n",
    "train(rnn, batch_size = 512, n_batches=5000, lr=0.15, display_freq=100, device = device) \n",
    "# TRaining in GPU"
   ]
  },
  {
   "cell_type": "code",
   "execution_count": null,
   "metadata": {},
   "outputs": [],
   "source": []
  },
  {
   "cell_type": "markdown",
   "metadata": {
    "id": "Li5UaF_OY7x9"
   },
   "source": [
    "## LSTM cell"
   ]
  },
  {
   "cell_type": "code",
   "execution_count": 34,
   "metadata": {
    "id": "A6KSijnhWgtH"
   },
   "outputs": [],
   "source": [
    "class LSTMNet(nn.Module):\n",
    "    def __init__(self, input_size, hidden_size, output_size):\n",
    "        super().__init__()\n",
    "        self.hidden_size = hidden_size\n",
    "        self.lstm_cell = nn.LSTM(input_size, hidden_size)\n",
    "        self.h2o = nn.Linear(hidden_size, output_size)\n",
    "        self.softmax = nn.LogSoftmax(dim=1)\n",
    "    \n",
    "    def forward(self, input, hidden = None):\n",
    "        out, hidden = self.lstm_cell(input, hidden)\n",
    "        output = self.h2o(hidden[0].view(-1, self.hidden_size))\n",
    "        output = self.softmax(output)\n",
    "        return output, hidden\n",
    "    \n",
    "    def init_hidden(self, batch_size = 1):\n",
    "        return (torch.zeros(1, batch_size, self.hidden_size), torch.zeros(1, batch_size, self.hidden_size))"
   ]
  },
  {
   "cell_type": "code",
   "execution_count": 36,
   "metadata": {
    "colab": {
     "base_uri": "https://localhost:8080/",
     "height": 367
    },
    "id": "A3qjhBQfZK4i",
    "outputId": "fb99ac6f-b6ee-4f4d-8da4-b0cdb900aa9f"
   },
   "outputs": [
    {
     "name": "stdout",
     "output_type": "stream",
     "text": [
      "Iteration 1999 Loss 0.700403094291687\n"
     ]
    },
    {
     "data": {
      "image/png": "[encoded data removed]",
      "text/plain": [
       "<Figure size 640x480 with 1 Axes>"
      ]
     },
     "metadata": {},
     "output_type": "display_data"
    },
    {
     "name": "stdout",
     "output_type": "stream",
     "text": [
      "\n",
      "\n",
      "\n",
      "Top-1: 0.8059850374064838 Top-2: 0.8850374064837905\n"
     ]
    }
   ],
   "source": [
    "n_hidden = 128\n",
    "lstm = LSTMNet(n_letters, n_hidden, n_languages)\n",
    "train(lstm, batch_size = 512, n_batches=2000, lr=0.15, display_freq=1000, device = device)\n",
    "# n_batches=8000"
   ]
  },
  {
   "cell_type": "markdown",
   "metadata": {
    "id": "7qkrA1hUtaXi"
   },
   "source": [
    "same hidden layer size - LSTM have higher accuracy than RNN - as they have more parameters (more expressive power)"
   ]
  },
  {
   "cell_type": "markdown",
   "metadata": {
    "id": "k0JnIpUmaC_R"
   },
   "source": [
    "## GRU Cell"
   ]
  },
  {
   "cell_type": "code",
   "execution_count": 37,
   "metadata": {
    "id": "CL6ybA2pZQBZ"
   },
   "outputs": [],
   "source": [
    "class GRUNet(nn.Module):\n",
    "    def __init__(self, input_size, hidden_size, output_size):\n",
    "        super().__init__()\n",
    "        self.hidden_size = hidden_size\n",
    "        self.gru_cell = nn.GRU(input_size, hidden_size)\n",
    "        self.h2o = nn.Linear(hidden_size, output_size)\n",
    "        self.softmax = nn.LogSoftmax(dim=1)\n",
    "    \n",
    "    def forward(self, input, hidden = None):\n",
    "        out, hidden = self.gru_cell(input, hidden)\n",
    "        output = self.h2o(hidden.view(-1, self.hidden_size))\n",
    "        output = self.softmax(output)\n",
    "        return output, hidden"
   ]
  },
  {
   "cell_type": "code",
   "execution_count": 38,
   "metadata": {
    "colab": {
     "base_uri": "https://localhost:8080/",
     "height": 366
    },
    "id": "i_2SCAtvaX2Q",
    "outputId": "1d767ab1-0596-460e-df2d-b337f9c5b8cd"
   },
   "outputs": [
    {
     "name": "stdout",
     "output_type": "stream",
     "text": [
      "Iteration 1999 Loss 0.6417630314826965\n"
     ]
    },
    {
     "data": {
      "image/png": "[encoded data removed]",
      "text/plain": [
       "<Figure size 640x480 with 1 Axes>"
      ]
     },
     "metadata": {},
     "output_type": "display_data"
    },
    {
     "name": "stdout",
     "output_type": "stream",
     "text": [
      "\n",
      "\n",
      "\n",
      "Top-1: 0.8254364089775561 Top-2: 0.8925187032418953\n"
     ]
    }
   ],
   "source": [
    "n_hidden = 128\n",
    "gru = GRUNet(n_letters, n_hidden, n_languages)\n",
    "train(gru, batch_size = 512, n_batches=2000, lr=0.15, display_freq=200, device = device)\n",
    "# n_batches=8000"
   ]
  },
  {
   "cell_type": "code",
   "execution_count": null,
   "metadata": {},
   "outputs": [],
   "source": []
  }
 ],
 "metadata": {
  "accelerator": "GPU",
  "colab": {
   "collapsed_sections": [
    "R2kUDY_4zmy-"
   ],
   "provenance": []
  },
  "kernelspec": {
   "display_name": "Python 3 (ipykernel)",
   "language": "python",
   "name": "python3"
  },
  "language_info": {
   "codemirror_mode": {
    "name": "ipython",
    "version": 3
   },
   "file_extension": ".py",
   "mimetype": "text/x-python",
   "name": "python",
   "nbconvert_exporter": "python",
   "pygments_lexer": "ipython3",
   "version": "3.8.10"
  }
 },
 "nbformat": 4,
 "nbformat_minor": 1
}
