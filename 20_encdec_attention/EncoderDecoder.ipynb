{
 "cells": [
  {
   "cell_type": "markdown",
   "metadata": {
    "id": "p84NpJGk0f_j"
   },
   "source": [
    "Task : Transliteration   \n",
    "\n",
    "**sequence to sequence generation**  \n",
    "\n",
    "processing xml files to get data."
   ]
  },
  {
   "cell_type": "code",
   "execution_count": 1,
   "metadata": {},
   "outputs": [],
   "source": [
    "import torch\n",
    "import torch.nn as nn\n",
    "import torch.nn.functional as F\n",
    "import torch.optim as optim"
   ]
  },
  {
   "cell_type": "code",
   "execution_count": 2,
   "metadata": {},
   "outputs": [],
   "source": [
    "import numpy as np\n",
    "import matplotlib.pyplot as plt\n",
    "import seaborn as sns\n",
    "\n",
    "import random\n",
    "\n",
    "from IPython.display import clear_output"
   ]
  },
  {
   "cell_type": "code",
   "execution_count": 3,
   "metadata": {},
   "outputs": [],
   "source": [
    "device = torch.device(\"cuda:0\" if torch.cuda.is_available() else \"cpu\")"
   ]
  },
  {
   "cell_type": "code",
   "execution_count": null,
   "metadata": {},
   "outputs": [],
   "source": []
  },
  {
   "cell_type": "markdown",
   "metadata": {
    "id": "KpuvHS0mxwCd"
   },
   "source": [
    "## Data Management"
   ]
  },
  {
   "cell_type": "markdown",
   "metadata": {
    "id": "SKfe2BV7IWit"
   },
   "source": [
    "xml files - one training(13937), one testing(1000).\n",
    "\n",
    "xml - heirarchical data format.  \n",
    "top - root node  \n",
    "in that elements.. \n",
    "\n",
    "id - unique id  \n",
    "sorce name  \n",
    "target name"
   ]
  },
  {
   "cell_type": "markdown",
   "metadata": {
    "id": "eYrAa5laSptM"
   },
   "source": [
    "### Alphabets Setup"
   ]
  },
  {
   "cell_type": "code",
   "execution_count": 4,
   "metadata": {
    "colab": {
     "base_uri": "https://localhost:8080/"
    },
    "id": "-a04ZKx7Sh-J",
    "outputId": "022d306e-eeb9-428b-8340-f884e43034c0"
   },
   "outputs": [
    {
     "name": "stdout",
     "output_type": "stream",
     "text": [
      "{'-PAD-': 0, 'A': 1, 'B': 2, 'C': 3, 'D': 4, 'E': 5, 'F': 6, 'G': 7, 'H': 8, 'I': 9, 'J': 10, 'K': 11, 'L': 12, 'M': 13, 'N': 14, 'O': 15, 'P': 16, 'Q': 17, 'R': 18, 'S': 19, 'T': 20, 'U': 21, 'V': 22, 'W': 23, 'X': 24, 'Y': 25, 'Z': 26}\n"
     ]
    }
   ],
   "source": [
    "# index for characters\n",
    "# for one hot, etc.. \n",
    "\n",
    "# transliteration - not specific to uppper, lower case.\n",
    "# all converted to one case.. here upper case.\n",
    "\n",
    "eng_alphabets = 'ABCDEFGHIJKLMNOPQRSTUVWXYZ'\n",
    "pad_char = '-PAD-'\n",
    "\n",
    "# dictionary with key = alphabet, value = index\n",
    "eng_alpha2index = {pad_char: 0}\n",
    "for index, alpha in enumerate(eng_alphabets):\n",
    "    eng_alpha2index[alpha] = index+1\n",
    "\n",
    "print(eng_alpha2index)"
   ]
  },
  {
   "cell_type": "code",
   "execution_count": 5,
   "metadata": {
    "colab": {
     "base_uri": "https://localhost:8080/"
    },
    "id": "cPSZsy1kXd9w",
    "outputId": "6974bbbe-8885-4298-8de8-b4578ba3f963"
   },
   "outputs": [
    {
     "name": "stdout",
     "output_type": "stream",
     "text": [
      "{'-PAD-': 0, 'ऀ': 1, 'ँ': 2, 'ं': 3, 'ः': 4, 'ऄ': 5, 'अ': 6, 'आ': 7, 'इ': 8, 'ई': 9, 'उ': 10, 'ऊ': 11, 'ऋ': 12, 'ऌ': 13, 'ऍ': 14, 'ऎ': 15, 'ए': 16, 'ऐ': 17, 'ऑ': 18, 'ऒ': 19, 'ओ': 20, 'औ': 21, 'क': 22, 'ख': 23, 'ग': 24, 'घ': 25, 'ङ': 26, 'च': 27, 'छ': 28, 'ज': 29, 'झ': 30, 'ञ': 31, 'ट': 32, 'ठ': 33, 'ड': 34, 'ढ': 35, 'ण': 36, 'त': 37, 'थ': 38, 'द': 39, 'ध': 40, 'न': 41, 'ऩ': 42, 'प': 43, 'फ': 44, 'ब': 45, 'भ': 46, 'म': 47, 'य': 48, 'र': 49, 'ऱ': 50, 'ल': 51, 'ळ': 52, 'ऴ': 53, 'व': 54, 'श': 55, 'ष': 56, 'स': 57, 'ह': 58, 'ऺ': 59, 'ऻ': 60, '़': 61, 'ऽ': 62, 'ा': 63, 'ि': 64, 'ी': 65, 'ु': 66, 'ू': 67, 'ृ': 68, 'ॄ': 69, 'ॅ': 70, 'ॆ': 71, 'े': 72, 'ै': 73, 'ॉ': 74, 'ॊ': 75, 'ो': 76, 'ौ': 77, '्': 78, 'ॎ': 79, 'ॏ': 80, 'ॐ': 81, '॑': 82, '॒': 83, '॓': 84, '॔': 85, 'ॕ': 86, 'ॖ': 87, 'ॗ': 88, 'क़': 89, 'ख़': 90, 'ग़': 91, 'ज़': 92, 'ड़': 93, 'ढ़': 94, 'फ़': 95, 'य़': 96, 'ॠ': 97, 'ॡ': 98, 'ॢ': 99, 'ॣ': 100, '।': 101, '॥': 102, '०': 103, '१': 104, '२': 105, '३': 106, '४': 107, '५': 108, '६': 109, '७': 110, '८': 111, '९': 112, '॰': 113, 'ॱ': 114, 'ॲ': 115, 'ॳ': 116, 'ॴ': 117, 'ॵ': 118, 'ॶ': 119, 'ॷ': 120, 'ॸ': 121, 'ॹ': 122, 'ॺ': 123, 'ॻ': 124, 'ॼ': 125, 'ॽ': 126, 'ॾ': 127, 'ॿ': 128}\n"
     ]
    }
   ],
   "source": [
    "# Hindi Unicode Hex Range is 2304:2432. Source: https://en.wikipedia.org/wiki/Devanagari_(Unicode_block)\n",
    "# unicode (binary for letters..) for hindi letters.\n",
    "# adayaalams - different character.. \n",
    "# aksharam with adayalm will be thus 2 characters.\n",
    "\n",
    "hindi_alphabets = [chr(alpha) for alpha in range(2304, 2432)]\n",
    "hindi_alphabet_size = len(hindi_alphabets)\n",
    "\n",
    "# dictionary with key = alphabet, value = index\n",
    "hindi_alpha2index = {pad_char: 0}\n",
    "for index, alpha in enumerate(hindi_alphabets):\n",
    "    hindi_alpha2index[alpha] = index+1\n",
    "\n",
    "print(hindi_alpha2index)"
   ]
  },
  {
   "cell_type": "markdown",
   "metadata": {
    "id": "SSw1SMZmx9A3"
   },
   "source": [
    "### Helper functions for data pre-processing"
   ]
  },
  {
   "cell_type": "code",
   "execution_count": 6,
   "metadata": {
    "id": "OcS6ByndOxrC"
   },
   "outputs": [],
   "source": [
    "import re # regex\n",
    "non_eng_letters_regex = re.compile('[^a-zA-Z ]')\n",
    "\n",
    "# Remove all non-English letters\n",
    "def cleanEnglishVocab(line):\n",
    "    line = line.replace('-', ' ').replace(',', ' ').upper()\n",
    "    line = non_eng_letters_regex.sub('', line)\n",
    "    return line.split()\n",
    "\n",
    "# Remove all non-Hindi letters\n",
    "# can do regex effectively in hindi.\n",
    "# so loop and do manually\n",
    "def cleanHindiVocab(line):\n",
    "    line = line.replace('-', ' ').replace(',', ' ')\n",
    "    cleaned_line = ''\n",
    "    for char in line:\n",
    "        if char in hindi_alpha2index or char == ' ':\n",
    "            cleaned_line += char\n",
    "    return cleaned_line.split()"
   ]
  },
  {
   "cell_type": "markdown",
   "metadata": {
    "id": "Ob3F9Dh4PChB"
   },
   "source": [
    "### Dataset Loading"
   ]
  },
  {
   "cell_type": "markdown",
   "metadata": {
    "id": "M721IiOzMUAY"
   },
   "source": [
    "in a DL project - there is a component of software engg. To process raw data.. and bring it into a form that can be passed to a network. (**pre-processing**)"
   ]
  },
  {
   "cell_type": "markdown",
   "metadata": {},
   "source": [
    "# Dataloader class\n",
    "- inherinting from torch.utils.data.Dataset class"
   ]
  },
  {
   "cell_type": "code",
   "execution_count": 7,
   "metadata": {
    "id": "KGSeoMGg0FTy"
   },
   "outputs": [],
   "source": [
    "from torch.utils.data import Dataset\n",
    "import xml.etree.ElementTree as ET\n",
    "\n",
    "# extending dataset class of pytorch \n",
    "# process a given data.. and give workable 'dataset'\n",
    "class TransliterationDataLoader(Dataset):\n",
    "    def __init__(self, filename):\n",
    "        # read file - corresponding eng, hindi words\n",
    "        self.eng_words, self.hindi_words = self.readXmlDataset(filename, cleanHindiVocab)\n",
    "        \n",
    "        # shuffled indices\n",
    "        self.shuffle_indices = list(range(len(self.eng_words))) # list of indices.\n",
    "        random.shuffle(self.shuffle_indices) # list of shuffled indices.\n",
    "        \n",
    "        self.shuffle_start_index = 0  # maintain this pointer - start from this give next b points.\n",
    "        # update this pointer.\n",
    "        # shuffle everything - then give batch by batch using a pointer.\n",
    "        \n",
    "    def __len__(self):\n",
    "        return len(self.eng_words)\n",
    "    \n",
    "    # magic function that allows for square bracket indexing\n",
    "    def __getitem__(self, idx): # word pair at index.\n",
    "        return self.eng_words[idx], self.hindi_words[idx]\n",
    "    \n",
    "    def readXmlDataset(self, filename, lang_vocab_cleaner):\n",
    "\n",
    "        # parse file\n",
    "        transliterationCorpus = ET.parse(filename).getroot() # gives root.\n",
    "        # here root: \"TransliterationCorpus\" (first tag)\n",
    "        # all rest are childrens\n",
    "        lang1_words = []\n",
    "        lang2_words = []\n",
    "\n",
    "        # root - iteratable \n",
    "        # like a nested list - (heirarchical)\n",
    "        # can iterate through the children\n",
    "        for line in transliterationCorpus:\n",
    "            wordlist1 = cleanEnglishVocab(line[0].text)\n",
    "            wordlist2 = lang_vocab_cleaner(line[1].text)\n",
    "\n",
    "            # Skip noisy data\n",
    "            if len(wordlist1) != len(wordlist2): # words (not letters)\n",
    "                print('Skipping: ', line[0].text, ' - ', line[1].text)\n",
    "                continue\n",
    "\n",
    "            for word in wordlist1:\n",
    "                lang1_words.append(word)\n",
    "            for word in wordlist2:\n",
    "                lang2_words.append(word)\n",
    "\n",
    "        return lang1_words, lang2_words\n",
    "    \n",
    "    def get_random_sample(self): # random datapoint\n",
    "    # using get_item with random index.\n",
    "        return self.__getitem__(np.random.randint(len(self.eng_words)))\n",
    "    \n",
    "    # get a batch of size=batch_size from that array.\n",
    "    def get_batch_from_array(self, batch_size, array):\n",
    "        end = self.shuffle_start_index + batch_size\n",
    "        batch = []\n",
    "\n",
    "        # if overflow - loop to first - rest of the points from the beginning.\n",
    "        if end >= len(self.eng_words):\n",
    "            batch = [array[i] for i in self.shuffle_indices[0:end%len(self.eng_words)]]\n",
    "            end = len(self.eng_words)\n",
    "        return batch + [array[i] for i in self.shuffle_indices[self.shuffle_start_index : end]]\n",
    "    \n",
    "    # both arrays - batch.\n",
    "    def get_batch(self, batch_size, postprocess = True):\n",
    "        eng_batch = self.get_batch_from_array(batch_size, self.eng_words)\n",
    "        hindi_batch = self.get_batch_from_array(batch_size, self.hindi_words)\n",
    "        self.shuffle_start_index += batch_size + 1 #update index.\n",
    "        \n",
    "        # Reshuffle if 1 epoch is complete\n",
    "        if self.shuffle_start_index >= len(self.eng_words):\n",
    "            random.shuffle(self.shuffle_indices)\n",
    "            self.shuffle_start_index = 0\n",
    "            \n",
    "        return eng_batch, hindi_batch\n",
    "\n",
    "\n",
    "\n",
    "# this is one way to implement a dataloader(not the most efficient way)\n",
    "# get item, get batch, .. such stuff which can be used w/o having to worry about whats in.\n",
    "# encapsulating the dataloading part."
   ]
  },
  {
   "cell_type": "code",
   "execution_count": 8,
   "metadata": {
    "colab": {
     "base_uri": "https://localhost:8080/",
     "height": 331
    },
    "id": "-FCCi-SerZS-",
    "outputId": "9d47c9b2-dcb0-42ba-9405-ab71cf00ed85"
   },
   "outputs": [
    {
     "name": "stdout",
     "output_type": "stream",
     "text": [
      "Skipping:  BARHARWA JUNCTION  -  बरहरवा\n",
      "Skipping:  STATE BNK TR  -  स्टेट बैंक ऑफ त्रावणकोर\n",
      "Skipping:  SOUTH ARLINGTON CHURCH OF CHRIST  -  साउथ अर्लिंग्टन\n",
      "Skipping:  KING EDWARD VII  -  किंग एडवर्ड\n",
      "Skipping:  DIBANG VALLEY  -  दिबंगवैली\n",
      "Skipping:  ORDER OF VASA  -  ऑडर ऑफ़ द वासा\n",
      "Skipping:  AZAMNAGAR ROAD  -  आज़मनगर\n",
      "Skipping:  CAPE TOWN  -  केपटाउन\n",
      "Skipping:  NEW ZEALAND  -  न्यूज़ीलैंड\n",
      "Skipping:  SEA OF THE HEBRIDES  -  सी ऑफ हरब्रिड्‍स\n",
      "Skipping:  RAMCOIND  -  राम्को इंड\n",
      "Skipping:  KELVINGROVE ART GALLERY AND MUSEUM  -  केल्व‍िनग्रोव आर्ट एण्ड म्युज़ियम\n",
      "Skipping:  AUSTRALIAN NATIONAL UNIVERSITY  -  ऑस्ट्रेलियननेशनल यूनिवर्सिटी\n",
      "Skipping:  JAHAN AARA  -  जहाँआरा\n",
      "Skipping:  NAVABHARAT FERRO ALLOYS  -  नव भारत फ़ैरो अलॉय\n",
      "Skipping:  RAMA LINGESHWARA  -  रामालिंगेश्वर\n",
      "Skipping:  FAKHRUN NISA  -  फखरुन्निसा\n",
      "Skipping:  REDIFF.COM INDIA LIMITED  -  रेडिफ़ डॉट कॉम इंडिया लिमिटेड\n",
      "Skipping:  OMKARNATH THAKUR  -  ओंकार नाथ ठाकुर\n",
      "Skipping:  OPENTV  -  ओपन टीवी\n",
      "Skipping:  ENVOY COMMUNICATIONS GROUP  -  एन्वॉय कम्युनिकेशंस\n",
      "Skipping:  WAR OF THE HOLY LEAGUE  -  वार ऑफ होली लीग\n",
      "Skipping:  VAPARAISO CHURCH OF CHRIST  -  व्हापरासिओ\n",
      "Skipping:  PARIS CHARLES DE GAULLE  -  पेरिस रॉसे चार्ल्स डे ग्यूले\n",
      "Skipping:  PARKWAY APOSTOLIC  -  पार्क वे अपोस्टोलिक\n",
      "Skipping:  MAUNA LOA  -  मौनालोआ\n",
      "Skipping:  MASS MUTUAL LIFE  -  मास म्युच्युअल लाइफ़ इंश्योरेंस\n",
      "Skipping:  STATS CHIPPAC  -  स्टेट्सचिपपैक\n",
      "Skipping:  NEWFOUNDLAND  -  न्यू फाउंडलैंड\n",
      "Skipping:  LONDONHEATHROW  -  लंदन हीथ्रो\n",
      "Skipping:  RETALIX  -  रेटालिक्स लि.\n",
      "Skipping:  SRISAILAM  -  श्री शैलम\n",
      "Skipping:  KARA-KUM  -  काराकुम\n",
      "Skipping:  WIND RIVER  -  विंडरिवर\n",
      "Skipping:  NETAJI SUBHASH CHANDRA BOSE  -  नेताजी सुभाषचंद्र बोस\n",
      "Skipping:  ROCKBROOK UNITED  -  रॉकब्रुक यूनाइटेड मेथोडिस्ट\n",
      "Skipping:  WALTER SCOTT  -  वॉल्टरस्कॉट\n",
      "Skipping:  COLOURPLUS FASHIONS  -  कलर प्लस फ़ैशन्स\n",
      "Skipping:  BAL KRISHNA  -  बालकृष्णा\n"
     ]
    }
   ],
   "source": [
    "train_data = TransliterationDataLoader('NEWS2012-Training-EnHi-13937.xml')\n",
    "test_data = TransliterationDataLoader('NEWS2012-Ref-EnHi-1000.xml')"
   ]
  },
  {
   "cell_type": "markdown",
   "metadata": {
    "id": "CZO8RaWDUQYs"
   },
   "source": [
    "errors in data - as can be seen above. good practice to go through the data.. see what all errors are there.. and dealing with them."
   ]
  },
  {
   "cell_type": "markdown",
   "metadata": {
    "id": "7l-iaCVdx5Ez"
   },
   "source": [
    "#### Data Visualization"
   ]
  },
  {
   "cell_type": "code",
   "execution_count": 9,
   "metadata": {
    "colab": {
     "base_uri": "https://localhost:8080/",
     "height": 285
    },
    "id": "IjY06ghEx76b",
    "outputId": "279948f9-59ec-477a-fd44-8ddf8c96f368"
   },
   "outputs": [
    {
     "name": "stdout",
     "output_type": "stream",
     "text": [
      "Train Set Size:\t 20543\n",
      "Test Set Size:\t 1000\n",
      "\n",
      "Sample data from train-set:\n",
      "ORDER - ऑडर\n",
      "MERI - मेरी\n",
      "KABIR - कबीर\n",
      "GAURIYAMAU - गौरियामाउ\n",
      "CHAL - चल\n",
      "CHETAR - चेतार\n",
      "RIXON - रिक्सन\n",
      "BARSAAT - बरसात\n",
      "CROOKHORN - क्रुकहोर्न\n",
      "MAB - मैब\n"
     ]
    }
   ],
   "source": [
    "print(\"Train Set Size:\\t\", len(train_data))\n",
    "print(\"Test Set Size:\\t\", len(test_data))\n",
    "\n",
    "print('\\nSample data from train-set:')\n",
    "for i in range(10):\n",
    "    eng, hindi = train_data.get_random_sample()\n",
    "    print(eng + ' - ' + hindi)"
   ]
  },
  {
   "cell_type": "markdown",
   "metadata": {
    "id": "KpDP1_KYZIkv"
   },
   "source": [
    "### Encoding the words\n",
    "\n",
    "This encoding is not the encoding in the n/w part. \n",
    "\n",
    "making them tensor ... to be passed as inputs.   \n",
    "\n",
    "need **numbers**"
   ]
  },
  {
   "cell_type": "code",
   "execution_count": 10,
   "metadata": {
    "id": "JE3at5C7Sy5F"
   },
   "outputs": [],
   "source": [
    "# encode input word(english) as one hot\n",
    "# each letter - one hot\n",
    "def word_rep(word, letter2index, device = 'cpu'):\n",
    "    \n",
    "    rep = torch.zeros(len(word)+1, 1, len(letter2index)).to(device)\n",
    "    # dimension - as said earlier.. - padded... tensor.. \n",
    "    \n",
    "    for letter_index, letter in enumerate(word):\n",
    "        pos = letter2index[letter]\n",
    "        rep[letter_index][0][pos] = 1\n",
    "    pad_pos = letter2index[pad_char]\n",
    "    rep[letter_index+1][0][pad_pos] = 1\n",
    "    return rep\n",
    "\n",
    "# encode ground truth (hindi word)\n",
    "# basically classification\n",
    "# ouput sequence - seq of class labels\n",
    "# ie, one element is a class label (index corresponding to the letter)\n",
    "def gt_rep(word, letter2index, device = 'cpu'):\n",
    "    gt_rep = torch.zeros([len(word)+1, 1], dtype=torch.long).to(device)\n",
    "    for letter_index, letter in enumerate(word):\n",
    "        pos = letter2index[letter]\n",
    "        gt_rep[letter_index][0] = pos\n",
    "    gt_rep[letter_index+1][0] = letter2index[pad_char]\n",
    "    return gt_rep"
   ]
  },
  {
   "cell_type": "code",
   "execution_count": 11,
   "metadata": {
    "colab": {
     "base_uri": "https://localhost:8080/",
     "height": 573
    },
    "id": "-yE3jToOrfzP",
    "outputId": "f06ed7e4-97bb-4780-cb2f-1327226a7e64"
   },
   "outputs": [
    {
     "name": "stdout",
     "output_type": "stream",
     "text": [
      "AMIN \n",
      " tensor([[[0., 1., 0., 0., 0., 0., 0., 0., 0., 0., 0., 0., 0., 0., 0., 0., 0.,\n",
      "          0., 0., 0., 0., 0., 0., 0., 0., 0., 0.]],\n",
      "\n",
      "        [[0., 0., 0., 0., 0., 0., 0., 0., 0., 0., 0., 0., 0., 1., 0., 0., 0.,\n",
      "          0., 0., 0., 0., 0., 0., 0., 0., 0., 0.]],\n",
      "\n",
      "        [[0., 0., 0., 0., 0., 0., 0., 0., 0., 1., 0., 0., 0., 0., 0., 0., 0.,\n",
      "          0., 0., 0., 0., 0., 0., 0., 0., 0., 0.]],\n",
      "\n",
      "        [[0., 0., 0., 0., 0., 0., 0., 0., 0., 0., 0., 0., 0., 0., 1., 0., 0.,\n",
      "          0., 0., 0., 0., 0., 0., 0., 0., 0., 0.]],\n",
      "\n",
      "        [[1., 0., 0., 0., 0., 0., 0., 0., 0., 0., 0., 0., 0., 0., 0., 0., 0.,\n",
      "          0., 0., 0., 0., 0., 0., 0., 0., 0., 0.]]])\n"
     ]
    }
   ],
   "source": [
    "eng, hindi = train_data.get_random_sample()\n",
    "eng_rep = word_rep(eng, eng_alpha2index)\n",
    "print(eng,\"\\n\", eng_rep)"
   ]
  },
  {
   "cell_type": "code",
   "execution_count": 12,
   "metadata": {
    "colab": {
     "base_uri": "https://localhost:8080/",
     "height": 170
    },
    "id": "uMcDjIberhc3",
    "outputId": "30270e8a-733a-432e-8992-34330ca44e04"
   },
   "outputs": [
    {
     "name": "stdout",
     "output_type": "stream",
     "text": [
      "अमीन \n",
      " tensor([[ 6],\n",
      "        [47],\n",
      "        [65],\n",
      "        [41],\n",
      "        [ 0]])\n"
     ]
    }
   ],
   "source": [
    "hindi_gt = gt_rep(hindi, hindi_alpha2index)\n",
    "print(hindi, \"\\n\",  hindi_gt)"
   ]
  },
  {
   "cell_type": "code",
   "execution_count": null,
   "metadata": {},
   "outputs": [],
   "source": []
  },
  {
   "cell_type": "markdown",
   "metadata": {
    "id": "GrC3tSnm4rUk"
   },
   "source": [
    "# Networks"
   ]
  },
  {
   "cell_type": "markdown",
   "metadata": {
    "id": "D4OgdZ_DVVC5"
   },
   "source": [
    "### Encoder-Decoder (using GRU)\n",
    "\n",
    "- encoder part - gru\n",
    "- decoder part - gru"
   ]
  },
  {
   "cell_type": "markdown",
   "metadata": {},
   "source": [
    "single call (w/o looping) for encoder - **batch of sequences passed**   \n",
    "\n",
    "manually looping in decoder part - **passing sequence one by one**\n",
    "\n",
    "return : output is a tensor with all the outputs(output at each step)   \n",
    "hidden is a single vector with last hidden state. it gets over-written in the steps."
   ]
  },
  {
   "cell_type": "code",
   "execution_count": 13,
   "metadata": {
    "id": "6w8ffT3w4lkK"
   },
   "outputs": [],
   "source": [
    "MAX_OUTPUT_CHARS = 30\n",
    "class Transliteration_EncoderDecoder(nn.Module):\n",
    "    \n",
    "    def __init__(self, input_size, hidden_size, output_size, verbose=False):\n",
    "        super().__init__()\n",
    "        \n",
    "        # there is a state vector in encoder and one in decoder.\n",
    "        # here we are taking both to be of same dim.(need not be so.)\n",
    "        \n",
    "        self.hidden_size = hidden_size\n",
    "        self.output_size = output_size\n",
    "        \n",
    "        # BLOCKS:\n",
    "        self.encoder_rnn_cell = nn.GRU(input_size, hidden_size)\n",
    "        self.decoder_rnn_cell = nn.GRU(output_size, hidden_size)\n",
    "        # input to decoder RNN is yi(ouput of prev RNN cell itself)\n",
    "        # thus input dim is output dim.\n",
    "        \n",
    "        self.h2o = nn.Linear(hidden_size, output_size)\n",
    "        self.softmax = nn.LogSoftmax(dim=2)\n",
    "        \n",
    "        self.verbose = verbose\n",
    "        # verbose - good practice for understanding, debugging, .. \n",
    "        \n",
    "    def forward(self, input_, max_output_chars = MAX_OUTPUT_CHARS, device = 'cpu', ground_truth = None):\n",
    "        \n",
    "        # ENCODER:\n",
    "        out, hidden = self.encoder_rnn_cell(input_)\n",
    "        # one go - input as a tensor.\n",
    "        # internally it happens in sequence- step by step.\n",
    "        \n",
    "        # printing shapes of ouput, hidden\n",
    "        if self.verbose:\n",
    "            print('Encoder input', input_.shape)\n",
    "            print('Encoder output', out.shape)\n",
    "            print('Encoder hidden', hidden.shape)\n",
    "        \n",
    "        # hidden state is higher dim than input. \n",
    "        # we want it to learn more stuff in the input. \n",
    "        \n",
    "        # output is a tensor with all the outputs(output at each step)\n",
    "        # hidden is a single vector with last hidden state. it gets over-written in the steps.\n",
    "        \n",
    "        # DECODER:\n",
    "        decoder_state = hidden # S_0 = h_T\n",
    "        # here encoder and decoder state size is same - therefore above can be done direclty.\n",
    "        # else some linear layer in between to do the transposition\n",
    "        decoder_input = torch.zeros(1, 1, self.output_size).to(device) # y_0 <sos> -ish.\n",
    "        # input to decoder same dimension as output.\n",
    "        outputs = []\n",
    "        \n",
    "        if self.verbose:\n",
    "            print('Decoder state', decoder_state.shape)\n",
    "            print('Decoder input', decoder_input.shape)\n",
    "            \n",
    "        \n",
    "        # not invoking decoder in a single call (like the encoder.)\n",
    "        # but how does the program know if we are looping or not(??)\n",
    "        # BASED ON THE INPUT\n",
    "        # INTERNAL IMPLEMENTATION : LOOP OVER INPUT 'SEQUENCE'\n",
    "        \n",
    "        # LOOP:\n",
    "        \n",
    "        for i in range(max_output_chars):\n",
    "            \n",
    "            # y_1, s_1 from y_0, s_0\n",
    "            out, decoder_state = self.decoder_rnn_cell(decoder_input, decoder_state)\n",
    "            \n",
    "            if self.verbose:\n",
    "                print('Decoder intermediate output', out.shape)\n",
    "            \n",
    "            # output from state\n",
    "            out = self.h2o(decoder_state)\n",
    "            out = self.softmax(out)\n",
    "            \n",
    "            outputs.append(out.view(1, -1)) # list of outputs - this is returned.\n",
    "            \n",
    "            \n",
    "            if self.verbose:\n",
    "                print('Decoder output', out.shape)\n",
    "                self.verbose = False\n",
    "            \n",
    "            max_idx = torch.argmax(out, 2, keepdim=True) # index of max\n",
    "            \n",
    "            # if ground truth - ie, if its mentioned pass ground truth as input to next step\n",
    "            # then one hot with the ground truth index and pass that.\n",
    "            # else one hot with max-index\n",
    "            if not ground_truth is None:\n",
    "                max_idx = ground_truth[i].reshape(1, 1, 1)\n",
    "                \n",
    "            # make one hot vector out of the index\n",
    "            one_hot = torch.FloatTensor(out.shape).to(device)\n",
    "            one_hot.zero_()\n",
    "            one_hot.scatter_(2, max_idx, 1)\n",
    "            \n",
    "            # any function .. in the computation graph.\n",
    "            # back prop through all.\n",
    "            # sometimes we don't want BP through some.\n",
    "            # eg - ouput of one step passes as input ot next step. - this is also a link\\\n",
    "            # but we don't want to BP through that.\n",
    "            decoder_input = one_hot.detach()\n",
    "            # detach() -> don't pass anymore grad through this tensor.\n",
    "            # ie, not part of the computational graph for gradient.\n",
    "            \n",
    "            \n",
    "        return outputs"
   ]
  },
  {
   "cell_type": "code",
   "execution_count": 14,
   "metadata": {},
   "outputs": [],
   "source": [
    "def infer(model, word,max_output_chars, device='cpu'):\n",
    "    model.eval().to(device)\n",
    "    word_ohe = word_rep(word, eng_alpha2index)\n",
    "    output = model(word_ohe, max_output_chars)\n",
    "    return output"
   ]
  },
  {
   "cell_type": "code",
   "execution_count": 15,
   "metadata": {
    "id": "Cra9toTiOoPm"
   },
   "outputs": [],
   "source": [
    "encdec = Transliteration_EncoderDecoder(len(eng_alpha2index), 256, len(hindi_alpha2index), verbose=True)"
   ]
  },
  {
   "cell_type": "code",
   "execution_count": 16,
   "metadata": {
    "colab": {
     "base_uri": "https://localhost:8080/",
     "height": 151
    },
    "id": "v4zaJq2pOrM8",
    "outputId": "8f63335b-fa7d-401f-d4db-872dc20c508d"
   },
   "outputs": [
    {
     "name": "stdout",
     "output_type": "stream",
     "text": [
      "Encoder input torch.Size([6, 1, 27])\n",
      "Encoder output torch.Size([6, 1, 256])\n",
      "Encoder hidden torch.Size([1, 1, 256])\n",
      "Decoder state torch.Size([1, 1, 256])\n",
      "Decoder input torch.Size([1, 1, 129])\n",
      "Decoder intermediate output torch.Size([1, 1, 256])\n",
      "Decoder output torch.Size([1, 1, 129])\n"
     ]
    }
   ],
   "source": [
    "out = infer(encdec, 'INDIA', 30)"
   ]
  },
  {
   "cell_type": "markdown",
   "metadata": {},
   "source": [
    "#### untrained infrerence\n",
    "#### its good to see if the forward pass is working even before training."
   ]
  },
  {
   "cell_type": "code",
   "execution_count": 17,
   "metadata": {
    "colab": {
     "base_uri": "https://localhost:8080/",
     "height": 611
    },
    "id": "1_pdzBmQOsjO",
    "outputId": "b6fb8423-1f01-4f3c-f1b9-f5dd9a8fb752"
   },
   "outputs": [
    {
     "name": "stdout",
     "output_type": "stream",
     "text": [
      "30\n",
      "torch.Size([1, 129]) छ\n",
      "torch.Size([1, 129]) छ\n",
      "torch.Size([1, 129]) छ\n",
      "torch.Size([1, 129]) ॉ\n",
      "torch.Size([1, 129]) ॉ\n",
      "torch.Size([1, 129]) ॉ\n",
      "torch.Size([1, 129]) ॉ\n",
      "torch.Size([1, 129]) ॉ\n",
      "torch.Size([1, 129]) ॉ\n",
      "torch.Size([1, 129]) ॉ\n",
      "torch.Size([1, 129]) ॉ\n",
      "torch.Size([1, 129]) ॉ\n",
      "torch.Size([1, 129]) ॉ\n",
      "torch.Size([1, 129]) ॉ\n",
      "torch.Size([1, 129]) ॉ\n",
      "torch.Size([1, 129]) ॉ\n",
      "torch.Size([1, 129]) ॉ\n",
      "torch.Size([1, 129]) ॉ\n",
      "torch.Size([1, 129]) ॉ\n",
      "torch.Size([1, 129]) ॉ\n",
      "torch.Size([1, 129]) ॉ\n",
      "torch.Size([1, 129]) ॉ\n",
      "torch.Size([1, 129]) ॉ\n",
      "torch.Size([1, 129]) ॉ\n",
      "torch.Size([1, 129]) ॉ\n",
      "torch.Size([1, 129]) ॉ\n",
      "torch.Size([1, 129]) ॉ\n",
      "torch.Size([1, 129]) ॉ\n",
      "torch.Size([1, 129]) ॉ\n",
      "torch.Size([1, 129]) ॉ\n"
     ]
    }
   ],
   "source": [
    "print(len(out))\n",
    "for i in range(len(out)):\n",
    "    print(out[i].shape, list(hindi_alpha2index.keys())[list(hindi_alpha2index.values()).index(torch.argmax(out[i]))])"
   ]
  },
  {
   "cell_type": "code",
   "execution_count": null,
   "metadata": {},
   "outputs": [],
   "source": []
  },
  {
   "cell_type": "markdown",
   "metadata": {
    "id": "NEg49N9e7oTY"
   },
   "source": [
    "# Encoder-Decoder with Attention \n",
    "\n",
    "\n",
    "weighted combination of all encoder hidden states.\n",
    "\n",
    "but if we run encoder in one go - with tensor input - then hidden state is getting overwritten (only the last hidden state is returned)     \n",
    "but for below we need all the hidden states.   \n",
    "\n",
    "Here - we use the \"ouputs\" (batch) returned instead of hidden_state.   \n",
    "(a choice that we make)   \n",
    "\n",
    "loop in the decoder part - and do the extra attention stuff needed.  "
   ]
  },
  {
   "cell_type": "markdown",
   "metadata": {},
   "source": [
    "If batch of input is passed to gru - it runs the loop internally and returns the last state, and a batch of ouput (at-each-seq-step).  \n",
    "If we need all the states also - then manually loop - passing one-in-the-sequence.  "
   ]
  },
  {
   "cell_type": "code",
   "execution_count": 18,
   "metadata": {
    "id": "8z-1QDAz8F_d"
   },
   "outputs": [],
   "source": [
    "class Transliteration_EncoderDecoder_Attention(nn.Module):\n",
    "    \n",
    "    def __init__(self, input_size, hidden_size, output_size, verbose=False):\n",
    "        super().__init__()\n",
    "        \n",
    "        self.hidden_size = hidden_size\n",
    "        self.output_size = output_size\n",
    "        \n",
    "        self.encoder_rnn_cell = nn.GRU(input_size, hidden_size)\n",
    "        \n",
    "        # this is like option 2 of encoder decoder. concatenating encoding at each step\n",
    "        # attention - concatenating 'refined encoding' at each step\n",
    "        # therefore input to GRU cell - twice the size.\n",
    "        self.decoder_rnn_cell = nn.GRU(hidden_size*2, hidden_size)\n",
    "        \n",
    "        self.h2o = nn.Linear(hidden_size, output_size)\n",
    "        self.softmax = nn.LogSoftmax(dim=2)\n",
    "        \n",
    "        # additional layers.\n",
    "        # Ws, Uh in attention 'function' - as linear layers.\n",
    "        # similarly Vatt.\n",
    "        self.U = nn.Linear(self.hidden_size, self.hidden_size) # Uatt\n",
    "        self.W = nn.Linear(self.hidden_size, self.hidden_size) # Watt\n",
    "        self.attn = nn.Linear(self.hidden_size, 1) # Vatt\n",
    "        \n",
    "        # decoder ouput to state (to match dimension.)  (??)\n",
    "        self.out2hidden = nn.Linear(self.output_size, self.hidden_size)   \n",
    "        \n",
    "        self.verbose = verbose\n",
    "        \n",
    "    def forward(self, input, max_output_chars = MAX_OUTPUT_CHARS, device = 'cpu', ground_truth = None):\n",
    "        \n",
    "        # ENCODER: \n",
    "        \n",
    "        # get only one hidden state. - but tensor of ouputs\n",
    "        # we need all states for attention\n",
    "        # instead of states - use the 'ouputs' of encoder. - this is a choice we make.\n",
    "        # as all of them are available as a tensor.\n",
    "        encoder_outputs, hidden = self.encoder_rnn_cell(input)\n",
    "        encoder_outputs = encoder_outputs.view(-1, self.hidden_size)\n",
    "        \n",
    "        if self.verbose:\n",
    "            print('Encoder output', encoder_outputs.shape)\n",
    "        \n",
    "        # DECODER : \n",
    "        \n",
    "        decoder_state = hidden # S_0 = h_T\n",
    "        decoder_input = torch.zeros(1, 1, self.output_size).to(device) # first decoder unit input\n",
    "        \n",
    "        outputs = []\n",
    "        \n",
    "        U = self.U(encoder_outputs) \n",
    "        # function that takes encoder outputs(which we are using instead of encoder states)\n",
    "        # and pass through the U layer ..\n",
    "        ## because that part in the attention function - not chainging in decoder steps.\n",
    "        # h_i are fixed and each multiplied by U - so do that(once) and keep it.. to be used in decoder stage.\n",
    "        \n",
    "        if self.verbose:\n",
    "            print('Decoder state', decoder_state.shape)\n",
    "            print('Decoder intermediate input', decoder_input.shape)\n",
    "            print('U * Encoder output', U.shape)\n",
    "        \n",
    "        # going step by step (loop) in decoder part.\n",
    "        \n",
    "        for i in range(max_output_chars):\n",
    "            \n",
    "            # get the refined encoding.\n",
    "            \n",
    "            W = self.W(decoder_state.view(1, -1).repeat(encoder_outputs.shape[0], 1)) # W * S_t-1\n",
    "            # repeat - tile.. to make same size.\n",
    "            \n",
    "            V = self.attn(torch.tanh(U + W)) # e_tj\n",
    "            \n",
    "            attn_weights = F.softmax(V.view(1, -1), dim = 1)  # alpha_tj\n",
    "            \n",
    "            if self.verbose:\n",
    "                print('W * Decoder state', W.shape)\n",
    "                print('V', V.shape)\n",
    "                print('Attn', attn_weights.shape)\n",
    "            \n",
    "            # weighted combination of encoder ouputs(instead of states, here), with alphas\n",
    "            attn_applied = torch.bmm(attn_weights.unsqueeze(0),\n",
    "                                 encoder_outputs.unsqueeze(0))\n",
    "            \n",
    "            \n",
    "            # decoder input- concatenation of 'refined encoding' just found, input(decoder_ouput of prev unit)\n",
    "            \n",
    "            # not decoder input direcltly, but after trasnforming to same size.\n",
    "            embedding = self.out2hidden(decoder_input) # linear layer on decoder input \n",
    "            # to make it the same size as the refined encoding.. so that same contribution in terms of size..\n",
    "            # that layer for this - parameters - also learned.\n",
    "            \n",
    "            decoder_input = torch.cat((embedding[0], attn_applied[0]), 1).unsqueeze(0)\n",
    "            \n",
    "            \n",
    "            if self.verbose:\n",
    "                print('Attn LC', attn_applied.shape)\n",
    "                print('Decoder input', decoder_input.shape)            \n",
    "            \n",
    "            \n",
    "            # here is where we are finding the decoder unit output \n",
    "            # first we find the decoder input - concatening decoder_ouput(transformed) and refined_encoding.\n",
    "            # done above.\n",
    "            # then pass that input to the decoder cell.\n",
    "            out, decoder_state = self.decoder_rnn_cell(decoder_input, decoder_state)\n",
    "            \n",
    "            if self.verbose:\n",
    "                print('Decoder intermediate output', out.shape)\n",
    "                \n",
    "            out = self.h2o(decoder_state)\n",
    "            out = self.softmax(out)\n",
    "            outputs.append(out.view(1, -1))\n",
    "            \n",
    "            if self.verbose:\n",
    "                print('Decoder output', out.shape)\n",
    "                self.verbose = False\n",
    "            \n",
    "            max_idx = torch.argmax(out, 2, keepdim=True)\n",
    "            if not ground_truth is None:\n",
    "                max_idx = ground_truth[i].reshape(1, 1, 1)\n",
    "            one_hot = torch.zeros(out.shape, device=device)\n",
    "            one_hot.scatter_(2, max_idx, 1) \n",
    "            \n",
    "            decoder_input = one_hot.detach()\n",
    "            \n",
    "        return outputs"
   ]
  },
  {
   "cell_type": "code",
   "execution_count": 19,
   "metadata": {
    "id": "PMD3zjdJO0Oj"
   },
   "outputs": [],
   "source": [
    "net_attn = Transliteration_EncoderDecoder_Attention(len(eng_alpha2index), 256, len(hindi_alpha2index), verbose=True)"
   ]
  },
  {
   "cell_type": "markdown",
   "metadata": {},
   "source": [
    "#### untrained inference"
   ]
  },
  {
   "cell_type": "code",
   "execution_count": 20,
   "metadata": {
    "colab": {
     "base_uri": "https://localhost:8080/",
     "height": 228
    },
    "id": "YoiQwbntO5UH",
    "outputId": "30e5ee26-fe66-426b-e2b6-5385c6c723f4"
   },
   "outputs": [
    {
     "name": "stdout",
     "output_type": "stream",
     "text": [
      "Encoder output torch.Size([6, 256])\n",
      "Decoder state torch.Size([1, 1, 256])\n",
      "Decoder intermediate input torch.Size([1, 1, 129])\n",
      "U * Encoder output torch.Size([6, 256])\n",
      "W * Decoder state torch.Size([6, 256])\n",
      "V torch.Size([6, 1])\n",
      "Attn torch.Size([1, 6])\n",
      "Attn LC torch.Size([1, 1, 256])\n",
      "Decoder input torch.Size([1, 1, 512])\n",
      "Decoder intermediate output torch.Size([1, 1, 256])\n",
      "Decoder output torch.Size([1, 1, 129])\n"
     ]
    }
   ],
   "source": [
    "out = infer(net_attn, 'INDIA', 30)\n",
    "\n",
    "# printing dimensions of all stuff.. :"
   ]
  },
  {
   "cell_type": "code",
   "execution_count": 21,
   "metadata": {
    "colab": {
     "base_uri": "https://localhost:8080/",
     "height": 611
    },
    "id": "K9WSPgzlO6k8",
    "outputId": "55e23d81-96e5-456d-eb0b-eb470bfd3531"
   },
   "outputs": [
    {
     "name": "stdout",
     "output_type": "stream",
     "text": [
      "30\n",
      "torch.Size([1, 129]) ऊ\n",
      "torch.Size([1, 129]) ड़\n",
      "torch.Size([1, 129]) ॷ\n",
      "torch.Size([1, 129]) ऊ\n",
      "torch.Size([1, 129]) ड़\n",
      "torch.Size([1, 129]) ॷ\n",
      "torch.Size([1, 129]) ॷ\n",
      "torch.Size([1, 129]) ॠ\n",
      "torch.Size([1, 129]) ड़\n",
      "torch.Size([1, 129]) ॷ\n",
      "torch.Size([1, 129]) ॷ\n",
      "torch.Size([1, 129]) ॷ\n",
      "torch.Size([1, 129]) ॠ\n",
      "torch.Size([1, 129]) ड़\n",
      "torch.Size([1, 129]) ॷ\n",
      "torch.Size([1, 129]) ॷ\n",
      "torch.Size([1, 129]) ॷ\n",
      "torch.Size([1, 129]) ॠ\n",
      "torch.Size([1, 129]) ड़\n",
      "torch.Size([1, 129]) ॷ\n",
      "torch.Size([1, 129]) ॷ\n",
      "torch.Size([1, 129]) ॷ\n",
      "torch.Size([1, 129]) ॠ\n",
      "torch.Size([1, 129]) ड़\n",
      "torch.Size([1, 129]) ॷ\n",
      "torch.Size([1, 129]) ॷ\n",
      "torch.Size([1, 129]) ॷ\n",
      "torch.Size([1, 129]) ॠ\n",
      "torch.Size([1, 129]) ड़\n",
      "torch.Size([1, 129]) ॷ\n"
     ]
    }
   ],
   "source": [
    "print(len(out))\n",
    "for i in range(len(out)):\n",
    "    print(out[i].shape, list(hindi_alpha2index.keys())[list(hindi_alpha2index.values()).index(torch.argmax(out[i]))])"
   ]
  },
  {
   "cell_type": "markdown",
   "metadata": {
    "id": "cyE2tSnmAW6x"
   },
   "source": [
    "# Train"
   ]
  },
  {
   "cell_type": "markdown",
   "metadata": {
    "id": "H893cimDtTUE"
   },
   "source": [
    "### Train one batch"
   ]
  },
  {
   "cell_type": "code",
   "execution_count": 22,
   "metadata": {
    "id": "m804jsH7AXSV"
   },
   "outputs": [],
   "source": [
    "# train one batch\n",
    "\n",
    "def train_batch(model, batch_size, loss_fn, opt, teacher_force = False, device = 'cpu'):\n",
    "    \n",
    "    # teacher force - whether pass previous output(one_hot) or ground truth as the next input.\n",
    "    \n",
    "    # model\n",
    "    model.train().to(device)\n",
    "    opt.zero_grad()\n",
    "    \n",
    "    # data\n",
    "    eng_batch, hindi_batch = train_data.get_batch(batch_size) # get a batch from dataloader.\n",
    "    \n",
    "    total_loss = 0\n",
    "    for i in range(batch_size):\n",
    "        \n",
    "        input = word_rep(eng_batch[i], eng_alpha2index, device)\n",
    "        gt = gt_rep(hindi_batch[i], hindi_alpha2index, device)\n",
    "        \n",
    "        # forward\n",
    "        outputs = model(input, gt.shape[0], device, ground_truth = gt if teacher_force else None) \n",
    "        # note teacher force above.\n",
    "        \n",
    "        for index, output in enumerate(outputs):\n",
    "            # loss\n",
    "            loss = loss_fn(output, gt[index]) / batch_size\n",
    "            \n",
    "            # compute gradient\n",
    "            loss.backward(retain_graph = True) \n",
    "            # retain graph - there is more backward - and all grads be added.\n",
    "            # maintains all necessary connections in the computation graph to enable BP.\n",
    "            total_loss += loss\n",
    "    \n",
    "    # update parameters\n",
    "    opt.step()\n",
    "    \n",
    "    return total_loss/batch_size"
   ]
  },
  {
   "cell_type": "markdown",
   "metadata": {
    "id": "p-eZaBxstWz9"
   },
   "source": [
    "### Train"
   ]
  },
  {
   "cell_type": "code",
   "execution_count": 23,
   "metadata": {
    "id": "Rjto129ssrpr"
   },
   "outputs": [],
   "source": [
    "def train(model, batch_size = 10, n_batches = 100, lr = 0.01, momentum = 0.9, display_freq=5, device = 'cpu'):\n",
    "    \n",
    "    # model\n",
    "    model = model.to(device)\n",
    "    \n",
    "    # loss function\n",
    "    loss_fn = nn.NLLLoss(ignore_index = -1)\n",
    "    \n",
    "    # optimizer\n",
    "    opt = optim.Adam(model.parameters(), lr=lr)\n",
    "    \n",
    "    teacher_force_upto = n_batches//3 # pass ground truth upto first third batch. then pass output of prev step.\n",
    "    \n",
    "    loss_arr = np.zeros(n_batches + 1)\n",
    "    \n",
    "    for i in range(n_batches):\n",
    "        loss_arr[i+1] = (loss_arr[i]*i + train_batch(model, \n",
    "                                                     batch_size, \n",
    "                                                     loss_fn, opt, \n",
    "                                                     teacher_force = i<teacher_force_upto, \n",
    "                                                     device = device ))/(i + 1)\n",
    "        \n",
    "        # note teacher force condition.. \n",
    "        \n",
    "        if i%display_freq == display_freq-1:\n",
    "            clear_output(wait=True)\n",
    "            \n",
    "            print('Iteration', i, 'Loss', loss_arr[i])\n",
    "            plt.figure()\n",
    "            plt.plot(loss_arr[1:i], '-*')\n",
    "            plt.xlabel('Iteration')\n",
    "            plt.ylabel('Loss')\n",
    "            plt.show()\n",
    "            print('\\n\\n')\n",
    "            \n",
    "    torch.save(model, 'model.pt')\n",
    "    return loss_arr"
   ]
  },
  {
   "cell_type": "markdown",
   "metadata": {
    "id": "TZY6RvqLtdX8"
   },
   "source": [
    "### Training without Attention"
   ]
  },
  {
   "cell_type": "code",
   "execution_count": 26,
   "metadata": {
    "id": "1oQ3ZIWvtjfN"
   },
   "outputs": [],
   "source": [
    "encdec = Transliteration_EncoderDecoder(len(eng_alpha2index), 256, len(hindi_alpha2index))"
   ]
  },
  {
   "cell_type": "code",
   "execution_count": 27,
   "metadata": {
    "colab": {
     "base_uri": "https://localhost:8080/",
     "height": 456
    },
    "id": "E6LjVKQfoVMU",
    "outputId": "9b3f7f5a-b98b-4203-d137-1780ee362fd8"
   },
   "outputs": [
    {
     "name": "stdout",
     "output_type": "stream",
     "text": [
      "Iteration 99 Loss 0.3479950726032257\n"
     ]
    },
    {
     "data": {
      "image/png": "[encoded data removed]",
      "text/plain": [
       "<Figure size 640x480 with 1 Axes>"
      ]
     },
     "metadata": {},
     "output_type": "display_data"
    },
    {
     "name": "stdout",
     "output_type": "stream",
     "text": [
      "\n",
      "\n",
      "\n"
     ]
    },
    {
     "data": {
      "text/plain": [
       "array([0.        , 0.46923655, 0.49070263, 0.50608349, 0.49581927,\n",
       "       0.492551  , 0.48505947, 0.48697364, 0.48442101, 0.48369557,\n",
       "       0.47637892, 0.47067678, 0.46770585, 0.46176535, 0.45457825,\n",
       "       0.4519546 , 0.44502974, 0.44012842, 0.4347164 , 0.42877233,\n",
       "       0.42542893, 0.42140922, 0.41816106, 0.41550589, 0.41266602,\n",
       "       0.40922958, 0.40628761, 0.40477601, 0.40220317, 0.40058732,\n",
       "       0.39865959, 0.39700815, 0.39573187, 0.3939898 , 0.39222738,\n",
       "       0.3907201 , 0.38870728, 0.38731793, 0.38548732, 0.38451234,\n",
       "       0.38312468, 0.38153541, 0.38065758, 0.37964195, 0.37864643,\n",
       "       0.37804902, 0.37724727, 0.37636876, 0.37591201, 0.37496021,\n",
       "       0.37336066, 0.37270653, 0.37226412, 0.37123644, 0.37089697,\n",
       "       0.37071851, 0.37010804, 0.36964998, 0.36910123, 0.36848018,\n",
       "       0.36791861, 0.36693612, 0.3660669 , 0.3654632 , 0.36464846,\n",
       "       0.36427507, 0.36369407, 0.36267844, 0.36214679, 0.36136398,\n",
       "       0.36072415, 0.36020312, 0.35960281, 0.35900506, 0.35846543,\n",
       "       0.35776123, 0.35716516, 0.35681689, 0.35621589, 0.3556557 ,\n",
       "       0.35513404, 0.35474634, 0.35444903, 0.35411793, 0.3537485 ,\n",
       "       0.35295898, 0.35267377, 0.35206658, 0.35161427, 0.35109645,\n",
       "       0.35097054, 0.35058752, 0.35010254, 0.34976262, 0.34937447,\n",
       "       0.34894866, 0.34856099, 0.34833109, 0.34816679, 0.34799507,\n",
       "       0.34753448])"
      ]
     },
     "execution_count": 27,
     "metadata": {},
     "output_type": "execute_result"
    }
   ],
   "source": [
    "train(encdec, batch_size = 64, n_batches=100, lr=0.001, display_freq=10, device = device)\n",
    "# use n_batches=2000"
   ]
  },
  {
   "cell_type": "markdown",
   "metadata": {
    "id": "GM1Tj20omMi1"
   },
   "source": [
    "### Training with Attention "
   ]
  },
  {
   "cell_type": "code",
   "execution_count": 24,
   "metadata": {
    "id": "lxFLBqW1Ip4v"
   },
   "outputs": [],
   "source": [
    "net_att = Transliteration_EncoderDecoder_Attention(len(eng_alpha2index), 256, len(hindi_alpha2index))"
   ]
  },
  {
   "cell_type": "code",
   "execution_count": 25,
   "metadata": {
    "colab": {
     "base_uri": "https://localhost:8080/",
     "height": 418
    },
    "id": "tdRpJUXNIwuv",
    "outputId": "6e8ed733-4b95-4eae-ac09-be4f6a905d18",
    "scrolled": true
   },
   "outputs": [
    {
     "name": "stdout",
     "output_type": "stream",
     "text": [
      "Iteration 99 Loss 0.33954760432243347\n"
     ]
    },
    {
     "data": {
      "image/png": "[encoded data removed]",
      "text/plain": [
       "<Figure size 640x480 with 1 Axes>"
      ]
     },
     "metadata": {},
     "output_type": "display_data"
    },
    {
     "name": "stdout",
     "output_type": "stream",
     "text": [
      "\n",
      "\n",
      "\n"
     ]
    }
   ],
   "source": [
    "loss_history = train(net_att, batch_size = 64, n_batches=100, lr=0.001, display_freq=10, device = device)\n",
    "# use n_batches=2000"
   ]
  },
  {
   "cell_type": "markdown",
   "metadata": {},
   "source": [
    "with attention - better performance .\n",
    "\n",
    "Extra parameters.. (+ they need to be trained.)"
   ]
  },
  {
   "cell_type": "markdown",
   "metadata": {
    "id": "05F1-FwX6YVZ"
   },
   "source": [
    "## Inference"
   ]
  },
  {
   "cell_type": "code",
   "execution_count": 28,
   "metadata": {
    "id": "v3TWC7zhAn3z"
   },
   "outputs": [],
   "source": [
    "def test(model, word, device = 'cpu'):\n",
    "    model = model.eval().to(device)\n",
    "    outputs = infer(model, word, 30, device)\n",
    "    hindi_output = ''\n",
    "    for out in outputs:\n",
    "        val, indices = out.topk(1)\n",
    "        index = indices.tolist()[0][0]\n",
    "        if index == 0:\n",
    "            break\n",
    "        hindi_char = hindi_alphabets[index+1]\n",
    "        hindi_output += hindi_char\n",
    "    print(word + ' - ' + hindi_output)\n",
    "    return hindi_output"
   ]
  },
  {
   "cell_type": "code",
   "execution_count": 31,
   "metadata": {
    "id": "bT8bibYl7CgX"
   },
   "outputs": [],
   "source": [
    "def calc_accuracy(model, device = 'cpu'):\n",
    "    model = model.eval().to(device)\n",
    "    predictions = []\n",
    "    accuracy = 0\n",
    "    for i in range(len(test_data)):\n",
    "        eng, hindi = test_data[i]\n",
    "        gt = gt_rep(hindi, hindi_alpha2index, device)\n",
    "        outputs = infer(model, eng, gt.shape[0], device)\n",
    "        correct = 0\n",
    "        for index, out in enumerate(outputs):\n",
    "            val, indices = out.topk(1)\n",
    "            hindi_pos = indices.tolist()[0]\n",
    "            if hindi_pos[0] == gt[index][0]:\n",
    "                correct += 1\n",
    "        \n",
    "        accuracy += correct/gt.shape[0]\n",
    "    accuracy /= len(test_data)\n",
    "    return accuracy"
   ]
  },
  {
   "cell_type": "code",
   "execution_count": 32,
   "metadata": {
    "colab": {
     "base_uri": "https://localhost:8080/",
     "height": 55
    },
    "id": "dy1bQiORAs5o",
    "outputId": "183c661a-56c9-4f31-a894-188207c58104"
   },
   "outputs": [
    {
     "name": "stdout",
     "output_type": "stream",
     "text": [
      "Accuracy w/o attention  21.28541541791538\n",
      "Acurracy with attention 22.48782606282606\n"
     ]
    }
   ],
   "source": [
    "accuracy = calc_accuracy(encdec) * 100\n",
    "accuracy_attn = calc_accuracy(net_att) * 100\n",
    "print('Accuracy w/o attention ', accuracy)\n",
    "print('Acurracy with attention', accuracy_attn)"
   ]
  },
  {
   "cell_type": "markdown",
   "metadata": {},
   "source": [
    "classification - one among 129. \n",
    "\n",
    "(1/129) * 100 is baseline."
   ]
  },
  {
   "cell_type": "markdown",
   "metadata": {
    "id": "ukoNAs8wP-GH"
   },
   "source": [
    "no batching above - first packing... then use batching.\n",
    "\n",
    "\n",
    "visualise attention - visualise the alpha values - for what part of input is it giving more focus at a step.. "
   ]
  }
 ],
 "metadata": {
  "accelerator": "GPU",
  "colab": {
   "collapsed_sections": [],
   "provenance": []
  },
  "kernelspec": {
   "display_name": "Python 3 (ipykernel)",
   "language": "python",
   "name": "python3"
  },
  "language_info": {
   "codemirror_mode": {
    "name": "ipython",
    "version": 3
   },
   "file_extension": ".py",
   "mimetype": "text/x-python",
   "name": "python",
   "nbconvert_exporter": "python",
   "pygments_lexer": "ipython3",
   "version": "3.8.10"
  }
 },
 "nbformat": 4,
 "nbformat_minor": 1
}
